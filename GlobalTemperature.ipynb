{
 "cells": [
  {
   "cell_type": "markdown",
   "id": "refined-right",
   "metadata": {},
   "source": [
    "# Global Temperature Analysis"
   ]
  },
  {
   "cell_type": "markdown",
   "id": "unable-stable",
   "metadata": {},
   "source": [
    "# Libraries used in the project\n",
    "1. Pandas\n",
    "2. Numpy\n",
    "3. Seaborn\n",
    "4. Plotly\n",
    "5. Folium"
   ]
  },
  {
   "cell_type": "code",
   "execution_count": 1,
   "id": "established-brake",
   "metadata": {},
   "outputs": [
    {
     "data": {
      "text/html": [
       "        <script type=\"text/javascript\">\n",
       "        window.PlotlyConfig = {MathJaxConfig: 'local'};\n",
       "        if (window.MathJax) {MathJax.Hub.Config({SVG: {font: \"STIX-Web\"}});}\n",
       "        if (typeof require !== 'undefined') {\n",
       "        require.undef(\"plotly\");\n",
       "        requirejs.config({\n",
       "            paths: {\n",
       "                'plotly': ['https://cdn.plot.ly/plotly-latest.min']\n",
       "            }\n",
       "        });\n",
       "        require(['plotly'], function(Plotly) {\n",
       "            window._Plotly = Plotly;\n",
       "        });\n",
       "        }\n",
       "        </script>\n",
       "        "
      ]
     },
     "metadata": {},
     "output_type": "display_data"
    }
   ],
   "source": [
    "import pandas as pd \n",
    "import numpy as np\n",
    "import seaborn as sns\n",
    "import plotly.express as px\n",
    "from plotly.offline import init_notebook_mode\n",
    "init_notebook_mode(connected=True)\n",
    "import folium \n",
    "from folium.plugins import HeatMap\n",
    "import plotly.graph_objs as go"
   ]
  },
  {
   "cell_type": "markdown",
   "id": "equivalent-bailey",
   "metadata": {},
   "source": [
    "# Analyse Average Temperature of Country"
   ]
  },
  {
   "cell_type": "code",
   "execution_count": 3,
   "id": "choice-trick",
   "metadata": {},
   "outputs": [
    {
     "data": {
      "text/html": [
       "<div>\n",
       "<style scoped>\n",
       "    .dataframe tbody tr th:only-of-type {\n",
       "        vertical-align: middle;\n",
       "    }\n",
       "\n",
       "    .dataframe tbody tr th {\n",
       "        vertical-align: top;\n",
       "    }\n",
       "\n",
       "    .dataframe thead th {\n",
       "        text-align: right;\n",
       "    }\n",
       "</style>\n",
       "<table border=\"1\" class=\"dataframe\">\n",
       "  <thead>\n",
       "    <tr style=\"text-align: right;\">\n",
       "      <th></th>\n",
       "      <th>dt</th>\n",
       "      <th>AverageTemperature</th>\n",
       "      <th>AverageTemperatureUncertainty</th>\n",
       "      <th>Country</th>\n",
       "    </tr>\n",
       "  </thead>\n",
       "  <tbody>\n",
       "    <tr>\n",
       "      <th>0</th>\n",
       "      <td>1743-11-01</td>\n",
       "      <td>4.384</td>\n",
       "      <td>2.294</td>\n",
       "      <td>Åland</td>\n",
       "    </tr>\n",
       "    <tr>\n",
       "      <th>1</th>\n",
       "      <td>1743-12-01</td>\n",
       "      <td>NaN</td>\n",
       "      <td>NaN</td>\n",
       "      <td>Åland</td>\n",
       "    </tr>\n",
       "    <tr>\n",
       "      <th>2</th>\n",
       "      <td>1744-01-01</td>\n",
       "      <td>NaN</td>\n",
       "      <td>NaN</td>\n",
       "      <td>Åland</td>\n",
       "    </tr>\n",
       "    <tr>\n",
       "      <th>3</th>\n",
       "      <td>1744-02-01</td>\n",
       "      <td>NaN</td>\n",
       "      <td>NaN</td>\n",
       "      <td>Åland</td>\n",
       "    </tr>\n",
       "    <tr>\n",
       "      <th>4</th>\n",
       "      <td>1744-03-01</td>\n",
       "      <td>NaN</td>\n",
       "      <td>NaN</td>\n",
       "      <td>Åland</td>\n",
       "    </tr>\n",
       "  </tbody>\n",
       "</table>\n",
       "</div>"
      ],
      "text/plain": [
       "           dt  AverageTemperature  AverageTemperatureUncertainty Country\n",
       "0  1743-11-01               4.384                          2.294   Åland\n",
       "1  1743-12-01                 NaN                            NaN   Åland\n",
       "2  1744-01-01                 NaN                            NaN   Åland\n",
       "3  1744-02-01                 NaN                            NaN   Åland\n",
       "4  1744-03-01                 NaN                            NaN   Åland"
      ]
     },
     "execution_count": 3,
     "metadata": {},
     "output_type": "execute_result"
    }
   ],
   "source": [
    "globalcountry=pd.read_csv(\"C:/Users/User/Downloads/GlobalLandTemperaturesByCountry.csv\") \n",
    "globalcountry.head()"
   ]
  },
  {
   "cell_type": "code",
   "execution_count": 4,
   "id": "incredible-purpose",
   "metadata": {},
   "outputs": [
    {
     "data": {
      "text/plain": [
       "(577462, 4)"
      ]
     },
     "execution_count": 4,
     "metadata": {},
     "output_type": "execute_result"
    }
   ],
   "source": [
    "globalcountry.shape"
   ]
  },
  {
   "cell_type": "code",
   "execution_count": 5,
   "id": "emotional-vertex",
   "metadata": {},
   "outputs": [
    {
     "data": {
      "text/plain": [
       "dt                                   0\n",
       "AverageTemperature               32651\n",
       "AverageTemperatureUncertainty    31912\n",
       "Country                              0\n",
       "dtype: int64"
      ]
     },
     "execution_count": 5,
     "metadata": {},
     "output_type": "execute_result"
    }
   ],
   "source": [
    "globalcountry.isna().sum()"
   ]
  },
  {
   "cell_type": "code",
   "execution_count": 6,
   "id": "optical-startup",
   "metadata": {},
   "outputs": [],
   "source": [
    "globalcountry.dropna(axis='index',how='any', subset=['AverageTemperature'], inplace=True)"
   ]
  },
  {
   "cell_type": "code",
   "execution_count": 7,
   "id": "certain-broadway",
   "metadata": {},
   "outputs": [
    {
     "data": {
      "text/plain": [
       "dt                               0\n",
       "AverageTemperature               0\n",
       "AverageTemperatureUncertainty    0\n",
       "Country                          0\n",
       "dtype: int64"
      ]
     },
     "execution_count": 7,
     "metadata": {},
     "output_type": "execute_result"
    }
   ],
   "source": [
    "globalcountry.isna().sum()"
   ]
  },
  {
   "cell_type": "code",
   "execution_count": 8,
   "id": "intermediate-graham",
   "metadata": {},
   "outputs": [
    {
     "data": {
      "text/plain": [
       "array(['Åland', 'Afghanistan', 'Africa', 'Albania', 'Algeria',\n",
       "       'American Samoa', 'Andorra', 'Angola', 'Anguilla',\n",
       "       'Antigua And Barbuda', 'Argentina', 'Armenia', 'Aruba', 'Asia',\n",
       "       'Australia', 'Austria', 'Azerbaijan', 'Bahamas', 'Bahrain',\n",
       "       'Baker Island', 'Bangladesh', 'Barbados', 'Belarus', 'Belgium',\n",
       "       'Belize', 'Benin', 'Bhutan', 'Bolivia',\n",
       "       'Bonaire, Saint Eustatius And Saba', 'Bosnia And Herzegovina',\n",
       "       'Botswana', 'Brazil', 'British Virgin Islands', 'Bulgaria',\n",
       "       'Burkina Faso', 'Burma', 'Burundi', \"Côte D'Ivoire\", 'Cambodia',\n",
       "       'Cameroon', 'Canada', 'Cape Verde', 'Cayman Islands',\n",
       "       'Central African Republic', 'Chad', 'Chile', 'China',\n",
       "       'Christmas Island', 'Colombia', 'Comoros',\n",
       "       'Congo (Democratic Republic Of The)', 'Congo', 'Costa Rica',\n",
       "       'Croatia', 'Cuba', 'Curaçao', 'Cyprus', 'Czech Republic',\n",
       "       'Denmark (Europe)', 'Denmark', 'Djibouti', 'Dominica',\n",
       "       'Dominican Republic', 'Ecuador', 'Egypt', 'El Salvador',\n",
       "       'Equatorial Guinea', 'Eritrea', 'Estonia', 'Ethiopia', 'Europe',\n",
       "       'Falkland Islands (Islas Malvinas)', 'Faroe Islands',\n",
       "       'Federated States Of Micronesia', 'Fiji', 'Finland',\n",
       "       'France (Europe)', 'France', 'French Guiana', 'French Polynesia',\n",
       "       'French Southern And Antarctic Lands', 'Gabon', 'Gambia',\n",
       "       'Gaza Strip', 'Georgia', 'Germany', 'Ghana', 'Greece', 'Greenland',\n",
       "       'Grenada', 'Guadeloupe', 'Guam', 'Guatemala', 'Guernsey',\n",
       "       'Guinea Bissau', 'Guinea', 'Guyana', 'Haiti',\n",
       "       'Heard Island And Mcdonald Islands', 'Honduras', 'Hong Kong',\n",
       "       'Hungary', 'Iceland', 'India', 'Indonesia', 'Iran', 'Iraq',\n",
       "       'Ireland', 'Isle Of Man', 'Israel', 'Italy', 'Jamaica', 'Japan',\n",
       "       'Jersey', 'Jordan', 'Kazakhstan', 'Kenya', 'Kingman Reef',\n",
       "       'Kiribati', 'Kuwait', 'Kyrgyzstan', 'Laos', 'Latvia', 'Lebanon',\n",
       "       'Lesotho', 'Liberia', 'Libya', 'Liechtenstein', 'Lithuania',\n",
       "       'Luxembourg', 'Macau', 'Macedonia', 'Madagascar', 'Malawi',\n",
       "       'Malaysia', 'Mali', 'Malta', 'Martinique', 'Mauritania',\n",
       "       'Mauritius', 'Mayotte', 'Mexico', 'Moldova', 'Monaco', 'Mongolia',\n",
       "       'Montenegro', 'Montserrat', 'Morocco', 'Mozambique', 'Namibia',\n",
       "       'Nepal', 'Netherlands (Europe)', 'Netherlands', 'New Caledonia',\n",
       "       'New Zealand', 'Nicaragua', 'Niger', 'Nigeria', 'Niue',\n",
       "       'North America', 'North Korea', 'Northern Mariana Islands',\n",
       "       'Norway', 'Oceania', 'Oman', 'Pakistan', 'Palau', 'Palestina',\n",
       "       'Palmyra Atoll', 'Panama', 'Papua New Guinea', 'Paraguay', 'Peru',\n",
       "       'Philippines', 'Poland', 'Portugal', 'Puerto Rico', 'Qatar',\n",
       "       'Reunion', 'Romania', 'Russia', 'Rwanda', 'Saint Barthélemy',\n",
       "       'Saint Kitts And Nevis', 'Saint Lucia', 'Saint Martin',\n",
       "       'Saint Pierre And Miquelon', 'Saint Vincent And The Grenadines',\n",
       "       'Samoa', 'San Marino', 'Sao Tome And Principe', 'Saudi Arabia',\n",
       "       'Senegal', 'Serbia', 'Seychelles', 'Sierra Leone', 'Singapore',\n",
       "       'Sint Maarten', 'Slovakia', 'Slovenia', 'Solomon Islands',\n",
       "       'Somalia', 'South Africa', 'South America',\n",
       "       'South Georgia And The South Sandwich Isla', 'South Korea',\n",
       "       'Spain', 'Sri Lanka', 'Sudan', 'Suriname',\n",
       "       'Svalbard And Jan Mayen', 'Swaziland', 'Sweden', 'Switzerland',\n",
       "       'Syria', 'Taiwan', 'Tajikistan', 'Tanzania', 'Thailand',\n",
       "       'Timor Leste', 'Togo', 'Tonga', 'Trinidad And Tobago', 'Tunisia',\n",
       "       'Turkey', 'Turkmenistan', 'Turks And Caicas Islands', 'Uganda',\n",
       "       'Ukraine', 'United Arab Emirates', 'United Kingdom (Europe)',\n",
       "       'United Kingdom', 'United States', 'Uruguay', 'Uzbekistan',\n",
       "       'Venezuela', 'Vietnam', 'Virgin Islands', 'Western Sahara',\n",
       "       'Yemen', 'Zambia', 'Zimbabwe'], dtype=object)"
      ]
     },
     "execution_count": 8,
     "metadata": {},
     "output_type": "execute_result"
    }
   ],
   "source": [
    "globalcountry['Country'].unique()"
   ]
  },
  {
   "cell_type": "code",
   "execution_count": 9,
   "id": "lyric-stress",
   "metadata": {},
   "outputs": [],
   "source": [
    "dict={\n",
    "    'Denmark (Europe)': 'Denmark',\n",
    "    'France (Europe)': 'France',\n",
    "    'Netherlands (Europe)': 'Netherlands',\n",
    "    'United Kingdom (Europe)':'United Kingdom',\n",
    "    'Congo (Democratic Republic Of The)':'Congo'\n",
    "}"
   ]
  },
  {
   "cell_type": "code",
   "execution_count": 10,
   "id": "figured-yemen",
   "metadata": {},
   "outputs": [],
   "source": [
    "globalcountry['Country'].replace(dict, inplace=True)"
   ]
  },
  {
   "cell_type": "code",
   "execution_count": 11,
   "id": "welcome-terminal",
   "metadata": {},
   "outputs": [
    {
     "data": {
      "text/html": [
       "<div>\n",
       "<style scoped>\n",
       "    .dataframe tbody tr th:only-of-type {\n",
       "        vertical-align: middle;\n",
       "    }\n",
       "\n",
       "    .dataframe tbody tr th {\n",
       "        vertical-align: top;\n",
       "    }\n",
       "\n",
       "    .dataframe thead th {\n",
       "        text-align: right;\n",
       "    }\n",
       "</style>\n",
       "<table border=\"1\" class=\"dataframe\">\n",
       "  <thead>\n",
       "    <tr style=\"text-align: right;\">\n",
       "      <th></th>\n",
       "      <th>Country</th>\n",
       "      <th>AverageTemperature</th>\n",
       "    </tr>\n",
       "  </thead>\n",
       "  <tbody>\n",
       "    <tr>\n",
       "      <th>0</th>\n",
       "      <td>Afghanistan</td>\n",
       "      <td>14.045007</td>\n",
       "    </tr>\n",
       "    <tr>\n",
       "      <th>1</th>\n",
       "      <td>Africa</td>\n",
       "      <td>24.074203</td>\n",
       "    </tr>\n",
       "    <tr>\n",
       "      <th>2</th>\n",
       "      <td>Albania</td>\n",
       "      <td>12.610646</td>\n",
       "    </tr>\n",
       "    <tr>\n",
       "      <th>3</th>\n",
       "      <td>Algeria</td>\n",
       "      <td>22.985112</td>\n",
       "    </tr>\n",
       "    <tr>\n",
       "      <th>4</th>\n",
       "      <td>American Samoa</td>\n",
       "      <td>26.611965</td>\n",
       "    </tr>\n",
       "    <tr>\n",
       "      <th>...</th>\n",
       "      <td>...</td>\n",
       "      <td>...</td>\n",
       "    </tr>\n",
       "    <tr>\n",
       "      <th>232</th>\n",
       "      <td>Western Sahara</td>\n",
       "      <td>22.319818</td>\n",
       "    </tr>\n",
       "    <tr>\n",
       "      <th>233</th>\n",
       "      <td>Yemen</td>\n",
       "      <td>26.253597</td>\n",
       "    </tr>\n",
       "    <tr>\n",
       "      <th>234</th>\n",
       "      <td>Zambia</td>\n",
       "      <td>21.282956</td>\n",
       "    </tr>\n",
       "    <tr>\n",
       "      <th>235</th>\n",
       "      <td>Zimbabwe</td>\n",
       "      <td>21.117547</td>\n",
       "    </tr>\n",
       "    <tr>\n",
       "      <th>236</th>\n",
       "      <td>Åland</td>\n",
       "      <td>5.291383</td>\n",
       "    </tr>\n",
       "  </tbody>\n",
       "</table>\n",
       "<p>237 rows × 2 columns</p>\n",
       "</div>"
      ],
      "text/plain": [
       "            Country  AverageTemperature\n",
       "0       Afghanistan           14.045007\n",
       "1            Africa           24.074203\n",
       "2           Albania           12.610646\n",
       "3           Algeria           22.985112\n",
       "4    American Samoa           26.611965\n",
       "..              ...                 ...\n",
       "232  Western Sahara           22.319818\n",
       "233           Yemen           26.253597\n",
       "234          Zambia           21.282956\n",
       "235        Zimbabwe           21.117547\n",
       "236           Åland            5.291383\n",
       "\n",
       "[237 rows x 2 columns]"
      ]
     },
     "execution_count": 11,
     "metadata": {},
     "output_type": "execute_result"
    }
   ],
   "source": [
    "avgtemp=globalcountry.groupby(['Country'])['AverageTemperature'].mean().to_frame().reset_index()\n",
    "avgtemp"
   ]
  },
  {
   "cell_type": "code",
   "execution_count": 12,
   "id": "moral-hospital",
   "metadata": {},
   "outputs": [
    {
     "data": {
      "application/vnd.plotly.v1+json": {
       "config": {
        "plotlyServerURL": "https://plot.ly"
       },
       "data": [
        {
         "coloraxis": "coloraxis",
         "geo": "geo",
         "hovertemplate": "Country=%{location}<br>AverageTemperature=%{z}<extra></extra>",
         "locationmode": "country names",
         "locations": [
          "Afghanistan",
          "Africa",
          "Albania",
          "Algeria",
          "American Samoa",
          "Andorra",
          "Angola",
          "Anguilla",
          "Antigua And Barbuda",
          "Argentina",
          "Armenia",
          "Aruba",
          "Asia",
          "Australia",
          "Austria",
          "Azerbaijan",
          "Bahamas",
          "Bahrain",
          "Baker Island",
          "Bangladesh",
          "Barbados",
          "Belarus",
          "Belgium",
          "Belize",
          "Benin",
          "Bhutan",
          "Bolivia",
          "Bonaire, Saint Eustatius And Saba",
          "Bosnia And Herzegovina",
          "Botswana",
          "Brazil",
          "British Virgin Islands",
          "Bulgaria",
          "Burkina Faso",
          "Burma",
          "Burundi",
          "Cambodia",
          "Cameroon",
          "Canada",
          "Cape Verde",
          "Cayman Islands",
          "Central African Republic",
          "Chad",
          "Chile",
          "China",
          "Christmas Island",
          "Colombia",
          "Comoros",
          "Congo",
          "Costa Rica",
          "Croatia",
          "Cuba",
          "Curaçao",
          "Cyprus",
          "Czech Republic",
          "Côte D'Ivoire",
          "Denmark",
          "Djibouti",
          "Dominica",
          "Dominican Republic",
          "Ecuador",
          "Egypt",
          "El Salvador",
          "Equatorial Guinea",
          "Eritrea",
          "Estonia",
          "Ethiopia",
          "Europe",
          "Falkland Islands (Islas Malvinas)",
          "Faroe Islands",
          "Federated States Of Micronesia",
          "Fiji",
          "Finland",
          "France",
          "French Guiana",
          "French Polynesia",
          "French Southern And Antarctic Lands",
          "Gabon",
          "Gambia",
          "Gaza Strip",
          "Georgia",
          "Germany",
          "Ghana",
          "Greece",
          "Greenland",
          "Grenada",
          "Guadeloupe",
          "Guam",
          "Guatemala",
          "Guernsey",
          "Guinea",
          "Guinea Bissau",
          "Guyana",
          "Haiti",
          "Heard Island And Mcdonald Islands",
          "Honduras",
          "Hong Kong",
          "Hungary",
          "Iceland",
          "India",
          "Indonesia",
          "Iran",
          "Iraq",
          "Ireland",
          "Isle Of Man",
          "Israel",
          "Italy",
          "Jamaica",
          "Japan",
          "Jersey",
          "Jordan",
          "Kazakhstan",
          "Kenya",
          "Kingman Reef",
          "Kiribati",
          "Kuwait",
          "Kyrgyzstan",
          "Laos",
          "Latvia",
          "Lebanon",
          "Lesotho",
          "Liberia",
          "Libya",
          "Liechtenstein",
          "Lithuania",
          "Luxembourg",
          "Macau",
          "Macedonia",
          "Madagascar",
          "Malawi",
          "Malaysia",
          "Mali",
          "Malta",
          "Martinique",
          "Mauritania",
          "Mauritius",
          "Mayotte",
          "Mexico",
          "Moldova",
          "Monaco",
          "Mongolia",
          "Montenegro",
          "Montserrat",
          "Morocco",
          "Mozambique",
          "Namibia",
          "Nepal",
          "Netherlands",
          "New Caledonia",
          "New Zealand",
          "Nicaragua",
          "Niger",
          "Nigeria",
          "Niue",
          "North America",
          "North Korea",
          "Northern Mariana Islands",
          "Norway",
          "Oceania",
          "Oman",
          "Pakistan",
          "Palau",
          "Palestina",
          "Palmyra Atoll",
          "Panama",
          "Papua New Guinea",
          "Paraguay",
          "Peru",
          "Philippines",
          "Poland",
          "Portugal",
          "Puerto Rico",
          "Qatar",
          "Reunion",
          "Romania",
          "Russia",
          "Rwanda",
          "Saint Barthélemy",
          "Saint Kitts And Nevis",
          "Saint Lucia",
          "Saint Martin",
          "Saint Pierre And Miquelon",
          "Saint Vincent And The Grenadines",
          "Samoa",
          "San Marino",
          "Sao Tome And Principe",
          "Saudi Arabia",
          "Senegal",
          "Serbia",
          "Seychelles",
          "Sierra Leone",
          "Singapore",
          "Sint Maarten",
          "Slovakia",
          "Slovenia",
          "Solomon Islands",
          "Somalia",
          "South Africa",
          "South America",
          "South Georgia And The South Sandwich Isla",
          "South Korea",
          "Spain",
          "Sri Lanka",
          "Sudan",
          "Suriname",
          "Svalbard And Jan Mayen",
          "Swaziland",
          "Sweden",
          "Switzerland",
          "Syria",
          "Taiwan",
          "Tajikistan",
          "Tanzania",
          "Thailand",
          "Timor Leste",
          "Togo",
          "Tonga",
          "Trinidad And Tobago",
          "Tunisia",
          "Turkey",
          "Turkmenistan",
          "Turks And Caicas Islands",
          "Uganda",
          "Ukraine",
          "United Arab Emirates",
          "United Kingdom",
          "United States",
          "Uruguay",
          "Uzbekistan",
          "Venezuela",
          "Vietnam",
          "Virgin Islands",
          "Western Sahara",
          "Yemen",
          "Zambia",
          "Zimbabwe",
          "Åland"
         ],
         "name": "",
         "type": "choropleth",
         "z": [
          14.045007194244608,
          24.07420274551212,
          12.61064592545798,
          22.985111769059955,
          26.611965009208156,
          11.201553063802905,
          21.82454918981486,
          26.610491850431465,
          26.437924256951035,
          14.621194210526305,
          8.551647926634773,
          27.92039022051774,
          7.347892223161453,
          21.624696891191693,
          6.210731838281731,
          11.175936074918587,
          25.12822004008018,
          25.93080933465739,
          25.372350232798794,
          24.82024278370897,
          26.45854793863855,
          5.819288060644335,
          9.48337839545166,
          25.052099776286326,
          27.171999431818186,
          11.811878969957082,
          20.8772305263158,
          27.173294822627003,
          10.421283954516774,
          21.879296691568843,
          24.699255545286466,
          26.336523239099186,
          10.482968414403024,
          28.083506760410998,
          23.70619723953693,
          20.070990127758442,
          26.65685403576609,
          24.352585590778116,
          -5.216658945686897,
          24.185563568376022,
          26.722504150283953,
          25.28040691642648,
          27.12046628242079,
          9.383473684210513,
          6.612731031349375,
          25.784654071314534,
          24.716870967741926,
          25.70220930232557,
          24.11809994239633,
          25.615784434203807,
          11.342399873657591,
          25.407426387068544,
          27.353414669223397,
          18.78774568642161,
          7.626019267214149,
          25.948536060279846,
          -3.0265029336266966,
          28.816602533172542,
          26.1101514860978,
          25.547511210762387,
          21.869970347003168,
          22.620693031209964,
          24.906704545454577,
          24.921677809798265,
          26.80265311004786,
          4.819805748578657,
          23.012356759976136,
          7.830063802905867,
          6.076773492667047,
          6.619001579279848,
          26.94435777126096,
          25.038671779141108,
          1.2447422615287405,
          11.594245735944417,
          25.718151106833467,
          26.10709611829945,
          4.983111111111109,
          24.254725648414972,
          27.538551816239316,
          19.19263696098565,
          8.106881895881907,
          8.152496209728362,
          26.71101355166567,
          14.773012002526816,
          -18.58745804195801,
          26.741952061361474,
          26.32956088207096,
          26.996834337349433,
          23.111650494159935,
          10.928408717624766,
          25.452353098290622,
          26.761366648850885,
          25.93092011549566,
          26.295837740923353,
          2.562114942528734,
          24.6955479945922,
          22.659894913627642,
          9.722423246999355,
          1.4050650663297544,
          23.87378947368426,
          25.684483767961684,
          17.60707645115617,
          21.77562887931037,
          9.419558433354414,
          9.365805432722688,
          19.626577302631585,
          12.737121920404292,
          26.0963395638629,
          11.95190733590733,
          10.928408717624766,
          19.346512587701167,
          5.202144758735441,
          24.102428231089974,
          27.133034438775535,
          26.73686534779841,
          25.09814023210831,
          3.2204981651376143,
          23.574696349064986,
          5.320545167403669,
          17.631617730784885,
          13.726681793913507,
          25.377737931034517,
          22.26825393848455,
          4.642939039797854,
          5.907991787744772,
          9.16519646241313,
          22.4183747600768,
          10.375550852811111,
          22.749045944412938,
          21.431086144578323,
          25.80544200779728,
          28.441976570819996,
          18.494875319693055,
          26.1101514860978,
          27.620255504352293,
          23.522653983353138,
          26.34096142938175,
          20.56755804195808,
          8.931716677195217,
          9.024701831964629,
          -0.8206709844559608,
          10.21462950094757,
          26.383128475551263,
          17.62749740932639,
          23.596194758785003,
          20.48449519743865,
          14.807390612244879,
          9.308701831964614,
          22.700108194965168,
          10.371239107883817,
          25.957508780036967,
          27.458972540045757,
          26.74470830912261,
          25.094878453038664,
          2.0283738920225614,
          6.748336832061071,
          26.996834337349433,
          0.09580385344283013,
          21.45298911917101,
          26.91686266589726,
          20.615513304305733,
          27.216379332477516,
          23.125663223140542,
          27.163455994897923,
          26.29162063808573,
          24.450801898734266,
          23.23796755725191,
          19.935974230044003,
          26.440472486772517,
          7.460205938092234,
          14.688179987212278,
          25.451961667465255,
          26.78499601593621,
          23.301403091557614,
          8.760901768793424,
          -5.521881912681911,
          19.24442218350756,
          26.610491850431465,
          25.852186001917556,
          26.646838446788106,
          26.610491850431465,
          4.2230599551138175,
          26.789448705656774,
          26.331862492326593,
          13.83142229943148,
          25.79438616714698,
          25.54640783525872,
          27.96737499999997,
          9.986563171193945,
          26.738423142370962,
          26.022571277159468,
          26.523102826510677,
          26.610491850431465,
          7.52721699305117,
          9.659700568540737,
          26.62503698979594,
          26.877085169743943,
          17.270982915109443,
          21.823920081967245,
          1.4010251017639086,
          11.849048745173734,
          13.6128341756159,
          26.9476870015949,
          27.093359428571475,
          26.171663137632375,
          -7.448027925531907,
          18.839807261078484,
          2.386331964624136,
          6.992051484523055,
          17.917548596990663,
          21.937427536231866,
          4.016035217794258,
          22.347910971786856,
          25.986800979519113,
          25.96633271832718,
          26.871782756664746,
          23.23624785276075,
          26.118751198466015,
          19.97059047314578,
          11.63156730091614,
          14.781998181818167,
          26.662733508082173,
          23.0329687137891,
          7.653507264687312,
          27.693994700582884,
          8.572556696146547,
          8.603572522159553,
          17.149306774809137,
          12.27801593806923,
          25.025685522531145,
          23.688365504061206,
          26.336523239099186,
          22.319817823343875,
          26.25359672528806,
          21.282955621301788,
          21.11754724637679,
          5.291383449147199
         ]
        }
       ],
       "layout": {
        "coloraxis": {
         "colorbar": {
          "title": {
           "text": "AverageTemperature"
          }
         },
         "colorscale": [
          [
           0,
           "#0d0887"
          ],
          [
           0.1111111111111111,
           "#46039f"
          ],
          [
           0.2222222222222222,
           "#7201a8"
          ],
          [
           0.3333333333333333,
           "#9c179e"
          ],
          [
           0.4444444444444444,
           "#bd3786"
          ],
          [
           0.5555555555555556,
           "#d8576b"
          ],
          [
           0.6666666666666666,
           "#ed7953"
          ],
          [
           0.7777777777777778,
           "#fb9f3a"
          ],
          [
           0.8888888888888888,
           "#fdca26"
          ],
          [
           1,
           "#f0f921"
          ]
         ]
        },
        "geo": {
         "center": {},
         "domain": {
          "x": [
           0,
           1
          ],
          "y": [
           0,
           1
          ]
         }
        },
        "legend": {
         "tracegroupgap": 0
        },
        "margin": {
         "t": 60
        },
        "template": {
         "data": {
          "bar": [
           {
            "error_x": {
             "color": "#2a3f5f"
            },
            "error_y": {
             "color": "#2a3f5f"
            },
            "marker": {
             "line": {
              "color": "#E5ECF6",
              "width": 0.5
             }
            },
            "type": "bar"
           }
          ],
          "barpolar": [
           {
            "marker": {
             "line": {
              "color": "#E5ECF6",
              "width": 0.5
             }
            },
            "type": "barpolar"
           }
          ],
          "carpet": [
           {
            "aaxis": {
             "endlinecolor": "#2a3f5f",
             "gridcolor": "white",
             "linecolor": "white",
             "minorgridcolor": "white",
             "startlinecolor": "#2a3f5f"
            },
            "baxis": {
             "endlinecolor": "#2a3f5f",
             "gridcolor": "white",
             "linecolor": "white",
             "minorgridcolor": "white",
             "startlinecolor": "#2a3f5f"
            },
            "type": "carpet"
           }
          ],
          "choropleth": [
           {
            "colorbar": {
             "outlinewidth": 0,
             "ticks": ""
            },
            "type": "choropleth"
           }
          ],
          "contour": [
           {
            "colorbar": {
             "outlinewidth": 0,
             "ticks": ""
            },
            "colorscale": [
             [
              0,
              "#0d0887"
             ],
             [
              0.1111111111111111,
              "#46039f"
             ],
             [
              0.2222222222222222,
              "#7201a8"
             ],
             [
              0.3333333333333333,
              "#9c179e"
             ],
             [
              0.4444444444444444,
              "#bd3786"
             ],
             [
              0.5555555555555556,
              "#d8576b"
             ],
             [
              0.6666666666666666,
              "#ed7953"
             ],
             [
              0.7777777777777778,
              "#fb9f3a"
             ],
             [
              0.8888888888888888,
              "#fdca26"
             ],
             [
              1,
              "#f0f921"
             ]
            ],
            "type": "contour"
           }
          ],
          "contourcarpet": [
           {
            "colorbar": {
             "outlinewidth": 0,
             "ticks": ""
            },
            "type": "contourcarpet"
           }
          ],
          "heatmap": [
           {
            "colorbar": {
             "outlinewidth": 0,
             "ticks": ""
            },
            "colorscale": [
             [
              0,
              "#0d0887"
             ],
             [
              0.1111111111111111,
              "#46039f"
             ],
             [
              0.2222222222222222,
              "#7201a8"
             ],
             [
              0.3333333333333333,
              "#9c179e"
             ],
             [
              0.4444444444444444,
              "#bd3786"
             ],
             [
              0.5555555555555556,
              "#d8576b"
             ],
             [
              0.6666666666666666,
              "#ed7953"
             ],
             [
              0.7777777777777778,
              "#fb9f3a"
             ],
             [
              0.8888888888888888,
              "#fdca26"
             ],
             [
              1,
              "#f0f921"
             ]
            ],
            "type": "heatmap"
           }
          ],
          "heatmapgl": [
           {
            "colorbar": {
             "outlinewidth": 0,
             "ticks": ""
            },
            "colorscale": [
             [
              0,
              "#0d0887"
             ],
             [
              0.1111111111111111,
              "#46039f"
             ],
             [
              0.2222222222222222,
              "#7201a8"
             ],
             [
              0.3333333333333333,
              "#9c179e"
             ],
             [
              0.4444444444444444,
              "#bd3786"
             ],
             [
              0.5555555555555556,
              "#d8576b"
             ],
             [
              0.6666666666666666,
              "#ed7953"
             ],
             [
              0.7777777777777778,
              "#fb9f3a"
             ],
             [
              0.8888888888888888,
              "#fdca26"
             ],
             [
              1,
              "#f0f921"
             ]
            ],
            "type": "heatmapgl"
           }
          ],
          "histogram": [
           {
            "marker": {
             "colorbar": {
              "outlinewidth": 0,
              "ticks": ""
             }
            },
            "type": "histogram"
           }
          ],
          "histogram2d": [
           {
            "colorbar": {
             "outlinewidth": 0,
             "ticks": ""
            },
            "colorscale": [
             [
              0,
              "#0d0887"
             ],
             [
              0.1111111111111111,
              "#46039f"
             ],
             [
              0.2222222222222222,
              "#7201a8"
             ],
             [
              0.3333333333333333,
              "#9c179e"
             ],
             [
              0.4444444444444444,
              "#bd3786"
             ],
             [
              0.5555555555555556,
              "#d8576b"
             ],
             [
              0.6666666666666666,
              "#ed7953"
             ],
             [
              0.7777777777777778,
              "#fb9f3a"
             ],
             [
              0.8888888888888888,
              "#fdca26"
             ],
             [
              1,
              "#f0f921"
             ]
            ],
            "type": "histogram2d"
           }
          ],
          "histogram2dcontour": [
           {
            "colorbar": {
             "outlinewidth": 0,
             "ticks": ""
            },
            "colorscale": [
             [
              0,
              "#0d0887"
             ],
             [
              0.1111111111111111,
              "#46039f"
             ],
             [
              0.2222222222222222,
              "#7201a8"
             ],
             [
              0.3333333333333333,
              "#9c179e"
             ],
             [
              0.4444444444444444,
              "#bd3786"
             ],
             [
              0.5555555555555556,
              "#d8576b"
             ],
             [
              0.6666666666666666,
              "#ed7953"
             ],
             [
              0.7777777777777778,
              "#fb9f3a"
             ],
             [
              0.8888888888888888,
              "#fdca26"
             ],
             [
              1,
              "#f0f921"
             ]
            ],
            "type": "histogram2dcontour"
           }
          ],
          "mesh3d": [
           {
            "colorbar": {
             "outlinewidth": 0,
             "ticks": ""
            },
            "type": "mesh3d"
           }
          ],
          "parcoords": [
           {
            "line": {
             "colorbar": {
              "outlinewidth": 0,
              "ticks": ""
             }
            },
            "type": "parcoords"
           }
          ],
          "pie": [
           {
            "automargin": true,
            "type": "pie"
           }
          ],
          "scatter": [
           {
            "marker": {
             "colorbar": {
              "outlinewidth": 0,
              "ticks": ""
             }
            },
            "type": "scatter"
           }
          ],
          "scatter3d": [
           {
            "line": {
             "colorbar": {
              "outlinewidth": 0,
              "ticks": ""
             }
            },
            "marker": {
             "colorbar": {
              "outlinewidth": 0,
              "ticks": ""
             }
            },
            "type": "scatter3d"
           }
          ],
          "scattercarpet": [
           {
            "marker": {
             "colorbar": {
              "outlinewidth": 0,
              "ticks": ""
             }
            },
            "type": "scattercarpet"
           }
          ],
          "scattergeo": [
           {
            "marker": {
             "colorbar": {
              "outlinewidth": 0,
              "ticks": ""
             }
            },
            "type": "scattergeo"
           }
          ],
          "scattergl": [
           {
            "marker": {
             "colorbar": {
              "outlinewidth": 0,
              "ticks": ""
             }
            },
            "type": "scattergl"
           }
          ],
          "scattermapbox": [
           {
            "marker": {
             "colorbar": {
              "outlinewidth": 0,
              "ticks": ""
             }
            },
            "type": "scattermapbox"
           }
          ],
          "scatterpolar": [
           {
            "marker": {
             "colorbar": {
              "outlinewidth": 0,
              "ticks": ""
             }
            },
            "type": "scatterpolar"
           }
          ],
          "scatterpolargl": [
           {
            "marker": {
             "colorbar": {
              "outlinewidth": 0,
              "ticks": ""
             }
            },
            "type": "scatterpolargl"
           }
          ],
          "scatterternary": [
           {
            "marker": {
             "colorbar": {
              "outlinewidth": 0,
              "ticks": ""
             }
            },
            "type": "scatterternary"
           }
          ],
          "surface": [
           {
            "colorbar": {
             "outlinewidth": 0,
             "ticks": ""
            },
            "colorscale": [
             [
              0,
              "#0d0887"
             ],
             [
              0.1111111111111111,
              "#46039f"
             ],
             [
              0.2222222222222222,
              "#7201a8"
             ],
             [
              0.3333333333333333,
              "#9c179e"
             ],
             [
              0.4444444444444444,
              "#bd3786"
             ],
             [
              0.5555555555555556,
              "#d8576b"
             ],
             [
              0.6666666666666666,
              "#ed7953"
             ],
             [
              0.7777777777777778,
              "#fb9f3a"
             ],
             [
              0.8888888888888888,
              "#fdca26"
             ],
             [
              1,
              "#f0f921"
             ]
            ],
            "type": "surface"
           }
          ],
          "table": [
           {
            "cells": {
             "fill": {
              "color": "#EBF0F8"
             },
             "line": {
              "color": "white"
             }
            },
            "header": {
             "fill": {
              "color": "#C8D4E3"
             },
             "line": {
              "color": "white"
             }
            },
            "type": "table"
           }
          ]
         },
         "layout": {
          "annotationdefaults": {
           "arrowcolor": "#2a3f5f",
           "arrowhead": 0,
           "arrowwidth": 1
          },
          "autotypenumbers": "strict",
          "coloraxis": {
           "colorbar": {
            "outlinewidth": 0,
            "ticks": ""
           }
          },
          "colorscale": {
           "diverging": [
            [
             0,
             "#8e0152"
            ],
            [
             0.1,
             "#c51b7d"
            ],
            [
             0.2,
             "#de77ae"
            ],
            [
             0.3,
             "#f1b6da"
            ],
            [
             0.4,
             "#fde0ef"
            ],
            [
             0.5,
             "#f7f7f7"
            ],
            [
             0.6,
             "#e6f5d0"
            ],
            [
             0.7,
             "#b8e186"
            ],
            [
             0.8,
             "#7fbc41"
            ],
            [
             0.9,
             "#4d9221"
            ],
            [
             1,
             "#276419"
            ]
           ],
           "sequential": [
            [
             0,
             "#0d0887"
            ],
            [
             0.1111111111111111,
             "#46039f"
            ],
            [
             0.2222222222222222,
             "#7201a8"
            ],
            [
             0.3333333333333333,
             "#9c179e"
            ],
            [
             0.4444444444444444,
             "#bd3786"
            ],
            [
             0.5555555555555556,
             "#d8576b"
            ],
            [
             0.6666666666666666,
             "#ed7953"
            ],
            [
             0.7777777777777778,
             "#fb9f3a"
            ],
            [
             0.8888888888888888,
             "#fdca26"
            ],
            [
             1,
             "#f0f921"
            ]
           ],
           "sequentialminus": [
            [
             0,
             "#0d0887"
            ],
            [
             0.1111111111111111,
             "#46039f"
            ],
            [
             0.2222222222222222,
             "#7201a8"
            ],
            [
             0.3333333333333333,
             "#9c179e"
            ],
            [
             0.4444444444444444,
             "#bd3786"
            ],
            [
             0.5555555555555556,
             "#d8576b"
            ],
            [
             0.6666666666666666,
             "#ed7953"
            ],
            [
             0.7777777777777778,
             "#fb9f3a"
            ],
            [
             0.8888888888888888,
             "#fdca26"
            ],
            [
             1,
             "#f0f921"
            ]
           ]
          },
          "colorway": [
           "#636efa",
           "#EF553B",
           "#00cc96",
           "#ab63fa",
           "#FFA15A",
           "#19d3f3",
           "#FF6692",
           "#B6E880",
           "#FF97FF",
           "#FECB52"
          ],
          "font": {
           "color": "#2a3f5f"
          },
          "geo": {
           "bgcolor": "white",
           "lakecolor": "white",
           "landcolor": "#E5ECF6",
           "showlakes": true,
           "showland": true,
           "subunitcolor": "white"
          },
          "hoverlabel": {
           "align": "left"
          },
          "hovermode": "closest",
          "mapbox": {
           "style": "light"
          },
          "paper_bgcolor": "white",
          "plot_bgcolor": "#E5ECF6",
          "polar": {
           "angularaxis": {
            "gridcolor": "white",
            "linecolor": "white",
            "ticks": ""
           },
           "bgcolor": "#E5ECF6",
           "radialaxis": {
            "gridcolor": "white",
            "linecolor": "white",
            "ticks": ""
           }
          },
          "scene": {
           "xaxis": {
            "backgroundcolor": "#E5ECF6",
            "gridcolor": "white",
            "gridwidth": 2,
            "linecolor": "white",
            "showbackground": true,
            "ticks": "",
            "zerolinecolor": "white"
           },
           "yaxis": {
            "backgroundcolor": "#E5ECF6",
            "gridcolor": "white",
            "gridwidth": 2,
            "linecolor": "white",
            "showbackground": true,
            "ticks": "",
            "zerolinecolor": "white"
           },
           "zaxis": {
            "backgroundcolor": "#E5ECF6",
            "gridcolor": "white",
            "gridwidth": 2,
            "linecolor": "white",
            "showbackground": true,
            "ticks": "",
            "zerolinecolor": "white"
           }
          },
          "shapedefaults": {
           "line": {
            "color": "#2a3f5f"
           }
          },
          "ternary": {
           "aaxis": {
            "gridcolor": "white",
            "linecolor": "white",
            "ticks": ""
           },
           "baxis": {
            "gridcolor": "white",
            "linecolor": "white",
            "ticks": ""
           },
           "bgcolor": "#E5ECF6",
           "caxis": {
            "gridcolor": "white",
            "linecolor": "white",
            "ticks": ""
           }
          },
          "title": {
           "x": 0.05
          },
          "xaxis": {
           "automargin": true,
           "gridcolor": "white",
           "linecolor": "white",
           "ticks": "",
           "title": {
            "standoff": 15
           },
           "zerolinecolor": "white",
           "zerolinewidth": 2
          },
          "yaxis": {
           "automargin": true,
           "gridcolor": "white",
           "linecolor": "white",
           "ticks": "",
           "title": {
            "standoff": 15
           },
           "zerolinecolor": "white",
           "zerolinewidth": 2
          }
         }
        },
        "title": {
         "text": "Choropleth map of average temperature"
        }
       }
      },
      "text/html": [
       "<div>                            <div id=\"5980728c-0b14-4d10-8bf9-6da81a788913\" class=\"plotly-graph-div\" style=\"height:525px; width:100%;\"></div>            <script type=\"text/javascript\">                require([\"plotly\"], function(Plotly) {                    window.PLOTLYENV=window.PLOTLYENV || {};                                    if (document.getElementById(\"5980728c-0b14-4d10-8bf9-6da81a788913\")) {                    Plotly.newPlot(                        \"5980728c-0b14-4d10-8bf9-6da81a788913\",                        [{\"coloraxis\": \"coloraxis\", \"geo\": \"geo\", \"hovertemplate\": \"Country=%{location}<br>AverageTemperature=%{z}<extra></extra>\", \"locationmode\": \"country names\", \"locations\": [\"Afghanistan\", \"Africa\", \"Albania\", \"Algeria\", \"American Samoa\", \"Andorra\", \"Angola\", \"Anguilla\", \"Antigua And Barbuda\", \"Argentina\", \"Armenia\", \"Aruba\", \"Asia\", \"Australia\", \"Austria\", \"Azerbaijan\", \"Bahamas\", \"Bahrain\", \"Baker Island\", \"Bangladesh\", \"Barbados\", \"Belarus\", \"Belgium\", \"Belize\", \"Benin\", \"Bhutan\", \"Bolivia\", \"Bonaire, Saint Eustatius And Saba\", \"Bosnia And Herzegovina\", \"Botswana\", \"Brazil\", \"British Virgin Islands\", \"Bulgaria\", \"Burkina Faso\", \"Burma\", \"Burundi\", \"Cambodia\", \"Cameroon\", \"Canada\", \"Cape Verde\", \"Cayman Islands\", \"Central African Republic\", \"Chad\", \"Chile\", \"China\", \"Christmas Island\", \"Colombia\", \"Comoros\", \"Congo\", \"Costa Rica\", \"Croatia\", \"Cuba\", \"Cura\\u00e7ao\", \"Cyprus\", \"Czech Republic\", \"C\\u00f4te D'Ivoire\", \"Denmark\", \"Djibouti\", \"Dominica\", \"Dominican Republic\", \"Ecuador\", \"Egypt\", \"El Salvador\", \"Equatorial Guinea\", \"Eritrea\", \"Estonia\", \"Ethiopia\", \"Europe\", \"Falkland Islands (Islas Malvinas)\", \"Faroe Islands\", \"Federated States Of Micronesia\", \"Fiji\", \"Finland\", \"France\", \"French Guiana\", \"French Polynesia\", \"French Southern And Antarctic Lands\", \"Gabon\", \"Gambia\", \"Gaza Strip\", \"Georgia\", \"Germany\", \"Ghana\", \"Greece\", \"Greenland\", \"Grenada\", \"Guadeloupe\", \"Guam\", \"Guatemala\", \"Guernsey\", \"Guinea\", \"Guinea Bissau\", \"Guyana\", \"Haiti\", \"Heard Island And Mcdonald Islands\", \"Honduras\", \"Hong Kong\", \"Hungary\", \"Iceland\", \"India\", \"Indonesia\", \"Iran\", \"Iraq\", \"Ireland\", \"Isle Of Man\", \"Israel\", \"Italy\", \"Jamaica\", \"Japan\", \"Jersey\", \"Jordan\", \"Kazakhstan\", \"Kenya\", \"Kingman Reef\", \"Kiribati\", \"Kuwait\", \"Kyrgyzstan\", \"Laos\", \"Latvia\", \"Lebanon\", \"Lesotho\", \"Liberia\", \"Libya\", \"Liechtenstein\", \"Lithuania\", \"Luxembourg\", \"Macau\", \"Macedonia\", \"Madagascar\", \"Malawi\", \"Malaysia\", \"Mali\", \"Malta\", \"Martinique\", \"Mauritania\", \"Mauritius\", \"Mayotte\", \"Mexico\", \"Moldova\", \"Monaco\", \"Mongolia\", \"Montenegro\", \"Montserrat\", \"Morocco\", \"Mozambique\", \"Namibia\", \"Nepal\", \"Netherlands\", \"New Caledonia\", \"New Zealand\", \"Nicaragua\", \"Niger\", \"Nigeria\", \"Niue\", \"North America\", \"North Korea\", \"Northern Mariana Islands\", \"Norway\", \"Oceania\", \"Oman\", \"Pakistan\", \"Palau\", \"Palestina\", \"Palmyra Atoll\", \"Panama\", \"Papua New Guinea\", \"Paraguay\", \"Peru\", \"Philippines\", \"Poland\", \"Portugal\", \"Puerto Rico\", \"Qatar\", \"Reunion\", \"Romania\", \"Russia\", \"Rwanda\", \"Saint Barth\\u00e9lemy\", \"Saint Kitts And Nevis\", \"Saint Lucia\", \"Saint Martin\", \"Saint Pierre And Miquelon\", \"Saint Vincent And The Grenadines\", \"Samoa\", \"San Marino\", \"Sao Tome And Principe\", \"Saudi Arabia\", \"Senegal\", \"Serbia\", \"Seychelles\", \"Sierra Leone\", \"Singapore\", \"Sint Maarten\", \"Slovakia\", \"Slovenia\", \"Solomon Islands\", \"Somalia\", \"South Africa\", \"South America\", \"South Georgia And The South Sandwich Isla\", \"South Korea\", \"Spain\", \"Sri Lanka\", \"Sudan\", \"Suriname\", \"Svalbard And Jan Mayen\", \"Swaziland\", \"Sweden\", \"Switzerland\", \"Syria\", \"Taiwan\", \"Tajikistan\", \"Tanzania\", \"Thailand\", \"Timor Leste\", \"Togo\", \"Tonga\", \"Trinidad And Tobago\", \"Tunisia\", \"Turkey\", \"Turkmenistan\", \"Turks And Caicas Islands\", \"Uganda\", \"Ukraine\", \"United Arab Emirates\", \"United Kingdom\", \"United States\", \"Uruguay\", \"Uzbekistan\", \"Venezuela\", \"Vietnam\", \"Virgin Islands\", \"Western Sahara\", \"Yemen\", \"Zambia\", \"Zimbabwe\", \"\\u00c5land\"], \"name\": \"\", \"type\": \"choropleth\", \"z\": [14.045007194244608, 24.07420274551212, 12.61064592545798, 22.985111769059955, 26.611965009208156, 11.201553063802905, 21.82454918981486, 26.610491850431465, 26.437924256951035, 14.621194210526305, 8.551647926634773, 27.92039022051774, 7.347892223161453, 21.624696891191693, 6.210731838281731, 11.175936074918587, 25.12822004008018, 25.93080933465739, 25.372350232798794, 24.82024278370897, 26.45854793863855, 5.819288060644335, 9.48337839545166, 25.052099776286326, 27.171999431818186, 11.811878969957082, 20.8772305263158, 27.173294822627003, 10.421283954516774, 21.879296691568843, 24.699255545286466, 26.336523239099186, 10.482968414403024, 28.083506760410998, 23.70619723953693, 20.070990127758442, 26.65685403576609, 24.352585590778116, -5.216658945686897, 24.185563568376022, 26.722504150283953, 25.28040691642648, 27.12046628242079, 9.383473684210513, 6.612731031349375, 25.784654071314534, 24.716870967741926, 25.70220930232557, 24.11809994239633, 25.615784434203807, 11.342399873657591, 25.407426387068544, 27.353414669223397, 18.78774568642161, 7.626019267214149, 25.948536060279846, -3.0265029336266966, 28.816602533172542, 26.1101514860978, 25.547511210762387, 21.869970347003168, 22.620693031209964, 24.906704545454577, 24.921677809798265, 26.80265311004786, 4.819805748578657, 23.012356759976136, 7.830063802905867, 6.076773492667047, 6.619001579279848, 26.94435777126096, 25.038671779141108, 1.2447422615287405, 11.594245735944417, 25.718151106833467, 26.10709611829945, 4.983111111111109, 24.254725648414972, 27.538551816239316, 19.19263696098565, 8.106881895881907, 8.152496209728362, 26.71101355166567, 14.773012002526816, -18.58745804195801, 26.741952061361474, 26.32956088207096, 26.996834337349433, 23.111650494159935, 10.928408717624766, 25.452353098290622, 26.761366648850885, 25.93092011549566, 26.295837740923353, 2.562114942528734, 24.6955479945922, 22.659894913627642, 9.722423246999355, 1.4050650663297544, 23.87378947368426, 25.684483767961684, 17.60707645115617, 21.77562887931037, 9.419558433354414, 9.365805432722688, 19.626577302631585, 12.737121920404292, 26.0963395638629, 11.95190733590733, 10.928408717624766, 19.346512587701167, 5.202144758735441, 24.102428231089974, 27.133034438775535, 26.73686534779841, 25.09814023210831, 3.2204981651376143, 23.574696349064986, 5.320545167403669, 17.631617730784885, 13.726681793913507, 25.377737931034517, 22.26825393848455, 4.642939039797854, 5.907991787744772, 9.16519646241313, 22.4183747600768, 10.375550852811111, 22.749045944412938, 21.431086144578323, 25.80544200779728, 28.441976570819996, 18.494875319693055, 26.1101514860978, 27.620255504352293, 23.522653983353138, 26.34096142938175, 20.56755804195808, 8.931716677195217, 9.024701831964629, -0.8206709844559608, 10.21462950094757, 26.383128475551263, 17.62749740932639, 23.596194758785003, 20.48449519743865, 14.807390612244879, 9.308701831964614, 22.700108194965168, 10.371239107883817, 25.957508780036967, 27.458972540045757, 26.74470830912261, 25.094878453038664, 2.0283738920225614, 6.748336832061071, 26.996834337349433, 0.09580385344283013, 21.45298911917101, 26.91686266589726, 20.615513304305733, 27.216379332477516, 23.125663223140542, 27.163455994897923, 26.29162063808573, 24.450801898734266, 23.23796755725191, 19.935974230044003, 26.440472486772517, 7.460205938092234, 14.688179987212278, 25.451961667465255, 26.78499601593621, 23.301403091557614, 8.760901768793424, -5.521881912681911, 19.24442218350756, 26.610491850431465, 25.852186001917556, 26.646838446788106, 26.610491850431465, 4.2230599551138175, 26.789448705656774, 26.331862492326593, 13.83142229943148, 25.79438616714698, 25.54640783525872, 27.96737499999997, 9.986563171193945, 26.738423142370962, 26.022571277159468, 26.523102826510677, 26.610491850431465, 7.52721699305117, 9.659700568540737, 26.62503698979594, 26.877085169743943, 17.270982915109443, 21.823920081967245, 1.4010251017639086, 11.849048745173734, 13.6128341756159, 26.9476870015949, 27.093359428571475, 26.171663137632375, -7.448027925531907, 18.839807261078484, 2.386331964624136, 6.992051484523055, 17.917548596990663, 21.937427536231866, 4.016035217794258, 22.347910971786856, 25.986800979519113, 25.96633271832718, 26.871782756664746, 23.23624785276075, 26.118751198466015, 19.97059047314578, 11.63156730091614, 14.781998181818167, 26.662733508082173, 23.0329687137891, 7.653507264687312, 27.693994700582884, 8.572556696146547, 8.603572522159553, 17.149306774809137, 12.27801593806923, 25.025685522531145, 23.688365504061206, 26.336523239099186, 22.319817823343875, 26.25359672528806, 21.282955621301788, 21.11754724637679, 5.291383449147199]}],                        {\"coloraxis\": {\"colorbar\": {\"title\": {\"text\": \"AverageTemperature\"}}, \"colorscale\": [[0.0, \"#0d0887\"], [0.1111111111111111, \"#46039f\"], [0.2222222222222222, \"#7201a8\"], [0.3333333333333333, \"#9c179e\"], [0.4444444444444444, \"#bd3786\"], [0.5555555555555556, \"#d8576b\"], [0.6666666666666666, \"#ed7953\"], [0.7777777777777778, \"#fb9f3a\"], [0.8888888888888888, \"#fdca26\"], [1.0, \"#f0f921\"]]}, \"geo\": {\"center\": {}, \"domain\": {\"x\": [0.0, 1.0], \"y\": [0.0, 1.0]}}, \"legend\": {\"tracegroupgap\": 0}, \"margin\": {\"t\": 60}, \"template\": {\"data\": {\"bar\": [{\"error_x\": {\"color\": \"#2a3f5f\"}, \"error_y\": {\"color\": \"#2a3f5f\"}, \"marker\": {\"line\": {\"color\": \"#E5ECF6\", \"width\": 0.5}}, \"type\": \"bar\"}], \"barpolar\": [{\"marker\": {\"line\": {\"color\": \"#E5ECF6\", \"width\": 0.5}}, \"type\": \"barpolar\"}], \"carpet\": [{\"aaxis\": {\"endlinecolor\": \"#2a3f5f\", \"gridcolor\": \"white\", \"linecolor\": \"white\", \"minorgridcolor\": \"white\", \"startlinecolor\": \"#2a3f5f\"}, \"baxis\": {\"endlinecolor\": \"#2a3f5f\", \"gridcolor\": \"white\", \"linecolor\": \"white\", \"minorgridcolor\": \"white\", \"startlinecolor\": \"#2a3f5f\"}, \"type\": \"carpet\"}], \"choropleth\": [{\"colorbar\": {\"outlinewidth\": 0, \"ticks\": \"\"}, \"type\": \"choropleth\"}], \"contour\": [{\"colorbar\": {\"outlinewidth\": 0, \"ticks\": \"\"}, \"colorscale\": [[0.0, \"#0d0887\"], [0.1111111111111111, \"#46039f\"], [0.2222222222222222, \"#7201a8\"], [0.3333333333333333, \"#9c179e\"], [0.4444444444444444, \"#bd3786\"], [0.5555555555555556, \"#d8576b\"], [0.6666666666666666, \"#ed7953\"], [0.7777777777777778, \"#fb9f3a\"], [0.8888888888888888, \"#fdca26\"], [1.0, \"#f0f921\"]], \"type\": \"contour\"}], \"contourcarpet\": [{\"colorbar\": {\"outlinewidth\": 0, \"ticks\": \"\"}, \"type\": \"contourcarpet\"}], \"heatmap\": [{\"colorbar\": {\"outlinewidth\": 0, \"ticks\": \"\"}, \"colorscale\": [[0.0, \"#0d0887\"], [0.1111111111111111, \"#46039f\"], [0.2222222222222222, \"#7201a8\"], [0.3333333333333333, \"#9c179e\"], [0.4444444444444444, \"#bd3786\"], [0.5555555555555556, \"#d8576b\"], [0.6666666666666666, \"#ed7953\"], [0.7777777777777778, \"#fb9f3a\"], [0.8888888888888888, \"#fdca26\"], [1.0, \"#f0f921\"]], \"type\": \"heatmap\"}], \"heatmapgl\": [{\"colorbar\": {\"outlinewidth\": 0, \"ticks\": \"\"}, \"colorscale\": [[0.0, \"#0d0887\"], [0.1111111111111111, \"#46039f\"], [0.2222222222222222, \"#7201a8\"], [0.3333333333333333, \"#9c179e\"], [0.4444444444444444, \"#bd3786\"], [0.5555555555555556, \"#d8576b\"], [0.6666666666666666, \"#ed7953\"], [0.7777777777777778, \"#fb9f3a\"], [0.8888888888888888, \"#fdca26\"], [1.0, \"#f0f921\"]], \"type\": \"heatmapgl\"}], \"histogram\": [{\"marker\": {\"colorbar\": {\"outlinewidth\": 0, \"ticks\": \"\"}}, \"type\": \"histogram\"}], \"histogram2d\": [{\"colorbar\": {\"outlinewidth\": 0, \"ticks\": \"\"}, \"colorscale\": [[0.0, \"#0d0887\"], [0.1111111111111111, \"#46039f\"], [0.2222222222222222, \"#7201a8\"], [0.3333333333333333, \"#9c179e\"], [0.4444444444444444, \"#bd3786\"], [0.5555555555555556, \"#d8576b\"], [0.6666666666666666, \"#ed7953\"], [0.7777777777777778, \"#fb9f3a\"], [0.8888888888888888, \"#fdca26\"], [1.0, \"#f0f921\"]], \"type\": \"histogram2d\"}], \"histogram2dcontour\": [{\"colorbar\": {\"outlinewidth\": 0, \"ticks\": \"\"}, \"colorscale\": [[0.0, \"#0d0887\"], [0.1111111111111111, \"#46039f\"], [0.2222222222222222, \"#7201a8\"], [0.3333333333333333, \"#9c179e\"], [0.4444444444444444, \"#bd3786\"], [0.5555555555555556, \"#d8576b\"], [0.6666666666666666, \"#ed7953\"], [0.7777777777777778, \"#fb9f3a\"], [0.8888888888888888, \"#fdca26\"], [1.0, \"#f0f921\"]], \"type\": \"histogram2dcontour\"}], \"mesh3d\": [{\"colorbar\": {\"outlinewidth\": 0, \"ticks\": \"\"}, \"type\": \"mesh3d\"}], \"parcoords\": [{\"line\": {\"colorbar\": {\"outlinewidth\": 0, \"ticks\": \"\"}}, \"type\": \"parcoords\"}], \"pie\": [{\"automargin\": true, \"type\": \"pie\"}], \"scatter\": [{\"marker\": {\"colorbar\": {\"outlinewidth\": 0, \"ticks\": \"\"}}, \"type\": \"scatter\"}], \"scatter3d\": [{\"line\": {\"colorbar\": {\"outlinewidth\": 0, \"ticks\": \"\"}}, \"marker\": {\"colorbar\": {\"outlinewidth\": 0, \"ticks\": \"\"}}, \"type\": \"scatter3d\"}], \"scattercarpet\": [{\"marker\": {\"colorbar\": {\"outlinewidth\": 0, \"ticks\": \"\"}}, \"type\": \"scattercarpet\"}], \"scattergeo\": [{\"marker\": {\"colorbar\": {\"outlinewidth\": 0, \"ticks\": \"\"}}, \"type\": \"scattergeo\"}], \"scattergl\": [{\"marker\": {\"colorbar\": {\"outlinewidth\": 0, \"ticks\": \"\"}}, \"type\": \"scattergl\"}], \"scattermapbox\": [{\"marker\": {\"colorbar\": {\"outlinewidth\": 0, \"ticks\": \"\"}}, \"type\": \"scattermapbox\"}], \"scatterpolar\": [{\"marker\": {\"colorbar\": {\"outlinewidth\": 0, \"ticks\": \"\"}}, \"type\": \"scatterpolar\"}], \"scatterpolargl\": [{\"marker\": {\"colorbar\": {\"outlinewidth\": 0, \"ticks\": \"\"}}, \"type\": \"scatterpolargl\"}], \"scatterternary\": [{\"marker\": {\"colorbar\": {\"outlinewidth\": 0, \"ticks\": \"\"}}, \"type\": \"scatterternary\"}], \"surface\": [{\"colorbar\": {\"outlinewidth\": 0, \"ticks\": \"\"}, \"colorscale\": [[0.0, \"#0d0887\"], [0.1111111111111111, \"#46039f\"], [0.2222222222222222, \"#7201a8\"], [0.3333333333333333, \"#9c179e\"], [0.4444444444444444, \"#bd3786\"], [0.5555555555555556, \"#d8576b\"], [0.6666666666666666, \"#ed7953\"], [0.7777777777777778, \"#fb9f3a\"], [0.8888888888888888, \"#fdca26\"], [1.0, \"#f0f921\"]], \"type\": \"surface\"}], \"table\": [{\"cells\": {\"fill\": {\"color\": \"#EBF0F8\"}, \"line\": {\"color\": \"white\"}}, \"header\": {\"fill\": {\"color\": \"#C8D4E3\"}, \"line\": {\"color\": \"white\"}}, \"type\": \"table\"}]}, \"layout\": {\"annotationdefaults\": {\"arrowcolor\": \"#2a3f5f\", \"arrowhead\": 0, \"arrowwidth\": 1}, \"autotypenumbers\": \"strict\", \"coloraxis\": {\"colorbar\": {\"outlinewidth\": 0, \"ticks\": \"\"}}, \"colorscale\": {\"diverging\": [[0, \"#8e0152\"], [0.1, \"#c51b7d\"], [0.2, \"#de77ae\"], [0.3, \"#f1b6da\"], [0.4, \"#fde0ef\"], [0.5, \"#f7f7f7\"], [0.6, \"#e6f5d0\"], [0.7, \"#b8e186\"], [0.8, \"#7fbc41\"], [0.9, \"#4d9221\"], [1, \"#276419\"]], \"sequential\": [[0.0, \"#0d0887\"], [0.1111111111111111, \"#46039f\"], [0.2222222222222222, \"#7201a8\"], [0.3333333333333333, \"#9c179e\"], [0.4444444444444444, \"#bd3786\"], [0.5555555555555556, \"#d8576b\"], [0.6666666666666666, \"#ed7953\"], [0.7777777777777778, \"#fb9f3a\"], [0.8888888888888888, \"#fdca26\"], [1.0, \"#f0f921\"]], \"sequentialminus\": [[0.0, \"#0d0887\"], [0.1111111111111111, \"#46039f\"], [0.2222222222222222, \"#7201a8\"], [0.3333333333333333, \"#9c179e\"], [0.4444444444444444, \"#bd3786\"], [0.5555555555555556, \"#d8576b\"], [0.6666666666666666, \"#ed7953\"], [0.7777777777777778, \"#fb9f3a\"], [0.8888888888888888, \"#fdca26\"], [1.0, \"#f0f921\"]]}, \"colorway\": [\"#636efa\", \"#EF553B\", \"#00cc96\", \"#ab63fa\", \"#FFA15A\", \"#19d3f3\", \"#FF6692\", \"#B6E880\", \"#FF97FF\", \"#FECB52\"], \"font\": {\"color\": \"#2a3f5f\"}, \"geo\": {\"bgcolor\": \"white\", \"lakecolor\": \"white\", \"landcolor\": \"#E5ECF6\", \"showlakes\": true, \"showland\": true, \"subunitcolor\": \"white\"}, \"hoverlabel\": {\"align\": \"left\"}, \"hovermode\": \"closest\", \"mapbox\": {\"style\": \"light\"}, \"paper_bgcolor\": \"white\", \"plot_bgcolor\": \"#E5ECF6\", \"polar\": {\"angularaxis\": {\"gridcolor\": \"white\", \"linecolor\": \"white\", \"ticks\": \"\"}, \"bgcolor\": \"#E5ECF6\", \"radialaxis\": {\"gridcolor\": \"white\", \"linecolor\": \"white\", \"ticks\": \"\"}}, \"scene\": {\"xaxis\": {\"backgroundcolor\": \"#E5ECF6\", \"gridcolor\": \"white\", \"gridwidth\": 2, \"linecolor\": \"white\", \"showbackground\": true, \"ticks\": \"\", \"zerolinecolor\": \"white\"}, \"yaxis\": {\"backgroundcolor\": \"#E5ECF6\", \"gridcolor\": \"white\", \"gridwidth\": 2, \"linecolor\": \"white\", \"showbackground\": true, \"ticks\": \"\", \"zerolinecolor\": \"white\"}, \"zaxis\": {\"backgroundcolor\": \"#E5ECF6\", \"gridcolor\": \"white\", \"gridwidth\": 2, \"linecolor\": \"white\", \"showbackground\": true, \"ticks\": \"\", \"zerolinecolor\": \"white\"}}, \"shapedefaults\": {\"line\": {\"color\": \"#2a3f5f\"}}, \"ternary\": {\"aaxis\": {\"gridcolor\": \"white\", \"linecolor\": \"white\", \"ticks\": \"\"}, \"baxis\": {\"gridcolor\": \"white\", \"linecolor\": \"white\", \"ticks\": \"\"}, \"bgcolor\": \"#E5ECF6\", \"caxis\": {\"gridcolor\": \"white\", \"linecolor\": \"white\", \"ticks\": \"\"}}, \"title\": {\"x\": 0.05}, \"xaxis\": {\"automargin\": true, \"gridcolor\": \"white\", \"linecolor\": \"white\", \"ticks\": \"\", \"title\": {\"standoff\": 15}, \"zerolinecolor\": \"white\", \"zerolinewidth\": 2}, \"yaxis\": {\"automargin\": true, \"gridcolor\": \"white\", \"linecolor\": \"white\", \"ticks\": \"\", \"title\": {\"standoff\": 15}, \"zerolinecolor\": \"white\", \"zerolinewidth\": 2}}}, \"title\": {\"text\": \"Choropleth map of average temperature\"}},                        {\"responsive\": true}                    ).then(function(){\n",
       "                            \n",
       "var gd = document.getElementById('5980728c-0b14-4d10-8bf9-6da81a788913');\n",
       "var x = new MutationObserver(function (mutations, observer) {{\n",
       "        var display = window.getComputedStyle(gd).display;\n",
       "        if (!display || display === 'none') {{\n",
       "            console.log([gd, 'removed!']);\n",
       "            Plotly.purge(gd);\n",
       "            observer.disconnect();\n",
       "        }}\n",
       "}});\n",
       "\n",
       "// Listen for the removal of the full notebook cells\n",
       "var notebookContainer = gd.closest('#notebook-container');\n",
       "if (notebookContainer) {{\n",
       "    x.observe(notebookContainer, {childList: true});\n",
       "}}\n",
       "\n",
       "// Listen for the clearing of the current output cell\n",
       "var outputEl = gd.closest('.output');\n",
       "if (outputEl) {{\n",
       "    x.observe(outputEl, {childList: true});\n",
       "}}\n",
       "\n",
       "                        })                };                });            </script>        </div>"
      ]
     },
     "metadata": {},
     "output_type": "display_data"
    }
   ],
   "source": [
    "fig=px.choropleth(avgtemp, locations='Country',locationmode='country names', color='AverageTemperature')\n",
    "fig.update_layout(title='Choropleth map of average temperature')\n",
    "fig.show()"
   ]
  },
  {
   "cell_type": "markdown",
   "id": "declared-landing",
   "metadata": {},
   "source": [
    "# Analyse Exsistence of Global Warming"
   ]
  },
  {
   "cell_type": "code",
   "execution_count": 13,
   "id": "pretty-backup",
   "metadata": {},
   "outputs": [
    {
     "data": {
      "text/html": [
       "<div>\n",
       "<style scoped>\n",
       "    .dataframe tbody tr th:only-of-type {\n",
       "        vertical-align: middle;\n",
       "    }\n",
       "\n",
       "    .dataframe tbody tr th {\n",
       "        vertical-align: top;\n",
       "    }\n",
       "\n",
       "    .dataframe thead th {\n",
       "        text-align: right;\n",
       "    }\n",
       "</style>\n",
       "<table border=\"1\" class=\"dataframe\">\n",
       "  <thead>\n",
       "    <tr style=\"text-align: right;\">\n",
       "      <th></th>\n",
       "      <th>dt</th>\n",
       "      <th>LandAverageTemperature</th>\n",
       "      <th>LandAverageTemperatureUncertainty</th>\n",
       "      <th>LandMaxTemperature</th>\n",
       "      <th>LandMaxTemperatureUncertainty</th>\n",
       "      <th>LandMinTemperature</th>\n",
       "      <th>LandMinTemperatureUncertainty</th>\n",
       "      <th>LandAndOceanAverageTemperature</th>\n",
       "      <th>LandAndOceanAverageTemperatureUncertainty</th>\n",
       "    </tr>\n",
       "  </thead>\n",
       "  <tbody>\n",
       "    <tr>\n",
       "      <th>0</th>\n",
       "      <td>1750-01-01</td>\n",
       "      <td>3.034</td>\n",
       "      <td>3.574</td>\n",
       "      <td>NaN</td>\n",
       "      <td>NaN</td>\n",
       "      <td>NaN</td>\n",
       "      <td>NaN</td>\n",
       "      <td>NaN</td>\n",
       "      <td>NaN</td>\n",
       "    </tr>\n",
       "    <tr>\n",
       "      <th>1</th>\n",
       "      <td>1750-02-01</td>\n",
       "      <td>3.083</td>\n",
       "      <td>3.702</td>\n",
       "      <td>NaN</td>\n",
       "      <td>NaN</td>\n",
       "      <td>NaN</td>\n",
       "      <td>NaN</td>\n",
       "      <td>NaN</td>\n",
       "      <td>NaN</td>\n",
       "    </tr>\n",
       "    <tr>\n",
       "      <th>2</th>\n",
       "      <td>1750-03-01</td>\n",
       "      <td>5.626</td>\n",
       "      <td>3.076</td>\n",
       "      <td>NaN</td>\n",
       "      <td>NaN</td>\n",
       "      <td>NaN</td>\n",
       "      <td>NaN</td>\n",
       "      <td>NaN</td>\n",
       "      <td>NaN</td>\n",
       "    </tr>\n",
       "    <tr>\n",
       "      <th>3</th>\n",
       "      <td>1750-04-01</td>\n",
       "      <td>8.490</td>\n",
       "      <td>2.451</td>\n",
       "      <td>NaN</td>\n",
       "      <td>NaN</td>\n",
       "      <td>NaN</td>\n",
       "      <td>NaN</td>\n",
       "      <td>NaN</td>\n",
       "      <td>NaN</td>\n",
       "    </tr>\n",
       "    <tr>\n",
       "      <th>4</th>\n",
       "      <td>1750-05-01</td>\n",
       "      <td>11.573</td>\n",
       "      <td>2.072</td>\n",
       "      <td>NaN</td>\n",
       "      <td>NaN</td>\n",
       "      <td>NaN</td>\n",
       "      <td>NaN</td>\n",
       "      <td>NaN</td>\n",
       "      <td>NaN</td>\n",
       "    </tr>\n",
       "  </tbody>\n",
       "</table>\n",
       "</div>"
      ],
      "text/plain": [
       "           dt  LandAverageTemperature  LandAverageTemperatureUncertainty  \\\n",
       "0  1750-01-01                   3.034                              3.574   \n",
       "1  1750-02-01                   3.083                              3.702   \n",
       "2  1750-03-01                   5.626                              3.076   \n",
       "3  1750-04-01                   8.490                              2.451   \n",
       "4  1750-05-01                  11.573                              2.072   \n",
       "\n",
       "   LandMaxTemperature  LandMaxTemperatureUncertainty  LandMinTemperature  \\\n",
       "0                 NaN                            NaN                 NaN   \n",
       "1                 NaN                            NaN                 NaN   \n",
       "2                 NaN                            NaN                 NaN   \n",
       "3                 NaN                            NaN                 NaN   \n",
       "4                 NaN                            NaN                 NaN   \n",
       "\n",
       "   LandMinTemperatureUncertainty  LandAndOceanAverageTemperature  \\\n",
       "0                            NaN                             NaN   \n",
       "1                            NaN                             NaN   \n",
       "2                            NaN                             NaN   \n",
       "3                            NaN                             NaN   \n",
       "4                            NaN                             NaN   \n",
       "\n",
       "   LandAndOceanAverageTemperatureUncertainty  \n",
       "0                                        NaN  \n",
       "1                                        NaN  \n",
       "2                                        NaN  \n",
       "3                                        NaN  \n",
       "4                                        NaN  "
      ]
     },
     "execution_count": 13,
     "metadata": {},
     "output_type": "execute_result"
    }
   ],
   "source": [
    "globaltemp=pd.read_csv(\"C:/Users/User/Downloads/GlobalTemperatures.csv\")\n",
    "globaltemp.head()"
   ]
  },
  {
   "cell_type": "code",
   "execution_count": 14,
   "id": "packed-patch",
   "metadata": {},
   "outputs": [
    {
     "data": {
      "text/plain": [
       "'1750'"
      ]
     },
     "execution_count": 14,
     "metadata": {},
     "output_type": "execute_result"
    }
   ],
   "source": [
    "globaltemp['dt'][0].split('-')[0]"
   ]
  },
  {
   "cell_type": "code",
   "execution_count": 15,
   "id": "personalized-shame",
   "metadata": {},
   "outputs": [],
   "source": [
    "def fetch_year(date):\n",
    "    return date.split('-')[0]"
   ]
  },
  {
   "cell_type": "code",
   "execution_count": 16,
   "id": "painted-mystery",
   "metadata": {},
   "outputs": [],
   "source": [
    "globaltemp['years']=globaltemp['dt'].apply(fetch_year)"
   ]
  },
  {
   "cell_type": "code",
   "execution_count": 17,
   "id": "joined-transfer",
   "metadata": {},
   "outputs": [
    {
     "data": {
      "text/html": [
       "<div>\n",
       "<style scoped>\n",
       "    .dataframe tbody tr th:only-of-type {\n",
       "        vertical-align: middle;\n",
       "    }\n",
       "\n",
       "    .dataframe tbody tr th {\n",
       "        vertical-align: top;\n",
       "    }\n",
       "\n",
       "    .dataframe thead th {\n",
       "        text-align: right;\n",
       "    }\n",
       "</style>\n",
       "<table border=\"1\" class=\"dataframe\">\n",
       "  <thead>\n",
       "    <tr style=\"text-align: right;\">\n",
       "      <th></th>\n",
       "      <th>dt</th>\n",
       "      <th>LandAverageTemperature</th>\n",
       "      <th>LandAverageTemperatureUncertainty</th>\n",
       "      <th>LandMaxTemperature</th>\n",
       "      <th>LandMaxTemperatureUncertainty</th>\n",
       "      <th>LandMinTemperature</th>\n",
       "      <th>LandMinTemperatureUncertainty</th>\n",
       "      <th>LandAndOceanAverageTemperature</th>\n",
       "      <th>LandAndOceanAverageTemperatureUncertainty</th>\n",
       "      <th>years</th>\n",
       "    </tr>\n",
       "  </thead>\n",
       "  <tbody>\n",
       "    <tr>\n",
       "      <th>0</th>\n",
       "      <td>1750-01-01</td>\n",
       "      <td>3.034</td>\n",
       "      <td>3.574</td>\n",
       "      <td>NaN</td>\n",
       "      <td>NaN</td>\n",
       "      <td>NaN</td>\n",
       "      <td>NaN</td>\n",
       "      <td>NaN</td>\n",
       "      <td>NaN</td>\n",
       "      <td>1750</td>\n",
       "    </tr>\n",
       "    <tr>\n",
       "      <th>1</th>\n",
       "      <td>1750-02-01</td>\n",
       "      <td>3.083</td>\n",
       "      <td>3.702</td>\n",
       "      <td>NaN</td>\n",
       "      <td>NaN</td>\n",
       "      <td>NaN</td>\n",
       "      <td>NaN</td>\n",
       "      <td>NaN</td>\n",
       "      <td>NaN</td>\n",
       "      <td>1750</td>\n",
       "    </tr>\n",
       "    <tr>\n",
       "      <th>2</th>\n",
       "      <td>1750-03-01</td>\n",
       "      <td>5.626</td>\n",
       "      <td>3.076</td>\n",
       "      <td>NaN</td>\n",
       "      <td>NaN</td>\n",
       "      <td>NaN</td>\n",
       "      <td>NaN</td>\n",
       "      <td>NaN</td>\n",
       "      <td>NaN</td>\n",
       "      <td>1750</td>\n",
       "    </tr>\n",
       "    <tr>\n",
       "      <th>3</th>\n",
       "      <td>1750-04-01</td>\n",
       "      <td>8.490</td>\n",
       "      <td>2.451</td>\n",
       "      <td>NaN</td>\n",
       "      <td>NaN</td>\n",
       "      <td>NaN</td>\n",
       "      <td>NaN</td>\n",
       "      <td>NaN</td>\n",
       "      <td>NaN</td>\n",
       "      <td>1750</td>\n",
       "    </tr>\n",
       "    <tr>\n",
       "      <th>4</th>\n",
       "      <td>1750-05-01</td>\n",
       "      <td>11.573</td>\n",
       "      <td>2.072</td>\n",
       "      <td>NaN</td>\n",
       "      <td>NaN</td>\n",
       "      <td>NaN</td>\n",
       "      <td>NaN</td>\n",
       "      <td>NaN</td>\n",
       "      <td>NaN</td>\n",
       "      <td>1750</td>\n",
       "    </tr>\n",
       "  </tbody>\n",
       "</table>\n",
       "</div>"
      ],
      "text/plain": [
       "           dt  LandAverageTemperature  LandAverageTemperatureUncertainty  \\\n",
       "0  1750-01-01                   3.034                              3.574   \n",
       "1  1750-02-01                   3.083                              3.702   \n",
       "2  1750-03-01                   5.626                              3.076   \n",
       "3  1750-04-01                   8.490                              2.451   \n",
       "4  1750-05-01                  11.573                              2.072   \n",
       "\n",
       "   LandMaxTemperature  LandMaxTemperatureUncertainty  LandMinTemperature  \\\n",
       "0                 NaN                            NaN                 NaN   \n",
       "1                 NaN                            NaN                 NaN   \n",
       "2                 NaN                            NaN                 NaN   \n",
       "3                 NaN                            NaN                 NaN   \n",
       "4                 NaN                            NaN                 NaN   \n",
       "\n",
       "   LandMinTemperatureUncertainty  LandAndOceanAverageTemperature  \\\n",
       "0                            NaN                             NaN   \n",
       "1                            NaN                             NaN   \n",
       "2                            NaN                             NaN   \n",
       "3                            NaN                             NaN   \n",
       "4                            NaN                             NaN   \n",
       "\n",
       "   LandAndOceanAverageTemperatureUncertainty years  \n",
       "0                                        NaN  1750  \n",
       "1                                        NaN  1750  \n",
       "2                                        NaN  1750  \n",
       "3                                        NaN  1750  \n",
       "4                                        NaN  1750  "
      ]
     },
     "execution_count": 17,
     "metadata": {},
     "output_type": "execute_result"
    }
   ],
   "source": [
    "globaltemp.head()"
   ]
  },
  {
   "cell_type": "code",
   "execution_count": 18,
   "id": "grand-limit",
   "metadata": {},
   "outputs": [
    {
     "data": {
      "text/html": [
       "<div>\n",
       "<style scoped>\n",
       "    .dataframe tbody tr th:only-of-type {\n",
       "        vertical-align: middle;\n",
       "    }\n",
       "\n",
       "    .dataframe tbody tr th {\n",
       "        vertical-align: top;\n",
       "    }\n",
       "\n",
       "    .dataframe thead th {\n",
       "        text-align: right;\n",
       "    }\n",
       "</style>\n",
       "<table border=\"1\" class=\"dataframe\">\n",
       "  <thead>\n",
       "    <tr style=\"text-align: right;\">\n",
       "      <th></th>\n",
       "      <th>years</th>\n",
       "      <th>LandAverageTemperature</th>\n",
       "      <th>LandAverageTemperatureUncertainty</th>\n",
       "    </tr>\n",
       "  </thead>\n",
       "  <tbody>\n",
       "    <tr>\n",
       "      <th>0</th>\n",
       "      <td>1750</td>\n",
       "      <td>8.719364</td>\n",
       "      <td>2.637818</td>\n",
       "    </tr>\n",
       "    <tr>\n",
       "      <th>1</th>\n",
       "      <td>1751</td>\n",
       "      <td>7.976143</td>\n",
       "      <td>2.781143</td>\n",
       "    </tr>\n",
       "    <tr>\n",
       "      <th>2</th>\n",
       "      <td>1752</td>\n",
       "      <td>5.779833</td>\n",
       "      <td>2.977000</td>\n",
       "    </tr>\n",
       "    <tr>\n",
       "      <th>3</th>\n",
       "      <td>1753</td>\n",
       "      <td>8.388083</td>\n",
       "      <td>3.176000</td>\n",
       "    </tr>\n",
       "    <tr>\n",
       "      <th>4</th>\n",
       "      <td>1754</td>\n",
       "      <td>8.469333</td>\n",
       "      <td>3.494250</td>\n",
       "    </tr>\n",
       "  </tbody>\n",
       "</table>\n",
       "</div>"
      ],
      "text/plain": [
       "  years  LandAverageTemperature  LandAverageTemperatureUncertainty\n",
       "0  1750                8.719364                           2.637818\n",
       "1  1751                7.976143                           2.781143\n",
       "2  1752                5.779833                           2.977000\n",
       "3  1753                8.388083                           3.176000\n",
       "4  1754                8.469333                           3.494250"
      ]
     },
     "execution_count": 18,
     "metadata": {},
     "output_type": "execute_result"
    }
   ],
   "source": [
    "data=globaltemp.groupby('years').agg({'LandAverageTemperature':'mean','LandAverageTemperatureUncertainty':'mean'}).reset_index()\n",
    "data.head()"
   ]
  },
  {
   "cell_type": "code",
   "execution_count": 19,
   "id": "structured-fluid",
   "metadata": {},
   "outputs": [],
   "source": [
    "data['Uncertainity Top']=data['LandAverageTemperature']+ data['LandAverageTemperatureUncertainty']\n",
    "data['Uncertainty Bottom']=data['LandAverageTemperature']-data['LandAverageTemperatureUncertainty']"
   ]
  },
  {
   "cell_type": "code",
   "execution_count": 20,
   "id": "failing-implementation",
   "metadata": {},
   "outputs": [
    {
     "data": {
      "text/html": [
       "<div>\n",
       "<style scoped>\n",
       "    .dataframe tbody tr th:only-of-type {\n",
       "        vertical-align: middle;\n",
       "    }\n",
       "\n",
       "    .dataframe tbody tr th {\n",
       "        vertical-align: top;\n",
       "    }\n",
       "\n",
       "    .dataframe thead th {\n",
       "        text-align: right;\n",
       "    }\n",
       "</style>\n",
       "<table border=\"1\" class=\"dataframe\">\n",
       "  <thead>\n",
       "    <tr style=\"text-align: right;\">\n",
       "      <th></th>\n",
       "      <th>years</th>\n",
       "      <th>LandAverageTemperature</th>\n",
       "      <th>LandAverageTemperatureUncertainty</th>\n",
       "      <th>Uncertainity Top</th>\n",
       "      <th>Uncertainty Bottom</th>\n",
       "    </tr>\n",
       "  </thead>\n",
       "  <tbody>\n",
       "    <tr>\n",
       "      <th>0</th>\n",
       "      <td>1750</td>\n",
       "      <td>8.719364</td>\n",
       "      <td>2.637818</td>\n",
       "      <td>11.357182</td>\n",
       "      <td>6.081545</td>\n",
       "    </tr>\n",
       "    <tr>\n",
       "      <th>1</th>\n",
       "      <td>1751</td>\n",
       "      <td>7.976143</td>\n",
       "      <td>2.781143</td>\n",
       "      <td>10.757286</td>\n",
       "      <td>5.195000</td>\n",
       "    </tr>\n",
       "    <tr>\n",
       "      <th>2</th>\n",
       "      <td>1752</td>\n",
       "      <td>5.779833</td>\n",
       "      <td>2.977000</td>\n",
       "      <td>8.756833</td>\n",
       "      <td>2.802833</td>\n",
       "    </tr>\n",
       "    <tr>\n",
       "      <th>3</th>\n",
       "      <td>1753</td>\n",
       "      <td>8.388083</td>\n",
       "      <td>3.176000</td>\n",
       "      <td>11.564083</td>\n",
       "      <td>5.212083</td>\n",
       "    </tr>\n",
       "    <tr>\n",
       "      <th>4</th>\n",
       "      <td>1754</td>\n",
       "      <td>8.469333</td>\n",
       "      <td>3.494250</td>\n",
       "      <td>11.963583</td>\n",
       "      <td>4.975083</td>\n",
       "    </tr>\n",
       "  </tbody>\n",
       "</table>\n",
       "</div>"
      ],
      "text/plain": [
       "  years  LandAverageTemperature  LandAverageTemperatureUncertainty  \\\n",
       "0  1750                8.719364                           2.637818   \n",
       "1  1751                7.976143                           2.781143   \n",
       "2  1752                5.779833                           2.977000   \n",
       "3  1753                8.388083                           3.176000   \n",
       "4  1754                8.469333                           3.494250   \n",
       "\n",
       "   Uncertainity Top  Uncertainty Bottom  \n",
       "0         11.357182            6.081545  \n",
       "1         10.757286            5.195000  \n",
       "2          8.756833            2.802833  \n",
       "3         11.564083            5.212083  \n",
       "4         11.963583            4.975083  "
      ]
     },
     "execution_count": 20,
     "metadata": {},
     "output_type": "execute_result"
    }
   ],
   "source": [
    "data.head()"
   ]
  },
  {
   "cell_type": "code",
   "execution_count": 21,
   "id": "straight-halloween",
   "metadata": {},
   "outputs": [
    {
     "data": {
      "text/plain": [
       "Index(['years', 'LandAverageTemperature', 'LandAverageTemperatureUncertainty',\n",
       "       'Uncertainity Top', 'Uncertainty Bottom'],\n",
       "      dtype='object')"
      ]
     },
     "execution_count": 21,
     "metadata": {},
     "output_type": "execute_result"
    }
   ],
   "source": [
    "data.columns"
   ]
  },
  {
   "cell_type": "code",
   "execution_count": 22,
   "id": "pediatric-injection",
   "metadata": {},
   "outputs": [
    {
     "data": {
      "application/vnd.plotly.v1+json": {
       "config": {
        "plotlyServerURL": "https://plot.ly"
       },
       "data": [
        {
         "hovertemplate": "variable=LandAverageTemperature<br>years=%{x}<br>value=%{y}<extra></extra>",
         "legendgroup": "LandAverageTemperature",
         "line": {
          "color": "#636efa",
          "dash": "solid"
         },
         "mode": "lines",
         "name": "LandAverageTemperature",
         "orientation": "v",
         "showlegend": true,
         "type": "scatter",
         "x": [
          "1750",
          "1751",
          "1752",
          "1753",
          "1754",
          "1755",
          "1756",
          "1757",
          "1758",
          "1759",
          "1760",
          "1761",
          "1762",
          "1763",
          "1764",
          "1765",
          "1766",
          "1767",
          "1768",
          "1769",
          "1770",
          "1771",
          "1772",
          "1773",
          "1774",
          "1775",
          "1776",
          "1777",
          "1778",
          "1779",
          "1780",
          "1781",
          "1782",
          "1783",
          "1784",
          "1785",
          "1786",
          "1787",
          "1788",
          "1789",
          "1790",
          "1791",
          "1792",
          "1793",
          "1794",
          "1795",
          "1796",
          "1797",
          "1798",
          "1799",
          "1800",
          "1801",
          "1802",
          "1803",
          "1804",
          "1805",
          "1806",
          "1807",
          "1808",
          "1809",
          "1810",
          "1811",
          "1812",
          "1813",
          "1814",
          "1815",
          "1816",
          "1817",
          "1818",
          "1819",
          "1820",
          "1821",
          "1822",
          "1823",
          "1824",
          "1825",
          "1826",
          "1827",
          "1828",
          "1829",
          "1830",
          "1831",
          "1832",
          "1833",
          "1834",
          "1835",
          "1836",
          "1837",
          "1838",
          "1839",
          "1840",
          "1841",
          "1842",
          "1843",
          "1844",
          "1845",
          "1846",
          "1847",
          "1848",
          "1849",
          "1850",
          "1851",
          "1852",
          "1853",
          "1854",
          "1855",
          "1856",
          "1857",
          "1858",
          "1859",
          "1860",
          "1861",
          "1862",
          "1863",
          "1864",
          "1865",
          "1866",
          "1867",
          "1868",
          "1869",
          "1870",
          "1871",
          "1872",
          "1873",
          "1874",
          "1875",
          "1876",
          "1877",
          "1878",
          "1879",
          "1880",
          "1881",
          "1882",
          "1883",
          "1884",
          "1885",
          "1886",
          "1887",
          "1888",
          "1889",
          "1890",
          "1891",
          "1892",
          "1893",
          "1894",
          "1895",
          "1896",
          "1897",
          "1898",
          "1899",
          "1900",
          "1901",
          "1902",
          "1903",
          "1904",
          "1905",
          "1906",
          "1907",
          "1908",
          "1909",
          "1910",
          "1911",
          "1912",
          "1913",
          "1914",
          "1915",
          "1916",
          "1917",
          "1918",
          "1919",
          "1920",
          "1921",
          "1922",
          "1923",
          "1924",
          "1925",
          "1926",
          "1927",
          "1928",
          "1929",
          "1930",
          "1931",
          "1932",
          "1933",
          "1934",
          "1935",
          "1936",
          "1937",
          "1938",
          "1939",
          "1940",
          "1941",
          "1942",
          "1943",
          "1944",
          "1945",
          "1946",
          "1947",
          "1948",
          "1949",
          "1950",
          "1951",
          "1952",
          "1953",
          "1954",
          "1955",
          "1956",
          "1957",
          "1958",
          "1959",
          "1960",
          "1961",
          "1962",
          "1963",
          "1964",
          "1965",
          "1966",
          "1967",
          "1968",
          "1969",
          "1970",
          "1971",
          "1972",
          "1973",
          "1974",
          "1975",
          "1976",
          "1977",
          "1978",
          "1979",
          "1980",
          "1981",
          "1982",
          "1983",
          "1984",
          "1985",
          "1986",
          "1987",
          "1988",
          "1989",
          "1990",
          "1991",
          "1992",
          "1993",
          "1994",
          "1995",
          "1996",
          "1997",
          "1998",
          "1999",
          "2000",
          "2001",
          "2002",
          "2003",
          "2004",
          "2005",
          "2006",
          "2007",
          "2008",
          "2009",
          "2010",
          "2011",
          "2012",
          "2013",
          "2014",
          "2015"
         ],
         "xaxis": "x",
         "y": [
          8.719363636363637,
          7.9761428571428565,
          5.7798333333333325,
          8.388083333333332,
          8.469333333333335,
          8.355583333333334,
          8.849583333333333,
          9.022,
          6.7435833333333335,
          7.985083333333333,
          7.185166666666667,
          8.772499999999999,
          8.606500000000002,
          7.496749999999999,
          8.400333333333332,
          8.251916666666666,
          8.405666666666667,
          8.221499999999999,
          6.781333333333333,
          7.694583333333334,
          7.691916666666667,
          7.8531666666666675,
          8.1935,
          8.2215,
          8.772166666666665,
          9.183083333333334,
          8.304,
          8.256250000000001,
          8.54225,
          8.98325,
          9.432916666666667,
          8.102583333333332,
          7.901249999999998,
          7.680833333333333,
          7.862000000000001,
          7.3629999999999995,
          8.258166666666666,
          8.031833333333333,
          8.447166666666668,
          8.334166666666667,
          7.982333333333333,
          8.23425,
          8.089,
          8.229166666666666,
          8.526000000000002,
          8.350333333333333,
          8.270999999999999,
          8.510583333333335,
          8.670250000000001,
          8.505749999999999,
          8.484250000000001,
          8.589666666666668,
          8.578166666666666,
          8.503,
          8.844833333333334,
          8.56275,
          8.434083333333332,
          8.281416666666665,
          7.626833333333333,
          7.076416666666667,
          6.922666666666665,
          6.859500000000001,
          7.046250000000001,
          7.7399166666666686,
          7.59175,
          7.239333333333334,
          6.9375,
          6.975666666666668,
          7.828916666666667,
          7.3691666666666675,
          7.616249999999998,
          8.090083333333332,
          8.188333333333334,
          7.718666666666665,
          8.547166666666667,
          8.389333333333333,
          8.356583333333335,
          8.808749999999998,
          8.165333333333335,
          7.941833333333332,
          8.51675,
          7.639166666666667,
          7.450166666666667,
          8.013,
          8.14675,
          7.392499999999999,
          7.695833333333334,
          7.3756666666666675,
          7.514916666666665,
          7.632249999999999,
          7.796250000000001,
          7.688166666666667,
          8.02275,
          8.173666666666668,
          7.646333333333334,
          7.851166666666668,
          8.55275,
          8.086,
          7.979500000000001,
          7.984416666666667,
          7.900666666666666,
          8.178583333333332,
          8.100166666666665,
          8.041833333333333,
          8.2105,
          8.110749999999998,
          7.995916666666666,
          7.758166666666668,
          8.10025,
          8.252,
          7.960833333333333,
          7.846500000000002,
          7.558583333333335,
          8.111833333333333,
          7.983583333333335,
          8.177833333333334,
          8.292166666666665,
          8.436333333333334,
          8.247916666666667,
          8.432083333333333,
          8.201333333333332,
          8.115083333333333,
          8.193833333333332,
          8.351083333333333,
          8.4335,
          7.859583333333334,
          8.080083333333333,
          8.539583333333333,
          8.829749999999999,
          8.165833333333333,
          8.118749999999999,
          8.270916666666666,
          8.128916666666667,
          7.976916666666667,
          7.773666666666667,
          7.919666666666668,
          7.954499999999999,
          7.914916666666667,
          8.0905,
          8.318999999999999,
          7.971666666666667,
          8.019333333333334,
          8.065833333333332,
          8.05675,
          8.161,
          8.147,
          8.214916666666666,
          8.293333333333335,
          8.177999999999999,
          8.396333333333333,
          8.501583333333333,
          8.541916666666665,
          8.304416666666667,
          8.220166666666668,
          8.090916666666667,
          8.225166666666665,
          8.379083333333332,
          7.947166666666667,
          8.186083333333334,
          8.17825,
          8.223,
          8.177000000000001,
          8.165416666666667,
          8.297749999999999,
          8.5905,
          8.593166666666665,
          8.22525,
          8.023333333333332,
          8.130833333333332,
          8.38225,
          8.35875,
          8.571,
          8.408,
          8.422166666666666,
          8.506833333333335,
          8.534416666666667,
          8.728833333333332,
          8.522083333333333,
          8.632166666666668,
          8.242416666666665,
          8.633583333333332,
          8.71925,
          8.705250000000001,
          8.33825,
          8.628333333333336,
          8.51575,
          8.554,
          8.698333333333332,
          8.863666666666667,
          8.760333333333334,
          8.764666666666667,
          8.768666666666668,
          8.728416666666666,
          8.755083333333333,
          8.845,
          8.584833333333332,
          8.676916666666669,
          8.797083333333333,
          8.74675,
          8.586749999999999,
          8.365250000000001,
          8.625666666666666,
          8.638250000000001,
          8.873750000000001,
          8.560666666666666,
          8.62625,
          8.279583333333333,
          8.7325,
          8.77375,
          8.732666666666665,
          8.58375,
          8.797666666666666,
          8.745916666666666,
          8.856,
          8.409666666666666,
          8.527416666666667,
          8.599333333333332,
          8.700083333333334,
          8.516333333333334,
          8.595083333333333,
          8.700916666666666,
          8.59925,
          8.499583333333334,
          8.948249999999998,
          8.4675,
          8.744833333333334,
          8.347249999999999,
          8.850249999999999,
          8.692749999999998,
          8.733416666666665,
          8.980333333333332,
          9.165833333333333,
          8.639166666666666,
          9.028166666666666,
          8.691833333333335,
          8.658,
          8.833583333333332,
          8.994416666666668,
          9.201583333333334,
          8.922000000000002,
          9.234166666666667,
          9.179416666666667,
          8.836583333333332,
          8.866583333333333,
          9.038749999999999,
          9.347083333333332,
          9.038916666666667,
          9.202583333333333,
          9.522666666666666,
          9.285083333333333,
          9.201166666666667,
          9.414583333333335,
          9.570416666666667,
          9.525583333333334,
          9.324583333333333,
          9.700916666666666,
          9.532499999999999,
          9.732166666666666,
          9.431750000000001,
          9.505250000000002,
          9.703083333333332,
          9.516,
          9.507333333333333,
          9.606499999999999,
          9.570666666666666,
          9.830999999999998
         ],
         "yaxis": "y"
        },
        {
         "hovertemplate": "variable=Uncertainity Top<br>years=%{x}<br>value=%{y}<extra></extra>",
         "legendgroup": "Uncertainity Top",
         "line": {
          "color": "#EF553B",
          "dash": "solid"
         },
         "mode": "lines",
         "name": "Uncertainity Top",
         "orientation": "v",
         "showlegend": true,
         "type": "scatter",
         "x": [
          "1750",
          "1751",
          "1752",
          "1753",
          "1754",
          "1755",
          "1756",
          "1757",
          "1758",
          "1759",
          "1760",
          "1761",
          "1762",
          "1763",
          "1764",
          "1765",
          "1766",
          "1767",
          "1768",
          "1769",
          "1770",
          "1771",
          "1772",
          "1773",
          "1774",
          "1775",
          "1776",
          "1777",
          "1778",
          "1779",
          "1780",
          "1781",
          "1782",
          "1783",
          "1784",
          "1785",
          "1786",
          "1787",
          "1788",
          "1789",
          "1790",
          "1791",
          "1792",
          "1793",
          "1794",
          "1795",
          "1796",
          "1797",
          "1798",
          "1799",
          "1800",
          "1801",
          "1802",
          "1803",
          "1804",
          "1805",
          "1806",
          "1807",
          "1808",
          "1809",
          "1810",
          "1811",
          "1812",
          "1813",
          "1814",
          "1815",
          "1816",
          "1817",
          "1818",
          "1819",
          "1820",
          "1821",
          "1822",
          "1823",
          "1824",
          "1825",
          "1826",
          "1827",
          "1828",
          "1829",
          "1830",
          "1831",
          "1832",
          "1833",
          "1834",
          "1835",
          "1836",
          "1837",
          "1838",
          "1839",
          "1840",
          "1841",
          "1842",
          "1843",
          "1844",
          "1845",
          "1846",
          "1847",
          "1848",
          "1849",
          "1850",
          "1851",
          "1852",
          "1853",
          "1854",
          "1855",
          "1856",
          "1857",
          "1858",
          "1859",
          "1860",
          "1861",
          "1862",
          "1863",
          "1864",
          "1865",
          "1866",
          "1867",
          "1868",
          "1869",
          "1870",
          "1871",
          "1872",
          "1873",
          "1874",
          "1875",
          "1876",
          "1877",
          "1878",
          "1879",
          "1880",
          "1881",
          "1882",
          "1883",
          "1884",
          "1885",
          "1886",
          "1887",
          "1888",
          "1889",
          "1890",
          "1891",
          "1892",
          "1893",
          "1894",
          "1895",
          "1896",
          "1897",
          "1898",
          "1899",
          "1900",
          "1901",
          "1902",
          "1903",
          "1904",
          "1905",
          "1906",
          "1907",
          "1908",
          "1909",
          "1910",
          "1911",
          "1912",
          "1913",
          "1914",
          "1915",
          "1916",
          "1917",
          "1918",
          "1919",
          "1920",
          "1921",
          "1922",
          "1923",
          "1924",
          "1925",
          "1926",
          "1927",
          "1928",
          "1929",
          "1930",
          "1931",
          "1932",
          "1933",
          "1934",
          "1935",
          "1936",
          "1937",
          "1938",
          "1939",
          "1940",
          "1941",
          "1942",
          "1943",
          "1944",
          "1945",
          "1946",
          "1947",
          "1948",
          "1949",
          "1950",
          "1951",
          "1952",
          "1953",
          "1954",
          "1955",
          "1956",
          "1957",
          "1958",
          "1959",
          "1960",
          "1961",
          "1962",
          "1963",
          "1964",
          "1965",
          "1966",
          "1967",
          "1968",
          "1969",
          "1970",
          "1971",
          "1972",
          "1973",
          "1974",
          "1975",
          "1976",
          "1977",
          "1978",
          "1979",
          "1980",
          "1981",
          "1982",
          "1983",
          "1984",
          "1985",
          "1986",
          "1987",
          "1988",
          "1989",
          "1990",
          "1991",
          "1992",
          "1993",
          "1994",
          "1995",
          "1996",
          "1997",
          "1998",
          "1999",
          "2000",
          "2001",
          "2002",
          "2003",
          "2004",
          "2005",
          "2006",
          "2007",
          "2008",
          "2009",
          "2010",
          "2011",
          "2012",
          "2013",
          "2014",
          "2015"
         ],
         "xaxis": "x",
         "y": [
          11.357181818181818,
          10.757285714285715,
          8.756833333333333,
          11.564083333333333,
          11.963583333333336,
          12.205916666666667,
          12.111916666666668,
          13.048000000000002,
          10.1065,
          11.664,
          10.274083333333333,
          11.917333333333332,
          12.130750000000003,
          10.648333333333332,
          11.175583333333332,
          10.679666666666666,
          11.2415,
          11.184166666666666,
          9.047333333333334,
          10.104666666666667,
          10.472583333333333,
          10.45775,
          10.657333333333334,
          10.58225,
          12.187333333333331,
          11.503666666666668,
          11.168166666666668,
          10.699083333333334,
          11.41475,
          11.489083333333333,
          12.017750000000001,
          10.606416666666664,
          10.451833333333331,
          10.17525,
          10.117666666666668,
          9.6025,
          10.783583333333333,
          10.393583333333334,
          11.005,
          10.202833333333333,
          9.754,
          10.017999999999999,
          9.789416666666668,
          10.503583333333331,
          10.505,
          10.393666666666666,
          10.191666666666666,
          10.556250000000002,
          10.573583333333335,
          10.244166666666665,
          10.202916666666669,
          10.171333333333335,
          10.427166666666666,
          10.136166666666666,
          10.686666666666667,
          10.251666666666665,
          10.004166666666665,
          9.873666666666665,
          9.623666666666665,
          9.211833333333333,
          9.233666666666664,
          8.955250000000001,
          9.181833333333334,
          9.448750000000002,
          9.760250000000001,
          9.205833333333334,
          9.130416666666667,
          8.684000000000001,
          9.658000000000001,
          8.951083333333335,
          9.235,
          9.465916666666665,
          9.563583333333334,
          9.080916666666665,
          9.995000000000001,
          9.897166666666667,
          9.916166666666669,
          10.25233333333333,
          9.81375,
          9.261583333333332,
          9.948166666666667,
          9.170666666666667,
          8.990583333333333,
          9.2465,
          9.299000000000001,
          8.667833333333332,
          8.86525,
          8.666583333333334,
          8.677249999999999,
          8.811666666666666,
          8.787416666666667,
          8.640166666666666,
          8.92025,
          8.9235,
          8.572333333333333,
          8.732666666666667,
          9.6045,
          8.986666666666666,
          8.850833333333334,
          8.898,
          8.777083333333334,
          9.0605,
          9.018416666666665,
          8.876833333333334,
          9.036166666666666,
          8.997916666666665,
          8.756666666666666,
          8.509250000000002,
          8.8,
          8.926666666666668,
          8.586833333333333,
          8.499916666666667,
          8.247500000000002,
          8.859833333333333,
          8.660000000000002,
          8.84,
          8.898166666666665,
          9.071166666666667,
          8.79425,
          9.02775,
          8.751499999999998,
          8.685333333333332,
          8.782916666666665,
          8.901583333333333,
          8.951416666666667,
          8.311083333333334,
          8.513583333333333,
          8.9955,
          9.254666666666665,
          8.62925,
          8.533666666666665,
          8.69025,
          8.508833333333333,
          8.347583333333333,
          8.169916666666667,
          8.344666666666669,
          8.340499999999999,
          8.307,
          8.472916666666666,
          8.688833333333333,
          8.314666666666668,
          8.354666666666667,
          8.404666666666666,
          8.402,
          8.47825,
          8.446250000000001,
          8.52375,
          8.607166666666668,
          8.503666666666666,
          8.721083333333333,
          8.816333333333333,
          8.848166666666666,
          8.597166666666666,
          8.510166666666667,
          8.377333333333333,
          8.503916666666665,
          8.653999999999998,
          8.204333333333334,
          8.460833333333333,
          8.441,
          8.483083333333335,
          8.424833333333336,
          8.423833333333334,
          8.559999999999999,
          8.842416666666667,
          8.839333333333332,
          8.485666666666667,
          8.283999999999999,
          8.399083333333332,
          8.649000000000001,
          8.621416666666667,
          8.827833333333333,
          8.666583333333334,
          8.675249999999998,
          8.763666666666667,
          8.775166666666667,
          8.971499999999999,
          8.770999999999999,
          8.88075,
          8.494166666666665,
          8.873249999999999,
          8.957,
          8.954166666666667,
          8.580916666666667,
          8.868416666666668,
          8.751666666666667,
          8.797083333333333,
          8.938416666666665,
          9.104166666666668,
          8.997666666666667,
          8.995750000000001,
          8.996500000000001,
          8.957916666666666,
          8.981666666666667,
          9.070166666666667,
          8.805166666666665,
          8.899333333333335,
          9.014166666666666,
          8.956333333333333,
          8.794999999999998,
          8.551583333333335,
          8.809833333333332,
          8.847000000000001,
          9.085833333333335,
          8.747833333333332,
          8.779833333333334,
          8.400416666666667,
          8.8905,
          8.878083333333333,
          8.839833333333331,
          8.67725,
          8.894666666666666,
          8.878833333333333,
          8.948333333333332,
          8.502166666666666,
          8.63625,
          8.691583333333332,
          8.78375,
          8.628,
          8.68025,
          8.776499999999999,
          8.697166666666666,
          8.594916666666666,
          9.048999999999998,
          8.572,
          8.841916666666668,
          8.447833333333332,
          8.934916666666666,
          8.796583333333333,
          8.819833333333332,
          9.087,
          9.253083333333333,
          8.721833333333333,
          9.122166666666665,
          8.794416666666669,
          8.751249999999999,
          8.918583333333332,
          9.079583333333334,
          9.281666666666666,
          9.010000000000002,
          9.320500000000001,
          9.2415,
          8.919916666666666,
          8.947916666666666,
          9.109666666666666,
          9.423499999999999,
          9.123666666666667,
          9.291166666666667,
          9.596583333333333,
          9.364333333333333,
          9.284666666666668,
          9.502,
          9.642833333333334,
          9.61625,
          9.408,
          9.776083333333332,
          9.622499999999999,
          9.821666666666665,
          9.510666666666667,
          9.591166666666668,
          9.786499999999998,
          9.598,
          9.59075,
          9.704166666666666,
          9.660833333333333,
          9.923166666666665
         ],
         "yaxis": "y"
        },
        {
         "hovertemplate": "variable=Uncertainty Bottom<br>years=%{x}<br>value=%{y}<extra></extra>",
         "legendgroup": "Uncertainty Bottom",
         "line": {
          "color": "#00cc96",
          "dash": "solid"
         },
         "mode": "lines",
         "name": "Uncertainty Bottom",
         "orientation": "v",
         "showlegend": true,
         "type": "scatter",
         "x": [
          "1750",
          "1751",
          "1752",
          "1753",
          "1754",
          "1755",
          "1756",
          "1757",
          "1758",
          "1759",
          "1760",
          "1761",
          "1762",
          "1763",
          "1764",
          "1765",
          "1766",
          "1767",
          "1768",
          "1769",
          "1770",
          "1771",
          "1772",
          "1773",
          "1774",
          "1775",
          "1776",
          "1777",
          "1778",
          "1779",
          "1780",
          "1781",
          "1782",
          "1783",
          "1784",
          "1785",
          "1786",
          "1787",
          "1788",
          "1789",
          "1790",
          "1791",
          "1792",
          "1793",
          "1794",
          "1795",
          "1796",
          "1797",
          "1798",
          "1799",
          "1800",
          "1801",
          "1802",
          "1803",
          "1804",
          "1805",
          "1806",
          "1807",
          "1808",
          "1809",
          "1810",
          "1811",
          "1812",
          "1813",
          "1814",
          "1815",
          "1816",
          "1817",
          "1818",
          "1819",
          "1820",
          "1821",
          "1822",
          "1823",
          "1824",
          "1825",
          "1826",
          "1827",
          "1828",
          "1829",
          "1830",
          "1831",
          "1832",
          "1833",
          "1834",
          "1835",
          "1836",
          "1837",
          "1838",
          "1839",
          "1840",
          "1841",
          "1842",
          "1843",
          "1844",
          "1845",
          "1846",
          "1847",
          "1848",
          "1849",
          "1850",
          "1851",
          "1852",
          "1853",
          "1854",
          "1855",
          "1856",
          "1857",
          "1858",
          "1859",
          "1860",
          "1861",
          "1862",
          "1863",
          "1864",
          "1865",
          "1866",
          "1867",
          "1868",
          "1869",
          "1870",
          "1871",
          "1872",
          "1873",
          "1874",
          "1875",
          "1876",
          "1877",
          "1878",
          "1879",
          "1880",
          "1881",
          "1882",
          "1883",
          "1884",
          "1885",
          "1886",
          "1887",
          "1888",
          "1889",
          "1890",
          "1891",
          "1892",
          "1893",
          "1894",
          "1895",
          "1896",
          "1897",
          "1898",
          "1899",
          "1900",
          "1901",
          "1902",
          "1903",
          "1904",
          "1905",
          "1906",
          "1907",
          "1908",
          "1909",
          "1910",
          "1911",
          "1912",
          "1913",
          "1914",
          "1915",
          "1916",
          "1917",
          "1918",
          "1919",
          "1920",
          "1921",
          "1922",
          "1923",
          "1924",
          "1925",
          "1926",
          "1927",
          "1928",
          "1929",
          "1930",
          "1931",
          "1932",
          "1933",
          "1934",
          "1935",
          "1936",
          "1937",
          "1938",
          "1939",
          "1940",
          "1941",
          "1942",
          "1943",
          "1944",
          "1945",
          "1946",
          "1947",
          "1948",
          "1949",
          "1950",
          "1951",
          "1952",
          "1953",
          "1954",
          "1955",
          "1956",
          "1957",
          "1958",
          "1959",
          "1960",
          "1961",
          "1962",
          "1963",
          "1964",
          "1965",
          "1966",
          "1967",
          "1968",
          "1969",
          "1970",
          "1971",
          "1972",
          "1973",
          "1974",
          "1975",
          "1976",
          "1977",
          "1978",
          "1979",
          "1980",
          "1981",
          "1982",
          "1983",
          "1984",
          "1985",
          "1986",
          "1987",
          "1988",
          "1989",
          "1990",
          "1991",
          "1992",
          "1993",
          "1994",
          "1995",
          "1996",
          "1997",
          "1998",
          "1999",
          "2000",
          "2001",
          "2002",
          "2003",
          "2004",
          "2005",
          "2006",
          "2007",
          "2008",
          "2009",
          "2010",
          "2011",
          "2012",
          "2013",
          "2014",
          "2015"
         ],
         "xaxis": "x",
         "y": [
          6.081545454545456,
          5.194999999999999,
          2.8028333333333326,
          5.212083333333332,
          4.975083333333334,
          4.50525,
          5.587249999999999,
          4.9959999999999996,
          3.3806666666666665,
          4.306166666666666,
          4.096250000000001,
          5.627666666666666,
          5.082250000000002,
          4.345166666666666,
          5.6250833333333325,
          5.824166666666666,
          5.569833333333333,
          5.258833333333332,
          4.515333333333333,
          5.284500000000001,
          4.91125,
          5.248583333333334,
          5.729666666666667,
          5.860750000000001,
          5.356999999999999,
          6.862500000000001,
          5.439833333333333,
          5.813416666666669,
          5.669749999999999,
          6.477416666666667,
          6.848083333333333,
          5.598749999999998,
          5.350666666666665,
          5.186416666666666,
          5.6063333333333345,
          5.1235,
          5.732749999999999,
          5.6700833333333325,
          5.889333333333335,
          6.4655,
          6.210666666666667,
          6.450499999999999,
          6.388583333333334,
          5.95475,
          6.5470000000000015,
          6.307,
          6.3503333333333325,
          6.464916666666667,
          6.766916666666668,
          6.767333333333332,
          6.765583333333335,
          7.008000000000001,
          6.729166666666666,
          6.869833333333333,
          7.003,
          6.873833333333333,
          6.863999999999998,
          6.689166666666665,
          5.63,
          4.941000000000001,
          4.611666666666666,
          4.76375,
          4.910666666666668,
          6.031083333333335,
          5.4232499999999995,
          5.272833333333334,
          4.744583333333333,
          5.267333333333335,
          5.999833333333334,
          5.787250000000001,
          5.997499999999998,
          6.714249999999999,
          6.813083333333334,
          6.356416666666664,
          7.099333333333334,
          6.8815,
          6.7970000000000015,
          7.365166666666664,
          6.516916666666668,
          6.622083333333332,
          7.085333333333334,
          6.107666666666667,
          5.909750000000001,
          6.7795,
          6.994500000000001,
          6.117166666666666,
          6.526416666666667,
          6.0847500000000005,
          6.352583333333332,
          6.4528333333333325,
          6.805083333333334,
          6.736166666666667,
          7.12525,
          7.423833333333334,
          6.7203333333333335,
          6.969666666666668,
          7.5009999999999994,
          7.185333333333333,
          7.108166666666667,
          7.070833333333334,
          7.024249999999999,
          7.296666666666665,
          7.181916666666664,
          7.206833333333333,
          7.384833333333333,
          7.223583333333331,
          7.235166666666666,
          7.007083333333334,
          7.400500000000001,
          7.577333333333334,
          7.334833333333333,
          7.193083333333335,
          6.869666666666668,
          7.363833333333333,
          7.307166666666668,
          7.515666666666667,
          7.686166666666665,
          7.801500000000001,
          7.701583333333334,
          7.836416666666667,
          7.651166666666666,
          7.544833333333333,
          7.604749999999998,
          7.800583333333334,
          7.915583333333334,
          7.408083333333334,
          7.646583333333333,
          8.083666666666666,
          8.404833333333332,
          7.702416666666667,
          7.703833333333332,
          7.851583333333333,
          7.7490000000000006,
          7.60625,
          7.377416666666667,
          7.494666666666668,
          7.5684999999999985,
          7.522833333333333,
          7.708083333333334,
          7.949166666666666,
          7.628666666666667,
          7.684,
          7.7269999999999985,
          7.711499999999999,
          7.84375,
          7.8477500000000004,
          7.906083333333332,
          7.979500000000002,
          7.852333333333332,
          8.071583333333333,
          8.186833333333333,
          8.235666666666665,
          8.011666666666667,
          7.9301666666666675,
          7.8045,
          7.946416666666665,
          8.104166666666666,
          7.69,
          7.911333333333334,
          7.915500000000001,
          7.9629166666666675,
          7.929166666666668,
          7.907000000000001,
          8.035499999999999,
          8.338583333333334,
          8.346999999999998,
          7.964833333333334,
          7.762666666666665,
          7.8625833333333315,
          8.1155,
          8.096083333333334,
          8.314166666666667,
          8.149416666666665,
          8.169083333333333,
          8.250000000000002,
          8.293666666666667,
          8.486166666666666,
          8.273166666666667,
          8.383583333333336,
          7.990666666666665,
          8.393916666666666,
          8.4815,
          8.456333333333335,
          8.095583333333334,
          8.388250000000003,
          8.279833333333334,
          8.310916666666667,
          8.45825,
          8.623166666666666,
          8.523,
          8.533583333333333,
          8.540833333333335,
          8.498916666666666,
          8.5285,
          8.619833333333334,
          8.3645,
          8.454500000000003,
          8.58,
          8.537166666666668,
          8.378499999999999,
          8.178916666666668,
          8.4415,
          8.4295,
          8.661666666666667,
          8.3735,
          8.472666666666667,
          8.15875,
          8.5745,
          8.669416666666667,
          8.625499999999999,
          8.49025,
          8.700666666666667,
          8.613,
          8.763666666666667,
          8.317166666666667,
          8.418583333333334,
          8.507083333333332,
          8.616416666666668,
          8.404666666666667,
          8.509916666666667,
          8.625333333333334,
          8.501333333333333,
          8.404250000000001,
          8.847499999999998,
          8.363,
          8.64775,
          8.246666666666666,
          8.765583333333332,
          8.588916666666664,
          8.646999999999998,
          8.873666666666665,
          9.078583333333334,
          8.5565,
          8.934166666666666,
          8.589250000000002,
          8.56475,
          8.74858333333333,
          8.909250000000002,
          9.121500000000001,
          8.834000000000003,
          9.147833333333333,
          9.117333333333333,
          8.753249999999998,
          8.78525,
          8.967833333333331,
          9.270666666666665,
          8.954166666666667,
          9.113999999999999,
          9.448749999999999,
          9.205833333333333,
          9.117666666666667,
          9.327166666666669,
          9.498,
          9.434916666666666,
          9.241166666666667,
          9.62575,
          9.442499999999999,
          9.642666666666667,
          9.352833333333335,
          9.419333333333336,
          9.619666666666665,
          9.434,
          9.423916666666667,
          9.508833333333332,
          9.4805,
          9.73883333333333
         ],
         "yaxis": "y"
        }
       ],
       "layout": {
        "legend": {
         "title": {
          "text": "variable"
         },
         "tracegroupgap": 0
        },
        "template": {
         "data": {
          "bar": [
           {
            "error_x": {
             "color": "#2a3f5f"
            },
            "error_y": {
             "color": "#2a3f5f"
            },
            "marker": {
             "line": {
              "color": "#E5ECF6",
              "width": 0.5
             }
            },
            "type": "bar"
           }
          ],
          "barpolar": [
           {
            "marker": {
             "line": {
              "color": "#E5ECF6",
              "width": 0.5
             }
            },
            "type": "barpolar"
           }
          ],
          "carpet": [
           {
            "aaxis": {
             "endlinecolor": "#2a3f5f",
             "gridcolor": "white",
             "linecolor": "white",
             "minorgridcolor": "white",
             "startlinecolor": "#2a3f5f"
            },
            "baxis": {
             "endlinecolor": "#2a3f5f",
             "gridcolor": "white",
             "linecolor": "white",
             "minorgridcolor": "white",
             "startlinecolor": "#2a3f5f"
            },
            "type": "carpet"
           }
          ],
          "choropleth": [
           {
            "colorbar": {
             "outlinewidth": 0,
             "ticks": ""
            },
            "type": "choropleth"
           }
          ],
          "contour": [
           {
            "colorbar": {
             "outlinewidth": 0,
             "ticks": ""
            },
            "colorscale": [
             [
              0,
              "#0d0887"
             ],
             [
              0.1111111111111111,
              "#46039f"
             ],
             [
              0.2222222222222222,
              "#7201a8"
             ],
             [
              0.3333333333333333,
              "#9c179e"
             ],
             [
              0.4444444444444444,
              "#bd3786"
             ],
             [
              0.5555555555555556,
              "#d8576b"
             ],
             [
              0.6666666666666666,
              "#ed7953"
             ],
             [
              0.7777777777777778,
              "#fb9f3a"
             ],
             [
              0.8888888888888888,
              "#fdca26"
             ],
             [
              1,
              "#f0f921"
             ]
            ],
            "type": "contour"
           }
          ],
          "contourcarpet": [
           {
            "colorbar": {
             "outlinewidth": 0,
             "ticks": ""
            },
            "type": "contourcarpet"
           }
          ],
          "heatmap": [
           {
            "colorbar": {
             "outlinewidth": 0,
             "ticks": ""
            },
            "colorscale": [
             [
              0,
              "#0d0887"
             ],
             [
              0.1111111111111111,
              "#46039f"
             ],
             [
              0.2222222222222222,
              "#7201a8"
             ],
             [
              0.3333333333333333,
              "#9c179e"
             ],
             [
              0.4444444444444444,
              "#bd3786"
             ],
             [
              0.5555555555555556,
              "#d8576b"
             ],
             [
              0.6666666666666666,
              "#ed7953"
             ],
             [
              0.7777777777777778,
              "#fb9f3a"
             ],
             [
              0.8888888888888888,
              "#fdca26"
             ],
             [
              1,
              "#f0f921"
             ]
            ],
            "type": "heatmap"
           }
          ],
          "heatmapgl": [
           {
            "colorbar": {
             "outlinewidth": 0,
             "ticks": ""
            },
            "colorscale": [
             [
              0,
              "#0d0887"
             ],
             [
              0.1111111111111111,
              "#46039f"
             ],
             [
              0.2222222222222222,
              "#7201a8"
             ],
             [
              0.3333333333333333,
              "#9c179e"
             ],
             [
              0.4444444444444444,
              "#bd3786"
             ],
             [
              0.5555555555555556,
              "#d8576b"
             ],
             [
              0.6666666666666666,
              "#ed7953"
             ],
             [
              0.7777777777777778,
              "#fb9f3a"
             ],
             [
              0.8888888888888888,
              "#fdca26"
             ],
             [
              1,
              "#f0f921"
             ]
            ],
            "type": "heatmapgl"
           }
          ],
          "histogram": [
           {
            "marker": {
             "colorbar": {
              "outlinewidth": 0,
              "ticks": ""
             }
            },
            "type": "histogram"
           }
          ],
          "histogram2d": [
           {
            "colorbar": {
             "outlinewidth": 0,
             "ticks": ""
            },
            "colorscale": [
             [
              0,
              "#0d0887"
             ],
             [
              0.1111111111111111,
              "#46039f"
             ],
             [
              0.2222222222222222,
              "#7201a8"
             ],
             [
              0.3333333333333333,
              "#9c179e"
             ],
             [
              0.4444444444444444,
              "#bd3786"
             ],
             [
              0.5555555555555556,
              "#d8576b"
             ],
             [
              0.6666666666666666,
              "#ed7953"
             ],
             [
              0.7777777777777778,
              "#fb9f3a"
             ],
             [
              0.8888888888888888,
              "#fdca26"
             ],
             [
              1,
              "#f0f921"
             ]
            ],
            "type": "histogram2d"
           }
          ],
          "histogram2dcontour": [
           {
            "colorbar": {
             "outlinewidth": 0,
             "ticks": ""
            },
            "colorscale": [
             [
              0,
              "#0d0887"
             ],
             [
              0.1111111111111111,
              "#46039f"
             ],
             [
              0.2222222222222222,
              "#7201a8"
             ],
             [
              0.3333333333333333,
              "#9c179e"
             ],
             [
              0.4444444444444444,
              "#bd3786"
             ],
             [
              0.5555555555555556,
              "#d8576b"
             ],
             [
              0.6666666666666666,
              "#ed7953"
             ],
             [
              0.7777777777777778,
              "#fb9f3a"
             ],
             [
              0.8888888888888888,
              "#fdca26"
             ],
             [
              1,
              "#f0f921"
             ]
            ],
            "type": "histogram2dcontour"
           }
          ],
          "mesh3d": [
           {
            "colorbar": {
             "outlinewidth": 0,
             "ticks": ""
            },
            "type": "mesh3d"
           }
          ],
          "parcoords": [
           {
            "line": {
             "colorbar": {
              "outlinewidth": 0,
              "ticks": ""
             }
            },
            "type": "parcoords"
           }
          ],
          "pie": [
           {
            "automargin": true,
            "type": "pie"
           }
          ],
          "scatter": [
           {
            "marker": {
             "colorbar": {
              "outlinewidth": 0,
              "ticks": ""
             }
            },
            "type": "scatter"
           }
          ],
          "scatter3d": [
           {
            "line": {
             "colorbar": {
              "outlinewidth": 0,
              "ticks": ""
             }
            },
            "marker": {
             "colorbar": {
              "outlinewidth": 0,
              "ticks": ""
             }
            },
            "type": "scatter3d"
           }
          ],
          "scattercarpet": [
           {
            "marker": {
             "colorbar": {
              "outlinewidth": 0,
              "ticks": ""
             }
            },
            "type": "scattercarpet"
           }
          ],
          "scattergeo": [
           {
            "marker": {
             "colorbar": {
              "outlinewidth": 0,
              "ticks": ""
             }
            },
            "type": "scattergeo"
           }
          ],
          "scattergl": [
           {
            "marker": {
             "colorbar": {
              "outlinewidth": 0,
              "ticks": ""
             }
            },
            "type": "scattergl"
           }
          ],
          "scattermapbox": [
           {
            "marker": {
             "colorbar": {
              "outlinewidth": 0,
              "ticks": ""
             }
            },
            "type": "scattermapbox"
           }
          ],
          "scatterpolar": [
           {
            "marker": {
             "colorbar": {
              "outlinewidth": 0,
              "ticks": ""
             }
            },
            "type": "scatterpolar"
           }
          ],
          "scatterpolargl": [
           {
            "marker": {
             "colorbar": {
              "outlinewidth": 0,
              "ticks": ""
             }
            },
            "type": "scatterpolargl"
           }
          ],
          "scatterternary": [
           {
            "marker": {
             "colorbar": {
              "outlinewidth": 0,
              "ticks": ""
             }
            },
            "type": "scatterternary"
           }
          ],
          "surface": [
           {
            "colorbar": {
             "outlinewidth": 0,
             "ticks": ""
            },
            "colorscale": [
             [
              0,
              "#0d0887"
             ],
             [
              0.1111111111111111,
              "#46039f"
             ],
             [
              0.2222222222222222,
              "#7201a8"
             ],
             [
              0.3333333333333333,
              "#9c179e"
             ],
             [
              0.4444444444444444,
              "#bd3786"
             ],
             [
              0.5555555555555556,
              "#d8576b"
             ],
             [
              0.6666666666666666,
              "#ed7953"
             ],
             [
              0.7777777777777778,
              "#fb9f3a"
             ],
             [
              0.8888888888888888,
              "#fdca26"
             ],
             [
              1,
              "#f0f921"
             ]
            ],
            "type": "surface"
           }
          ],
          "table": [
           {
            "cells": {
             "fill": {
              "color": "#EBF0F8"
             },
             "line": {
              "color": "white"
             }
            },
            "header": {
             "fill": {
              "color": "#C8D4E3"
             },
             "line": {
              "color": "white"
             }
            },
            "type": "table"
           }
          ]
         },
         "layout": {
          "annotationdefaults": {
           "arrowcolor": "#2a3f5f",
           "arrowhead": 0,
           "arrowwidth": 1
          },
          "autotypenumbers": "strict",
          "coloraxis": {
           "colorbar": {
            "outlinewidth": 0,
            "ticks": ""
           }
          },
          "colorscale": {
           "diverging": [
            [
             0,
             "#8e0152"
            ],
            [
             0.1,
             "#c51b7d"
            ],
            [
             0.2,
             "#de77ae"
            ],
            [
             0.3,
             "#f1b6da"
            ],
            [
             0.4,
             "#fde0ef"
            ],
            [
             0.5,
             "#f7f7f7"
            ],
            [
             0.6,
             "#e6f5d0"
            ],
            [
             0.7,
             "#b8e186"
            ],
            [
             0.8,
             "#7fbc41"
            ],
            [
             0.9,
             "#4d9221"
            ],
            [
             1,
             "#276419"
            ]
           ],
           "sequential": [
            [
             0,
             "#0d0887"
            ],
            [
             0.1111111111111111,
             "#46039f"
            ],
            [
             0.2222222222222222,
             "#7201a8"
            ],
            [
             0.3333333333333333,
             "#9c179e"
            ],
            [
             0.4444444444444444,
             "#bd3786"
            ],
            [
             0.5555555555555556,
             "#d8576b"
            ],
            [
             0.6666666666666666,
             "#ed7953"
            ],
            [
             0.7777777777777778,
             "#fb9f3a"
            ],
            [
             0.8888888888888888,
             "#fdca26"
            ],
            [
             1,
             "#f0f921"
            ]
           ],
           "sequentialminus": [
            [
             0,
             "#0d0887"
            ],
            [
             0.1111111111111111,
             "#46039f"
            ],
            [
             0.2222222222222222,
             "#7201a8"
            ],
            [
             0.3333333333333333,
             "#9c179e"
            ],
            [
             0.4444444444444444,
             "#bd3786"
            ],
            [
             0.5555555555555556,
             "#d8576b"
            ],
            [
             0.6666666666666666,
             "#ed7953"
            ],
            [
             0.7777777777777778,
             "#fb9f3a"
            ],
            [
             0.8888888888888888,
             "#fdca26"
            ],
            [
             1,
             "#f0f921"
            ]
           ]
          },
          "colorway": [
           "#636efa",
           "#EF553B",
           "#00cc96",
           "#ab63fa",
           "#FFA15A",
           "#19d3f3",
           "#FF6692",
           "#B6E880",
           "#FF97FF",
           "#FECB52"
          ],
          "font": {
           "color": "#2a3f5f"
          },
          "geo": {
           "bgcolor": "white",
           "lakecolor": "white",
           "landcolor": "#E5ECF6",
           "showlakes": true,
           "showland": true,
           "subunitcolor": "white"
          },
          "hoverlabel": {
           "align": "left"
          },
          "hovermode": "closest",
          "mapbox": {
           "style": "light"
          },
          "paper_bgcolor": "white",
          "plot_bgcolor": "#E5ECF6",
          "polar": {
           "angularaxis": {
            "gridcolor": "white",
            "linecolor": "white",
            "ticks": ""
           },
           "bgcolor": "#E5ECF6",
           "radialaxis": {
            "gridcolor": "white",
            "linecolor": "white",
            "ticks": ""
           }
          },
          "scene": {
           "xaxis": {
            "backgroundcolor": "#E5ECF6",
            "gridcolor": "white",
            "gridwidth": 2,
            "linecolor": "white",
            "showbackground": true,
            "ticks": "",
            "zerolinecolor": "white"
           },
           "yaxis": {
            "backgroundcolor": "#E5ECF6",
            "gridcolor": "white",
            "gridwidth": 2,
            "linecolor": "white",
            "showbackground": true,
            "ticks": "",
            "zerolinecolor": "white"
           },
           "zaxis": {
            "backgroundcolor": "#E5ECF6",
            "gridcolor": "white",
            "gridwidth": 2,
            "linecolor": "white",
            "showbackground": true,
            "ticks": "",
            "zerolinecolor": "white"
           }
          },
          "shapedefaults": {
           "line": {
            "color": "#2a3f5f"
           }
          },
          "ternary": {
           "aaxis": {
            "gridcolor": "white",
            "linecolor": "white",
            "ticks": ""
           },
           "baxis": {
            "gridcolor": "white",
            "linecolor": "white",
            "ticks": ""
           },
           "bgcolor": "#E5ECF6",
           "caxis": {
            "gridcolor": "white",
            "linecolor": "white",
            "ticks": ""
           }
          },
          "title": {
           "x": 0.05
          },
          "xaxis": {
           "automargin": true,
           "gridcolor": "white",
           "linecolor": "white",
           "ticks": "",
           "title": {
            "standoff": 15
           },
           "zerolinecolor": "white",
           "zerolinewidth": 2
          },
          "yaxis": {
           "automargin": true,
           "gridcolor": "white",
           "linecolor": "white",
           "ticks": "",
           "title": {
            "standoff": 15
           },
           "zerolinecolor": "white",
           "zerolinewidth": 2
          }
         }
        },
        "title": {
         "text": "Average Temperature in World"
        },
        "xaxis": {
         "anchor": "y",
         "domain": [
          0,
          1
         ],
         "title": {
          "text": "years"
         }
        },
        "yaxis": {
         "anchor": "x",
         "domain": [
          0,
          1
         ],
         "title": {
          "text": "value"
         }
        }
       }
      },
      "text/html": [
       "<div>                            <div id=\"becfc95d-a8eb-4ca8-8f9c-d6934ed7d656\" class=\"plotly-graph-div\" style=\"height:525px; width:100%;\"></div>            <script type=\"text/javascript\">                require([\"plotly\"], function(Plotly) {                    window.PLOTLYENV=window.PLOTLYENV || {};                                    if (document.getElementById(\"becfc95d-a8eb-4ca8-8f9c-d6934ed7d656\")) {                    Plotly.newPlot(                        \"becfc95d-a8eb-4ca8-8f9c-d6934ed7d656\",                        [{\"hovertemplate\": \"variable=LandAverageTemperature<br>years=%{x}<br>value=%{y}<extra></extra>\", \"legendgroup\": \"LandAverageTemperature\", \"line\": {\"color\": \"#636efa\", \"dash\": \"solid\"}, \"mode\": \"lines\", \"name\": \"LandAverageTemperature\", \"orientation\": \"v\", \"showlegend\": true, \"type\": \"scatter\", \"x\": [\"1750\", \"1751\", \"1752\", \"1753\", \"1754\", \"1755\", \"1756\", \"1757\", \"1758\", \"1759\", \"1760\", \"1761\", \"1762\", \"1763\", \"1764\", \"1765\", \"1766\", \"1767\", \"1768\", \"1769\", \"1770\", \"1771\", \"1772\", \"1773\", \"1774\", \"1775\", \"1776\", \"1777\", \"1778\", \"1779\", \"1780\", \"1781\", \"1782\", \"1783\", \"1784\", \"1785\", \"1786\", \"1787\", \"1788\", \"1789\", \"1790\", \"1791\", \"1792\", \"1793\", \"1794\", \"1795\", \"1796\", \"1797\", \"1798\", \"1799\", \"1800\", \"1801\", \"1802\", \"1803\", \"1804\", \"1805\", \"1806\", \"1807\", \"1808\", \"1809\", \"1810\", \"1811\", \"1812\", \"1813\", \"1814\", \"1815\", \"1816\", \"1817\", \"1818\", \"1819\", \"1820\", \"1821\", \"1822\", \"1823\", \"1824\", \"1825\", \"1826\", \"1827\", \"1828\", \"1829\", \"1830\", \"1831\", \"1832\", \"1833\", \"1834\", \"1835\", \"1836\", \"1837\", \"1838\", \"1839\", \"1840\", \"1841\", \"1842\", \"1843\", \"1844\", \"1845\", \"1846\", \"1847\", \"1848\", \"1849\", \"1850\", \"1851\", \"1852\", \"1853\", \"1854\", \"1855\", \"1856\", \"1857\", \"1858\", \"1859\", \"1860\", \"1861\", \"1862\", \"1863\", \"1864\", \"1865\", \"1866\", \"1867\", \"1868\", \"1869\", \"1870\", \"1871\", \"1872\", \"1873\", \"1874\", \"1875\", \"1876\", \"1877\", \"1878\", \"1879\", \"1880\", \"1881\", \"1882\", \"1883\", \"1884\", \"1885\", \"1886\", \"1887\", \"1888\", \"1889\", \"1890\", \"1891\", \"1892\", \"1893\", \"1894\", \"1895\", \"1896\", \"1897\", \"1898\", \"1899\", \"1900\", \"1901\", \"1902\", \"1903\", \"1904\", \"1905\", \"1906\", \"1907\", \"1908\", \"1909\", \"1910\", \"1911\", \"1912\", \"1913\", \"1914\", \"1915\", \"1916\", \"1917\", \"1918\", \"1919\", \"1920\", \"1921\", \"1922\", \"1923\", \"1924\", \"1925\", \"1926\", \"1927\", \"1928\", \"1929\", \"1930\", \"1931\", \"1932\", \"1933\", \"1934\", \"1935\", \"1936\", \"1937\", \"1938\", \"1939\", \"1940\", \"1941\", \"1942\", \"1943\", \"1944\", \"1945\", \"1946\", \"1947\", \"1948\", \"1949\", \"1950\", \"1951\", \"1952\", \"1953\", \"1954\", \"1955\", \"1956\", \"1957\", \"1958\", \"1959\", \"1960\", \"1961\", \"1962\", \"1963\", \"1964\", \"1965\", \"1966\", \"1967\", \"1968\", \"1969\", \"1970\", \"1971\", \"1972\", \"1973\", \"1974\", \"1975\", \"1976\", \"1977\", \"1978\", \"1979\", \"1980\", \"1981\", \"1982\", \"1983\", \"1984\", \"1985\", \"1986\", \"1987\", \"1988\", \"1989\", \"1990\", \"1991\", \"1992\", \"1993\", \"1994\", \"1995\", \"1996\", \"1997\", \"1998\", \"1999\", \"2000\", \"2001\", \"2002\", \"2003\", \"2004\", \"2005\", \"2006\", \"2007\", \"2008\", \"2009\", \"2010\", \"2011\", \"2012\", \"2013\", \"2014\", \"2015\"], \"xaxis\": \"x\", \"y\": [8.719363636363637, 7.9761428571428565, 5.7798333333333325, 8.388083333333332, 8.469333333333335, 8.355583333333334, 8.849583333333333, 9.022, 6.7435833333333335, 7.985083333333333, 7.185166666666667, 8.772499999999999, 8.606500000000002, 7.496749999999999, 8.400333333333332, 8.251916666666666, 8.405666666666667, 8.221499999999999, 6.781333333333333, 7.694583333333334, 7.691916666666667, 7.8531666666666675, 8.1935, 8.2215, 8.772166666666665, 9.183083333333334, 8.304, 8.256250000000001, 8.54225, 8.98325, 9.432916666666667, 8.102583333333332, 7.901249999999998, 7.680833333333333, 7.862000000000001, 7.3629999999999995, 8.258166666666666, 8.031833333333333, 8.447166666666668, 8.334166666666667, 7.982333333333333, 8.23425, 8.089, 8.229166666666666, 8.526000000000002, 8.350333333333333, 8.270999999999999, 8.510583333333335, 8.670250000000001, 8.505749999999999, 8.484250000000001, 8.589666666666668, 8.578166666666666, 8.503, 8.844833333333334, 8.56275, 8.434083333333332, 8.281416666666665, 7.626833333333333, 7.076416666666667, 6.922666666666665, 6.859500000000001, 7.046250000000001, 7.7399166666666686, 7.59175, 7.239333333333334, 6.9375, 6.975666666666668, 7.828916666666667, 7.3691666666666675, 7.616249999999998, 8.090083333333332, 8.188333333333334, 7.718666666666665, 8.547166666666667, 8.389333333333333, 8.356583333333335, 8.808749999999998, 8.165333333333335, 7.941833333333332, 8.51675, 7.639166666666667, 7.450166666666667, 8.013, 8.14675, 7.392499999999999, 7.695833333333334, 7.3756666666666675, 7.514916666666665, 7.632249999999999, 7.796250000000001, 7.688166666666667, 8.02275, 8.173666666666668, 7.646333333333334, 7.851166666666668, 8.55275, 8.086, 7.979500000000001, 7.984416666666667, 7.900666666666666, 8.178583333333332, 8.100166666666665, 8.041833333333333, 8.2105, 8.110749999999998, 7.995916666666666, 7.758166666666668, 8.10025, 8.252, 7.960833333333333, 7.846500000000002, 7.558583333333335, 8.111833333333333, 7.983583333333335, 8.177833333333334, 8.292166666666665, 8.436333333333334, 8.247916666666667, 8.432083333333333, 8.201333333333332, 8.115083333333333, 8.193833333333332, 8.351083333333333, 8.4335, 7.859583333333334, 8.080083333333333, 8.539583333333333, 8.829749999999999, 8.165833333333333, 8.118749999999999, 8.270916666666666, 8.128916666666667, 7.976916666666667, 7.773666666666667, 7.919666666666668, 7.954499999999999, 7.914916666666667, 8.0905, 8.318999999999999, 7.971666666666667, 8.019333333333334, 8.065833333333332, 8.05675, 8.161, 8.147, 8.214916666666666, 8.293333333333335, 8.177999999999999, 8.396333333333333, 8.501583333333333, 8.541916666666665, 8.304416666666667, 8.220166666666668, 8.090916666666667, 8.225166666666665, 8.379083333333332, 7.947166666666667, 8.186083333333334, 8.17825, 8.223, 8.177000000000001, 8.165416666666667, 8.297749999999999, 8.5905, 8.593166666666665, 8.22525, 8.023333333333332, 8.130833333333332, 8.38225, 8.35875, 8.571, 8.408, 8.422166666666666, 8.506833333333335, 8.534416666666667, 8.728833333333332, 8.522083333333333, 8.632166666666668, 8.242416666666665, 8.633583333333332, 8.71925, 8.705250000000001, 8.33825, 8.628333333333336, 8.51575, 8.554, 8.698333333333332, 8.863666666666667, 8.760333333333334, 8.764666666666667, 8.768666666666668, 8.728416666666666, 8.755083333333333, 8.845, 8.584833333333332, 8.676916666666669, 8.797083333333333, 8.74675, 8.586749999999999, 8.365250000000001, 8.625666666666666, 8.638250000000001, 8.873750000000001, 8.560666666666666, 8.62625, 8.279583333333333, 8.7325, 8.77375, 8.732666666666665, 8.58375, 8.797666666666666, 8.745916666666666, 8.856, 8.409666666666666, 8.527416666666667, 8.599333333333332, 8.700083333333334, 8.516333333333334, 8.595083333333333, 8.700916666666666, 8.59925, 8.499583333333334, 8.948249999999998, 8.4675, 8.744833333333334, 8.347249999999999, 8.850249999999999, 8.692749999999998, 8.733416666666665, 8.980333333333332, 9.165833333333333, 8.639166666666666, 9.028166666666666, 8.691833333333335, 8.658, 8.833583333333332, 8.994416666666668, 9.201583333333334, 8.922000000000002, 9.234166666666667, 9.179416666666667, 8.836583333333332, 8.866583333333333, 9.038749999999999, 9.347083333333332, 9.038916666666667, 9.202583333333333, 9.522666666666666, 9.285083333333333, 9.201166666666667, 9.414583333333335, 9.570416666666667, 9.525583333333334, 9.324583333333333, 9.700916666666666, 9.532499999999999, 9.732166666666666, 9.431750000000001, 9.505250000000002, 9.703083333333332, 9.516, 9.507333333333333, 9.606499999999999, 9.570666666666666, 9.830999999999998], \"yaxis\": \"y\"}, {\"hovertemplate\": \"variable=Uncertainity Top<br>years=%{x}<br>value=%{y}<extra></extra>\", \"legendgroup\": \"Uncertainity Top\", \"line\": {\"color\": \"#EF553B\", \"dash\": \"solid\"}, \"mode\": \"lines\", \"name\": \"Uncertainity Top\", \"orientation\": \"v\", \"showlegend\": true, \"type\": \"scatter\", \"x\": [\"1750\", \"1751\", \"1752\", \"1753\", \"1754\", \"1755\", \"1756\", \"1757\", \"1758\", \"1759\", \"1760\", \"1761\", \"1762\", \"1763\", \"1764\", \"1765\", \"1766\", \"1767\", \"1768\", \"1769\", \"1770\", \"1771\", \"1772\", \"1773\", \"1774\", \"1775\", \"1776\", \"1777\", \"1778\", \"1779\", \"1780\", \"1781\", \"1782\", \"1783\", \"1784\", \"1785\", \"1786\", \"1787\", \"1788\", \"1789\", \"1790\", \"1791\", \"1792\", \"1793\", \"1794\", \"1795\", \"1796\", \"1797\", \"1798\", \"1799\", \"1800\", \"1801\", \"1802\", \"1803\", \"1804\", \"1805\", \"1806\", \"1807\", \"1808\", \"1809\", \"1810\", \"1811\", \"1812\", \"1813\", \"1814\", \"1815\", \"1816\", \"1817\", \"1818\", \"1819\", \"1820\", \"1821\", \"1822\", \"1823\", \"1824\", \"1825\", \"1826\", \"1827\", \"1828\", \"1829\", \"1830\", \"1831\", \"1832\", \"1833\", \"1834\", \"1835\", \"1836\", \"1837\", \"1838\", \"1839\", \"1840\", \"1841\", \"1842\", \"1843\", \"1844\", \"1845\", \"1846\", \"1847\", \"1848\", \"1849\", \"1850\", \"1851\", \"1852\", \"1853\", \"1854\", \"1855\", \"1856\", \"1857\", \"1858\", \"1859\", \"1860\", \"1861\", \"1862\", \"1863\", \"1864\", \"1865\", \"1866\", \"1867\", \"1868\", \"1869\", \"1870\", \"1871\", \"1872\", \"1873\", \"1874\", \"1875\", \"1876\", \"1877\", \"1878\", \"1879\", \"1880\", \"1881\", \"1882\", \"1883\", \"1884\", \"1885\", \"1886\", \"1887\", \"1888\", \"1889\", \"1890\", \"1891\", \"1892\", \"1893\", \"1894\", \"1895\", \"1896\", \"1897\", \"1898\", \"1899\", \"1900\", \"1901\", \"1902\", \"1903\", \"1904\", \"1905\", \"1906\", \"1907\", \"1908\", \"1909\", \"1910\", \"1911\", \"1912\", \"1913\", \"1914\", \"1915\", \"1916\", \"1917\", \"1918\", \"1919\", \"1920\", \"1921\", \"1922\", \"1923\", \"1924\", \"1925\", \"1926\", \"1927\", \"1928\", \"1929\", \"1930\", \"1931\", \"1932\", \"1933\", \"1934\", \"1935\", \"1936\", \"1937\", \"1938\", \"1939\", \"1940\", \"1941\", \"1942\", \"1943\", \"1944\", \"1945\", \"1946\", \"1947\", \"1948\", \"1949\", \"1950\", \"1951\", \"1952\", \"1953\", \"1954\", \"1955\", \"1956\", \"1957\", \"1958\", \"1959\", \"1960\", \"1961\", \"1962\", \"1963\", \"1964\", \"1965\", \"1966\", \"1967\", \"1968\", \"1969\", \"1970\", \"1971\", \"1972\", \"1973\", \"1974\", \"1975\", \"1976\", \"1977\", \"1978\", \"1979\", \"1980\", \"1981\", \"1982\", \"1983\", \"1984\", \"1985\", \"1986\", \"1987\", \"1988\", \"1989\", \"1990\", \"1991\", \"1992\", \"1993\", \"1994\", \"1995\", \"1996\", \"1997\", \"1998\", \"1999\", \"2000\", \"2001\", \"2002\", \"2003\", \"2004\", \"2005\", \"2006\", \"2007\", \"2008\", \"2009\", \"2010\", \"2011\", \"2012\", \"2013\", \"2014\", \"2015\"], \"xaxis\": \"x\", \"y\": [11.357181818181818, 10.757285714285715, 8.756833333333333, 11.564083333333333, 11.963583333333336, 12.205916666666667, 12.111916666666668, 13.048000000000002, 10.1065, 11.664, 10.274083333333333, 11.917333333333332, 12.130750000000003, 10.648333333333332, 11.175583333333332, 10.679666666666666, 11.2415, 11.184166666666666, 9.047333333333334, 10.104666666666667, 10.472583333333333, 10.45775, 10.657333333333334, 10.58225, 12.187333333333331, 11.503666666666668, 11.168166666666668, 10.699083333333334, 11.41475, 11.489083333333333, 12.017750000000001, 10.606416666666664, 10.451833333333331, 10.17525, 10.117666666666668, 9.6025, 10.783583333333333, 10.393583333333334, 11.005, 10.202833333333333, 9.754, 10.017999999999999, 9.789416666666668, 10.503583333333331, 10.505, 10.393666666666666, 10.191666666666666, 10.556250000000002, 10.573583333333335, 10.244166666666665, 10.202916666666669, 10.171333333333335, 10.427166666666666, 10.136166666666666, 10.686666666666667, 10.251666666666665, 10.004166666666665, 9.873666666666665, 9.623666666666665, 9.211833333333333, 9.233666666666664, 8.955250000000001, 9.181833333333334, 9.448750000000002, 9.760250000000001, 9.205833333333334, 9.130416666666667, 8.684000000000001, 9.658000000000001, 8.951083333333335, 9.235, 9.465916666666665, 9.563583333333334, 9.080916666666665, 9.995000000000001, 9.897166666666667, 9.916166666666669, 10.25233333333333, 9.81375, 9.261583333333332, 9.948166666666667, 9.170666666666667, 8.990583333333333, 9.2465, 9.299000000000001, 8.667833333333332, 8.86525, 8.666583333333334, 8.677249999999999, 8.811666666666666, 8.787416666666667, 8.640166666666666, 8.92025, 8.9235, 8.572333333333333, 8.732666666666667, 9.6045, 8.986666666666666, 8.850833333333334, 8.898, 8.777083333333334, 9.0605, 9.018416666666665, 8.876833333333334, 9.036166666666666, 8.997916666666665, 8.756666666666666, 8.509250000000002, 8.8, 8.926666666666668, 8.586833333333333, 8.499916666666667, 8.247500000000002, 8.859833333333333, 8.660000000000002, 8.84, 8.898166666666665, 9.071166666666667, 8.79425, 9.02775, 8.751499999999998, 8.685333333333332, 8.782916666666665, 8.901583333333333, 8.951416666666667, 8.311083333333334, 8.513583333333333, 8.9955, 9.254666666666665, 8.62925, 8.533666666666665, 8.69025, 8.508833333333333, 8.347583333333333, 8.169916666666667, 8.344666666666669, 8.340499999999999, 8.307, 8.472916666666666, 8.688833333333333, 8.314666666666668, 8.354666666666667, 8.404666666666666, 8.402, 8.47825, 8.446250000000001, 8.52375, 8.607166666666668, 8.503666666666666, 8.721083333333333, 8.816333333333333, 8.848166666666666, 8.597166666666666, 8.510166666666667, 8.377333333333333, 8.503916666666665, 8.653999999999998, 8.204333333333334, 8.460833333333333, 8.441, 8.483083333333335, 8.424833333333336, 8.423833333333334, 8.559999999999999, 8.842416666666667, 8.839333333333332, 8.485666666666667, 8.283999999999999, 8.399083333333332, 8.649000000000001, 8.621416666666667, 8.827833333333333, 8.666583333333334, 8.675249999999998, 8.763666666666667, 8.775166666666667, 8.971499999999999, 8.770999999999999, 8.88075, 8.494166666666665, 8.873249999999999, 8.957, 8.954166666666667, 8.580916666666667, 8.868416666666668, 8.751666666666667, 8.797083333333333, 8.938416666666665, 9.104166666666668, 8.997666666666667, 8.995750000000001, 8.996500000000001, 8.957916666666666, 8.981666666666667, 9.070166666666667, 8.805166666666665, 8.899333333333335, 9.014166666666666, 8.956333333333333, 8.794999999999998, 8.551583333333335, 8.809833333333332, 8.847000000000001, 9.085833333333335, 8.747833333333332, 8.779833333333334, 8.400416666666667, 8.8905, 8.878083333333333, 8.839833333333331, 8.67725, 8.894666666666666, 8.878833333333333, 8.948333333333332, 8.502166666666666, 8.63625, 8.691583333333332, 8.78375, 8.628, 8.68025, 8.776499999999999, 8.697166666666666, 8.594916666666666, 9.048999999999998, 8.572, 8.841916666666668, 8.447833333333332, 8.934916666666666, 8.796583333333333, 8.819833333333332, 9.087, 9.253083333333333, 8.721833333333333, 9.122166666666665, 8.794416666666669, 8.751249999999999, 8.918583333333332, 9.079583333333334, 9.281666666666666, 9.010000000000002, 9.320500000000001, 9.2415, 8.919916666666666, 8.947916666666666, 9.109666666666666, 9.423499999999999, 9.123666666666667, 9.291166666666667, 9.596583333333333, 9.364333333333333, 9.284666666666668, 9.502, 9.642833333333334, 9.61625, 9.408, 9.776083333333332, 9.622499999999999, 9.821666666666665, 9.510666666666667, 9.591166666666668, 9.786499999999998, 9.598, 9.59075, 9.704166666666666, 9.660833333333333, 9.923166666666665], \"yaxis\": \"y\"}, {\"hovertemplate\": \"variable=Uncertainty Bottom<br>years=%{x}<br>value=%{y}<extra></extra>\", \"legendgroup\": \"Uncertainty Bottom\", \"line\": {\"color\": \"#00cc96\", \"dash\": \"solid\"}, \"mode\": \"lines\", \"name\": \"Uncertainty Bottom\", \"orientation\": \"v\", \"showlegend\": true, \"type\": \"scatter\", \"x\": [\"1750\", \"1751\", \"1752\", \"1753\", \"1754\", \"1755\", \"1756\", \"1757\", \"1758\", \"1759\", \"1760\", \"1761\", \"1762\", \"1763\", \"1764\", \"1765\", \"1766\", \"1767\", \"1768\", \"1769\", \"1770\", \"1771\", \"1772\", \"1773\", \"1774\", \"1775\", \"1776\", \"1777\", \"1778\", \"1779\", \"1780\", \"1781\", \"1782\", \"1783\", \"1784\", \"1785\", \"1786\", \"1787\", \"1788\", \"1789\", \"1790\", \"1791\", \"1792\", \"1793\", \"1794\", \"1795\", \"1796\", \"1797\", \"1798\", \"1799\", \"1800\", \"1801\", \"1802\", \"1803\", \"1804\", \"1805\", \"1806\", \"1807\", \"1808\", \"1809\", \"1810\", \"1811\", \"1812\", \"1813\", \"1814\", \"1815\", \"1816\", \"1817\", \"1818\", \"1819\", \"1820\", \"1821\", \"1822\", \"1823\", \"1824\", \"1825\", \"1826\", \"1827\", \"1828\", \"1829\", \"1830\", \"1831\", \"1832\", \"1833\", \"1834\", \"1835\", \"1836\", \"1837\", \"1838\", \"1839\", \"1840\", \"1841\", \"1842\", \"1843\", \"1844\", \"1845\", \"1846\", \"1847\", \"1848\", \"1849\", \"1850\", \"1851\", \"1852\", \"1853\", \"1854\", \"1855\", \"1856\", \"1857\", \"1858\", \"1859\", \"1860\", \"1861\", \"1862\", \"1863\", \"1864\", \"1865\", \"1866\", \"1867\", \"1868\", \"1869\", \"1870\", \"1871\", \"1872\", \"1873\", \"1874\", \"1875\", \"1876\", \"1877\", \"1878\", \"1879\", \"1880\", \"1881\", \"1882\", \"1883\", \"1884\", \"1885\", \"1886\", \"1887\", \"1888\", \"1889\", \"1890\", \"1891\", \"1892\", \"1893\", \"1894\", \"1895\", \"1896\", \"1897\", \"1898\", \"1899\", \"1900\", \"1901\", \"1902\", \"1903\", \"1904\", \"1905\", \"1906\", \"1907\", \"1908\", \"1909\", \"1910\", \"1911\", \"1912\", \"1913\", \"1914\", \"1915\", \"1916\", \"1917\", \"1918\", \"1919\", \"1920\", \"1921\", \"1922\", \"1923\", \"1924\", \"1925\", \"1926\", \"1927\", \"1928\", \"1929\", \"1930\", \"1931\", \"1932\", \"1933\", \"1934\", \"1935\", \"1936\", \"1937\", \"1938\", \"1939\", \"1940\", \"1941\", \"1942\", \"1943\", \"1944\", \"1945\", \"1946\", \"1947\", \"1948\", \"1949\", \"1950\", \"1951\", \"1952\", \"1953\", \"1954\", \"1955\", \"1956\", \"1957\", \"1958\", \"1959\", \"1960\", \"1961\", \"1962\", \"1963\", \"1964\", \"1965\", \"1966\", \"1967\", \"1968\", \"1969\", \"1970\", \"1971\", \"1972\", \"1973\", \"1974\", \"1975\", \"1976\", \"1977\", \"1978\", \"1979\", \"1980\", \"1981\", \"1982\", \"1983\", \"1984\", \"1985\", \"1986\", \"1987\", \"1988\", \"1989\", \"1990\", \"1991\", \"1992\", \"1993\", \"1994\", \"1995\", \"1996\", \"1997\", \"1998\", \"1999\", \"2000\", \"2001\", \"2002\", \"2003\", \"2004\", \"2005\", \"2006\", \"2007\", \"2008\", \"2009\", \"2010\", \"2011\", \"2012\", \"2013\", \"2014\", \"2015\"], \"xaxis\": \"x\", \"y\": [6.081545454545456, 5.194999999999999, 2.8028333333333326, 5.212083333333332, 4.975083333333334, 4.50525, 5.587249999999999, 4.9959999999999996, 3.3806666666666665, 4.306166666666666, 4.096250000000001, 5.627666666666666, 5.082250000000002, 4.345166666666666, 5.6250833333333325, 5.824166666666666, 5.569833333333333, 5.258833333333332, 4.515333333333333, 5.284500000000001, 4.91125, 5.248583333333334, 5.729666666666667, 5.860750000000001, 5.356999999999999, 6.862500000000001, 5.439833333333333, 5.813416666666669, 5.669749999999999, 6.477416666666667, 6.848083333333333, 5.598749999999998, 5.350666666666665, 5.186416666666666, 5.6063333333333345, 5.1235, 5.732749999999999, 5.6700833333333325, 5.889333333333335, 6.4655, 6.210666666666667, 6.450499999999999, 6.388583333333334, 5.95475, 6.5470000000000015, 6.307, 6.3503333333333325, 6.464916666666667, 6.766916666666668, 6.767333333333332, 6.765583333333335, 7.008000000000001, 6.729166666666666, 6.869833333333333, 7.003, 6.873833333333333, 6.863999999999998, 6.689166666666665, 5.63, 4.941000000000001, 4.611666666666666, 4.76375, 4.910666666666668, 6.031083333333335, 5.4232499999999995, 5.272833333333334, 4.744583333333333, 5.267333333333335, 5.999833333333334, 5.787250000000001, 5.997499999999998, 6.714249999999999, 6.813083333333334, 6.356416666666664, 7.099333333333334, 6.8815, 6.7970000000000015, 7.365166666666664, 6.516916666666668, 6.622083333333332, 7.085333333333334, 6.107666666666667, 5.909750000000001, 6.7795, 6.994500000000001, 6.117166666666666, 6.526416666666667, 6.0847500000000005, 6.352583333333332, 6.4528333333333325, 6.805083333333334, 6.736166666666667, 7.12525, 7.423833333333334, 6.7203333333333335, 6.969666666666668, 7.5009999999999994, 7.185333333333333, 7.108166666666667, 7.070833333333334, 7.024249999999999, 7.296666666666665, 7.181916666666664, 7.206833333333333, 7.384833333333333, 7.223583333333331, 7.235166666666666, 7.007083333333334, 7.400500000000001, 7.577333333333334, 7.334833333333333, 7.193083333333335, 6.869666666666668, 7.363833333333333, 7.307166666666668, 7.515666666666667, 7.686166666666665, 7.801500000000001, 7.701583333333334, 7.836416666666667, 7.651166666666666, 7.544833333333333, 7.604749999999998, 7.800583333333334, 7.915583333333334, 7.408083333333334, 7.646583333333333, 8.083666666666666, 8.404833333333332, 7.702416666666667, 7.703833333333332, 7.851583333333333, 7.7490000000000006, 7.60625, 7.377416666666667, 7.494666666666668, 7.5684999999999985, 7.522833333333333, 7.708083333333334, 7.949166666666666, 7.628666666666667, 7.684, 7.7269999999999985, 7.711499999999999, 7.84375, 7.8477500000000004, 7.906083333333332, 7.979500000000002, 7.852333333333332, 8.071583333333333, 8.186833333333333, 8.235666666666665, 8.011666666666667, 7.9301666666666675, 7.8045, 7.946416666666665, 8.104166666666666, 7.69, 7.911333333333334, 7.915500000000001, 7.9629166666666675, 7.929166666666668, 7.907000000000001, 8.035499999999999, 8.338583333333334, 8.346999999999998, 7.964833333333334, 7.762666666666665, 7.8625833333333315, 8.1155, 8.096083333333334, 8.314166666666667, 8.149416666666665, 8.169083333333333, 8.250000000000002, 8.293666666666667, 8.486166666666666, 8.273166666666667, 8.383583333333336, 7.990666666666665, 8.393916666666666, 8.4815, 8.456333333333335, 8.095583333333334, 8.388250000000003, 8.279833333333334, 8.310916666666667, 8.45825, 8.623166666666666, 8.523, 8.533583333333333, 8.540833333333335, 8.498916666666666, 8.5285, 8.619833333333334, 8.3645, 8.454500000000003, 8.58, 8.537166666666668, 8.378499999999999, 8.178916666666668, 8.4415, 8.4295, 8.661666666666667, 8.3735, 8.472666666666667, 8.15875, 8.5745, 8.669416666666667, 8.625499999999999, 8.49025, 8.700666666666667, 8.613, 8.763666666666667, 8.317166666666667, 8.418583333333334, 8.507083333333332, 8.616416666666668, 8.404666666666667, 8.509916666666667, 8.625333333333334, 8.501333333333333, 8.404250000000001, 8.847499999999998, 8.363, 8.64775, 8.246666666666666, 8.765583333333332, 8.588916666666664, 8.646999999999998, 8.873666666666665, 9.078583333333334, 8.5565, 8.934166666666666, 8.589250000000002, 8.56475, 8.74858333333333, 8.909250000000002, 9.121500000000001, 8.834000000000003, 9.147833333333333, 9.117333333333333, 8.753249999999998, 8.78525, 8.967833333333331, 9.270666666666665, 8.954166666666667, 9.113999999999999, 9.448749999999999, 9.205833333333333, 9.117666666666667, 9.327166666666669, 9.498, 9.434916666666666, 9.241166666666667, 9.62575, 9.442499999999999, 9.642666666666667, 9.352833333333335, 9.419333333333336, 9.619666666666665, 9.434, 9.423916666666667, 9.508833333333332, 9.4805, 9.73883333333333], \"yaxis\": \"y\"}],                        {\"legend\": {\"title\": {\"text\": \"variable\"}, \"tracegroupgap\": 0}, \"template\": {\"data\": {\"bar\": [{\"error_x\": {\"color\": \"#2a3f5f\"}, \"error_y\": {\"color\": \"#2a3f5f\"}, \"marker\": {\"line\": {\"color\": \"#E5ECF6\", \"width\": 0.5}}, \"type\": \"bar\"}], \"barpolar\": [{\"marker\": {\"line\": {\"color\": \"#E5ECF6\", \"width\": 0.5}}, \"type\": \"barpolar\"}], \"carpet\": [{\"aaxis\": {\"endlinecolor\": \"#2a3f5f\", \"gridcolor\": \"white\", \"linecolor\": \"white\", \"minorgridcolor\": \"white\", \"startlinecolor\": \"#2a3f5f\"}, \"baxis\": {\"endlinecolor\": \"#2a3f5f\", \"gridcolor\": \"white\", \"linecolor\": \"white\", \"minorgridcolor\": \"white\", \"startlinecolor\": \"#2a3f5f\"}, \"type\": \"carpet\"}], \"choropleth\": [{\"colorbar\": {\"outlinewidth\": 0, \"ticks\": \"\"}, \"type\": \"choropleth\"}], \"contour\": [{\"colorbar\": {\"outlinewidth\": 0, \"ticks\": \"\"}, \"colorscale\": [[0.0, \"#0d0887\"], [0.1111111111111111, \"#46039f\"], [0.2222222222222222, \"#7201a8\"], [0.3333333333333333, \"#9c179e\"], [0.4444444444444444, \"#bd3786\"], [0.5555555555555556, \"#d8576b\"], [0.6666666666666666, \"#ed7953\"], [0.7777777777777778, \"#fb9f3a\"], [0.8888888888888888, \"#fdca26\"], [1.0, \"#f0f921\"]], \"type\": \"contour\"}], \"contourcarpet\": [{\"colorbar\": {\"outlinewidth\": 0, \"ticks\": \"\"}, \"type\": \"contourcarpet\"}], \"heatmap\": [{\"colorbar\": {\"outlinewidth\": 0, \"ticks\": \"\"}, \"colorscale\": [[0.0, \"#0d0887\"], [0.1111111111111111, \"#46039f\"], [0.2222222222222222, \"#7201a8\"], [0.3333333333333333, \"#9c179e\"], [0.4444444444444444, \"#bd3786\"], [0.5555555555555556, \"#d8576b\"], [0.6666666666666666, \"#ed7953\"], [0.7777777777777778, \"#fb9f3a\"], [0.8888888888888888, \"#fdca26\"], [1.0, \"#f0f921\"]], \"type\": \"heatmap\"}], \"heatmapgl\": [{\"colorbar\": {\"outlinewidth\": 0, \"ticks\": \"\"}, \"colorscale\": [[0.0, \"#0d0887\"], [0.1111111111111111, \"#46039f\"], [0.2222222222222222, \"#7201a8\"], [0.3333333333333333, \"#9c179e\"], [0.4444444444444444, \"#bd3786\"], [0.5555555555555556, \"#d8576b\"], [0.6666666666666666, \"#ed7953\"], [0.7777777777777778, \"#fb9f3a\"], [0.8888888888888888, \"#fdca26\"], [1.0, \"#f0f921\"]], \"type\": \"heatmapgl\"}], \"histogram\": [{\"marker\": {\"colorbar\": {\"outlinewidth\": 0, \"ticks\": \"\"}}, \"type\": \"histogram\"}], \"histogram2d\": [{\"colorbar\": {\"outlinewidth\": 0, \"ticks\": \"\"}, \"colorscale\": [[0.0, \"#0d0887\"], [0.1111111111111111, \"#46039f\"], [0.2222222222222222, \"#7201a8\"], [0.3333333333333333, \"#9c179e\"], [0.4444444444444444, \"#bd3786\"], [0.5555555555555556, \"#d8576b\"], [0.6666666666666666, \"#ed7953\"], [0.7777777777777778, \"#fb9f3a\"], [0.8888888888888888, \"#fdca26\"], [1.0, \"#f0f921\"]], \"type\": \"histogram2d\"}], \"histogram2dcontour\": [{\"colorbar\": {\"outlinewidth\": 0, \"ticks\": \"\"}, \"colorscale\": [[0.0, \"#0d0887\"], [0.1111111111111111, \"#46039f\"], [0.2222222222222222, \"#7201a8\"], [0.3333333333333333, \"#9c179e\"], [0.4444444444444444, \"#bd3786\"], [0.5555555555555556, \"#d8576b\"], [0.6666666666666666, \"#ed7953\"], [0.7777777777777778, \"#fb9f3a\"], [0.8888888888888888, \"#fdca26\"], [1.0, \"#f0f921\"]], \"type\": \"histogram2dcontour\"}], \"mesh3d\": [{\"colorbar\": {\"outlinewidth\": 0, \"ticks\": \"\"}, \"type\": \"mesh3d\"}], \"parcoords\": [{\"line\": {\"colorbar\": {\"outlinewidth\": 0, \"ticks\": \"\"}}, \"type\": \"parcoords\"}], \"pie\": [{\"automargin\": true, \"type\": \"pie\"}], \"scatter\": [{\"marker\": {\"colorbar\": {\"outlinewidth\": 0, \"ticks\": \"\"}}, \"type\": \"scatter\"}], \"scatter3d\": [{\"line\": {\"colorbar\": {\"outlinewidth\": 0, \"ticks\": \"\"}}, \"marker\": {\"colorbar\": {\"outlinewidth\": 0, \"ticks\": \"\"}}, \"type\": \"scatter3d\"}], \"scattercarpet\": [{\"marker\": {\"colorbar\": {\"outlinewidth\": 0, \"ticks\": \"\"}}, \"type\": \"scattercarpet\"}], \"scattergeo\": [{\"marker\": {\"colorbar\": {\"outlinewidth\": 0, \"ticks\": \"\"}}, \"type\": \"scattergeo\"}], \"scattergl\": [{\"marker\": {\"colorbar\": {\"outlinewidth\": 0, \"ticks\": \"\"}}, \"type\": \"scattergl\"}], \"scattermapbox\": [{\"marker\": {\"colorbar\": {\"outlinewidth\": 0, \"ticks\": \"\"}}, \"type\": \"scattermapbox\"}], \"scatterpolar\": [{\"marker\": {\"colorbar\": {\"outlinewidth\": 0, \"ticks\": \"\"}}, \"type\": \"scatterpolar\"}], \"scatterpolargl\": [{\"marker\": {\"colorbar\": {\"outlinewidth\": 0, \"ticks\": \"\"}}, \"type\": \"scatterpolargl\"}], \"scatterternary\": [{\"marker\": {\"colorbar\": {\"outlinewidth\": 0, \"ticks\": \"\"}}, \"type\": \"scatterternary\"}], \"surface\": [{\"colorbar\": {\"outlinewidth\": 0, \"ticks\": \"\"}, \"colorscale\": [[0.0, \"#0d0887\"], [0.1111111111111111, \"#46039f\"], [0.2222222222222222, \"#7201a8\"], [0.3333333333333333, \"#9c179e\"], [0.4444444444444444, \"#bd3786\"], [0.5555555555555556, \"#d8576b\"], [0.6666666666666666, \"#ed7953\"], [0.7777777777777778, \"#fb9f3a\"], [0.8888888888888888, \"#fdca26\"], [1.0, \"#f0f921\"]], \"type\": \"surface\"}], \"table\": [{\"cells\": {\"fill\": {\"color\": \"#EBF0F8\"}, \"line\": {\"color\": \"white\"}}, \"header\": {\"fill\": {\"color\": \"#C8D4E3\"}, \"line\": {\"color\": \"white\"}}, \"type\": \"table\"}]}, \"layout\": {\"annotationdefaults\": {\"arrowcolor\": \"#2a3f5f\", \"arrowhead\": 0, \"arrowwidth\": 1}, \"autotypenumbers\": \"strict\", \"coloraxis\": {\"colorbar\": {\"outlinewidth\": 0, \"ticks\": \"\"}}, \"colorscale\": {\"diverging\": [[0, \"#8e0152\"], [0.1, \"#c51b7d\"], [0.2, \"#de77ae\"], [0.3, \"#f1b6da\"], [0.4, \"#fde0ef\"], [0.5, \"#f7f7f7\"], [0.6, \"#e6f5d0\"], [0.7, \"#b8e186\"], [0.8, \"#7fbc41\"], [0.9, \"#4d9221\"], [1, \"#276419\"]], \"sequential\": [[0.0, \"#0d0887\"], [0.1111111111111111, \"#46039f\"], [0.2222222222222222, \"#7201a8\"], [0.3333333333333333, \"#9c179e\"], [0.4444444444444444, \"#bd3786\"], [0.5555555555555556, \"#d8576b\"], [0.6666666666666666, \"#ed7953\"], [0.7777777777777778, \"#fb9f3a\"], [0.8888888888888888, \"#fdca26\"], [1.0, \"#f0f921\"]], \"sequentialminus\": [[0.0, \"#0d0887\"], [0.1111111111111111, \"#46039f\"], [0.2222222222222222, \"#7201a8\"], [0.3333333333333333, \"#9c179e\"], [0.4444444444444444, \"#bd3786\"], [0.5555555555555556, \"#d8576b\"], [0.6666666666666666, \"#ed7953\"], [0.7777777777777778, \"#fb9f3a\"], [0.8888888888888888, \"#fdca26\"], [1.0, \"#f0f921\"]]}, \"colorway\": [\"#636efa\", \"#EF553B\", \"#00cc96\", \"#ab63fa\", \"#FFA15A\", \"#19d3f3\", \"#FF6692\", \"#B6E880\", \"#FF97FF\", \"#FECB52\"], \"font\": {\"color\": \"#2a3f5f\"}, \"geo\": {\"bgcolor\": \"white\", \"lakecolor\": \"white\", \"landcolor\": \"#E5ECF6\", \"showlakes\": true, \"showland\": true, \"subunitcolor\": \"white\"}, \"hoverlabel\": {\"align\": \"left\"}, \"hovermode\": \"closest\", \"mapbox\": {\"style\": \"light\"}, \"paper_bgcolor\": \"white\", \"plot_bgcolor\": \"#E5ECF6\", \"polar\": {\"angularaxis\": {\"gridcolor\": \"white\", \"linecolor\": \"white\", \"ticks\": \"\"}, \"bgcolor\": \"#E5ECF6\", \"radialaxis\": {\"gridcolor\": \"white\", \"linecolor\": \"white\", \"ticks\": \"\"}}, \"scene\": {\"xaxis\": {\"backgroundcolor\": \"#E5ECF6\", \"gridcolor\": \"white\", \"gridwidth\": 2, \"linecolor\": \"white\", \"showbackground\": true, \"ticks\": \"\", \"zerolinecolor\": \"white\"}, \"yaxis\": {\"backgroundcolor\": \"#E5ECF6\", \"gridcolor\": \"white\", \"gridwidth\": 2, \"linecolor\": \"white\", \"showbackground\": true, \"ticks\": \"\", \"zerolinecolor\": \"white\"}, \"zaxis\": {\"backgroundcolor\": \"#E5ECF6\", \"gridcolor\": \"white\", \"gridwidth\": 2, \"linecolor\": \"white\", \"showbackground\": true, \"ticks\": \"\", \"zerolinecolor\": \"white\"}}, \"shapedefaults\": {\"line\": {\"color\": \"#2a3f5f\"}}, \"ternary\": {\"aaxis\": {\"gridcolor\": \"white\", \"linecolor\": \"white\", \"ticks\": \"\"}, \"baxis\": {\"gridcolor\": \"white\", \"linecolor\": \"white\", \"ticks\": \"\"}, \"bgcolor\": \"#E5ECF6\", \"caxis\": {\"gridcolor\": \"white\", \"linecolor\": \"white\", \"ticks\": \"\"}}, \"title\": {\"x\": 0.05}, \"xaxis\": {\"automargin\": true, \"gridcolor\": \"white\", \"linecolor\": \"white\", \"ticks\": \"\", \"title\": {\"standoff\": 15}, \"zerolinecolor\": \"white\", \"zerolinewidth\": 2}, \"yaxis\": {\"automargin\": true, \"gridcolor\": \"white\", \"linecolor\": \"white\", \"ticks\": \"\", \"title\": {\"standoff\": 15}, \"zerolinecolor\": \"white\", \"zerolinewidth\": 2}}}, \"title\": {\"text\": \"Average Temperature in World\"}, \"xaxis\": {\"anchor\": \"y\", \"domain\": [0.0, 1.0], \"title\": {\"text\": \"years\"}}, \"yaxis\": {\"anchor\": \"x\", \"domain\": [0.0, 1.0], \"title\": {\"text\": \"value\"}}},                        {\"responsive\": true}                    ).then(function(){\n",
       "                            \n",
       "var gd = document.getElementById('becfc95d-a8eb-4ca8-8f9c-d6934ed7d656');\n",
       "var x = new MutationObserver(function (mutations, observer) {{\n",
       "        var display = window.getComputedStyle(gd).display;\n",
       "        if (!display || display === 'none') {{\n",
       "            console.log([gd, 'removed!']);\n",
       "            Plotly.purge(gd);\n",
       "            observer.disconnect();\n",
       "        }}\n",
       "}});\n",
       "\n",
       "// Listen for the removal of the full notebook cells\n",
       "var notebookContainer = gd.closest('#notebook-container');\n",
       "if (notebookContainer) {{\n",
       "    x.observe(notebookContainer, {childList: true});\n",
       "}}\n",
       "\n",
       "// Listen for the clearing of the current output cell\n",
       "var outputEl = gd.closest('.output');\n",
       "if (outputEl) {{\n",
       "    x.observe(outputEl, {childList: true});\n",
       "}}\n",
       "\n",
       "                        })                };                });            </script>        </div>"
      ]
     },
     "metadata": {},
     "output_type": "display_data"
    }
   ],
   "source": [
    "fig=px.line(data,x='years',y=['years', 'LandAverageTemperature','Uncertainity Top', 'Uncertainty Bottom'],title=\"Average Temperature in World\")\n",
    "fig.show()"
   ]
  },
  {
   "cell_type": "markdown",
   "id": "alike-kennedy",
   "metadata": {},
   "source": [
    "# Visualize Average Temperature in each season"
   ]
  },
  {
   "cell_type": "code",
   "execution_count": 23,
   "id": "cheap-poultry",
   "metadata": {},
   "outputs": [
    {
     "data": {
      "text/html": [
       "<div>\n",
       "<style scoped>\n",
       "    .dataframe tbody tr th:only-of-type {\n",
       "        vertical-align: middle;\n",
       "    }\n",
       "\n",
       "    .dataframe tbody tr th {\n",
       "        vertical-align: top;\n",
       "    }\n",
       "\n",
       "    .dataframe thead th {\n",
       "        text-align: right;\n",
       "    }\n",
       "</style>\n",
       "<table border=\"1\" class=\"dataframe\">\n",
       "  <thead>\n",
       "    <tr style=\"text-align: right;\">\n",
       "      <th></th>\n",
       "      <th>dt</th>\n",
       "      <th>LandAverageTemperature</th>\n",
       "      <th>LandAverageTemperatureUncertainty</th>\n",
       "      <th>LandMaxTemperature</th>\n",
       "      <th>LandMaxTemperatureUncertainty</th>\n",
       "      <th>LandMinTemperature</th>\n",
       "      <th>LandMinTemperatureUncertainty</th>\n",
       "      <th>LandAndOceanAverageTemperature</th>\n",
       "      <th>LandAndOceanAverageTemperatureUncertainty</th>\n",
       "      <th>years</th>\n",
       "    </tr>\n",
       "  </thead>\n",
       "  <tbody>\n",
       "    <tr>\n",
       "      <th>0</th>\n",
       "      <td>1750-01-01</td>\n",
       "      <td>3.034</td>\n",
       "      <td>3.574</td>\n",
       "      <td>NaN</td>\n",
       "      <td>NaN</td>\n",
       "      <td>NaN</td>\n",
       "      <td>NaN</td>\n",
       "      <td>NaN</td>\n",
       "      <td>NaN</td>\n",
       "      <td>1750</td>\n",
       "    </tr>\n",
       "    <tr>\n",
       "      <th>1</th>\n",
       "      <td>1750-02-01</td>\n",
       "      <td>3.083</td>\n",
       "      <td>3.702</td>\n",
       "      <td>NaN</td>\n",
       "      <td>NaN</td>\n",
       "      <td>NaN</td>\n",
       "      <td>NaN</td>\n",
       "      <td>NaN</td>\n",
       "      <td>NaN</td>\n",
       "      <td>1750</td>\n",
       "    </tr>\n",
       "    <tr>\n",
       "      <th>2</th>\n",
       "      <td>1750-03-01</td>\n",
       "      <td>5.626</td>\n",
       "      <td>3.076</td>\n",
       "      <td>NaN</td>\n",
       "      <td>NaN</td>\n",
       "      <td>NaN</td>\n",
       "      <td>NaN</td>\n",
       "      <td>NaN</td>\n",
       "      <td>NaN</td>\n",
       "      <td>1750</td>\n",
       "    </tr>\n",
       "    <tr>\n",
       "      <th>3</th>\n",
       "      <td>1750-04-01</td>\n",
       "      <td>8.490</td>\n",
       "      <td>2.451</td>\n",
       "      <td>NaN</td>\n",
       "      <td>NaN</td>\n",
       "      <td>NaN</td>\n",
       "      <td>NaN</td>\n",
       "      <td>NaN</td>\n",
       "      <td>NaN</td>\n",
       "      <td>1750</td>\n",
       "    </tr>\n",
       "    <tr>\n",
       "      <th>4</th>\n",
       "      <td>1750-05-01</td>\n",
       "      <td>11.573</td>\n",
       "      <td>2.072</td>\n",
       "      <td>NaN</td>\n",
       "      <td>NaN</td>\n",
       "      <td>NaN</td>\n",
       "      <td>NaN</td>\n",
       "      <td>NaN</td>\n",
       "      <td>NaN</td>\n",
       "      <td>1750</td>\n",
       "    </tr>\n",
       "  </tbody>\n",
       "</table>\n",
       "</div>"
      ],
      "text/plain": [
       "           dt  LandAverageTemperature  LandAverageTemperatureUncertainty  \\\n",
       "0  1750-01-01                   3.034                              3.574   \n",
       "1  1750-02-01                   3.083                              3.702   \n",
       "2  1750-03-01                   5.626                              3.076   \n",
       "3  1750-04-01                   8.490                              2.451   \n",
       "4  1750-05-01                  11.573                              2.072   \n",
       "\n",
       "   LandMaxTemperature  LandMaxTemperatureUncertainty  LandMinTemperature  \\\n",
       "0                 NaN                            NaN                 NaN   \n",
       "1                 NaN                            NaN                 NaN   \n",
       "2                 NaN                            NaN                 NaN   \n",
       "3                 NaN                            NaN                 NaN   \n",
       "4                 NaN                            NaN                 NaN   \n",
       "\n",
       "   LandMinTemperatureUncertainty  LandAndOceanAverageTemperature  \\\n",
       "0                            NaN                             NaN   \n",
       "1                            NaN                             NaN   \n",
       "2                            NaN                             NaN   \n",
       "3                            NaN                             NaN   \n",
       "4                            NaN                             NaN   \n",
       "\n",
       "   LandAndOceanAverageTemperatureUncertainty years  \n",
       "0                                        NaN  1750  \n",
       "1                                        NaN  1750  \n",
       "2                                        NaN  1750  \n",
       "3                                        NaN  1750  \n",
       "4                                        NaN  1750  "
      ]
     },
     "execution_count": 23,
     "metadata": {},
     "output_type": "execute_result"
    }
   ],
   "source": [
    "globaltemp.head()"
   ]
  },
  {
   "cell_type": "code",
   "execution_count": 24,
   "id": "sufficient-madness",
   "metadata": {},
   "outputs": [
    {
     "data": {
      "text/plain": [
       "dtype('O')"
      ]
     },
     "execution_count": 24,
     "metadata": {},
     "output_type": "execute_result"
    }
   ],
   "source": [
    "globaltemp['dt'].dtype"
   ]
  },
  {
   "cell_type": "code",
   "execution_count": 25,
   "id": "fossil-chair",
   "metadata": {},
   "outputs": [],
   "source": [
    "globaltemp['dt']=pd.to_datetime(globaltemp['dt'])"
   ]
  },
  {
   "cell_type": "code",
   "execution_count": 26,
   "id": "shaped-yahoo",
   "metadata": {},
   "outputs": [],
   "source": [
    "globaltemp['month']=globaltemp['dt'].dt.month"
   ]
  },
  {
   "cell_type": "code",
   "execution_count": 27,
   "id": "mineral-celtic",
   "metadata": {},
   "outputs": [
    {
     "data": {
      "text/html": [
       "<div>\n",
       "<style scoped>\n",
       "    .dataframe tbody tr th:only-of-type {\n",
       "        vertical-align: middle;\n",
       "    }\n",
       "\n",
       "    .dataframe tbody tr th {\n",
       "        vertical-align: top;\n",
       "    }\n",
       "\n",
       "    .dataframe thead th {\n",
       "        text-align: right;\n",
       "    }\n",
       "</style>\n",
       "<table border=\"1\" class=\"dataframe\">\n",
       "  <thead>\n",
       "    <tr style=\"text-align: right;\">\n",
       "      <th></th>\n",
       "      <th>dt</th>\n",
       "      <th>LandAverageTemperature</th>\n",
       "      <th>LandAverageTemperatureUncertainty</th>\n",
       "      <th>LandMaxTemperature</th>\n",
       "      <th>LandMaxTemperatureUncertainty</th>\n",
       "      <th>LandMinTemperature</th>\n",
       "      <th>LandMinTemperatureUncertainty</th>\n",
       "      <th>LandAndOceanAverageTemperature</th>\n",
       "      <th>LandAndOceanAverageTemperatureUncertainty</th>\n",
       "      <th>years</th>\n",
       "      <th>month</th>\n",
       "    </tr>\n",
       "  </thead>\n",
       "  <tbody>\n",
       "    <tr>\n",
       "      <th>0</th>\n",
       "      <td>1750-01-01</td>\n",
       "      <td>3.034</td>\n",
       "      <td>3.574</td>\n",
       "      <td>NaN</td>\n",
       "      <td>NaN</td>\n",
       "      <td>NaN</td>\n",
       "      <td>NaN</td>\n",
       "      <td>NaN</td>\n",
       "      <td>NaN</td>\n",
       "      <td>1750</td>\n",
       "      <td>1</td>\n",
       "    </tr>\n",
       "    <tr>\n",
       "      <th>1</th>\n",
       "      <td>1750-02-01</td>\n",
       "      <td>3.083</td>\n",
       "      <td>3.702</td>\n",
       "      <td>NaN</td>\n",
       "      <td>NaN</td>\n",
       "      <td>NaN</td>\n",
       "      <td>NaN</td>\n",
       "      <td>NaN</td>\n",
       "      <td>NaN</td>\n",
       "      <td>1750</td>\n",
       "      <td>2</td>\n",
       "    </tr>\n",
       "    <tr>\n",
       "      <th>2</th>\n",
       "      <td>1750-03-01</td>\n",
       "      <td>5.626</td>\n",
       "      <td>3.076</td>\n",
       "      <td>NaN</td>\n",
       "      <td>NaN</td>\n",
       "      <td>NaN</td>\n",
       "      <td>NaN</td>\n",
       "      <td>NaN</td>\n",
       "      <td>NaN</td>\n",
       "      <td>1750</td>\n",
       "      <td>3</td>\n",
       "    </tr>\n",
       "    <tr>\n",
       "      <th>3</th>\n",
       "      <td>1750-04-01</td>\n",
       "      <td>8.490</td>\n",
       "      <td>2.451</td>\n",
       "      <td>NaN</td>\n",
       "      <td>NaN</td>\n",
       "      <td>NaN</td>\n",
       "      <td>NaN</td>\n",
       "      <td>NaN</td>\n",
       "      <td>NaN</td>\n",
       "      <td>1750</td>\n",
       "      <td>4</td>\n",
       "    </tr>\n",
       "    <tr>\n",
       "      <th>4</th>\n",
       "      <td>1750-05-01</td>\n",
       "      <td>11.573</td>\n",
       "      <td>2.072</td>\n",
       "      <td>NaN</td>\n",
       "      <td>NaN</td>\n",
       "      <td>NaN</td>\n",
       "      <td>NaN</td>\n",
       "      <td>NaN</td>\n",
       "      <td>NaN</td>\n",
       "      <td>1750</td>\n",
       "      <td>5</td>\n",
       "    </tr>\n",
       "  </tbody>\n",
       "</table>\n",
       "</div>"
      ],
      "text/plain": [
       "          dt  LandAverageTemperature  LandAverageTemperatureUncertainty  \\\n",
       "0 1750-01-01                   3.034                              3.574   \n",
       "1 1750-02-01                   3.083                              3.702   \n",
       "2 1750-03-01                   5.626                              3.076   \n",
       "3 1750-04-01                   8.490                              2.451   \n",
       "4 1750-05-01                  11.573                              2.072   \n",
       "\n",
       "   LandMaxTemperature  LandMaxTemperatureUncertainty  LandMinTemperature  \\\n",
       "0                 NaN                            NaN                 NaN   \n",
       "1                 NaN                            NaN                 NaN   \n",
       "2                 NaN                            NaN                 NaN   \n",
       "3                 NaN                            NaN                 NaN   \n",
       "4                 NaN                            NaN                 NaN   \n",
       "\n",
       "   LandMinTemperatureUncertainty  LandAndOceanAverageTemperature  \\\n",
       "0                            NaN                             NaN   \n",
       "1                            NaN                             NaN   \n",
       "2                            NaN                             NaN   \n",
       "3                            NaN                             NaN   \n",
       "4                            NaN                             NaN   \n",
       "\n",
       "   LandAndOceanAverageTemperatureUncertainty years  month  \n",
       "0                                        NaN  1750      1  \n",
       "1                                        NaN  1750      2  \n",
       "2                                        NaN  1750      3  \n",
       "3                                        NaN  1750      4  \n",
       "4                                        NaN  1750      5  "
      ]
     },
     "execution_count": 27,
     "metadata": {},
     "output_type": "execute_result"
    }
   ],
   "source": [
    "globaltemp.head()"
   ]
  },
  {
   "cell_type": "code",
   "execution_count": 28,
   "id": "promising-bearing",
   "metadata": {},
   "outputs": [],
   "source": [
    "def get_season(month):\n",
    "    if month>=3 and month<=5:\n",
    "        return 'Spring'\n",
    "    elif month>=6 and month <=8:\n",
    "        return 'Summer'\n",
    "    elif month>= 9 and month <=11:\n",
    "        return 'Autumn'\n",
    "    else:\n",
    "        return 'Winter'"
   ]
  },
  {
   "cell_type": "code",
   "execution_count": 29,
   "id": "superior-place",
   "metadata": {},
   "outputs": [],
   "source": [
    "globaltemp['season']=globaltemp['month'].apply(get_season)"
   ]
  },
  {
   "cell_type": "code",
   "execution_count": 30,
   "id": "impressed-sweden",
   "metadata": {},
   "outputs": [
    {
     "data": {
      "text/html": [
       "<div>\n",
       "<style scoped>\n",
       "    .dataframe tbody tr th:only-of-type {\n",
       "        vertical-align: middle;\n",
       "    }\n",
       "\n",
       "    .dataframe tbody tr th {\n",
       "        vertical-align: top;\n",
       "    }\n",
       "\n",
       "    .dataframe thead th {\n",
       "        text-align: right;\n",
       "    }\n",
       "</style>\n",
       "<table border=\"1\" class=\"dataframe\">\n",
       "  <thead>\n",
       "    <tr style=\"text-align: right;\">\n",
       "      <th></th>\n",
       "      <th>dt</th>\n",
       "      <th>LandAverageTemperature</th>\n",
       "      <th>LandAverageTemperatureUncertainty</th>\n",
       "      <th>LandMaxTemperature</th>\n",
       "      <th>LandMaxTemperatureUncertainty</th>\n",
       "      <th>LandMinTemperature</th>\n",
       "      <th>LandMinTemperatureUncertainty</th>\n",
       "      <th>LandAndOceanAverageTemperature</th>\n",
       "      <th>LandAndOceanAverageTemperatureUncertainty</th>\n",
       "      <th>years</th>\n",
       "      <th>month</th>\n",
       "      <th>season</th>\n",
       "    </tr>\n",
       "  </thead>\n",
       "  <tbody>\n",
       "    <tr>\n",
       "      <th>0</th>\n",
       "      <td>1750-01-01</td>\n",
       "      <td>3.034</td>\n",
       "      <td>3.574</td>\n",
       "      <td>NaN</td>\n",
       "      <td>NaN</td>\n",
       "      <td>NaN</td>\n",
       "      <td>NaN</td>\n",
       "      <td>NaN</td>\n",
       "      <td>NaN</td>\n",
       "      <td>1750</td>\n",
       "      <td>1</td>\n",
       "      <td>Winter</td>\n",
       "    </tr>\n",
       "    <tr>\n",
       "      <th>1</th>\n",
       "      <td>1750-02-01</td>\n",
       "      <td>3.083</td>\n",
       "      <td>3.702</td>\n",
       "      <td>NaN</td>\n",
       "      <td>NaN</td>\n",
       "      <td>NaN</td>\n",
       "      <td>NaN</td>\n",
       "      <td>NaN</td>\n",
       "      <td>NaN</td>\n",
       "      <td>1750</td>\n",
       "      <td>2</td>\n",
       "      <td>Winter</td>\n",
       "    </tr>\n",
       "    <tr>\n",
       "      <th>2</th>\n",
       "      <td>1750-03-01</td>\n",
       "      <td>5.626</td>\n",
       "      <td>3.076</td>\n",
       "      <td>NaN</td>\n",
       "      <td>NaN</td>\n",
       "      <td>NaN</td>\n",
       "      <td>NaN</td>\n",
       "      <td>NaN</td>\n",
       "      <td>NaN</td>\n",
       "      <td>1750</td>\n",
       "      <td>3</td>\n",
       "      <td>Spring</td>\n",
       "    </tr>\n",
       "    <tr>\n",
       "      <th>3</th>\n",
       "      <td>1750-04-01</td>\n",
       "      <td>8.490</td>\n",
       "      <td>2.451</td>\n",
       "      <td>NaN</td>\n",
       "      <td>NaN</td>\n",
       "      <td>NaN</td>\n",
       "      <td>NaN</td>\n",
       "      <td>NaN</td>\n",
       "      <td>NaN</td>\n",
       "      <td>1750</td>\n",
       "      <td>4</td>\n",
       "      <td>Spring</td>\n",
       "    </tr>\n",
       "    <tr>\n",
       "      <th>4</th>\n",
       "      <td>1750-05-01</td>\n",
       "      <td>11.573</td>\n",
       "      <td>2.072</td>\n",
       "      <td>NaN</td>\n",
       "      <td>NaN</td>\n",
       "      <td>NaN</td>\n",
       "      <td>NaN</td>\n",
       "      <td>NaN</td>\n",
       "      <td>NaN</td>\n",
       "      <td>1750</td>\n",
       "      <td>5</td>\n",
       "      <td>Spring</td>\n",
       "    </tr>\n",
       "  </tbody>\n",
       "</table>\n",
       "</div>"
      ],
      "text/plain": [
       "          dt  LandAverageTemperature  LandAverageTemperatureUncertainty  \\\n",
       "0 1750-01-01                   3.034                              3.574   \n",
       "1 1750-02-01                   3.083                              3.702   \n",
       "2 1750-03-01                   5.626                              3.076   \n",
       "3 1750-04-01                   8.490                              2.451   \n",
       "4 1750-05-01                  11.573                              2.072   \n",
       "\n",
       "   LandMaxTemperature  LandMaxTemperatureUncertainty  LandMinTemperature  \\\n",
       "0                 NaN                            NaN                 NaN   \n",
       "1                 NaN                            NaN                 NaN   \n",
       "2                 NaN                            NaN                 NaN   \n",
       "3                 NaN                            NaN                 NaN   \n",
       "4                 NaN                            NaN                 NaN   \n",
       "\n",
       "   LandMinTemperatureUncertainty  LandAndOceanAverageTemperature  \\\n",
       "0                            NaN                             NaN   \n",
       "1                            NaN                             NaN   \n",
       "2                            NaN                             NaN   \n",
       "3                            NaN                             NaN   \n",
       "4                            NaN                             NaN   \n",
       "\n",
       "   LandAndOceanAverageTemperatureUncertainty years  month  season  \n",
       "0                                        NaN  1750      1  Winter  \n",
       "1                                        NaN  1750      2  Winter  \n",
       "2                                        NaN  1750      3  Spring  \n",
       "3                                        NaN  1750      4  Spring  \n",
       "4                                        NaN  1750      5  Spring  "
      ]
     },
     "execution_count": 30,
     "metadata": {},
     "output_type": "execute_result"
    }
   ],
   "source": [
    "globaltemp.head()"
   ]
  },
  {
   "cell_type": "code",
   "execution_count": 31,
   "id": "active-librarian",
   "metadata": {},
   "outputs": [],
   "source": [
    "years=globaltemp['years'].unique()"
   ]
  },
  {
   "cell_type": "code",
   "execution_count": 32,
   "id": "prepared-valuation",
   "metadata": {},
   "outputs": [],
   "source": [
    "springtemp=[]\n",
    "summertemp=[]\n",
    "autumntemp=[]\n",
    "wintertemp=[]"
   ]
  },
  {
   "cell_type": "code",
   "execution_count": 33,
   "id": "adaptive-contributor",
   "metadata": {},
   "outputs": [],
   "source": [
    "for year in years:\n",
    "    currentdf=globaltemp[globaltemp['years']==year]\n",
    "    springtemp.append(currentdf[currentdf['season']=='Spring']['LandAverageTemperature'].mean())\n",
    "    summertemp.append(currentdf[currentdf['season']=='Summer']['LandAverageTemperature'].mean())\n",
    "    autumntemp.append(currentdf[currentdf['season']=='Autumn']['LandAverageTemperature'].mean())\n",
    "    wintertemp.append(currentdf[currentdf['season']=='Winter']['LandAverageTemperature'].mean())"
   ]
  },
  {
   "cell_type": "code",
   "execution_count": 34,
   "id": "subjective-berry",
   "metadata": {},
   "outputs": [
    {
     "data": {
      "text/plain": [
       "[8.563,\n",
       " 6.734999999999999,\n",
       " 7.035499999999999,\n",
       " 8.627333333333334,\n",
       " 9.074333333333334,\n",
       " 8.583666666666666,\n",
       " 9.466,\n",
       " 8.604666666666667,\n",
       " 6.896666666666666,\n",
       " 6.897333333333333,\n",
       " 6.653666666666666,\n",
       " 8.916,\n",
       " 7.809333333333332,\n",
       " 6.716,\n",
       " 8.192,\n",
       " 8.868666666666668,\n",
       " 8.432333333333332,\n",
       " 7.831,\n",
       " 6.144000000000001,\n",
       " 8.803333333333333,\n",
       " 7.132000000000001,\n",
       " 6.0523333333333325,\n",
       " 7.148666666666666,\n",
       " 8.866999999999999,\n",
       " 10.607,\n",
       " 9.036666666666667,\n",
       " 7.522333333333333,\n",
       " 7.774333333333334,\n",
       " 8.957999999999998,\n",
       " 10.370666666666667,\n",
       " 11.737666666666664,\n",
       " 7.599,\n",
       " 7.390999999999998,\n",
       " 8.397333333333334,\n",
       " 7.3580000000000005,\n",
       " 6.173666666666667,\n",
       " 8.849666666666666,\n",
       " 7.9576666666666656,\n",
       " 8.159333333333334,\n",
       " 7.783,\n",
       " 6.997333333333333,\n",
       " 7.9253333333333345,\n",
       " 7.914666666666666,\n",
       " 8.248,\n",
       " 9.146333333333333,\n",
       " 8.552,\n",
       " 7.507666666666666,\n",
       " 7.024333333333334,\n",
       " 8.953333333333333,\n",
       " 8.041666666666666,\n",
       " 8.224666666666666,\n",
       " 8.660666666666666,\n",
       " 7.760333333333333,\n",
       " 8.653666666666666,\n",
       " 8.863,\n",
       " 8.328999999999999,\n",
       " 8.075333333333333,\n",
       " 7.03,\n",
       " 7.066666666666666,\n",
       " 6.833666666666666,\n",
       " 6.872,\n",
       " 6.481999999999999,\n",
       " 6.191333333333333,\n",
       " 7.048333333333333,\n",
       " 6.424666666666667,\n",
       " 6.698666666666667,\n",
       " 7.368333333333332,\n",
       " 7.311333333333333,\n",
       " 8.904333333333334,\n",
       " 6.603666666666666,\n",
       " 8.312666666666667,\n",
       " 8.167,\n",
       " 8.850333333333333,\n",
       " 7.765333333333333,\n",
       " 8.287999999999998,\n",
       " 8.368,\n",
       " 8.365,\n",
       " 9.125666666666666,\n",
       " 8.582333333333333,\n",
       " 8.070666666666666,\n",
       " 7.832333333333334,\n",
       " 7.761,\n",
       " 7.732666666666667,\n",
       " 7.657,\n",
       " 8.351666666666667,\n",
       " 7.482333333333333,\n",
       " 7.680666666666667,\n",
       " 6.797999999999999,\n",
       " 7.030333333333332,\n",
       " 6.951333333333333,\n",
       " 7.718666666666667,\n",
       " 6.947,\n",
       " 8.198333333333332,\n",
       " 7.537999999999999,\n",
       " 7.410666666666667,\n",
       " 7.747333333333333,\n",
       " 8.227666666666666,\n",
       " 7.549333333333333,\n",
       " 7.832,\n",
       " 7.496333333333333,\n",
       " 7.391666666666666,\n",
       " 7.530666666666666,\n",
       " 7.513333333333333,\n",
       " 7.531333333333333,\n",
       " 7.805,\n",
       " 8.127666666666666,\n",
       " 7.550999999999999,\n",
       " 7.008,\n",
       " 7.978333333333334,\n",
       " 8.340333333333334,\n",
       " 7.438666666666666,\n",
       " 7.497333333333333,\n",
       " 7.515666666666667,\n",
       " 7.898,\n",
       " 7.707333333333334,\n",
       " 7.423333333333332,\n",
       " 7.7443333333333335,\n",
       " 7.735666666666667,\n",
       " 8.009666666666666,\n",
       " 7.863333333333332,\n",
       " 7.958000000000001,\n",
       " 7.937666666666666,\n",
       " 7.988666666666667,\n",
       " 7.723999999999999,\n",
       " 7.919333333333333,\n",
       " 7.545999999999999,\n",
       " 7.8790000000000004,\n",
       " 8.130666666666666,\n",
       " 8.841333333333333,\n",
       " 7.831666666666667,\n",
       " 7.761666666666666,\n",
       " 8.165999999999999,\n",
       " 7.873,\n",
       " 7.817333333333333,\n",
       " 7.092,\n",
       " 7.508333333333333,\n",
       " 7.651666666666666,\n",
       " 7.726999999999999,\n",
       " 7.588333333333334,\n",
       " 8.376666666666667,\n",
       " 7.470999999999999,\n",
       " 7.719333333333332,\n",
       " 7.515333333333333,\n",
       " 7.906666666666666,\n",
       " 7.908333333333334,\n",
       " 7.934333333333334,\n",
       " 7.500666666666667,\n",
       " 8.0,\n",
       " 7.497666666666667,\n",
       " 7.973999999999999,\n",
       " 8.366666666666667,\n",
       " 8.457,\n",
       " 7.910666666666667,\n",
       " 7.851999999999999,\n",
       " 7.676666666666666,\n",
       " 7.790666666666667,\n",
       " 8.244,\n",
       " 7.509666666666667,\n",
       " 7.702999999999999,\n",
       " 7.578,\n",
       " 7.905333333333334,\n",
       " 7.722,\n",
       " 7.946333333333333,\n",
       " 7.761666666666666,\n",
       " 8.108333333333333,\n",
       " 8.447000000000001,\n",
       " 7.954999999999999,\n",
       " 7.5953333333333335,\n",
       " 7.664999999999999,\n",
       " 8.066333333333333,\n",
       " 8.216999999999999,\n",
       " 8.216666666666667,\n",
       " 8.211,\n",
       " 7.821333333333333,\n",
       " 8.17,\n",
       " 8.202333333333334,\n",
       " 8.318333333333333,\n",
       " 7.935666666666666,\n",
       " 8.124,\n",
       " 8.036,\n",
       " 8.256666666666666,\n",
       " 8.134333333333332,\n",
       " 8.316,\n",
       " 8.013666666666667,\n",
       " 8.104,\n",
       " 8.025333333333334,\n",
       " 8.136333333333333,\n",
       " 8.137666666666666,\n",
       " 8.673333333333334,\n",
       " 8.259333333333332,\n",
       " 8.506,\n",
       " 8.427,\n",
       " 8.354,\n",
       " 8.420333333333334,\n",
       " 8.433,\n",
       " 8.320666666666668,\n",
       " 8.476,\n",
       " 8.605333333333334,\n",
       " 8.318333333333333,\n",
       " 8.243333333333332,\n",
       " 8.222333333333333,\n",
       " 8.298666666666668,\n",
       " 8.26,\n",
       " 8.706000000000001,\n",
       " 8.097999999999999,\n",
       " 7.970999999999999,\n",
       " 7.8439999999999985,\n",
       " 8.220333333333334,\n",
       " 8.497333333333332,\n",
       " 8.665333333333333,\n",
       " 7.769333333333333,\n",
       " 8.614666666666666,\n",
       " 8.399333333333333,\n",
       " 8.104999999999999,\n",
       " 7.897333333333333,\n",
       " 8.131333333333332,\n",
       " 8.296,\n",
       " 8.495333333333333,\n",
       " 8.546666666666667,\n",
       " 8.353666666666667,\n",
       " 8.360333333333333,\n",
       " 8.183666666666667,\n",
       " 8.259666666666666,\n",
       " 8.84233333333333,\n",
       " 8.258000000000001,\n",
       " 8.677333333333333,\n",
       " 7.917666666666666,\n",
       " 8.777333333333333,\n",
       " 8.604,\n",
       " 8.376,\n",
       " 8.690666666666665,\n",
       " 8.918999999999999,\n",
       " 8.228666666666667,\n",
       " 8.706999999999999,\n",
       " 8.693,\n",
       " 8.503333333333332,\n",
       " 8.735666666666665,\n",
       " 8.455,\n",
       " 8.924999999999999,\n",
       " 8.587000000000002,\n",
       " 9.243333333333334,\n",
       " 8.805333333333333,\n",
       " 8.686333333333332,\n",
       " 8.696,\n",
       " 8.811,\n",
       " 8.832666666666666,\n",
       " 8.597,\n",
       " 8.832,\n",
       " 9.224,\n",
       " 8.691333333333333,\n",
       " 9.215,\n",
       " 9.241333333333333,\n",
       " 9.416333333333332,\n",
       " 9.118333333333332,\n",
       " 9.046999999999999,\n",
       " 9.462666666666665,\n",
       " 9.056666666666667,\n",
       " 9.608666666666666,\n",
       " 9.418333333333333,\n",
       " 9.188333333333333,\n",
       " 9.604999999999999,\n",
       " 9.19,\n",
       " 9.429666666666666,\n",
       " 9.166666666666666,\n",
       " 9.516333333333334,\n",
       " 9.455]"
      ]
     },
     "execution_count": 34,
     "metadata": {},
     "output_type": "execute_result"
    }
   ],
   "source": [
    "springtemp"
   ]
  },
  {
   "cell_type": "code",
   "execution_count": 35,
   "id": "configured-curve",
   "metadata": {},
   "outputs": [],
   "source": [
    "season=pd.DataFrame()"
   ]
  },
  {
   "cell_type": "code",
   "execution_count": 36,
   "id": "chicken-grill",
   "metadata": {},
   "outputs": [],
   "source": [
    "season['year']=years\n",
    "season['springtemp']=springtemp\n",
    "season['summertemp']=summertemp\n",
    "season['autumntemp']=autumntemp\n",
    "season['wintertemp']=wintertemp"
   ]
  },
  {
   "cell_type": "code",
   "execution_count": 37,
   "id": "italic-notion",
   "metadata": {},
   "outputs": [
    {
     "data": {
      "text/html": [
       "<div>\n",
       "<style scoped>\n",
       "    .dataframe tbody tr th:only-of-type {\n",
       "        vertical-align: middle;\n",
       "    }\n",
       "\n",
       "    .dataframe tbody tr th {\n",
       "        vertical-align: top;\n",
       "    }\n",
       "\n",
       "    .dataframe thead th {\n",
       "        text-align: right;\n",
       "    }\n",
       "</style>\n",
       "<table border=\"1\" class=\"dataframe\">\n",
       "  <thead>\n",
       "    <tr style=\"text-align: right;\">\n",
       "      <th></th>\n",
       "      <th>year</th>\n",
       "      <th>springtemp</th>\n",
       "      <th>summertemp</th>\n",
       "      <th>autumntemp</th>\n",
       "      <th>wintertemp</th>\n",
       "    </tr>\n",
       "  </thead>\n",
       "  <tbody>\n",
       "    <tr>\n",
       "      <th>0</th>\n",
       "      <td>1750</td>\n",
       "      <td>8.563000</td>\n",
       "      <td>14.518333</td>\n",
       "      <td>8.890000</td>\n",
       "      <td>2.963000</td>\n",
       "    </tr>\n",
       "    <tr>\n",
       "      <th>1</th>\n",
       "      <td>1751</td>\n",
       "      <td>6.735000</td>\n",
       "      <td>14.116000</td>\n",
       "      <td>10.673000</td>\n",
       "      <td>1.729000</td>\n",
       "    </tr>\n",
       "    <tr>\n",
       "      <th>2</th>\n",
       "      <td>1752</td>\n",
       "      <td>7.035500</td>\n",
       "      <td>NaN</td>\n",
       "      <td>7.587000</td>\n",
       "      <td>2.717000</td>\n",
       "    </tr>\n",
       "    <tr>\n",
       "      <th>3</th>\n",
       "      <td>1753</td>\n",
       "      <td>8.627333</td>\n",
       "      <td>14.608333</td>\n",
       "      <td>9.212333</td>\n",
       "      <td>1.104333</td>\n",
       "    </tr>\n",
       "    <tr>\n",
       "      <th>4</th>\n",
       "      <td>1754</td>\n",
       "      <td>9.074333</td>\n",
       "      <td>14.208333</td>\n",
       "      <td>8.957333</td>\n",
       "      <td>1.637333</td>\n",
       "    </tr>\n",
       "  </tbody>\n",
       "</table>\n",
       "</div>"
      ],
      "text/plain": [
       "   year  springtemp  summertemp  autumntemp  wintertemp\n",
       "0  1750    8.563000   14.518333    8.890000    2.963000\n",
       "1  1751    6.735000   14.116000   10.673000    1.729000\n",
       "2  1752    7.035500         NaN    7.587000    2.717000\n",
       "3  1753    8.627333   14.608333    9.212333    1.104333\n",
       "4  1754    9.074333   14.208333    8.957333    1.637333"
      ]
     },
     "execution_count": 37,
     "metadata": {},
     "output_type": "execute_result"
    }
   ],
   "source": [
    "season.head()"
   ]
  },
  {
   "cell_type": "code",
   "execution_count": 38,
   "id": "young-chair",
   "metadata": {},
   "outputs": [
    {
     "data": {
      "text/plain": [
       "Index(['year', 'springtemp', 'summertemp', 'autumntemp', 'wintertemp'], dtype='object')"
      ]
     },
     "execution_count": 38,
     "metadata": {},
     "output_type": "execute_result"
    }
   ],
   "source": [
    "season.columns"
   ]
  },
  {
   "cell_type": "code",
   "execution_count": 39,
   "id": "invisible-cycling",
   "metadata": {},
   "outputs": [
    {
     "data": {
      "application/vnd.plotly.v1+json": {
       "config": {
        "plotlyServerURL": "https://plot.ly"
       },
       "data": [
        {
         "hovertemplate": "variable=springtemp<br>year=%{x}<br>value=%{y}<extra></extra>",
         "legendgroup": "springtemp",
         "line": {
          "color": "#636efa",
          "dash": "solid"
         },
         "mode": "lines",
         "name": "springtemp",
         "showlegend": true,
         "type": "scattergl",
         "x": [
          "1750",
          "1751",
          "1752",
          "1753",
          "1754",
          "1755",
          "1756",
          "1757",
          "1758",
          "1759",
          "1760",
          "1761",
          "1762",
          "1763",
          "1764",
          "1765",
          "1766",
          "1767",
          "1768",
          "1769",
          "1770",
          "1771",
          "1772",
          "1773",
          "1774",
          "1775",
          "1776",
          "1777",
          "1778",
          "1779",
          "1780",
          "1781",
          "1782",
          "1783",
          "1784",
          "1785",
          "1786",
          "1787",
          "1788",
          "1789",
          "1790",
          "1791",
          "1792",
          "1793",
          "1794",
          "1795",
          "1796",
          "1797",
          "1798",
          "1799",
          "1800",
          "1801",
          "1802",
          "1803",
          "1804",
          "1805",
          "1806",
          "1807",
          "1808",
          "1809",
          "1810",
          "1811",
          "1812",
          "1813",
          "1814",
          "1815",
          "1816",
          "1817",
          "1818",
          "1819",
          "1820",
          "1821",
          "1822",
          "1823",
          "1824",
          "1825",
          "1826",
          "1827",
          "1828",
          "1829",
          "1830",
          "1831",
          "1832",
          "1833",
          "1834",
          "1835",
          "1836",
          "1837",
          "1838",
          "1839",
          "1840",
          "1841",
          "1842",
          "1843",
          "1844",
          "1845",
          "1846",
          "1847",
          "1848",
          "1849",
          "1850",
          "1851",
          "1852",
          "1853",
          "1854",
          "1855",
          "1856",
          "1857",
          "1858",
          "1859",
          "1860",
          "1861",
          "1862",
          "1863",
          "1864",
          "1865",
          "1866",
          "1867",
          "1868",
          "1869",
          "1870",
          "1871",
          "1872",
          "1873",
          "1874",
          "1875",
          "1876",
          "1877",
          "1878",
          "1879",
          "1880",
          "1881",
          "1882",
          "1883",
          "1884",
          "1885",
          "1886",
          "1887",
          "1888",
          "1889",
          "1890",
          "1891",
          "1892",
          "1893",
          "1894",
          "1895",
          "1896",
          "1897",
          "1898",
          "1899",
          "1900",
          "1901",
          "1902",
          "1903",
          "1904",
          "1905",
          "1906",
          "1907",
          "1908",
          "1909",
          "1910",
          "1911",
          "1912",
          "1913",
          "1914",
          "1915",
          "1916",
          "1917",
          "1918",
          "1919",
          "1920",
          "1921",
          "1922",
          "1923",
          "1924",
          "1925",
          "1926",
          "1927",
          "1928",
          "1929",
          "1930",
          "1931",
          "1932",
          "1933",
          "1934",
          "1935",
          "1936",
          "1937",
          "1938",
          "1939",
          "1940",
          "1941",
          "1942",
          "1943",
          "1944",
          "1945",
          "1946",
          "1947",
          "1948",
          "1949",
          "1950",
          "1951",
          "1952",
          "1953",
          "1954",
          "1955",
          "1956",
          "1957",
          "1958",
          "1959",
          "1960",
          "1961",
          "1962",
          "1963",
          "1964",
          "1965",
          "1966",
          "1967",
          "1968",
          "1969",
          "1970",
          "1971",
          "1972",
          "1973",
          "1974",
          "1975",
          "1976",
          "1977",
          "1978",
          "1979",
          "1980",
          "1981",
          "1982",
          "1983",
          "1984",
          "1985",
          "1986",
          "1987",
          "1988",
          "1989",
          "1990",
          "1991",
          "1992",
          "1993",
          "1994",
          "1995",
          "1996",
          "1997",
          "1998",
          "1999",
          "2000",
          "2001",
          "2002",
          "2003",
          "2004",
          "2005",
          "2006",
          "2007",
          "2008",
          "2009",
          "2010",
          "2011",
          "2012",
          "2013",
          "2014",
          "2015"
         ],
         "xaxis": "x",
         "y": [
          8.563,
          6.734999999999999,
          7.035499999999999,
          8.627333333333334,
          9.074333333333334,
          8.583666666666666,
          9.466,
          8.604666666666667,
          6.896666666666666,
          6.897333333333333,
          6.653666666666666,
          8.916,
          7.809333333333332,
          6.716,
          8.192,
          8.868666666666668,
          8.432333333333332,
          7.831,
          6.144000000000001,
          8.803333333333333,
          7.132000000000001,
          6.0523333333333325,
          7.148666666666666,
          8.866999999999999,
          10.607,
          9.036666666666667,
          7.522333333333333,
          7.774333333333334,
          8.957999999999998,
          10.370666666666667,
          11.737666666666664,
          7.599,
          7.390999999999998,
          8.397333333333334,
          7.3580000000000005,
          6.173666666666667,
          8.849666666666666,
          7.9576666666666656,
          8.159333333333334,
          7.783,
          6.997333333333333,
          7.9253333333333345,
          7.914666666666666,
          8.248,
          9.146333333333333,
          8.552,
          7.507666666666666,
          7.024333333333334,
          8.953333333333333,
          8.041666666666666,
          8.224666666666666,
          8.660666666666666,
          7.760333333333333,
          8.653666666666666,
          8.863,
          8.328999999999999,
          8.075333333333333,
          7.03,
          7.066666666666666,
          6.833666666666666,
          6.872,
          6.481999999999999,
          6.191333333333333,
          7.048333333333333,
          6.424666666666667,
          6.698666666666667,
          7.368333333333332,
          7.311333333333333,
          8.904333333333334,
          6.603666666666666,
          8.312666666666667,
          8.167,
          8.850333333333333,
          7.765333333333333,
          8.287999999999998,
          8.368,
          8.365,
          9.125666666666666,
          8.582333333333333,
          8.070666666666666,
          7.832333333333334,
          7.761,
          7.732666666666667,
          7.657,
          8.351666666666667,
          7.482333333333333,
          7.680666666666667,
          6.797999999999999,
          7.030333333333332,
          6.951333333333333,
          7.718666666666667,
          6.947,
          8.198333333333332,
          7.537999999999999,
          7.410666666666667,
          7.747333333333333,
          8.227666666666666,
          7.549333333333333,
          7.832,
          7.496333333333333,
          7.391666666666666,
          7.530666666666666,
          7.513333333333333,
          7.531333333333333,
          7.805,
          8.127666666666666,
          7.550999999999999,
          7.008,
          7.978333333333334,
          8.340333333333334,
          7.438666666666666,
          7.497333333333333,
          7.515666666666667,
          7.898,
          7.707333333333334,
          7.423333333333332,
          7.7443333333333335,
          7.735666666666667,
          8.009666666666666,
          7.863333333333332,
          7.958000000000001,
          7.937666666666666,
          7.988666666666667,
          7.723999999999999,
          7.919333333333333,
          7.545999999999999,
          7.8790000000000004,
          8.130666666666666,
          8.841333333333333,
          7.831666666666667,
          7.761666666666666,
          8.165999999999999,
          7.873,
          7.817333333333333,
          7.092,
          7.508333333333333,
          7.651666666666666,
          7.726999999999999,
          7.588333333333334,
          8.376666666666667,
          7.470999999999999,
          7.719333333333332,
          7.515333333333333,
          7.906666666666666,
          7.908333333333334,
          7.934333333333334,
          7.500666666666667,
          8,
          7.497666666666667,
          7.973999999999999,
          8.366666666666667,
          8.457,
          7.910666666666667,
          7.851999999999999,
          7.676666666666666,
          7.790666666666667,
          8.244,
          7.509666666666667,
          7.702999999999999,
          7.578,
          7.905333333333334,
          7.722,
          7.946333333333333,
          7.761666666666666,
          8.108333333333333,
          8.447000000000001,
          7.954999999999999,
          7.5953333333333335,
          7.664999999999999,
          8.066333333333333,
          8.216999999999999,
          8.216666666666667,
          8.211,
          7.821333333333333,
          8.17,
          8.202333333333334,
          8.318333333333333,
          7.935666666666666,
          8.124,
          8.036,
          8.256666666666666,
          8.134333333333332,
          8.316,
          8.013666666666667,
          8.104,
          8.025333333333334,
          8.136333333333333,
          8.137666666666666,
          8.673333333333334,
          8.259333333333332,
          8.506,
          8.427,
          8.354,
          8.420333333333334,
          8.433,
          8.320666666666668,
          8.476,
          8.605333333333334,
          8.318333333333333,
          8.243333333333332,
          8.222333333333333,
          8.298666666666668,
          8.26,
          8.706000000000001,
          8.097999999999999,
          7.970999999999999,
          7.8439999999999985,
          8.220333333333334,
          8.497333333333332,
          8.665333333333333,
          7.769333333333333,
          8.614666666666666,
          8.399333333333333,
          8.104999999999999,
          7.897333333333333,
          8.131333333333332,
          8.296,
          8.495333333333333,
          8.546666666666667,
          8.353666666666667,
          8.360333333333333,
          8.183666666666667,
          8.259666666666666,
          8.84233333333333,
          8.258000000000001,
          8.677333333333333,
          7.917666666666666,
          8.777333333333333,
          8.604,
          8.376,
          8.690666666666665,
          8.918999999999999,
          8.228666666666667,
          8.706999999999999,
          8.693,
          8.503333333333332,
          8.735666666666665,
          8.455,
          8.924999999999999,
          8.587000000000002,
          9.243333333333334,
          8.805333333333333,
          8.686333333333332,
          8.696,
          8.811,
          8.832666666666666,
          8.597,
          8.832,
          9.224,
          8.691333333333333,
          9.215,
          9.241333333333333,
          9.416333333333332,
          9.118333333333332,
          9.046999999999999,
          9.462666666666665,
          9.056666666666667,
          9.608666666666666,
          9.418333333333333,
          9.188333333333333,
          9.604999999999999,
          9.19,
          9.429666666666666,
          9.166666666666666,
          9.516333333333334,
          9.455
         ],
         "yaxis": "y"
        },
        {
         "hovertemplate": "variable=summertemp<br>year=%{x}<br>value=%{y}<extra></extra>",
         "legendgroup": "summertemp",
         "line": {
          "color": "#EF553B",
          "dash": "solid"
         },
         "mode": "lines",
         "name": "summertemp",
         "showlegend": true,
         "type": "scattergl",
         "x": [
          "1750",
          "1751",
          "1752",
          "1753",
          "1754",
          "1755",
          "1756",
          "1757",
          "1758",
          "1759",
          "1760",
          "1761",
          "1762",
          "1763",
          "1764",
          "1765",
          "1766",
          "1767",
          "1768",
          "1769",
          "1770",
          "1771",
          "1772",
          "1773",
          "1774",
          "1775",
          "1776",
          "1777",
          "1778",
          "1779",
          "1780",
          "1781",
          "1782",
          "1783",
          "1784",
          "1785",
          "1786",
          "1787",
          "1788",
          "1789",
          "1790",
          "1791",
          "1792",
          "1793",
          "1794",
          "1795",
          "1796",
          "1797",
          "1798",
          "1799",
          "1800",
          "1801",
          "1802",
          "1803",
          "1804",
          "1805",
          "1806",
          "1807",
          "1808",
          "1809",
          "1810",
          "1811",
          "1812",
          "1813",
          "1814",
          "1815",
          "1816",
          "1817",
          "1818",
          "1819",
          "1820",
          "1821",
          "1822",
          "1823",
          "1824",
          "1825",
          "1826",
          "1827",
          "1828",
          "1829",
          "1830",
          "1831",
          "1832",
          "1833",
          "1834",
          "1835",
          "1836",
          "1837",
          "1838",
          "1839",
          "1840",
          "1841",
          "1842",
          "1843",
          "1844",
          "1845",
          "1846",
          "1847",
          "1848",
          "1849",
          "1850",
          "1851",
          "1852",
          "1853",
          "1854",
          "1855",
          "1856",
          "1857",
          "1858",
          "1859",
          "1860",
          "1861",
          "1862",
          "1863",
          "1864",
          "1865",
          "1866",
          "1867",
          "1868",
          "1869",
          "1870",
          "1871",
          "1872",
          "1873",
          "1874",
          "1875",
          "1876",
          "1877",
          "1878",
          "1879",
          "1880",
          "1881",
          "1882",
          "1883",
          "1884",
          "1885",
          "1886",
          "1887",
          "1888",
          "1889",
          "1890",
          "1891",
          "1892",
          "1893",
          "1894",
          "1895",
          "1896",
          "1897",
          "1898",
          "1899",
          "1900",
          "1901",
          "1902",
          "1903",
          "1904",
          "1905",
          "1906",
          "1907",
          "1908",
          "1909",
          "1910",
          "1911",
          "1912",
          "1913",
          "1914",
          "1915",
          "1916",
          "1917",
          "1918",
          "1919",
          "1920",
          "1921",
          "1922",
          "1923",
          "1924",
          "1925",
          "1926",
          "1927",
          "1928",
          "1929",
          "1930",
          "1931",
          "1932",
          "1933",
          "1934",
          "1935",
          "1936",
          "1937",
          "1938",
          "1939",
          "1940",
          "1941",
          "1942",
          "1943",
          "1944",
          "1945",
          "1946",
          "1947",
          "1948",
          "1949",
          "1950",
          "1951",
          "1952",
          "1953",
          "1954",
          "1955",
          "1956",
          "1957",
          "1958",
          "1959",
          "1960",
          "1961",
          "1962",
          "1963",
          "1964",
          "1965",
          "1966",
          "1967",
          "1968",
          "1969",
          "1970",
          "1971",
          "1972",
          "1973",
          "1974",
          "1975",
          "1976",
          "1977",
          "1978",
          "1979",
          "1980",
          "1981",
          "1982",
          "1983",
          "1984",
          "1985",
          "1986",
          "1987",
          "1988",
          "1989",
          "1990",
          "1991",
          "1992",
          "1993",
          "1994",
          "1995",
          "1996",
          "1997",
          "1998",
          "1999",
          "2000",
          "2001",
          "2002",
          "2003",
          "2004",
          "2005",
          "2006",
          "2007",
          "2008",
          "2009",
          "2010",
          "2011",
          "2012",
          "2013",
          "2014",
          "2015"
         ],
         "xaxis": "x",
         "y": [
          14.518333333333333,
          14.116,
          null,
          14.608333333333334,
          14.208333333333334,
          14.430666666666667,
          13.963333333333333,
          17.544999999999998,
          12.934666666666665,
          13.541666666666666,
          12.916333333333334,
          17.057666666666666,
          14.070333333333332,
          14.262666666666666,
          12.170666666666667,
          12.635333333333334,
          13.655333333333331,
          14.023333333333333,
          12.905666666666667,
          14.365666666666668,
          11.639333333333335,
          14.045333333333332,
          13.775333333333334,
          13.639666666666669,
          15.330333333333334,
          13.822666666666668,
          14.503,
          12.627,
          13.212333333333333,
          13.335,
          14.625666666666666,
          13.368,
          14.469666666666667,
          13.793333333333331,
          14.537,
          14.226,
          14.261333333333333,
          13.791666666666666,
          14.720333333333334,
          14.269666666666666,
          13.827666666666667,
          13.529000000000002,
          13.357999999999999,
          13.547333333333333,
          12.784,
          13.576,
          14.417333333333334,
          13.999666666666664,
          14.317,
          14.211666666666666,
          13.662666666666667,
          13.466333333333331,
          14.379333333333333,
          14.764333333333333,
          14.686333333333332,
          14.666333333333332,
          13.644666666666666,
          13.743333333333332,
          13.655666666666667,
          12.853,
          12.175333333333333,
          12.472999999999999,
          13.792666666666667,
          13.62,
          12.672666666666666,
          12.921666666666667,
          12.208999999999998,
          12.254,
          13.500333333333336,
          12.707,
          12.870666666666667,
          12.930666666666667,
          13.498,
          13.761666666666668,
          13.897999999999998,
          13.680333333333332,
          13.537,
          13.975333333333333,
          14.047666666666666,
          13.494666666666667,
          13.718333333333334,
          13.091000000000001,
          12.85,
          13.357999999999999,
          13.469333333333333,
          12.485999999999999,
          13.008333333333333,
          12.881,
          13.559,
          13.676333333333332,
          13.737,
          13.774,
          13.151333333333334,
          13.272,
          13.269,
          13.579333333333333,
          14.191333333333333,
          13.497333333333332,
          13.660333333333334,
          13.687,
          13.893666666666668,
          13.899999999999999,
          13.660000000000002,
          14.002666666666665,
          13.803333333333333,
          13.485666666666667,
          13.512,
          13.255666666666665,
          13.284333333333334,
          13.395333333333333,
          13.746666666666664,
          13.546666666666667,
          13.325333333333333,
          13.284333333333334,
          13.653666666666666,
          13.671333333333335,
          13.662333333333331,
          13.677333333333335,
          13.806666666666667,
          13.961333333333334,
          13.912,
          13.767333333333333,
          13.720333333333334,
          13.815666666666667,
          13.747666666666666,
          13.567333333333332,
          13.643666666666666,
          14.059,
          14.210666666666667,
          13.571,
          13.758333333333333,
          13.552666666666667,
          13.418333333333331,
          13.512333333333332,
          13.135333333333334,
          13.346333333333334,
          13.446,
          13.336,
          13.558,
          13.672333333333333,
          13.390666666666666,
          13.438,
          13.524333333333333,
          13.607666666666667,
          13.450000000000001,
          13.533333333333333,
          13.720333333333334,
          13.765666666666666,
          13.704,
          13.597333333333333,
          13.76,
          13.850333333333333,
          13.681333333333333,
          13.43,
          13.436333333333332,
          13.588999999999999,
          13.715666666666666,
          13.286666666666667,
          13.622,
          13.591333333333333,
          13.702333333333334,
          13.530000000000001,
          13.403666666666666,
          13.622,
          13.841333333333333,
          13.837666666666669,
          13.524666666666667,
          13.548333333333332,
          13.447000000000001,
          13.762666666666666,
          13.682666666666668,
          13.812333333333333,
          13.731,
          13.630333333333335,
          13.766666666666667,
          13.641333333333334,
          13.776666666666666,
          13.764333333333333,
          13.703333333333333,
          13.521666666666667,
          13.913333333333332,
          14.089666666666666,
          13.831666666666665,
          13.702,
          13.841,
          13.810666666666668,
          13.950666666666665,
          13.995,
          13.921999999999999,
          13.952666666666667,
          13.988333333333335,
          14.117333333333335,
          13.868666666666668,
          13.798333333333334,
          13.987666666666664,
          13.951333333333332,
          13.847,
          13.878333333333332,
          14.001666666666667,
          13.749333333333334,
          13.660666666666666,
          13.865,
          13.985,
          14.020999999999999,
          13.836333333333334,
          14.028333333333334,
          13.509666666666666,
          13.998,
          13.740666666666668,
          13.959666666666669,
          13.835666666666668,
          13.946333333333333,
          13.781666666666666,
          14.075666666666665,
          13.812666666666667,
          13.731,
          13.962333333333333,
          13.781999999999998,
          13.584666666666665,
          13.832333333333333,
          13.855333333333334,
          13.705666666666666,
          13.967666666666666,
          14.042666666666667,
          13.895333333333333,
          13.807333333333332,
          13.583999999999998,
          14.198999999999998,
          13.627,
          13.811333333333332,
          14.171000000000001,
          14.335,
          13.862,
          14.062666666666667,
          13.933333333333335,
          13.866999999999999,
          13.901333333333334,
          14.237666666666668,
          14.483333333333334,
          14.064666666666666,
          14.257333333333333,
          14.523000000000001,
          13.826999999999998,
          13.982666666666667,
          14.259666666666666,
          14.638666666666666,
          14.370333333333333,
          14.317333333333332,
          14.911666666666667,
          14.410666666666666,
          14.475666666666667,
          14.566,
          14.665999999999999,
          14.563666666666668,
          14.129666666666667,
          14.725333333333333,
          14.799333333333331,
          14.763666666666667,
          14.565333333333333,
          14.695666666666668,
          14.800666666666666,
          14.954666666666666,
          14.762666666666668,
          14.771,
          14.694333333333333,
          14.770333333333333
         ],
         "yaxis": "y"
        },
        {
         "hovertemplate": "variable=autumntemp<br>year=%{x}<br>value=%{y}<extra></extra>",
         "legendgroup": "autumntemp",
         "line": {
          "color": "#00cc96",
          "dash": "solid"
         },
         "mode": "lines",
         "name": "autumntemp",
         "showlegend": true,
         "type": "scattergl",
         "x": [
          "1750",
          "1751",
          "1752",
          "1753",
          "1754",
          "1755",
          "1756",
          "1757",
          "1758",
          "1759",
          "1760",
          "1761",
          "1762",
          "1763",
          "1764",
          "1765",
          "1766",
          "1767",
          "1768",
          "1769",
          "1770",
          "1771",
          "1772",
          "1773",
          "1774",
          "1775",
          "1776",
          "1777",
          "1778",
          "1779",
          "1780",
          "1781",
          "1782",
          "1783",
          "1784",
          "1785",
          "1786",
          "1787",
          "1788",
          "1789",
          "1790",
          "1791",
          "1792",
          "1793",
          "1794",
          "1795",
          "1796",
          "1797",
          "1798",
          "1799",
          "1800",
          "1801",
          "1802",
          "1803",
          "1804",
          "1805",
          "1806",
          "1807",
          "1808",
          "1809",
          "1810",
          "1811",
          "1812",
          "1813",
          "1814",
          "1815",
          "1816",
          "1817",
          "1818",
          "1819",
          "1820",
          "1821",
          "1822",
          "1823",
          "1824",
          "1825",
          "1826",
          "1827",
          "1828",
          "1829",
          "1830",
          "1831",
          "1832",
          "1833",
          "1834",
          "1835",
          "1836",
          "1837",
          "1838",
          "1839",
          "1840",
          "1841",
          "1842",
          "1843",
          "1844",
          "1845",
          "1846",
          "1847",
          "1848",
          "1849",
          "1850",
          "1851",
          "1852",
          "1853",
          "1854",
          "1855",
          "1856",
          "1857",
          "1858",
          "1859",
          "1860",
          "1861",
          "1862",
          "1863",
          "1864",
          "1865",
          "1866",
          "1867",
          "1868",
          "1869",
          "1870",
          "1871",
          "1872",
          "1873",
          "1874",
          "1875",
          "1876",
          "1877",
          "1878",
          "1879",
          "1880",
          "1881",
          "1882",
          "1883",
          "1884",
          "1885",
          "1886",
          "1887",
          "1888",
          "1889",
          "1890",
          "1891",
          "1892",
          "1893",
          "1894",
          "1895",
          "1896",
          "1897",
          "1898",
          "1899",
          "1900",
          "1901",
          "1902",
          "1903",
          "1904",
          "1905",
          "1906",
          "1907",
          "1908",
          "1909",
          "1910",
          "1911",
          "1912",
          "1913",
          "1914",
          "1915",
          "1916",
          "1917",
          "1918",
          "1919",
          "1920",
          "1921",
          "1922",
          "1923",
          "1924",
          "1925",
          "1926",
          "1927",
          "1928",
          "1929",
          "1930",
          "1931",
          "1932",
          "1933",
          "1934",
          "1935",
          "1936",
          "1937",
          "1938",
          "1939",
          "1940",
          "1941",
          "1942",
          "1943",
          "1944",
          "1945",
          "1946",
          "1947",
          "1948",
          "1949",
          "1950",
          "1951",
          "1952",
          "1953",
          "1954",
          "1955",
          "1956",
          "1957",
          "1958",
          "1959",
          "1960",
          "1961",
          "1962",
          "1963",
          "1964",
          "1965",
          "1966",
          "1967",
          "1968",
          "1969",
          "1970",
          "1971",
          "1972",
          "1973",
          "1974",
          "1975",
          "1976",
          "1977",
          "1978",
          "1979",
          "1980",
          "1981",
          "1982",
          "1983",
          "1984",
          "1985",
          "1986",
          "1987",
          "1988",
          "1989",
          "1990",
          "1991",
          "1992",
          "1993",
          "1994",
          "1995",
          "1996",
          "1997",
          "1998",
          "1999",
          "2000",
          "2001",
          "2002",
          "2003",
          "2004",
          "2005",
          "2006",
          "2007",
          "2008",
          "2009",
          "2010",
          "2011",
          "2012",
          "2013",
          "2014",
          "2015"
         ],
         "xaxis": "x",
         "y": [
          8.889999999999999,
          10.673,
          7.587,
          9.212333333333333,
          8.957333333333333,
          9.233666666666666,
          8.063,
          8.455333333333334,
          6.2923333333333344,
          8.387,
          7.778,
          8.283666666666667,
          7.616333333333333,
          7.167000000000001,
          8.832666666666666,
          8.166666666666666,
          9.389666666666667,
          9.539,
          7.711333333333333,
          6.445666666666665,
          8.392,
          8.865333333333334,
          9.102333333333334,
          8.354333333333333,
          7.5183333333333335,
          9.882333333333333,
          8.177333333333333,
          7.954666666666667,
          8.426666666666668,
          9.267666666666667,
          8.308666666666666,
          8.791333333333332,
          8.777333333333333,
          6.503666666666667,
          7.219666666666666,
          7.791333333333333,
          8.537,
          7.976666666666667,
          9.053,
          8.457333333333333,
          8.380333333333335,
          8.654333333333332,
          8.631333333333334,
          8.687,
          8.762666666666666,
          8.042,
          8.879333333333333,
          8.809,
          8.771,
          9.273666666666667,
          8.612,
          8.760333333333334,
          9.023333333333332,
          9.136666666666665,
          9.627333333333334,
          8.076666666666666,
          8.735333333333335,
          9.162333333333335,
          8.398333333333333,
          7.572,
          6.663666666666667,
          6.817,
          7.3823333333333325,
          9.276666666666667,
          8.263,
          7.488666666666667,
          6.7156666666666665,
          6.550999999999999,
          7.4223333333333334,
          8.451999999999998,
          7.730333333333333,
          8.104666666666667,
          7.656666666666667,
          7.449333333333333,
          8.534,
          8.395,
          8.757,
          8.557333333333334,
          8.231,
          8.135666666666667,
          8.675333333333333,
          7.396,
          7.774,
          8.577333333333334,
          8.847666666666667,
          7.363,
          7.794,
          7.542333333333333,
          8.264,
          7.663999999999999,
          7.538666666666667,
          8.143333333333333,
          8.023666666666665,
          8.331666666666667,
          7.973333333333333,
          8.07,
          8.337,
          8.603666666666667,
          8.314,
          8.586999999999998,
          8.109666666666667,
          8.590666666666666,
          8.327,
          8.342666666666668,
          9.007333333333333,
          8.257,
          8.131666666666666,
          8.163333333333332,
          8.649333333333333,
          8.608666666666666,
          8.543666666666667,
          8.530333333333333,
          8.034333333333334,
          8.285666666666666,
          8.465666666666666,
          9.025666666666666,
          8.642666666666667,
          9.304666666666668,
          8.769666666666668,
          9.008666666666667,
          8.787333333333331,
          8.64,
          8.856666666666667,
          8.846666666666666,
          9.013333333333334,
          8.172666666666666,
          8.575333333333333,
          9.232,
          9.237333333333334,
          8.734666666666667,
          8.650666666666666,
          8.604,
          8.415666666666667,
          8.385666666666665,
          8.326666666666666,
          8.527333333333335,
          8.476666666666667,
          8.679,
          8.892666666666669,
          8.470333333333334,
          8.584666666666667,
          8.533333333333333,
          8.637666666666666,
          8.943,
          8.703333333333333,
          8.868,
          8.868666666666668,
          8.91,
          8.677666666666665,
          9.380666666666666,
          9.141666666666667,
          8.987666666666668,
          8.624666666666668,
          8.609666666666667,
          8.814666666666666,
          9.009333333333332,
          8.846666666666666,
          8.702,
          8.704666666666666,
          9.102333333333332,
          8.685666666666668,
          8.955,
          8.37,
          8.953333333333333,
          9.020333333333333,
          9.022333333333334,
          8.791666666666668,
          8.703000000000001,
          8.999,
          8.946666666666667,
          8.793666666666667,
          8.999,
          8.959,
          9.260333333333334,
          9.186666666666667,
          9.171666666666665,
          9.308333333333334,
          9.495666666666667,
          9.283999999999999,
          9.146333333333335,
          9.236333333333333,
          9.487666666666666,
          9.3,
          8.994,
          9.181666666666667,
          8.985999999999999,
          9.237,
          9.499333333333333,
          9.580333333333334,
          9.121666666666666,
          9.267000000000001,
          9.159666666666668,
          9.389333333333335,
          9.421,
          9.449666666666667,
          9.290999999999999,
          9.193333333333333,
          9.528,
          9.308,
          9.212,
          8.825666666666667,
          9.406333333333334,
          8.94,
          9.237666666666668,
          9.407666666666666,
          9.220666666666666,
          8.816333333333333,
          9.399666666666667,
          9.159999999999998,
          8.952666666666667,
          9.139999999999999,
          9.26,
          9.256333333333334,
          9.686333333333332,
          8.806333333333333,
          9.026,
          9.085,
          9.346333333333334,
          8.988,
          9.319,
          9.224,
          9.274000000000001,
          9.014666666666667,
          9.318666666666667,
          8.919,
          9.121,
          8.688666666666666,
          9.187333333333333,
          9.239666666666666,
          9.373,
          9.518333333333334,
          9.301,
          9.077333333333334,
          9.647,
          9.068,
          9.095333333333333,
          9.011666666666667,
          9.364333333333333,
          9.651666666666666,
          9.447333333333333,
          9.665666666666667,
          9.623333333333333,
          8.971333333333332,
          9.094,
          9.768666666666666,
          9.810666666666666,
          9.455333333333334,
          9.878333333333334,
          9.672666666666666,
          9.770666666666665,
          9.448333333333334,
          9.996666666666666,
          9.943333333333333,
          10.020666666666667,
          10.028,
          10.413666666666666,
          10.039666666666667,
          10.115333333333334,
          10.141666666666667,
          10.106666666666667,
          10.264000000000001,
          10.026000000000002,
          10.208,
          10.278,
          10.044666666666666,
          10.411
         ],
         "yaxis": "y"
        },
        {
         "hovertemplate": "variable=wintertemp<br>year=%{x}<br>value=%{y}<extra></extra>",
         "legendgroup": "wintertemp",
         "line": {
          "color": "#ab63fa",
          "dash": "solid"
         },
         "mode": "lines",
         "name": "wintertemp",
         "showlegend": true,
         "type": "scattergl",
         "x": [
          "1750",
          "1751",
          "1752",
          "1753",
          "1754",
          "1755",
          "1756",
          "1757",
          "1758",
          "1759",
          "1760",
          "1761",
          "1762",
          "1763",
          "1764",
          "1765",
          "1766",
          "1767",
          "1768",
          "1769",
          "1770",
          "1771",
          "1772",
          "1773",
          "1774",
          "1775",
          "1776",
          "1777",
          "1778",
          "1779",
          "1780",
          "1781",
          "1782",
          "1783",
          "1784",
          "1785",
          "1786",
          "1787",
          "1788",
          "1789",
          "1790",
          "1791",
          "1792",
          "1793",
          "1794",
          "1795",
          "1796",
          "1797",
          "1798",
          "1799",
          "1800",
          "1801",
          "1802",
          "1803",
          "1804",
          "1805",
          "1806",
          "1807",
          "1808",
          "1809",
          "1810",
          "1811",
          "1812",
          "1813",
          "1814",
          "1815",
          "1816",
          "1817",
          "1818",
          "1819",
          "1820",
          "1821",
          "1822",
          "1823",
          "1824",
          "1825",
          "1826",
          "1827",
          "1828",
          "1829",
          "1830",
          "1831",
          "1832",
          "1833",
          "1834",
          "1835",
          "1836",
          "1837",
          "1838",
          "1839",
          "1840",
          "1841",
          "1842",
          "1843",
          "1844",
          "1845",
          "1846",
          "1847",
          "1848",
          "1849",
          "1850",
          "1851",
          "1852",
          "1853",
          "1854",
          "1855",
          "1856",
          "1857",
          "1858",
          "1859",
          "1860",
          "1861",
          "1862",
          "1863",
          "1864",
          "1865",
          "1866",
          "1867",
          "1868",
          "1869",
          "1870",
          "1871",
          "1872",
          "1873",
          "1874",
          "1875",
          "1876",
          "1877",
          "1878",
          "1879",
          "1880",
          "1881",
          "1882",
          "1883",
          "1884",
          "1885",
          "1886",
          "1887",
          "1888",
          "1889",
          "1890",
          "1891",
          "1892",
          "1893",
          "1894",
          "1895",
          "1896",
          "1897",
          "1898",
          "1899",
          "1900",
          "1901",
          "1902",
          "1903",
          "1904",
          "1905",
          "1906",
          "1907",
          "1908",
          "1909",
          "1910",
          "1911",
          "1912",
          "1913",
          "1914",
          "1915",
          "1916",
          "1917",
          "1918",
          "1919",
          "1920",
          "1921",
          "1922",
          "1923",
          "1924",
          "1925",
          "1926",
          "1927",
          "1928",
          "1929",
          "1930",
          "1931",
          "1932",
          "1933",
          "1934",
          "1935",
          "1936",
          "1937",
          "1938",
          "1939",
          "1940",
          "1941",
          "1942",
          "1943",
          "1944",
          "1945",
          "1946",
          "1947",
          "1948",
          "1949",
          "1950",
          "1951",
          "1952",
          "1953",
          "1954",
          "1955",
          "1956",
          "1957",
          "1958",
          "1959",
          "1960",
          "1961",
          "1962",
          "1963",
          "1964",
          "1965",
          "1966",
          "1967",
          "1968",
          "1969",
          "1970",
          "1971",
          "1972",
          "1973",
          "1974",
          "1975",
          "1976",
          "1977",
          "1978",
          "1979",
          "1980",
          "1981",
          "1982",
          "1983",
          "1984",
          "1985",
          "1986",
          "1987",
          "1988",
          "1989",
          "1990",
          "1991",
          "1992",
          "1993",
          "1994",
          "1995",
          "1996",
          "1997",
          "1998",
          "1999",
          "2000",
          "2001",
          "2002",
          "2003",
          "2004",
          "2005",
          "2006",
          "2007",
          "2008",
          "2009",
          "2010",
          "2011",
          "2012",
          "2013",
          "2014",
          "2015"
         ],
         "xaxis": "x",
         "y": [
          2.9630000000000005,
          1.729,
          2.7170000000000005,
          1.1043333333333332,
          1.6373333333333333,
          1.1743333333333332,
          3.906,
          1.4829999999999999,
          0.8506666666666668,
          3.114333333333333,
          1.3926666666666667,
          0.8326666666666666,
          4.930000000000001,
          1.8413333333333333,
          4.406,
          3.3369999999999997,
          2.1453333333333333,
          1.4926666666666666,
          0.36433333333333334,
          1.1636666666666666,
          3.6043333333333334,
          2.449666666666667,
          2.747666666666667,
          2.0249999999999995,
          1.633,
          3.9906666666666673,
          3.013333333333333,
          4.6690000000000005,
          3.571999999999999,
          2.9596666666666667,
          3.0596666666666668,
          2.6519999999999997,
          0.967,
          2.029,
          2.3333333333333335,
          1.261,
          1.3846666666666667,
          2.4013333333333335,
          1.856,
          2.8266666666666667,
          2.724,
          2.828333333333333,
          2.452,
          2.4343333333333335,
          3.411,
          3.2313333333333336,
          2.279666666666667,
          4.209333333333333,
          2.639666666666667,
          2.496,
          3.4376666666666664,
          3.4713333333333334,
          3.1496666666666666,
          1.4573333333333334,
          2.202666666666667,
          3.179,
          3.281,
          3.1899999999999995,
          1.3866666666666667,
          1.047,
          1.9796666666666667,
          1.6660000000000001,
          0.8186666666666668,
          1.0146666666666666,
          3.0066666666666673,
          1.8483333333333334,
          1.457,
          1.7863333333333333,
          1.4886666666666668,
          1.7140000000000002,
          1.5513333333333332,
          3.158,
          2.7483333333333335,
          1.8983333333333334,
          3.468666666666667,
          3.1139999999999994,
          2.767333333333333,
          3.576666666666666,
          1.8003333333333336,
          2.066333333333333,
          3.8409999999999997,
          2.308666666666667,
          1.4439999999999997,
          2.4596666666666667,
          1.9183333333333337,
          2.238666666666667,
          2.300333333333333,
          2.2813333333333334,
          1.2063333333333335,
          2.2373333333333334,
          2.1906666666666665,
          1.8883333333333334,
          2.7176666666666667,
          3.5530000000000004,
          1.9323333333333335,
          2.008,
          3.455,
          2.6936666666666667,
          2.111666666666667,
          2.167333333333333,
          2.207666666666667,
          2.693,
          2.9003333333333337,
          2.2906666666666666,
          2.2263333333333333,
          2.5726666666666667,
          2.7889999999999997,
          2.6056666666666666,
          2.489,
          2.663666666666667,
          2.114333333333333,
          1.8116666666666668,
          1.359,
          2.9793333333333334,
          2.1076666666666664,
          2.5910000000000006,
          3.1193333333333335,
          3.0276666666666667,
          2.405666666666667,
          2.895,
          2.148,
          2.1153333333333335,
          2.2096666666666667,
          3.0180000000000002,
          3.0536666666666665,
          2.1523333333333334,
          2.2223333333333333,
          2.736666666666667,
          3.029666666666667,
          2.5260000000000002,
          2.3043333333333336,
          2.7610000000000006,
          2.808666666666667,
          2.1923333333333335,
          2.5406666666666666,
          2.296666666666667,
          2.2436666666666665,
          1.9176666666666666,
          2.323,
          2.7566666666666664,
          2.4403333333333332,
          2.3866666666666667,
          2.5860000000000003,
          1.7696666666666665,
          2.582333333333333,
          2.252333333333333,
          2.7699999999999996,
          2.497666666666667,
          2.832666666666667,
          2.6333333333333333,
          2.738,
          2.872666666666667,
          3.001,
          2.9890000000000003,
          2.436,
          2.5116666666666667,
          2.7099999999999995,
          2.2903333333333333,
          2.7146666666666666,
          2.441333333333334,
          2.598666666666667,
          2.501,
          2.9416666666666664,
          2.8539999999999996,
          3.392,
          3.0656666666666665,
          2.6296666666666666,
          2.2466666666666666,
          2.412333333333333,
          2.7533333333333334,
          2.7416666666666667,
          3.2560000000000002,
          2.731,
          2.9766666666666666,
          2.904,
          3.122333333333333,
          3.512,
          2.8926666666666665,
          3.4173333333333336,
          2.2656666666666667,
          3.128,
          3.1653333333333333,
          3.3733333333333335,
          2.6433333333333335,
          3.3866666666666667,
          3.241,
          2.892,
          3.1613333333333333,
          3.279,
          3.7076666666666664,
          3.297333333333333,
          3.3706666666666667,
          3.301666666666667,
          3.3806666666666665,
          3.5096666666666665,
          2.7763333333333335,
          3.191333333333333,
          3.176666666666667,
          3.359,
          3.142333333333333,
          2.752333333333333,
          2.932666666666666,
          3.368,
          3.5303333333333335,
          2.9006666666666674,
          3.285,
          2.9483333333333337,
          3.312,
          3.6970000000000005,
          3.3529999999999998,
          3.59,
          3.369666666666667,
          3.546333333333333,
          3.557,
          3.1223333333333336,
          3.2213333333333334,
          3.0540000000000003,
          3.176666666666667,
          2.946,
          2.8753333333333337,
          3.3640000000000003,
          3.2336666666666667,
          2.7563333333333335,
          3.5893333333333337,
          2.7976666666666667,
          3.373666666666667,
          3.1986666666666665,
          3.2373333333333334,
          3.300333333333333,
          3.3733333333333335,
          3.5413333333333337,
          4.108333333333333,
          3.388666666666667,
          3.696,
          3.0730000000000004,
          3.1663333333333337,
          3.6856666666666666,
          3.920666666666667,
          3.7463333333333337,
          3.589,
          3.7703333333333333,
          3.7660000000000005,
          3.861666666666667,
          3.6936666666666667,
          3.3156666666666665,
          4.1063333333333345,
          3.7330000000000005,
          3.782666666666666,
          4.282333333333334,
          4.267666666666667,
          3.6656666666666666,
          3.8543333333333334,
          4.256,
          4.399666666666666,
          4.093666666666667,
          4.202,
          4.234333333333333,
          4.441,
          3.6016666666666666,
          4.030333333333332,
          4.142666666666666,
          3.893333333333333,
          3.629,
          4.210333333333334,
          4.027333333333334,
          4.687666666666666
         ],
         "yaxis": "y"
        }
       ],
       "layout": {
        "legend": {
         "title": {
          "text": "variable"
         },
         "tracegroupgap": 0
        },
        "template": {
         "data": {
          "bar": [
           {
            "error_x": {
             "color": "#2a3f5f"
            },
            "error_y": {
             "color": "#2a3f5f"
            },
            "marker": {
             "line": {
              "color": "#E5ECF6",
              "width": 0.5
             }
            },
            "type": "bar"
           }
          ],
          "barpolar": [
           {
            "marker": {
             "line": {
              "color": "#E5ECF6",
              "width": 0.5
             }
            },
            "type": "barpolar"
           }
          ],
          "carpet": [
           {
            "aaxis": {
             "endlinecolor": "#2a3f5f",
             "gridcolor": "white",
             "linecolor": "white",
             "minorgridcolor": "white",
             "startlinecolor": "#2a3f5f"
            },
            "baxis": {
             "endlinecolor": "#2a3f5f",
             "gridcolor": "white",
             "linecolor": "white",
             "minorgridcolor": "white",
             "startlinecolor": "#2a3f5f"
            },
            "type": "carpet"
           }
          ],
          "choropleth": [
           {
            "colorbar": {
             "outlinewidth": 0,
             "ticks": ""
            },
            "type": "choropleth"
           }
          ],
          "contour": [
           {
            "colorbar": {
             "outlinewidth": 0,
             "ticks": ""
            },
            "colorscale": [
             [
              0,
              "#0d0887"
             ],
             [
              0.1111111111111111,
              "#46039f"
             ],
             [
              0.2222222222222222,
              "#7201a8"
             ],
             [
              0.3333333333333333,
              "#9c179e"
             ],
             [
              0.4444444444444444,
              "#bd3786"
             ],
             [
              0.5555555555555556,
              "#d8576b"
             ],
             [
              0.6666666666666666,
              "#ed7953"
             ],
             [
              0.7777777777777778,
              "#fb9f3a"
             ],
             [
              0.8888888888888888,
              "#fdca26"
             ],
             [
              1,
              "#f0f921"
             ]
            ],
            "type": "contour"
           }
          ],
          "contourcarpet": [
           {
            "colorbar": {
             "outlinewidth": 0,
             "ticks": ""
            },
            "type": "contourcarpet"
           }
          ],
          "heatmap": [
           {
            "colorbar": {
             "outlinewidth": 0,
             "ticks": ""
            },
            "colorscale": [
             [
              0,
              "#0d0887"
             ],
             [
              0.1111111111111111,
              "#46039f"
             ],
             [
              0.2222222222222222,
              "#7201a8"
             ],
             [
              0.3333333333333333,
              "#9c179e"
             ],
             [
              0.4444444444444444,
              "#bd3786"
             ],
             [
              0.5555555555555556,
              "#d8576b"
             ],
             [
              0.6666666666666666,
              "#ed7953"
             ],
             [
              0.7777777777777778,
              "#fb9f3a"
             ],
             [
              0.8888888888888888,
              "#fdca26"
             ],
             [
              1,
              "#f0f921"
             ]
            ],
            "type": "heatmap"
           }
          ],
          "heatmapgl": [
           {
            "colorbar": {
             "outlinewidth": 0,
             "ticks": ""
            },
            "colorscale": [
             [
              0,
              "#0d0887"
             ],
             [
              0.1111111111111111,
              "#46039f"
             ],
             [
              0.2222222222222222,
              "#7201a8"
             ],
             [
              0.3333333333333333,
              "#9c179e"
             ],
             [
              0.4444444444444444,
              "#bd3786"
             ],
             [
              0.5555555555555556,
              "#d8576b"
             ],
             [
              0.6666666666666666,
              "#ed7953"
             ],
             [
              0.7777777777777778,
              "#fb9f3a"
             ],
             [
              0.8888888888888888,
              "#fdca26"
             ],
             [
              1,
              "#f0f921"
             ]
            ],
            "type": "heatmapgl"
           }
          ],
          "histogram": [
           {
            "marker": {
             "colorbar": {
              "outlinewidth": 0,
              "ticks": ""
             }
            },
            "type": "histogram"
           }
          ],
          "histogram2d": [
           {
            "colorbar": {
             "outlinewidth": 0,
             "ticks": ""
            },
            "colorscale": [
             [
              0,
              "#0d0887"
             ],
             [
              0.1111111111111111,
              "#46039f"
             ],
             [
              0.2222222222222222,
              "#7201a8"
             ],
             [
              0.3333333333333333,
              "#9c179e"
             ],
             [
              0.4444444444444444,
              "#bd3786"
             ],
             [
              0.5555555555555556,
              "#d8576b"
             ],
             [
              0.6666666666666666,
              "#ed7953"
             ],
             [
              0.7777777777777778,
              "#fb9f3a"
             ],
             [
              0.8888888888888888,
              "#fdca26"
             ],
             [
              1,
              "#f0f921"
             ]
            ],
            "type": "histogram2d"
           }
          ],
          "histogram2dcontour": [
           {
            "colorbar": {
             "outlinewidth": 0,
             "ticks": ""
            },
            "colorscale": [
             [
              0,
              "#0d0887"
             ],
             [
              0.1111111111111111,
              "#46039f"
             ],
             [
              0.2222222222222222,
              "#7201a8"
             ],
             [
              0.3333333333333333,
              "#9c179e"
             ],
             [
              0.4444444444444444,
              "#bd3786"
             ],
             [
              0.5555555555555556,
              "#d8576b"
             ],
             [
              0.6666666666666666,
              "#ed7953"
             ],
             [
              0.7777777777777778,
              "#fb9f3a"
             ],
             [
              0.8888888888888888,
              "#fdca26"
             ],
             [
              1,
              "#f0f921"
             ]
            ],
            "type": "histogram2dcontour"
           }
          ],
          "mesh3d": [
           {
            "colorbar": {
             "outlinewidth": 0,
             "ticks": ""
            },
            "type": "mesh3d"
           }
          ],
          "parcoords": [
           {
            "line": {
             "colorbar": {
              "outlinewidth": 0,
              "ticks": ""
             }
            },
            "type": "parcoords"
           }
          ],
          "pie": [
           {
            "automargin": true,
            "type": "pie"
           }
          ],
          "scatter": [
           {
            "marker": {
             "colorbar": {
              "outlinewidth": 0,
              "ticks": ""
             }
            },
            "type": "scatter"
           }
          ],
          "scatter3d": [
           {
            "line": {
             "colorbar": {
              "outlinewidth": 0,
              "ticks": ""
             }
            },
            "marker": {
             "colorbar": {
              "outlinewidth": 0,
              "ticks": ""
             }
            },
            "type": "scatter3d"
           }
          ],
          "scattercarpet": [
           {
            "marker": {
             "colorbar": {
              "outlinewidth": 0,
              "ticks": ""
             }
            },
            "type": "scattercarpet"
           }
          ],
          "scattergeo": [
           {
            "marker": {
             "colorbar": {
              "outlinewidth": 0,
              "ticks": ""
             }
            },
            "type": "scattergeo"
           }
          ],
          "scattergl": [
           {
            "marker": {
             "colorbar": {
              "outlinewidth": 0,
              "ticks": ""
             }
            },
            "type": "scattergl"
           }
          ],
          "scattermapbox": [
           {
            "marker": {
             "colorbar": {
              "outlinewidth": 0,
              "ticks": ""
             }
            },
            "type": "scattermapbox"
           }
          ],
          "scatterpolar": [
           {
            "marker": {
             "colorbar": {
              "outlinewidth": 0,
              "ticks": ""
             }
            },
            "type": "scatterpolar"
           }
          ],
          "scatterpolargl": [
           {
            "marker": {
             "colorbar": {
              "outlinewidth": 0,
              "ticks": ""
             }
            },
            "type": "scatterpolargl"
           }
          ],
          "scatterternary": [
           {
            "marker": {
             "colorbar": {
              "outlinewidth": 0,
              "ticks": ""
             }
            },
            "type": "scatterternary"
           }
          ],
          "surface": [
           {
            "colorbar": {
             "outlinewidth": 0,
             "ticks": ""
            },
            "colorscale": [
             [
              0,
              "#0d0887"
             ],
             [
              0.1111111111111111,
              "#46039f"
             ],
             [
              0.2222222222222222,
              "#7201a8"
             ],
             [
              0.3333333333333333,
              "#9c179e"
             ],
             [
              0.4444444444444444,
              "#bd3786"
             ],
             [
              0.5555555555555556,
              "#d8576b"
             ],
             [
              0.6666666666666666,
              "#ed7953"
             ],
             [
              0.7777777777777778,
              "#fb9f3a"
             ],
             [
              0.8888888888888888,
              "#fdca26"
             ],
             [
              1,
              "#f0f921"
             ]
            ],
            "type": "surface"
           }
          ],
          "table": [
           {
            "cells": {
             "fill": {
              "color": "#EBF0F8"
             },
             "line": {
              "color": "white"
             }
            },
            "header": {
             "fill": {
              "color": "#C8D4E3"
             },
             "line": {
              "color": "white"
             }
            },
            "type": "table"
           }
          ]
         },
         "layout": {
          "annotationdefaults": {
           "arrowcolor": "#2a3f5f",
           "arrowhead": 0,
           "arrowwidth": 1
          },
          "autotypenumbers": "strict",
          "coloraxis": {
           "colorbar": {
            "outlinewidth": 0,
            "ticks": ""
           }
          },
          "colorscale": {
           "diverging": [
            [
             0,
             "#8e0152"
            ],
            [
             0.1,
             "#c51b7d"
            ],
            [
             0.2,
             "#de77ae"
            ],
            [
             0.3,
             "#f1b6da"
            ],
            [
             0.4,
             "#fde0ef"
            ],
            [
             0.5,
             "#f7f7f7"
            ],
            [
             0.6,
             "#e6f5d0"
            ],
            [
             0.7,
             "#b8e186"
            ],
            [
             0.8,
             "#7fbc41"
            ],
            [
             0.9,
             "#4d9221"
            ],
            [
             1,
             "#276419"
            ]
           ],
           "sequential": [
            [
             0,
             "#0d0887"
            ],
            [
             0.1111111111111111,
             "#46039f"
            ],
            [
             0.2222222222222222,
             "#7201a8"
            ],
            [
             0.3333333333333333,
             "#9c179e"
            ],
            [
             0.4444444444444444,
             "#bd3786"
            ],
            [
             0.5555555555555556,
             "#d8576b"
            ],
            [
             0.6666666666666666,
             "#ed7953"
            ],
            [
             0.7777777777777778,
             "#fb9f3a"
            ],
            [
             0.8888888888888888,
             "#fdca26"
            ],
            [
             1,
             "#f0f921"
            ]
           ],
           "sequentialminus": [
            [
             0,
             "#0d0887"
            ],
            [
             0.1111111111111111,
             "#46039f"
            ],
            [
             0.2222222222222222,
             "#7201a8"
            ],
            [
             0.3333333333333333,
             "#9c179e"
            ],
            [
             0.4444444444444444,
             "#bd3786"
            ],
            [
             0.5555555555555556,
             "#d8576b"
            ],
            [
             0.6666666666666666,
             "#ed7953"
            ],
            [
             0.7777777777777778,
             "#fb9f3a"
            ],
            [
             0.8888888888888888,
             "#fdca26"
            ],
            [
             1,
             "#f0f921"
            ]
           ]
          },
          "colorway": [
           "#636efa",
           "#EF553B",
           "#00cc96",
           "#ab63fa",
           "#FFA15A",
           "#19d3f3",
           "#FF6692",
           "#B6E880",
           "#FF97FF",
           "#FECB52"
          ],
          "font": {
           "color": "#2a3f5f"
          },
          "geo": {
           "bgcolor": "white",
           "lakecolor": "white",
           "landcolor": "#E5ECF6",
           "showlakes": true,
           "showland": true,
           "subunitcolor": "white"
          },
          "hoverlabel": {
           "align": "left"
          },
          "hovermode": "closest",
          "mapbox": {
           "style": "light"
          },
          "paper_bgcolor": "white",
          "plot_bgcolor": "#E5ECF6",
          "polar": {
           "angularaxis": {
            "gridcolor": "white",
            "linecolor": "white",
            "ticks": ""
           },
           "bgcolor": "#E5ECF6",
           "radialaxis": {
            "gridcolor": "white",
            "linecolor": "white",
            "ticks": ""
           }
          },
          "scene": {
           "xaxis": {
            "backgroundcolor": "#E5ECF6",
            "gridcolor": "white",
            "gridwidth": 2,
            "linecolor": "white",
            "showbackground": true,
            "ticks": "",
            "zerolinecolor": "white"
           },
           "yaxis": {
            "backgroundcolor": "#E5ECF6",
            "gridcolor": "white",
            "gridwidth": 2,
            "linecolor": "white",
            "showbackground": true,
            "ticks": "",
            "zerolinecolor": "white"
           },
           "zaxis": {
            "backgroundcolor": "#E5ECF6",
            "gridcolor": "white",
            "gridwidth": 2,
            "linecolor": "white",
            "showbackground": true,
            "ticks": "",
            "zerolinecolor": "white"
           }
          },
          "shapedefaults": {
           "line": {
            "color": "#2a3f5f"
           }
          },
          "ternary": {
           "aaxis": {
            "gridcolor": "white",
            "linecolor": "white",
            "ticks": ""
           },
           "baxis": {
            "gridcolor": "white",
            "linecolor": "white",
            "ticks": ""
           },
           "bgcolor": "#E5ECF6",
           "caxis": {
            "gridcolor": "white",
            "linecolor": "white",
            "ticks": ""
           }
          },
          "title": {
           "x": 0.05
          },
          "xaxis": {
           "automargin": true,
           "gridcolor": "white",
           "linecolor": "white",
           "ticks": "",
           "title": {
            "standoff": 15
           },
           "zerolinecolor": "white",
           "zerolinewidth": 2
          },
          "yaxis": {
           "automargin": true,
           "gridcolor": "white",
           "linecolor": "white",
           "ticks": "",
           "title": {
            "standoff": 15
           },
           "zerolinecolor": "white",
           "zerolinewidth": 2
          }
         }
        },
        "title": {
         "text": "Average Temperature in Each Season"
        },
        "xaxis": {
         "anchor": "y",
         "domain": [
          0,
          1
         ],
         "title": {
          "text": "year"
         }
        },
        "yaxis": {
         "anchor": "x",
         "domain": [
          0,
          1
         ],
         "title": {
          "text": "value"
         }
        }
       }
      },
      "text/html": [
       "<div>                            <div id=\"ca771634-0f0a-4c75-9dab-3640508c799d\" class=\"plotly-graph-div\" style=\"height:525px; width:100%;\"></div>            <script type=\"text/javascript\">                require([\"plotly\"], function(Plotly) {                    window.PLOTLYENV=window.PLOTLYENV || {};                                    if (document.getElementById(\"ca771634-0f0a-4c75-9dab-3640508c799d\")) {                    Plotly.newPlot(                        \"ca771634-0f0a-4c75-9dab-3640508c799d\",                        [{\"hovertemplate\": \"variable=springtemp<br>year=%{x}<br>value=%{y}<extra></extra>\", \"legendgroup\": \"springtemp\", \"line\": {\"color\": \"#636efa\", \"dash\": \"solid\"}, \"mode\": \"lines\", \"name\": \"springtemp\", \"showlegend\": true, \"type\": \"scattergl\", \"x\": [\"1750\", \"1751\", \"1752\", \"1753\", \"1754\", \"1755\", \"1756\", \"1757\", \"1758\", \"1759\", \"1760\", \"1761\", \"1762\", \"1763\", \"1764\", \"1765\", \"1766\", \"1767\", \"1768\", \"1769\", \"1770\", \"1771\", \"1772\", \"1773\", \"1774\", \"1775\", \"1776\", \"1777\", \"1778\", \"1779\", \"1780\", \"1781\", \"1782\", \"1783\", \"1784\", \"1785\", \"1786\", \"1787\", \"1788\", \"1789\", \"1790\", \"1791\", \"1792\", \"1793\", \"1794\", \"1795\", \"1796\", \"1797\", \"1798\", \"1799\", \"1800\", \"1801\", \"1802\", \"1803\", \"1804\", \"1805\", \"1806\", \"1807\", \"1808\", \"1809\", \"1810\", \"1811\", \"1812\", \"1813\", \"1814\", \"1815\", \"1816\", \"1817\", \"1818\", \"1819\", \"1820\", \"1821\", \"1822\", \"1823\", \"1824\", \"1825\", \"1826\", \"1827\", \"1828\", \"1829\", \"1830\", \"1831\", \"1832\", \"1833\", \"1834\", \"1835\", \"1836\", \"1837\", \"1838\", \"1839\", \"1840\", \"1841\", \"1842\", \"1843\", \"1844\", \"1845\", \"1846\", \"1847\", \"1848\", \"1849\", \"1850\", \"1851\", \"1852\", \"1853\", \"1854\", \"1855\", \"1856\", \"1857\", \"1858\", \"1859\", \"1860\", \"1861\", \"1862\", \"1863\", \"1864\", \"1865\", \"1866\", \"1867\", \"1868\", \"1869\", \"1870\", \"1871\", \"1872\", \"1873\", \"1874\", \"1875\", \"1876\", \"1877\", \"1878\", \"1879\", \"1880\", \"1881\", \"1882\", \"1883\", \"1884\", \"1885\", \"1886\", \"1887\", \"1888\", \"1889\", \"1890\", \"1891\", \"1892\", \"1893\", \"1894\", \"1895\", \"1896\", \"1897\", \"1898\", \"1899\", \"1900\", \"1901\", \"1902\", \"1903\", \"1904\", \"1905\", \"1906\", \"1907\", \"1908\", \"1909\", \"1910\", \"1911\", \"1912\", \"1913\", \"1914\", \"1915\", \"1916\", \"1917\", \"1918\", \"1919\", \"1920\", \"1921\", \"1922\", \"1923\", \"1924\", \"1925\", \"1926\", \"1927\", \"1928\", \"1929\", \"1930\", \"1931\", \"1932\", \"1933\", \"1934\", \"1935\", \"1936\", \"1937\", \"1938\", \"1939\", \"1940\", \"1941\", \"1942\", \"1943\", \"1944\", \"1945\", \"1946\", \"1947\", \"1948\", \"1949\", \"1950\", \"1951\", \"1952\", \"1953\", \"1954\", \"1955\", \"1956\", \"1957\", \"1958\", \"1959\", \"1960\", \"1961\", \"1962\", \"1963\", \"1964\", \"1965\", \"1966\", \"1967\", \"1968\", \"1969\", \"1970\", \"1971\", \"1972\", \"1973\", \"1974\", \"1975\", \"1976\", \"1977\", \"1978\", \"1979\", \"1980\", \"1981\", \"1982\", \"1983\", \"1984\", \"1985\", \"1986\", \"1987\", \"1988\", \"1989\", \"1990\", \"1991\", \"1992\", \"1993\", \"1994\", \"1995\", \"1996\", \"1997\", \"1998\", \"1999\", \"2000\", \"2001\", \"2002\", \"2003\", \"2004\", \"2005\", \"2006\", \"2007\", \"2008\", \"2009\", \"2010\", \"2011\", \"2012\", \"2013\", \"2014\", \"2015\"], \"xaxis\": \"x\", \"y\": [8.563, 6.734999999999999, 7.035499999999999, 8.627333333333334, 9.074333333333334, 8.583666666666666, 9.466, 8.604666666666667, 6.896666666666666, 6.897333333333333, 6.653666666666666, 8.916, 7.809333333333332, 6.716, 8.192, 8.868666666666668, 8.432333333333332, 7.831, 6.144000000000001, 8.803333333333333, 7.132000000000001, 6.0523333333333325, 7.148666666666666, 8.866999999999999, 10.607, 9.036666666666667, 7.522333333333333, 7.774333333333334, 8.957999999999998, 10.370666666666667, 11.737666666666664, 7.599, 7.390999999999998, 8.397333333333334, 7.3580000000000005, 6.173666666666667, 8.849666666666666, 7.9576666666666656, 8.159333333333334, 7.783, 6.997333333333333, 7.9253333333333345, 7.914666666666666, 8.248, 9.146333333333333, 8.552, 7.507666666666666, 7.024333333333334, 8.953333333333333, 8.041666666666666, 8.224666666666666, 8.660666666666666, 7.760333333333333, 8.653666666666666, 8.863, 8.328999999999999, 8.075333333333333, 7.03, 7.066666666666666, 6.833666666666666, 6.872, 6.481999999999999, 6.191333333333333, 7.048333333333333, 6.424666666666667, 6.698666666666667, 7.368333333333332, 7.311333333333333, 8.904333333333334, 6.603666666666666, 8.312666666666667, 8.167, 8.850333333333333, 7.765333333333333, 8.287999999999998, 8.368, 8.365, 9.125666666666666, 8.582333333333333, 8.070666666666666, 7.832333333333334, 7.761, 7.732666666666667, 7.657, 8.351666666666667, 7.482333333333333, 7.680666666666667, 6.797999999999999, 7.030333333333332, 6.951333333333333, 7.718666666666667, 6.947, 8.198333333333332, 7.537999999999999, 7.410666666666667, 7.747333333333333, 8.227666666666666, 7.549333333333333, 7.832, 7.496333333333333, 7.391666666666666, 7.530666666666666, 7.513333333333333, 7.531333333333333, 7.805, 8.127666666666666, 7.550999999999999, 7.008, 7.978333333333334, 8.340333333333334, 7.438666666666666, 7.497333333333333, 7.515666666666667, 7.898, 7.707333333333334, 7.423333333333332, 7.7443333333333335, 7.735666666666667, 8.009666666666666, 7.863333333333332, 7.958000000000001, 7.937666666666666, 7.988666666666667, 7.723999999999999, 7.919333333333333, 7.545999999999999, 7.8790000000000004, 8.130666666666666, 8.841333333333333, 7.831666666666667, 7.761666666666666, 8.165999999999999, 7.873, 7.817333333333333, 7.092, 7.508333333333333, 7.651666666666666, 7.726999999999999, 7.588333333333334, 8.376666666666667, 7.470999999999999, 7.719333333333332, 7.515333333333333, 7.906666666666666, 7.908333333333334, 7.934333333333334, 7.500666666666667, 8.0, 7.497666666666667, 7.973999999999999, 8.366666666666667, 8.457, 7.910666666666667, 7.851999999999999, 7.676666666666666, 7.790666666666667, 8.244, 7.509666666666667, 7.702999999999999, 7.578, 7.905333333333334, 7.722, 7.946333333333333, 7.761666666666666, 8.108333333333333, 8.447000000000001, 7.954999999999999, 7.5953333333333335, 7.664999999999999, 8.066333333333333, 8.216999999999999, 8.216666666666667, 8.211, 7.821333333333333, 8.17, 8.202333333333334, 8.318333333333333, 7.935666666666666, 8.124, 8.036, 8.256666666666666, 8.134333333333332, 8.316, 8.013666666666667, 8.104, 8.025333333333334, 8.136333333333333, 8.137666666666666, 8.673333333333334, 8.259333333333332, 8.506, 8.427, 8.354, 8.420333333333334, 8.433, 8.320666666666668, 8.476, 8.605333333333334, 8.318333333333333, 8.243333333333332, 8.222333333333333, 8.298666666666668, 8.26, 8.706000000000001, 8.097999999999999, 7.970999999999999, 7.8439999999999985, 8.220333333333334, 8.497333333333332, 8.665333333333333, 7.769333333333333, 8.614666666666666, 8.399333333333333, 8.104999999999999, 7.897333333333333, 8.131333333333332, 8.296, 8.495333333333333, 8.546666666666667, 8.353666666666667, 8.360333333333333, 8.183666666666667, 8.259666666666666, 8.84233333333333, 8.258000000000001, 8.677333333333333, 7.917666666666666, 8.777333333333333, 8.604, 8.376, 8.690666666666665, 8.918999999999999, 8.228666666666667, 8.706999999999999, 8.693, 8.503333333333332, 8.735666666666665, 8.455, 8.924999999999999, 8.587000000000002, 9.243333333333334, 8.805333333333333, 8.686333333333332, 8.696, 8.811, 8.832666666666666, 8.597, 8.832, 9.224, 8.691333333333333, 9.215, 9.241333333333333, 9.416333333333332, 9.118333333333332, 9.046999999999999, 9.462666666666665, 9.056666666666667, 9.608666666666666, 9.418333333333333, 9.188333333333333, 9.604999999999999, 9.19, 9.429666666666666, 9.166666666666666, 9.516333333333334, 9.455], \"yaxis\": \"y\"}, {\"hovertemplate\": \"variable=summertemp<br>year=%{x}<br>value=%{y}<extra></extra>\", \"legendgroup\": \"summertemp\", \"line\": {\"color\": \"#EF553B\", \"dash\": \"solid\"}, \"mode\": \"lines\", \"name\": \"summertemp\", \"showlegend\": true, \"type\": \"scattergl\", \"x\": [\"1750\", \"1751\", \"1752\", \"1753\", \"1754\", \"1755\", \"1756\", \"1757\", \"1758\", \"1759\", \"1760\", \"1761\", \"1762\", \"1763\", \"1764\", \"1765\", \"1766\", \"1767\", \"1768\", \"1769\", \"1770\", \"1771\", \"1772\", \"1773\", \"1774\", \"1775\", \"1776\", \"1777\", \"1778\", \"1779\", \"1780\", \"1781\", \"1782\", \"1783\", \"1784\", \"1785\", \"1786\", \"1787\", \"1788\", \"1789\", \"1790\", \"1791\", \"1792\", \"1793\", \"1794\", \"1795\", \"1796\", \"1797\", \"1798\", \"1799\", \"1800\", \"1801\", \"1802\", \"1803\", \"1804\", \"1805\", \"1806\", \"1807\", \"1808\", \"1809\", \"1810\", \"1811\", \"1812\", \"1813\", \"1814\", \"1815\", \"1816\", \"1817\", \"1818\", \"1819\", \"1820\", \"1821\", \"1822\", \"1823\", \"1824\", \"1825\", \"1826\", \"1827\", \"1828\", \"1829\", \"1830\", \"1831\", \"1832\", \"1833\", \"1834\", \"1835\", \"1836\", \"1837\", \"1838\", \"1839\", \"1840\", \"1841\", \"1842\", \"1843\", \"1844\", \"1845\", \"1846\", \"1847\", \"1848\", \"1849\", \"1850\", \"1851\", \"1852\", \"1853\", \"1854\", \"1855\", \"1856\", \"1857\", \"1858\", \"1859\", \"1860\", \"1861\", \"1862\", \"1863\", \"1864\", \"1865\", \"1866\", \"1867\", \"1868\", \"1869\", \"1870\", \"1871\", \"1872\", \"1873\", \"1874\", \"1875\", \"1876\", \"1877\", \"1878\", \"1879\", \"1880\", \"1881\", \"1882\", \"1883\", \"1884\", \"1885\", \"1886\", \"1887\", \"1888\", \"1889\", \"1890\", \"1891\", \"1892\", \"1893\", \"1894\", \"1895\", \"1896\", \"1897\", \"1898\", \"1899\", \"1900\", \"1901\", \"1902\", \"1903\", \"1904\", \"1905\", \"1906\", \"1907\", \"1908\", \"1909\", \"1910\", \"1911\", \"1912\", \"1913\", \"1914\", \"1915\", \"1916\", \"1917\", \"1918\", \"1919\", \"1920\", \"1921\", \"1922\", \"1923\", \"1924\", \"1925\", \"1926\", \"1927\", \"1928\", \"1929\", \"1930\", \"1931\", \"1932\", \"1933\", \"1934\", \"1935\", \"1936\", \"1937\", \"1938\", \"1939\", \"1940\", \"1941\", \"1942\", \"1943\", \"1944\", \"1945\", \"1946\", \"1947\", \"1948\", \"1949\", \"1950\", \"1951\", \"1952\", \"1953\", \"1954\", \"1955\", \"1956\", \"1957\", \"1958\", \"1959\", \"1960\", \"1961\", \"1962\", \"1963\", \"1964\", \"1965\", \"1966\", \"1967\", \"1968\", \"1969\", \"1970\", \"1971\", \"1972\", \"1973\", \"1974\", \"1975\", \"1976\", \"1977\", \"1978\", \"1979\", \"1980\", \"1981\", \"1982\", \"1983\", \"1984\", \"1985\", \"1986\", \"1987\", \"1988\", \"1989\", \"1990\", \"1991\", \"1992\", \"1993\", \"1994\", \"1995\", \"1996\", \"1997\", \"1998\", \"1999\", \"2000\", \"2001\", \"2002\", \"2003\", \"2004\", \"2005\", \"2006\", \"2007\", \"2008\", \"2009\", \"2010\", \"2011\", \"2012\", \"2013\", \"2014\", \"2015\"], \"xaxis\": \"x\", \"y\": [14.518333333333333, 14.116, null, 14.608333333333334, 14.208333333333334, 14.430666666666667, 13.963333333333333, 17.544999999999998, 12.934666666666665, 13.541666666666666, 12.916333333333334, 17.057666666666666, 14.070333333333332, 14.262666666666666, 12.170666666666667, 12.635333333333334, 13.655333333333331, 14.023333333333333, 12.905666666666667, 14.365666666666668, 11.639333333333335, 14.045333333333332, 13.775333333333334, 13.639666666666669, 15.330333333333334, 13.822666666666668, 14.503, 12.627, 13.212333333333333, 13.335, 14.625666666666666, 13.368, 14.469666666666667, 13.793333333333331, 14.537, 14.226, 14.261333333333333, 13.791666666666666, 14.720333333333334, 14.269666666666666, 13.827666666666667, 13.529000000000002, 13.357999999999999, 13.547333333333333, 12.784, 13.576, 14.417333333333334, 13.999666666666664, 14.317, 14.211666666666666, 13.662666666666667, 13.466333333333331, 14.379333333333333, 14.764333333333333, 14.686333333333332, 14.666333333333332, 13.644666666666666, 13.743333333333332, 13.655666666666667, 12.853, 12.175333333333333, 12.472999999999999, 13.792666666666667, 13.62, 12.672666666666666, 12.921666666666667, 12.208999999999998, 12.254, 13.500333333333336, 12.707, 12.870666666666667, 12.930666666666667, 13.498, 13.761666666666668, 13.897999999999998, 13.680333333333332, 13.537, 13.975333333333333, 14.047666666666666, 13.494666666666667, 13.718333333333334, 13.091000000000001, 12.85, 13.357999999999999, 13.469333333333333, 12.485999999999999, 13.008333333333333, 12.881, 13.559, 13.676333333333332, 13.737, 13.774, 13.151333333333334, 13.272, 13.269, 13.579333333333333, 14.191333333333333, 13.497333333333332, 13.660333333333334, 13.687, 13.893666666666668, 13.899999999999999, 13.660000000000002, 14.002666666666665, 13.803333333333333, 13.485666666666667, 13.512, 13.255666666666665, 13.284333333333334, 13.395333333333333, 13.746666666666664, 13.546666666666667, 13.325333333333333, 13.284333333333334, 13.653666666666666, 13.671333333333335, 13.662333333333331, 13.677333333333335, 13.806666666666667, 13.961333333333334, 13.912, 13.767333333333333, 13.720333333333334, 13.815666666666667, 13.747666666666666, 13.567333333333332, 13.643666666666666, 14.059, 14.210666666666667, 13.571, 13.758333333333333, 13.552666666666667, 13.418333333333331, 13.512333333333332, 13.135333333333334, 13.346333333333334, 13.446, 13.336, 13.558, 13.672333333333333, 13.390666666666666, 13.438, 13.524333333333333, 13.607666666666667, 13.450000000000001, 13.533333333333333, 13.720333333333334, 13.765666666666666, 13.704, 13.597333333333333, 13.76, 13.850333333333333, 13.681333333333333, 13.43, 13.436333333333332, 13.588999999999999, 13.715666666666666, 13.286666666666667, 13.622, 13.591333333333333, 13.702333333333334, 13.530000000000001, 13.403666666666666, 13.622, 13.841333333333333, 13.837666666666669, 13.524666666666667, 13.548333333333332, 13.447000000000001, 13.762666666666666, 13.682666666666668, 13.812333333333333, 13.731, 13.630333333333335, 13.766666666666667, 13.641333333333334, 13.776666666666666, 13.764333333333333, 13.703333333333333, 13.521666666666667, 13.913333333333332, 14.089666666666666, 13.831666666666665, 13.702, 13.841, 13.810666666666668, 13.950666666666665, 13.995, 13.921999999999999, 13.952666666666667, 13.988333333333335, 14.117333333333335, 13.868666666666668, 13.798333333333334, 13.987666666666664, 13.951333333333332, 13.847, 13.878333333333332, 14.001666666666667, 13.749333333333334, 13.660666666666666, 13.865, 13.985, 14.020999999999999, 13.836333333333334, 14.028333333333334, 13.509666666666666, 13.998, 13.740666666666668, 13.959666666666669, 13.835666666666668, 13.946333333333333, 13.781666666666666, 14.075666666666665, 13.812666666666667, 13.731, 13.962333333333333, 13.781999999999998, 13.584666666666665, 13.832333333333333, 13.855333333333334, 13.705666666666666, 13.967666666666666, 14.042666666666667, 13.895333333333333, 13.807333333333332, 13.583999999999998, 14.198999999999998, 13.627, 13.811333333333332, 14.171000000000001, 14.335, 13.862, 14.062666666666667, 13.933333333333335, 13.866999999999999, 13.901333333333334, 14.237666666666668, 14.483333333333334, 14.064666666666666, 14.257333333333333, 14.523000000000001, 13.826999999999998, 13.982666666666667, 14.259666666666666, 14.638666666666666, 14.370333333333333, 14.317333333333332, 14.911666666666667, 14.410666666666666, 14.475666666666667, 14.566, 14.665999999999999, 14.563666666666668, 14.129666666666667, 14.725333333333333, 14.799333333333331, 14.763666666666667, 14.565333333333333, 14.695666666666668, 14.800666666666666, 14.954666666666666, 14.762666666666668, 14.771, 14.694333333333333, 14.770333333333333], \"yaxis\": \"y\"}, {\"hovertemplate\": \"variable=autumntemp<br>year=%{x}<br>value=%{y}<extra></extra>\", \"legendgroup\": \"autumntemp\", \"line\": {\"color\": \"#00cc96\", \"dash\": \"solid\"}, \"mode\": \"lines\", \"name\": \"autumntemp\", \"showlegend\": true, \"type\": \"scattergl\", \"x\": [\"1750\", \"1751\", \"1752\", \"1753\", \"1754\", \"1755\", \"1756\", \"1757\", \"1758\", \"1759\", \"1760\", \"1761\", \"1762\", \"1763\", \"1764\", \"1765\", \"1766\", \"1767\", \"1768\", \"1769\", \"1770\", \"1771\", \"1772\", \"1773\", \"1774\", \"1775\", \"1776\", \"1777\", \"1778\", \"1779\", \"1780\", \"1781\", \"1782\", \"1783\", \"1784\", \"1785\", \"1786\", \"1787\", \"1788\", \"1789\", \"1790\", \"1791\", \"1792\", \"1793\", \"1794\", \"1795\", \"1796\", \"1797\", \"1798\", \"1799\", \"1800\", \"1801\", \"1802\", \"1803\", \"1804\", \"1805\", \"1806\", \"1807\", \"1808\", \"1809\", \"1810\", \"1811\", \"1812\", \"1813\", \"1814\", \"1815\", \"1816\", \"1817\", \"1818\", \"1819\", \"1820\", \"1821\", \"1822\", \"1823\", \"1824\", \"1825\", \"1826\", \"1827\", \"1828\", \"1829\", \"1830\", \"1831\", \"1832\", \"1833\", \"1834\", \"1835\", \"1836\", \"1837\", \"1838\", \"1839\", \"1840\", \"1841\", \"1842\", \"1843\", \"1844\", \"1845\", \"1846\", \"1847\", \"1848\", \"1849\", \"1850\", \"1851\", \"1852\", \"1853\", \"1854\", \"1855\", \"1856\", \"1857\", \"1858\", \"1859\", \"1860\", \"1861\", \"1862\", \"1863\", \"1864\", \"1865\", \"1866\", \"1867\", \"1868\", \"1869\", \"1870\", \"1871\", \"1872\", \"1873\", \"1874\", \"1875\", \"1876\", \"1877\", \"1878\", \"1879\", \"1880\", \"1881\", \"1882\", \"1883\", \"1884\", \"1885\", \"1886\", \"1887\", \"1888\", \"1889\", \"1890\", \"1891\", \"1892\", \"1893\", \"1894\", \"1895\", \"1896\", \"1897\", \"1898\", \"1899\", \"1900\", \"1901\", \"1902\", \"1903\", \"1904\", \"1905\", \"1906\", \"1907\", \"1908\", \"1909\", \"1910\", \"1911\", \"1912\", \"1913\", \"1914\", \"1915\", \"1916\", \"1917\", \"1918\", \"1919\", \"1920\", \"1921\", \"1922\", \"1923\", \"1924\", \"1925\", \"1926\", \"1927\", \"1928\", \"1929\", \"1930\", \"1931\", \"1932\", \"1933\", \"1934\", \"1935\", \"1936\", \"1937\", \"1938\", \"1939\", \"1940\", \"1941\", \"1942\", \"1943\", \"1944\", \"1945\", \"1946\", \"1947\", \"1948\", \"1949\", \"1950\", \"1951\", \"1952\", \"1953\", \"1954\", \"1955\", \"1956\", \"1957\", \"1958\", \"1959\", \"1960\", \"1961\", \"1962\", \"1963\", \"1964\", \"1965\", \"1966\", \"1967\", \"1968\", \"1969\", \"1970\", \"1971\", \"1972\", \"1973\", \"1974\", \"1975\", \"1976\", \"1977\", \"1978\", \"1979\", \"1980\", \"1981\", \"1982\", \"1983\", \"1984\", \"1985\", \"1986\", \"1987\", \"1988\", \"1989\", \"1990\", \"1991\", \"1992\", \"1993\", \"1994\", \"1995\", \"1996\", \"1997\", \"1998\", \"1999\", \"2000\", \"2001\", \"2002\", \"2003\", \"2004\", \"2005\", \"2006\", \"2007\", \"2008\", \"2009\", \"2010\", \"2011\", \"2012\", \"2013\", \"2014\", \"2015\"], \"xaxis\": \"x\", \"y\": [8.889999999999999, 10.673, 7.587, 9.212333333333333, 8.957333333333333, 9.233666666666666, 8.063, 8.455333333333334, 6.2923333333333344, 8.387, 7.778, 8.283666666666667, 7.616333333333333, 7.167000000000001, 8.832666666666666, 8.166666666666666, 9.389666666666667, 9.539, 7.711333333333333, 6.445666666666665, 8.392, 8.865333333333334, 9.102333333333334, 8.354333333333333, 7.5183333333333335, 9.882333333333333, 8.177333333333333, 7.954666666666667, 8.426666666666668, 9.267666666666667, 8.308666666666666, 8.791333333333332, 8.777333333333333, 6.503666666666667, 7.219666666666666, 7.791333333333333, 8.537, 7.976666666666667, 9.053, 8.457333333333333, 8.380333333333335, 8.654333333333332, 8.631333333333334, 8.687, 8.762666666666666, 8.042, 8.879333333333333, 8.809, 8.771, 9.273666666666667, 8.612, 8.760333333333334, 9.023333333333332, 9.136666666666665, 9.627333333333334, 8.076666666666666, 8.735333333333335, 9.162333333333335, 8.398333333333333, 7.572, 6.663666666666667, 6.817, 7.3823333333333325, 9.276666666666667, 8.263, 7.488666666666667, 6.7156666666666665, 6.550999999999999, 7.4223333333333334, 8.451999999999998, 7.730333333333333, 8.104666666666667, 7.656666666666667, 7.449333333333333, 8.534, 8.395, 8.757, 8.557333333333334, 8.231, 8.135666666666667, 8.675333333333333, 7.396, 7.774, 8.577333333333334, 8.847666666666667, 7.363, 7.794, 7.542333333333333, 8.264, 7.663999999999999, 7.538666666666667, 8.143333333333333, 8.023666666666665, 8.331666666666667, 7.973333333333333, 8.07, 8.337, 8.603666666666667, 8.314, 8.586999999999998, 8.109666666666667, 8.590666666666666, 8.327, 8.342666666666668, 9.007333333333333, 8.257, 8.131666666666666, 8.163333333333332, 8.649333333333333, 8.608666666666666, 8.543666666666667, 8.530333333333333, 8.034333333333334, 8.285666666666666, 8.465666666666666, 9.025666666666666, 8.642666666666667, 9.304666666666668, 8.769666666666668, 9.008666666666667, 8.787333333333331, 8.64, 8.856666666666667, 8.846666666666666, 9.013333333333334, 8.172666666666666, 8.575333333333333, 9.232, 9.237333333333334, 8.734666666666667, 8.650666666666666, 8.604, 8.415666666666667, 8.385666666666665, 8.326666666666666, 8.527333333333335, 8.476666666666667, 8.679, 8.892666666666669, 8.470333333333334, 8.584666666666667, 8.533333333333333, 8.637666666666666, 8.943, 8.703333333333333, 8.868, 8.868666666666668, 8.91, 8.677666666666665, 9.380666666666666, 9.141666666666667, 8.987666666666668, 8.624666666666668, 8.609666666666667, 8.814666666666666, 9.009333333333332, 8.846666666666666, 8.702, 8.704666666666666, 9.102333333333332, 8.685666666666668, 8.955, 8.37, 8.953333333333333, 9.020333333333333, 9.022333333333334, 8.791666666666668, 8.703000000000001, 8.999, 8.946666666666667, 8.793666666666667, 8.999, 8.959, 9.260333333333334, 9.186666666666667, 9.171666666666665, 9.308333333333334, 9.495666666666667, 9.283999999999999, 9.146333333333335, 9.236333333333333, 9.487666666666666, 9.3, 8.994, 9.181666666666667, 8.985999999999999, 9.237, 9.499333333333333, 9.580333333333334, 9.121666666666666, 9.267000000000001, 9.159666666666668, 9.389333333333335, 9.421, 9.449666666666667, 9.290999999999999, 9.193333333333333, 9.528, 9.308, 9.212, 8.825666666666667, 9.406333333333334, 8.94, 9.237666666666668, 9.407666666666666, 9.220666666666666, 8.816333333333333, 9.399666666666667, 9.159999999999998, 8.952666666666667, 9.139999999999999, 9.26, 9.256333333333334, 9.686333333333332, 8.806333333333333, 9.026, 9.085, 9.346333333333334, 8.988, 9.319, 9.224, 9.274000000000001, 9.014666666666667, 9.318666666666667, 8.919, 9.121, 8.688666666666666, 9.187333333333333, 9.239666666666666, 9.373, 9.518333333333334, 9.301, 9.077333333333334, 9.647, 9.068, 9.095333333333333, 9.011666666666667, 9.364333333333333, 9.651666666666666, 9.447333333333333, 9.665666666666667, 9.623333333333333, 8.971333333333332, 9.094, 9.768666666666666, 9.810666666666666, 9.455333333333334, 9.878333333333334, 9.672666666666666, 9.770666666666665, 9.448333333333334, 9.996666666666666, 9.943333333333333, 10.020666666666667, 10.028, 10.413666666666666, 10.039666666666667, 10.115333333333334, 10.141666666666667, 10.106666666666667, 10.264000000000001, 10.026000000000002, 10.208, 10.278, 10.044666666666666, 10.411], \"yaxis\": \"y\"}, {\"hovertemplate\": \"variable=wintertemp<br>year=%{x}<br>value=%{y}<extra></extra>\", \"legendgroup\": \"wintertemp\", \"line\": {\"color\": \"#ab63fa\", \"dash\": \"solid\"}, \"mode\": \"lines\", \"name\": \"wintertemp\", \"showlegend\": true, \"type\": \"scattergl\", \"x\": [\"1750\", \"1751\", \"1752\", \"1753\", \"1754\", \"1755\", \"1756\", \"1757\", \"1758\", \"1759\", \"1760\", \"1761\", \"1762\", \"1763\", \"1764\", \"1765\", \"1766\", \"1767\", \"1768\", \"1769\", \"1770\", \"1771\", \"1772\", \"1773\", \"1774\", \"1775\", \"1776\", \"1777\", \"1778\", \"1779\", \"1780\", \"1781\", \"1782\", \"1783\", \"1784\", \"1785\", \"1786\", \"1787\", \"1788\", \"1789\", \"1790\", \"1791\", \"1792\", \"1793\", \"1794\", \"1795\", \"1796\", \"1797\", \"1798\", \"1799\", \"1800\", \"1801\", \"1802\", \"1803\", \"1804\", \"1805\", \"1806\", \"1807\", \"1808\", \"1809\", \"1810\", \"1811\", \"1812\", \"1813\", \"1814\", \"1815\", \"1816\", \"1817\", \"1818\", \"1819\", \"1820\", \"1821\", \"1822\", \"1823\", \"1824\", \"1825\", \"1826\", \"1827\", \"1828\", \"1829\", \"1830\", \"1831\", \"1832\", \"1833\", \"1834\", \"1835\", \"1836\", \"1837\", \"1838\", \"1839\", \"1840\", \"1841\", \"1842\", \"1843\", \"1844\", \"1845\", \"1846\", \"1847\", \"1848\", \"1849\", \"1850\", \"1851\", \"1852\", \"1853\", \"1854\", \"1855\", \"1856\", \"1857\", \"1858\", \"1859\", \"1860\", \"1861\", \"1862\", \"1863\", \"1864\", \"1865\", \"1866\", \"1867\", \"1868\", \"1869\", \"1870\", \"1871\", \"1872\", \"1873\", \"1874\", \"1875\", \"1876\", \"1877\", \"1878\", \"1879\", \"1880\", \"1881\", \"1882\", \"1883\", \"1884\", \"1885\", \"1886\", \"1887\", \"1888\", \"1889\", \"1890\", \"1891\", \"1892\", \"1893\", \"1894\", \"1895\", \"1896\", \"1897\", \"1898\", \"1899\", \"1900\", \"1901\", \"1902\", \"1903\", \"1904\", \"1905\", \"1906\", \"1907\", \"1908\", \"1909\", \"1910\", \"1911\", \"1912\", \"1913\", \"1914\", \"1915\", \"1916\", \"1917\", \"1918\", \"1919\", \"1920\", \"1921\", \"1922\", \"1923\", \"1924\", \"1925\", \"1926\", \"1927\", \"1928\", \"1929\", \"1930\", \"1931\", \"1932\", \"1933\", \"1934\", \"1935\", \"1936\", \"1937\", \"1938\", \"1939\", \"1940\", \"1941\", \"1942\", \"1943\", \"1944\", \"1945\", \"1946\", \"1947\", \"1948\", \"1949\", \"1950\", \"1951\", \"1952\", \"1953\", \"1954\", \"1955\", \"1956\", \"1957\", \"1958\", \"1959\", \"1960\", \"1961\", \"1962\", \"1963\", \"1964\", \"1965\", \"1966\", \"1967\", \"1968\", \"1969\", \"1970\", \"1971\", \"1972\", \"1973\", \"1974\", \"1975\", \"1976\", \"1977\", \"1978\", \"1979\", \"1980\", \"1981\", \"1982\", \"1983\", \"1984\", \"1985\", \"1986\", \"1987\", \"1988\", \"1989\", \"1990\", \"1991\", \"1992\", \"1993\", \"1994\", \"1995\", \"1996\", \"1997\", \"1998\", \"1999\", \"2000\", \"2001\", \"2002\", \"2003\", \"2004\", \"2005\", \"2006\", \"2007\", \"2008\", \"2009\", \"2010\", \"2011\", \"2012\", \"2013\", \"2014\", \"2015\"], \"xaxis\": \"x\", \"y\": [2.9630000000000005, 1.729, 2.7170000000000005, 1.1043333333333332, 1.6373333333333333, 1.1743333333333332, 3.906, 1.4829999999999999, 0.8506666666666668, 3.114333333333333, 1.3926666666666667, 0.8326666666666666, 4.930000000000001, 1.8413333333333333, 4.406, 3.3369999999999997, 2.1453333333333333, 1.4926666666666666, 0.36433333333333334, 1.1636666666666666, 3.6043333333333334, 2.449666666666667, 2.747666666666667, 2.0249999999999995, 1.633, 3.9906666666666673, 3.013333333333333, 4.6690000000000005, 3.571999999999999, 2.9596666666666667, 3.0596666666666668, 2.6519999999999997, 0.967, 2.029, 2.3333333333333335, 1.261, 1.3846666666666667, 2.4013333333333335, 1.856, 2.8266666666666667, 2.724, 2.828333333333333, 2.452, 2.4343333333333335, 3.411, 3.2313333333333336, 2.279666666666667, 4.209333333333333, 2.639666666666667, 2.496, 3.4376666666666664, 3.4713333333333334, 3.1496666666666666, 1.4573333333333334, 2.202666666666667, 3.179, 3.281, 3.1899999999999995, 1.3866666666666667, 1.047, 1.9796666666666667, 1.6660000000000001, 0.8186666666666668, 1.0146666666666666, 3.0066666666666673, 1.8483333333333334, 1.457, 1.7863333333333333, 1.4886666666666668, 1.7140000000000002, 1.5513333333333332, 3.158, 2.7483333333333335, 1.8983333333333334, 3.468666666666667, 3.1139999999999994, 2.767333333333333, 3.576666666666666, 1.8003333333333336, 2.066333333333333, 3.8409999999999997, 2.308666666666667, 1.4439999999999997, 2.4596666666666667, 1.9183333333333337, 2.238666666666667, 2.300333333333333, 2.2813333333333334, 1.2063333333333335, 2.2373333333333334, 2.1906666666666665, 1.8883333333333334, 2.7176666666666667, 3.5530000000000004, 1.9323333333333335, 2.008, 3.455, 2.6936666666666667, 2.111666666666667, 2.167333333333333, 2.207666666666667, 2.693, 2.9003333333333337, 2.2906666666666666, 2.2263333333333333, 2.5726666666666667, 2.7889999999999997, 2.6056666666666666, 2.489, 2.663666666666667, 2.114333333333333, 1.8116666666666668, 1.359, 2.9793333333333334, 2.1076666666666664, 2.5910000000000006, 3.1193333333333335, 3.0276666666666667, 2.405666666666667, 2.895, 2.148, 2.1153333333333335, 2.2096666666666667, 3.0180000000000002, 3.0536666666666665, 2.1523333333333334, 2.2223333333333333, 2.736666666666667, 3.029666666666667, 2.5260000000000002, 2.3043333333333336, 2.7610000000000006, 2.808666666666667, 2.1923333333333335, 2.5406666666666666, 2.296666666666667, 2.2436666666666665, 1.9176666666666666, 2.323, 2.7566666666666664, 2.4403333333333332, 2.3866666666666667, 2.5860000000000003, 1.7696666666666665, 2.582333333333333, 2.252333333333333, 2.7699999999999996, 2.497666666666667, 2.832666666666667, 2.6333333333333333, 2.738, 2.872666666666667, 3.001, 2.9890000000000003, 2.436, 2.5116666666666667, 2.7099999999999995, 2.2903333333333333, 2.7146666666666666, 2.441333333333334, 2.598666666666667, 2.501, 2.9416666666666664, 2.8539999999999996, 3.392, 3.0656666666666665, 2.6296666666666666, 2.2466666666666666, 2.412333333333333, 2.7533333333333334, 2.7416666666666667, 3.2560000000000002, 2.731, 2.9766666666666666, 2.904, 3.122333333333333, 3.512, 2.8926666666666665, 3.4173333333333336, 2.2656666666666667, 3.128, 3.1653333333333333, 3.3733333333333335, 2.6433333333333335, 3.3866666666666667, 3.241, 2.892, 3.1613333333333333, 3.279, 3.7076666666666664, 3.297333333333333, 3.3706666666666667, 3.301666666666667, 3.3806666666666665, 3.5096666666666665, 2.7763333333333335, 3.191333333333333, 3.176666666666667, 3.359, 3.142333333333333, 2.752333333333333, 2.932666666666666, 3.368, 3.5303333333333335, 2.9006666666666674, 3.285, 2.9483333333333337, 3.312, 3.6970000000000005, 3.3529999999999998, 3.59, 3.369666666666667, 3.546333333333333, 3.557, 3.1223333333333336, 3.2213333333333334, 3.0540000000000003, 3.176666666666667, 2.946, 2.8753333333333337, 3.3640000000000003, 3.2336666666666667, 2.7563333333333335, 3.5893333333333337, 2.7976666666666667, 3.373666666666667, 3.1986666666666665, 3.2373333333333334, 3.300333333333333, 3.3733333333333335, 3.5413333333333337, 4.108333333333333, 3.388666666666667, 3.696, 3.0730000000000004, 3.1663333333333337, 3.6856666666666666, 3.920666666666667, 3.7463333333333337, 3.589, 3.7703333333333333, 3.7660000000000005, 3.861666666666667, 3.6936666666666667, 3.3156666666666665, 4.1063333333333345, 3.7330000000000005, 3.782666666666666, 4.282333333333334, 4.267666666666667, 3.6656666666666666, 3.8543333333333334, 4.256, 4.399666666666666, 4.093666666666667, 4.202, 4.234333333333333, 4.441, 3.6016666666666666, 4.030333333333332, 4.142666666666666, 3.893333333333333, 3.629, 4.210333333333334, 4.027333333333334, 4.687666666666666], \"yaxis\": \"y\"}],                        {\"legend\": {\"title\": {\"text\": \"variable\"}, \"tracegroupgap\": 0}, \"template\": {\"data\": {\"bar\": [{\"error_x\": {\"color\": \"#2a3f5f\"}, \"error_y\": {\"color\": \"#2a3f5f\"}, \"marker\": {\"line\": {\"color\": \"#E5ECF6\", \"width\": 0.5}}, \"type\": \"bar\"}], \"barpolar\": [{\"marker\": {\"line\": {\"color\": \"#E5ECF6\", \"width\": 0.5}}, \"type\": \"barpolar\"}], \"carpet\": [{\"aaxis\": {\"endlinecolor\": \"#2a3f5f\", \"gridcolor\": \"white\", \"linecolor\": \"white\", \"minorgridcolor\": \"white\", \"startlinecolor\": \"#2a3f5f\"}, \"baxis\": {\"endlinecolor\": \"#2a3f5f\", \"gridcolor\": \"white\", \"linecolor\": \"white\", \"minorgridcolor\": \"white\", \"startlinecolor\": \"#2a3f5f\"}, \"type\": \"carpet\"}], \"choropleth\": [{\"colorbar\": {\"outlinewidth\": 0, \"ticks\": \"\"}, \"type\": \"choropleth\"}], \"contour\": [{\"colorbar\": {\"outlinewidth\": 0, \"ticks\": \"\"}, \"colorscale\": [[0.0, \"#0d0887\"], [0.1111111111111111, \"#46039f\"], [0.2222222222222222, \"#7201a8\"], [0.3333333333333333, \"#9c179e\"], [0.4444444444444444, \"#bd3786\"], [0.5555555555555556, \"#d8576b\"], [0.6666666666666666, \"#ed7953\"], [0.7777777777777778, \"#fb9f3a\"], [0.8888888888888888, \"#fdca26\"], [1.0, \"#f0f921\"]], \"type\": \"contour\"}], \"contourcarpet\": [{\"colorbar\": {\"outlinewidth\": 0, \"ticks\": \"\"}, \"type\": \"contourcarpet\"}], \"heatmap\": [{\"colorbar\": {\"outlinewidth\": 0, \"ticks\": \"\"}, \"colorscale\": [[0.0, \"#0d0887\"], [0.1111111111111111, \"#46039f\"], [0.2222222222222222, \"#7201a8\"], [0.3333333333333333, \"#9c179e\"], [0.4444444444444444, \"#bd3786\"], [0.5555555555555556, \"#d8576b\"], [0.6666666666666666, \"#ed7953\"], [0.7777777777777778, \"#fb9f3a\"], [0.8888888888888888, \"#fdca26\"], [1.0, \"#f0f921\"]], \"type\": \"heatmap\"}], \"heatmapgl\": [{\"colorbar\": {\"outlinewidth\": 0, \"ticks\": \"\"}, \"colorscale\": [[0.0, \"#0d0887\"], [0.1111111111111111, \"#46039f\"], [0.2222222222222222, \"#7201a8\"], [0.3333333333333333, \"#9c179e\"], [0.4444444444444444, \"#bd3786\"], [0.5555555555555556, \"#d8576b\"], [0.6666666666666666, \"#ed7953\"], [0.7777777777777778, \"#fb9f3a\"], [0.8888888888888888, \"#fdca26\"], [1.0, \"#f0f921\"]], \"type\": \"heatmapgl\"}], \"histogram\": [{\"marker\": {\"colorbar\": {\"outlinewidth\": 0, \"ticks\": \"\"}}, \"type\": \"histogram\"}], \"histogram2d\": [{\"colorbar\": {\"outlinewidth\": 0, \"ticks\": \"\"}, \"colorscale\": [[0.0, \"#0d0887\"], [0.1111111111111111, \"#46039f\"], [0.2222222222222222, \"#7201a8\"], [0.3333333333333333, \"#9c179e\"], [0.4444444444444444, \"#bd3786\"], [0.5555555555555556, \"#d8576b\"], [0.6666666666666666, \"#ed7953\"], [0.7777777777777778, \"#fb9f3a\"], [0.8888888888888888, \"#fdca26\"], [1.0, \"#f0f921\"]], \"type\": \"histogram2d\"}], \"histogram2dcontour\": [{\"colorbar\": {\"outlinewidth\": 0, \"ticks\": \"\"}, \"colorscale\": [[0.0, \"#0d0887\"], [0.1111111111111111, \"#46039f\"], [0.2222222222222222, \"#7201a8\"], [0.3333333333333333, \"#9c179e\"], [0.4444444444444444, \"#bd3786\"], [0.5555555555555556, \"#d8576b\"], [0.6666666666666666, \"#ed7953\"], [0.7777777777777778, \"#fb9f3a\"], [0.8888888888888888, \"#fdca26\"], [1.0, \"#f0f921\"]], \"type\": \"histogram2dcontour\"}], \"mesh3d\": [{\"colorbar\": {\"outlinewidth\": 0, \"ticks\": \"\"}, \"type\": \"mesh3d\"}], \"parcoords\": [{\"line\": {\"colorbar\": {\"outlinewidth\": 0, \"ticks\": \"\"}}, \"type\": \"parcoords\"}], \"pie\": [{\"automargin\": true, \"type\": \"pie\"}], \"scatter\": [{\"marker\": {\"colorbar\": {\"outlinewidth\": 0, \"ticks\": \"\"}}, \"type\": \"scatter\"}], \"scatter3d\": [{\"line\": {\"colorbar\": {\"outlinewidth\": 0, \"ticks\": \"\"}}, \"marker\": {\"colorbar\": {\"outlinewidth\": 0, \"ticks\": \"\"}}, \"type\": \"scatter3d\"}], \"scattercarpet\": [{\"marker\": {\"colorbar\": {\"outlinewidth\": 0, \"ticks\": \"\"}}, \"type\": \"scattercarpet\"}], \"scattergeo\": [{\"marker\": {\"colorbar\": {\"outlinewidth\": 0, \"ticks\": \"\"}}, \"type\": \"scattergeo\"}], \"scattergl\": [{\"marker\": {\"colorbar\": {\"outlinewidth\": 0, \"ticks\": \"\"}}, \"type\": \"scattergl\"}], \"scattermapbox\": [{\"marker\": {\"colorbar\": {\"outlinewidth\": 0, \"ticks\": \"\"}}, \"type\": \"scattermapbox\"}], \"scatterpolar\": [{\"marker\": {\"colorbar\": {\"outlinewidth\": 0, \"ticks\": \"\"}}, \"type\": \"scatterpolar\"}], \"scatterpolargl\": [{\"marker\": {\"colorbar\": {\"outlinewidth\": 0, \"ticks\": \"\"}}, \"type\": \"scatterpolargl\"}], \"scatterternary\": [{\"marker\": {\"colorbar\": {\"outlinewidth\": 0, \"ticks\": \"\"}}, \"type\": \"scatterternary\"}], \"surface\": [{\"colorbar\": {\"outlinewidth\": 0, \"ticks\": \"\"}, \"colorscale\": [[0.0, \"#0d0887\"], [0.1111111111111111, \"#46039f\"], [0.2222222222222222, \"#7201a8\"], [0.3333333333333333, \"#9c179e\"], [0.4444444444444444, \"#bd3786\"], [0.5555555555555556, \"#d8576b\"], [0.6666666666666666, \"#ed7953\"], [0.7777777777777778, \"#fb9f3a\"], [0.8888888888888888, \"#fdca26\"], [1.0, \"#f0f921\"]], \"type\": \"surface\"}], \"table\": [{\"cells\": {\"fill\": {\"color\": \"#EBF0F8\"}, \"line\": {\"color\": \"white\"}}, \"header\": {\"fill\": {\"color\": \"#C8D4E3\"}, \"line\": {\"color\": \"white\"}}, \"type\": \"table\"}]}, \"layout\": {\"annotationdefaults\": {\"arrowcolor\": \"#2a3f5f\", \"arrowhead\": 0, \"arrowwidth\": 1}, \"autotypenumbers\": \"strict\", \"coloraxis\": {\"colorbar\": {\"outlinewidth\": 0, \"ticks\": \"\"}}, \"colorscale\": {\"diverging\": [[0, \"#8e0152\"], [0.1, \"#c51b7d\"], [0.2, \"#de77ae\"], [0.3, \"#f1b6da\"], [0.4, \"#fde0ef\"], [0.5, \"#f7f7f7\"], [0.6, \"#e6f5d0\"], [0.7, \"#b8e186\"], [0.8, \"#7fbc41\"], [0.9, \"#4d9221\"], [1, \"#276419\"]], \"sequential\": [[0.0, \"#0d0887\"], [0.1111111111111111, \"#46039f\"], [0.2222222222222222, \"#7201a8\"], [0.3333333333333333, \"#9c179e\"], [0.4444444444444444, \"#bd3786\"], [0.5555555555555556, \"#d8576b\"], [0.6666666666666666, \"#ed7953\"], [0.7777777777777778, \"#fb9f3a\"], [0.8888888888888888, \"#fdca26\"], [1.0, \"#f0f921\"]], \"sequentialminus\": [[0.0, \"#0d0887\"], [0.1111111111111111, \"#46039f\"], [0.2222222222222222, \"#7201a8\"], [0.3333333333333333, \"#9c179e\"], [0.4444444444444444, \"#bd3786\"], [0.5555555555555556, \"#d8576b\"], [0.6666666666666666, \"#ed7953\"], [0.7777777777777778, \"#fb9f3a\"], [0.8888888888888888, \"#fdca26\"], [1.0, \"#f0f921\"]]}, \"colorway\": [\"#636efa\", \"#EF553B\", \"#00cc96\", \"#ab63fa\", \"#FFA15A\", \"#19d3f3\", \"#FF6692\", \"#B6E880\", \"#FF97FF\", \"#FECB52\"], \"font\": {\"color\": \"#2a3f5f\"}, \"geo\": {\"bgcolor\": \"white\", \"lakecolor\": \"white\", \"landcolor\": \"#E5ECF6\", \"showlakes\": true, \"showland\": true, \"subunitcolor\": \"white\"}, \"hoverlabel\": {\"align\": \"left\"}, \"hovermode\": \"closest\", \"mapbox\": {\"style\": \"light\"}, \"paper_bgcolor\": \"white\", \"plot_bgcolor\": \"#E5ECF6\", \"polar\": {\"angularaxis\": {\"gridcolor\": \"white\", \"linecolor\": \"white\", \"ticks\": \"\"}, \"bgcolor\": \"#E5ECF6\", \"radialaxis\": {\"gridcolor\": \"white\", \"linecolor\": \"white\", \"ticks\": \"\"}}, \"scene\": {\"xaxis\": {\"backgroundcolor\": \"#E5ECF6\", \"gridcolor\": \"white\", \"gridwidth\": 2, \"linecolor\": \"white\", \"showbackground\": true, \"ticks\": \"\", \"zerolinecolor\": \"white\"}, \"yaxis\": {\"backgroundcolor\": \"#E5ECF6\", \"gridcolor\": \"white\", \"gridwidth\": 2, \"linecolor\": \"white\", \"showbackground\": true, \"ticks\": \"\", \"zerolinecolor\": \"white\"}, \"zaxis\": {\"backgroundcolor\": \"#E5ECF6\", \"gridcolor\": \"white\", \"gridwidth\": 2, \"linecolor\": \"white\", \"showbackground\": true, \"ticks\": \"\", \"zerolinecolor\": \"white\"}}, \"shapedefaults\": {\"line\": {\"color\": \"#2a3f5f\"}}, \"ternary\": {\"aaxis\": {\"gridcolor\": \"white\", \"linecolor\": \"white\", \"ticks\": \"\"}, \"baxis\": {\"gridcolor\": \"white\", \"linecolor\": \"white\", \"ticks\": \"\"}, \"bgcolor\": \"#E5ECF6\", \"caxis\": {\"gridcolor\": \"white\", \"linecolor\": \"white\", \"ticks\": \"\"}}, \"title\": {\"x\": 0.05}, \"xaxis\": {\"automargin\": true, \"gridcolor\": \"white\", \"linecolor\": \"white\", \"ticks\": \"\", \"title\": {\"standoff\": 15}, \"zerolinecolor\": \"white\", \"zerolinewidth\": 2}, \"yaxis\": {\"automargin\": true, \"gridcolor\": \"white\", \"linecolor\": \"white\", \"ticks\": \"\", \"title\": {\"standoff\": 15}, \"zerolinecolor\": \"white\", \"zerolinewidth\": 2}}}, \"title\": {\"text\": \"Average Temperature in Each Season\"}, \"xaxis\": {\"anchor\": \"y\", \"domain\": [0.0, 1.0], \"title\": {\"text\": \"year\"}}, \"yaxis\": {\"anchor\": \"x\", \"domain\": [0.0, 1.0], \"title\": {\"text\": \"value\"}}},                        {\"responsive\": true}                    ).then(function(){\n",
       "                            \n",
       "var gd = document.getElementById('ca771634-0f0a-4c75-9dab-3640508c799d');\n",
       "var x = new MutationObserver(function (mutations, observer) {{\n",
       "        var display = window.getComputedStyle(gd).display;\n",
       "        if (!display || display === 'none') {{\n",
       "            console.log([gd, 'removed!']);\n",
       "            Plotly.purge(gd);\n",
       "            observer.disconnect();\n",
       "        }}\n",
       "}});\n",
       "\n",
       "// Listen for the removal of the full notebook cells\n",
       "var notebookContainer = gd.closest('#notebook-container');\n",
       "if (notebookContainer) {{\n",
       "    x.observe(notebookContainer, {childList: true});\n",
       "}}\n",
       "\n",
       "// Listen for the clearing of the current output cell\n",
       "var outputEl = gd.closest('.output');\n",
       "if (outputEl) {{\n",
       "    x.observe(outputEl, {childList: true});\n",
       "}}\n",
       "\n",
       "                        })                };                });            </script>        </div>"
      ]
     },
     "metadata": {},
     "output_type": "display_data"
    }
   ],
   "source": [
    "fig=px.line(season, x='year', y=['springtemp', 'summertemp', 'autumntemp', 'wintertemp'], title='Average Temperature in Each Season')\n",
    "fig.show()"
   ]
  },
  {
   "cell_type": "markdown",
   "id": "undefined-europe",
   "metadata": {},
   "source": [
    "# Analyze Trends in Temperature in Top Economics"
   ]
  },
  {
   "cell_type": "code",
   "execution_count": 40,
   "id": "included-cedar",
   "metadata": {},
   "outputs": [],
   "source": [
    "continent = ['Russia', 'United States', 'China', 'Japan','Australia']"
   ]
  },
  {
   "cell_type": "code",
   "execution_count": 41,
   "id": "ceramic-cleaning",
   "metadata": {},
   "outputs": [],
   "source": [
    "globalcountry.dropna(axis='index',how='any', subset=['AverageTemperature'], inplace=True)"
   ]
  },
  {
   "cell_type": "code",
   "execution_count": 42,
   "id": "athletic-warner",
   "metadata": {},
   "outputs": [
    {
     "data": {
      "text/html": [
       "<div>\n",
       "<style scoped>\n",
       "    .dataframe tbody tr th:only-of-type {\n",
       "        vertical-align: middle;\n",
       "    }\n",
       "\n",
       "    .dataframe tbody tr th {\n",
       "        vertical-align: top;\n",
       "    }\n",
       "\n",
       "    .dataframe thead th {\n",
       "        text-align: right;\n",
       "    }\n",
       "</style>\n",
       "<table border=\"1\" class=\"dataframe\">\n",
       "  <thead>\n",
       "    <tr style=\"text-align: right;\">\n",
       "      <th></th>\n",
       "      <th>dt</th>\n",
       "      <th>AverageTemperature</th>\n",
       "      <th>AverageTemperatureUncertainty</th>\n",
       "      <th>Country</th>\n",
       "    </tr>\n",
       "  </thead>\n",
       "  <tbody>\n",
       "    <tr>\n",
       "      <th>0</th>\n",
       "      <td>1743-11-01</td>\n",
       "      <td>4.384</td>\n",
       "      <td>2.294</td>\n",
       "      <td>Åland</td>\n",
       "    </tr>\n",
       "    <tr>\n",
       "      <th>5</th>\n",
       "      <td>1744-04-01</td>\n",
       "      <td>1.530</td>\n",
       "      <td>4.680</td>\n",
       "      <td>Åland</td>\n",
       "    </tr>\n",
       "    <tr>\n",
       "      <th>6</th>\n",
       "      <td>1744-05-01</td>\n",
       "      <td>6.702</td>\n",
       "      <td>1.789</td>\n",
       "      <td>Åland</td>\n",
       "    </tr>\n",
       "    <tr>\n",
       "      <th>7</th>\n",
       "      <td>1744-06-01</td>\n",
       "      <td>11.609</td>\n",
       "      <td>1.577</td>\n",
       "      <td>Åland</td>\n",
       "    </tr>\n",
       "    <tr>\n",
       "      <th>8</th>\n",
       "      <td>1744-07-01</td>\n",
       "      <td>15.342</td>\n",
       "      <td>1.410</td>\n",
       "      <td>Åland</td>\n",
       "    </tr>\n",
       "  </tbody>\n",
       "</table>\n",
       "</div>"
      ],
      "text/plain": [
       "           dt  AverageTemperature  AverageTemperatureUncertainty Country\n",
       "0  1743-11-01               4.384                          2.294   Åland\n",
       "5  1744-04-01               1.530                          4.680   Åland\n",
       "6  1744-05-01               6.702                          1.789   Åland\n",
       "7  1744-06-01              11.609                          1.577   Åland\n",
       "8  1744-07-01              15.342                          1.410   Åland"
      ]
     },
     "execution_count": 42,
     "metadata": {},
     "output_type": "execute_result"
    }
   ],
   "source": [
    "globalcountry.head()"
   ]
  },
  {
   "cell_type": "code",
   "execution_count": 43,
   "id": "accompanied-suspect",
   "metadata": {},
   "outputs": [
    {
     "data": {
      "text/html": [
       "<div>\n",
       "<style scoped>\n",
       "    .dataframe tbody tr th:only-of-type {\n",
       "        vertical-align: middle;\n",
       "    }\n",
       "\n",
       "    .dataframe tbody tr th {\n",
       "        vertical-align: top;\n",
       "    }\n",
       "\n",
       "    .dataframe thead th {\n",
       "        text-align: right;\n",
       "    }\n",
       "</style>\n",
       "<table border=\"1\" class=\"dataframe\">\n",
       "  <thead>\n",
       "    <tr style=\"text-align: right;\">\n",
       "      <th></th>\n",
       "      <th>dt</th>\n",
       "      <th>AverageTemperature</th>\n",
       "      <th>AverageTemperatureUncertainty</th>\n",
       "      <th>Country</th>\n",
       "    </tr>\n",
       "  </thead>\n",
       "  <tbody>\n",
       "    <tr>\n",
       "      <th>34816</th>\n",
       "      <td>1852-07-01</td>\n",
       "      <td>14.116</td>\n",
       "      <td>1.530</td>\n",
       "      <td>Australia</td>\n",
       "    </tr>\n",
       "    <tr>\n",
       "      <th>34817</th>\n",
       "      <td>1852-08-01</td>\n",
       "      <td>15.330</td>\n",
       "      <td>1.400</td>\n",
       "      <td>Australia</td>\n",
       "    </tr>\n",
       "    <tr>\n",
       "      <th>34818</th>\n",
       "      <td>1852-09-01</td>\n",
       "      <td>18.740</td>\n",
       "      <td>1.446</td>\n",
       "      <td>Australia</td>\n",
       "    </tr>\n",
       "    <tr>\n",
       "      <th>34819</th>\n",
       "      <td>1852-10-01</td>\n",
       "      <td>21.984</td>\n",
       "      <td>1.493</td>\n",
       "      <td>Australia</td>\n",
       "    </tr>\n",
       "    <tr>\n",
       "      <th>34820</th>\n",
       "      <td>1852-11-01</td>\n",
       "      <td>24.073</td>\n",
       "      <td>1.466</td>\n",
       "      <td>Australia</td>\n",
       "    </tr>\n",
       "  </tbody>\n",
       "</table>\n",
       "</div>"
      ],
      "text/plain": [
       "               dt  AverageTemperature  AverageTemperatureUncertainty  \\\n",
       "34816  1852-07-01              14.116                          1.530   \n",
       "34817  1852-08-01              15.330                          1.400   \n",
       "34818  1852-09-01              18.740                          1.446   \n",
       "34819  1852-10-01              21.984                          1.493   \n",
       "34820  1852-11-01              24.073                          1.466   \n",
       "\n",
       "         Country  \n",
       "34816  Australia  \n",
       "34817  Australia  \n",
       "34818  Australia  \n",
       "34819  Australia  \n",
       "34820  Australia  "
      ]
     },
     "execution_count": 43,
     "metadata": {},
     "output_type": "execute_result"
    }
   ],
   "source": [
    "continentdf=globalcountry[globalcountry[\"Country\"].isin(continent)]\n",
    "continentdf.head()"
   ]
  },
  {
   "cell_type": "code",
   "execution_count": 44,
   "id": "tired-vegetation",
   "metadata": {},
   "outputs": [
    {
     "name": "stderr",
     "output_type": "stream",
     "text": [
      "C:\\Anaconda3\\lib\\site-packages\\ipykernel_launcher.py:1: SettingWithCopyWarning:\n",
      "\n",
      "\n",
      "A value is trying to be set on a copy of a slice from a DataFrame.\n",
      "Try using .loc[row_indexer,col_indexer] = value instead\n",
      "\n",
      "See the caveats in the documentation: https://pandas.pydata.org/pandas-docs/stable/user_guide/indexing.html#returning-a-view-versus-a-copy\n",
      "\n"
     ]
    }
   ],
   "source": [
    "continentdf['years']=continentdf['dt'].apply(fetch_year)"
   ]
  },
  {
   "cell_type": "code",
   "execution_count": 45,
   "id": "demonstrated-consequence",
   "metadata": {},
   "outputs": [
    {
     "data": {
      "text/html": [
       "<div>\n",
       "<style scoped>\n",
       "    .dataframe tbody tr th:only-of-type {\n",
       "        vertical-align: middle;\n",
       "    }\n",
       "\n",
       "    .dataframe tbody tr th {\n",
       "        vertical-align: top;\n",
       "    }\n",
       "\n",
       "    .dataframe thead th {\n",
       "        text-align: right;\n",
       "    }\n",
       "</style>\n",
       "<table border=\"1\" class=\"dataframe\">\n",
       "  <thead>\n",
       "    <tr style=\"text-align: right;\">\n",
       "      <th></th>\n",
       "      <th>years</th>\n",
       "      <th>Country</th>\n",
       "      <th>AverageTemperature</th>\n",
       "    </tr>\n",
       "  </thead>\n",
       "  <tbody>\n",
       "    <tr>\n",
       "      <th>0</th>\n",
       "      <td>1768</td>\n",
       "      <td>United States</td>\n",
       "      <td>5.572750</td>\n",
       "    </tr>\n",
       "    <tr>\n",
       "      <th>1</th>\n",
       "      <td>1769</td>\n",
       "      <td>United States</td>\n",
       "      <td>10.446500</td>\n",
       "    </tr>\n",
       "    <tr>\n",
       "      <th>2</th>\n",
       "      <td>1774</td>\n",
       "      <td>United States</td>\n",
       "      <td>1.603000</td>\n",
       "    </tr>\n",
       "    <tr>\n",
       "      <th>3</th>\n",
       "      <td>1775</td>\n",
       "      <td>United States</td>\n",
       "      <td>9.499167</td>\n",
       "    </tr>\n",
       "    <tr>\n",
       "      <th>4</th>\n",
       "      <td>1776</td>\n",
       "      <td>United States</td>\n",
       "      <td>8.110000</td>\n",
       "    </tr>\n",
       "  </tbody>\n",
       "</table>\n",
       "</div>"
      ],
      "text/plain": [
       "  years        Country  AverageTemperature\n",
       "0  1768  United States            5.572750\n",
       "1  1769  United States           10.446500\n",
       "2  1774  United States            1.603000\n",
       "3  1775  United States            9.499167\n",
       "4  1776  United States            8.110000"
      ]
     },
     "execution_count": 45,
     "metadata": {},
     "output_type": "execute_result"
    }
   ],
   "source": [
    "avgtemp=continentdf.groupby(['years','Country']).agg({'AverageTemperature':'mean'}).reset_index()\n",
    "avgtemp.head()"
   ]
  },
  {
   "cell_type": "code",
   "execution_count": 46,
   "id": "checked-motivation",
   "metadata": {},
   "outputs": [
    {
     "data": {
      "application/vnd.plotly.v1+json": {
       "config": {
        "plotlyServerURL": "https://plot.ly"
       },
       "data": [
        {
         "hovertemplate": "Country=United States<br>years=%{x}<br>AverageTemperature=%{y}<extra></extra>",
         "legendgroup": "United States",
         "line": {
          "color": "#636efa",
          "dash": "solid"
         },
         "mode": "lines",
         "name": "United States",
         "orientation": "v",
         "showlegend": true,
         "type": "scatter",
         "x": [
          "1768",
          "1769",
          "1774",
          "1775",
          "1776",
          "1777",
          "1778",
          "1779",
          "1781",
          "1782",
          "1796",
          "1797",
          "1811",
          "1812",
          "1813",
          "1814",
          "1815",
          "1816",
          "1817",
          "1818",
          "1819",
          "1820",
          "1821",
          "1822",
          "1823",
          "1824",
          "1825",
          "1826",
          "1827",
          "1828",
          "1829",
          "1830",
          "1831",
          "1832",
          "1833",
          "1834",
          "1835",
          "1836",
          "1837",
          "1838",
          "1839",
          "1840",
          "1841",
          "1842",
          "1843",
          "1844",
          "1845",
          "1846",
          "1847",
          "1848",
          "1849",
          "1850",
          "1851",
          "1852",
          "1853",
          "1854",
          "1855",
          "1856",
          "1857",
          "1858",
          "1859",
          "1860",
          "1861",
          "1862",
          "1863",
          "1864",
          "1865",
          "1866",
          "1867",
          "1868",
          "1869",
          "1870",
          "1871",
          "1872",
          "1873",
          "1874",
          "1875",
          "1876",
          "1877",
          "1878",
          "1879",
          "1880",
          "1881",
          "1882",
          "1883",
          "1884",
          "1885",
          "1886",
          "1887",
          "1888",
          "1889",
          "1890",
          "1891",
          "1892",
          "1893",
          "1894",
          "1895",
          "1896",
          "1897",
          "1898",
          "1899",
          "1900",
          "1901",
          "1902",
          "1903",
          "1904",
          "1905",
          "1906",
          "1907",
          "1908",
          "1909",
          "1910",
          "1911",
          "1912",
          "1913",
          "1914",
          "1915",
          "1916",
          "1917",
          "1918",
          "1919",
          "1920",
          "1921",
          "1922",
          "1923",
          "1924",
          "1925",
          "1926",
          "1927",
          "1928",
          "1929",
          "1930",
          "1931",
          "1932",
          "1933",
          "1934",
          "1935",
          "1936",
          "1937",
          "1938",
          "1939",
          "1940",
          "1941",
          "1942",
          "1943",
          "1944",
          "1945",
          "1946",
          "1947",
          "1948",
          "1949",
          "1950",
          "1951",
          "1952",
          "1953",
          "1954",
          "1955",
          "1956",
          "1957",
          "1958",
          "1959",
          "1960",
          "1961",
          "1962",
          "1963",
          "1964",
          "1965",
          "1966",
          "1967",
          "1968",
          "1969",
          "1970",
          "1971",
          "1972",
          "1973",
          "1974",
          "1975",
          "1976",
          "1977",
          "1978",
          "1979",
          "1980",
          "1981",
          "1982",
          "1983",
          "1984",
          "1985",
          "1986",
          "1987",
          "1988",
          "1989",
          "1990",
          "1991",
          "1992",
          "1993",
          "1994",
          "1995",
          "1996",
          "1997",
          "1998",
          "1999",
          "2000",
          "2001",
          "2002",
          "2003",
          "2004",
          "2005",
          "2006",
          "2007",
          "2008",
          "2009",
          "2010",
          "2011",
          "2012",
          "2013"
         ],
         "xaxis": "x",
         "y": [
          5.57275,
          10.4465,
          1.603,
          9.499166666666666,
          8.11,
          8.30475,
          5.362000000000001,
          -0.7136666666666663,
          6.25325,
          7.60642857142857,
          12.231000000000003,
          6.356833333333333,
          8.0434,
          7.012666666666665,
          9.918888888888889,
          3.784333333333334,
          7.501333333333335,
          4.396625,
          7.229916666666667,
          6.2747,
          -2.774666666666667,
          7.563833333333332,
          8.004083333333334,
          8.386833333333334,
          7.9110000000000005,
          8.50225,
          8.966500000000002,
          8.578999999999999,
          9.102,
          8.8485,
          8.389249999999999,
          9.215083333333334,
          7.720750000000002,
          8.247416666666668,
          8.811916666666667,
          8.829583333333334,
          7.53925,
          7.5639166666666675,
          7.984416666666667,
          7.548666666666666,
          8.522166666666665,
          8.251500000000002,
          8.14925,
          8.358333333333333,
          7.783666666666668,
          8.082833333333332,
          8.408916666666666,
          9.136333333333333,
          7.907083333333333,
          8.016833333333333,
          8.129166666666666,
          8.248333333333333,
          8.6575,
          8.183083333333332,
          8.459916666666667,
          8.821250000000001,
          8.459416666666668,
          7.94325,
          8.140333333333333,
          8.412833333333332,
          8.016833333333334,
          8.580916666666667,
          8.6505,
          8.213999999999999,
          8.446250000000001,
          8.381083333333335,
          8.495666666666667,
          8.334333333333333,
          8.509000000000002,
          8.207416666666667,
          8.31125,
          8.829500000000001,
          8.706750000000001,
          8.000749999999998,
          8.063083333333331,
          8.768,
          7.849666666666668,
          8.099,
          8.696583333333335,
          9.017166666666666,
          8.683250000000001,
          8.110333333333333,
          8.643500000000001,
          8.369916666666667,
          7.942249999999999,
          7.957999999999998,
          8.158416666666666,
          8.181833333333334,
          8.143583333333332,
          8.172833333333335,
          8.798083333333333,
          8.559166666666666,
          8.31675,
          8.177999999999999,
          8.170999999999998,
          8.46675,
          7.847333333333334,
          8.483583333333334,
          8.473166666666666,
          8.427916666666667,
          8.166833333333331,
          9.021583333333334,
          8.494916666666667,
          8.453999999999999,
          7.977249999999999,
          8.200666666666665,
          8.402333333333335,
          8.560083333333333,
          8.394000000000002,
          8.755583333333334,
          8.221833333333334,
          8.757916666666667,
          8.737916666666665,
          8.140916666666667,
          8.552166666666666,
          8.876499999999998,
          8.648249999999999,
          8.180083333333334,
          7.669499999999999,
          8.50125,
          8.537999999999998,
          8.184499999999998,
          9.595666666666668,
          8.768166666666668,
          8.760333333333334,
          8.052333333333332,
          9.016416666666666,
          9.14025,
          8.719333333333333,
          8.876,
          8.4395,
          8.737666666666666,
          9.560750000000002,
          8.5395,
          9.030583333333334,
          9.826583333333334,
          8.742500000000001,
          8.92225,
          8.730749999999999,
          9.471833333333334,
          9.3075,
          9.097166666666668,
          9.266083333333333,
          8.919333333333332,
          9.0035,
          8.898166666666667,
          8.671249999999999,
          9.179583333333332,
          8.836083333333333,
          8.481666666666667,
          8.888083333333332,
          8.656416666666667,
          8.416583333333334,
          8.979416666666667,
          9.530416666666666,
          9.410583333333333,
          8.517166666666666,
          8.699916666666665,
          9.126333333333333,
          8.97016666666667,
          8.825333333333333,
          8.69225,
          8.642,
          8.9565,
          9.079999999999998,
          8.491666666666667,
          8.647666666666668,
          8.483,
          8.902000000000001,
          8.553249999999998,
          8.770833333333332,
          8.673,
          8.442499999999999,
          8.428083333333335,
          8.934666666666667,
          8.815916666666666,
          8.431,
          8.65125,
          9.269833333333334,
          8.751416666666666,
          8.571583333333331,
          9.135499999999999,
          9.7215,
          8.539499999999999,
          8.912333333333333,
          8.811166666666667,
          8.587000000000002,
          9.559500000000002,
          9.628166666666665,
          9.275333333333334,
          8.873083333333334,
          9.521583333333334,
          9.493666666666666,
          9.056333333333333,
          8.86725,
          9.270333333333335,
          9.331000000000001,
          8.754333333333333,
          9.172916666666667,
          10.141166666666667,
          9.567,
          9.649750000000001,
          9.785583333333333,
          9.816166666666666,
          9.75508333333333,
          9.6675,
          9.892666666666669,
          9.9745,
          9.837499999999999,
          8.951416666666669,
          9.137083333333335,
          9.505583333333334,
          9.549916666666665,
          10.261083333333334,
          11.297111111111112
         ],
         "yaxis": "y"
        },
        {
         "hovertemplate": "Country=Russia<br>years=%{x}<br>AverageTemperature=%{y}<extra></extra>",
         "legendgroup": "Russia",
         "line": {
          "color": "#EF553B",
          "dash": "solid"
         },
         "mode": "lines",
         "name": "Russia",
         "orientation": "v",
         "showlegend": true,
         "type": "scatter",
         "x": [
          "1812",
          "1813",
          "1814",
          "1815",
          "1816",
          "1817",
          "1818",
          "1819",
          "1820",
          "1821",
          "1822",
          "1823",
          "1824",
          "1825",
          "1826",
          "1827",
          "1828",
          "1829",
          "1830",
          "1831",
          "1832",
          "1833",
          "1834",
          "1835",
          "1836",
          "1837",
          "1838",
          "1839",
          "1840",
          "1841",
          "1842",
          "1843",
          "1844",
          "1845",
          "1846",
          "1847",
          "1848",
          "1849",
          "1850",
          "1851",
          "1852",
          "1853",
          "1854",
          "1855",
          "1856",
          "1857",
          "1858",
          "1859",
          "1860",
          "1861",
          "1862",
          "1863",
          "1864",
          "1865",
          "1866",
          "1867",
          "1868",
          "1869",
          "1870",
          "1871",
          "1872",
          "1873",
          "1874",
          "1875",
          "1876",
          "1877",
          "1878",
          "1879",
          "1880",
          "1881",
          "1882",
          "1883",
          "1884",
          "1885",
          "1886",
          "1887",
          "1888",
          "1889",
          "1890",
          "1891",
          "1892",
          "1893",
          "1894",
          "1895",
          "1896",
          "1897",
          "1898",
          "1899",
          "1900",
          "1901",
          "1902",
          "1903",
          "1904",
          "1905",
          "1906",
          "1907",
          "1908",
          "1909",
          "1910",
          "1911",
          "1912",
          "1913",
          "1914",
          "1915",
          "1916",
          "1917",
          "1918",
          "1919",
          "1920",
          "1921",
          "1922",
          "1923",
          "1924",
          "1925",
          "1926",
          "1927",
          "1928",
          "1929",
          "1930",
          "1931",
          "1932",
          "1933",
          "1934",
          "1935",
          "1936",
          "1937",
          "1938",
          "1939",
          "1940",
          "1941",
          "1942",
          "1943",
          "1944",
          "1945",
          "1946",
          "1947",
          "1948",
          "1949",
          "1950",
          "1951",
          "1952",
          "1953",
          "1954",
          "1955",
          "1956",
          "1957",
          "1958",
          "1959",
          "1960",
          "1961",
          "1962",
          "1963",
          "1964",
          "1965",
          "1966",
          "1967",
          "1968",
          "1969",
          "1970",
          "1971",
          "1972",
          "1973",
          "1974",
          "1975",
          "1976",
          "1977",
          "1978",
          "1979",
          "1980",
          "1981",
          "1982",
          "1983",
          "1984",
          "1985",
          "1986",
          "1987",
          "1988",
          "1989",
          "1990",
          "1991",
          "1992",
          "1993",
          "1994",
          "1995",
          "1996",
          "1997",
          "1998",
          "1999",
          "2000",
          "2001",
          "2002",
          "2003",
          "2004",
          "2005",
          "2006",
          "2007",
          "2008",
          "2009",
          "2010",
          "2011",
          "2012",
          "2013"
         ],
         "xaxis": "x",
         "y": [
          -7.046833333333335,
          -7.084818181818182,
          -6.4359090909090915,
          -21.342,
          -1.6283333333333339,
          -6.959916666666667,
          -5.90925,
          -6.7655,
          -6.4285,
          -5.717666666666667,
          -5.482333333333334,
          -6.203499999999999,
          -5.300083333333334,
          -5.4315,
          -5.317166666666666,
          -5.038250000000001,
          -6.109750000000001,
          -6.1812499999999995,
          -5.660416666666667,
          -6.67325,
          -6.681166666666667,
          -6.164500000000001,
          -5.7781666666666665,
          -6.785500000000002,
          -6.088916666666667,
          -6.761666666666668,
          -6.4182500000000005,
          -6.437583333333333,
          -6.4374166666666675,
          -6.433916666666666,
          -5.994416666666667,
          -5.097583333333334,
          -6.2200000000000015,
          -6.274750000000001,
          -5.433916666666668,
          -5.9303333333333335,
          -5.708333333333335,
          -5.560500000000001,
          -6.426500000000001,
          -5.669583333333333,
          -6.039666666666666,
          -6.276,
          -5.490249999999999,
          -5.556916666666666,
          -6.088750000000001,
          -6.487166666666667,
          -5.592833333333332,
          -5.2285,
          -6.619,
          -6.295333333333335,
          -6.931416666666668,
          -5.299166666666667,
          -6.007583333333334,
          -5.917083333333333,
          -5.319749999999999,
          -5.542999999999999,
          -5.7579166666666675,
          -5.331916666666666,
          -6.422833333333334,
          -6.263333333333333,
          -6.421416666666666,
          -5.687916666666666,
          -4.888916666666667,
          -6.085416666666667,
          -6.0015833333333335,
          -5.602999999999999,
          -5.238083333333334,
          -5.84475,
          -5.737166666666664,
          -6.0352500000000004,
          -5.762250000000002,
          -5.847083333333334,
          -6.1816666666666675,
          -6.683916666666668,
          -6.129250000000002,
          -5.886916666666668,
          -6.412666666666669,
          -6.1031666666666675,
          -6.25675,
          -6.183666666666666,
          -6.362416666666667,
          -5.554833333333334,
          -5.366166666666668,
          -6.280666666666666,
          -5.686833333333335,
          -5.554916666666666,
          -5.950666666666667,
          -5.375749999999999,
          -5.8743333333333325,
          -5.460083333333333,
          -7.002750000000002,
          -5.352583333333333,
          -5.418499999999999,
          -5.687083333333334,
          -5.101749999999999,
          -6.041416666666667,
          -6.122583333333335,
          -5.865083333333332,
          -5.776583333333335,
          -5.830333333333333,
          -6.864416666666666,
          -5.726416666666668,
          -5.374166666666667,
          -6.3629999999999995,
          -6.190000000000001,
          -5.528416666666668,
          -5.747916666666666,
          -6.186000000000003,
          -5.155,
          -4.90425,
          -5.697833333333333,
          -5.521166666666667,
          -5.2754166666666675,
          -5.128916666666666,
          -5.3745,
          -5.6569166666666675,
          -5.77225,
          -6.400083333333335,
          -5.53075,
          -5.7627500000000005,
          -4.758249999999999,
          -6.252166666666668,
          -4.643,
          -5.214333333333333,
          -5.030083333333333,
          -5.1489166666666675,
          -4.552666666666664,
          -4.716833333333333,
          -5.628416666666667,
          -6.476666666666667,
          -5.604666666666667,
          -4.1145000000000005,
          -4.434,
          -5.3944166666666655,
          -5.855000000000001,
          -5.368083333333334,
          -4.337583333333333,
          -4.9277500000000005,
          -5.608916666666669,
          -5.0559166666666675,
          -6.175250000000001,
          -4.779416666666666,
          -5.317333333333335,
          -5.626666666666665,
          -5.81375,
          -5.358250000000001,
          -6.154083333333333,
          -4.838916666666666,
          -5.935999999999999,
          -4.960333333333334,
          -4.416250000000001,
          -5.008166666666667,
          -5.785833333333333,
          -5.907416666666665,
          -6.309583333333333,
          -4.36325,
          -5.5895833333333345,
          -6.766083333333334,
          -5.5225833333333325,
          -4.971166666666668,
          -5.702000000000001,
          -4.833583333333334,
          -5.671749999999999,
          -4.1410833333333334,
          -5.927,
          -5.513000000000001,
          -5.255916666666667,
          -5.904333333333333,
          -5.420750000000001,
          -4.166166666666667,
          -5.097583333333333,
          -3.951833333333333,
          -5.294249999999999,
          -5.521166666666666,
          -4.8922500000000015,
          -6.274,
          -4.330416666666666,
          -4.073250000000001,
          -4.022916666666667,
          -4.236999999999999,
          -4.903250000000001,
          -4.62175,
          -4.898416666666667,
          -3.1301666666666663,
          -4.810333333333333,
          -4.2965,
          -5.281083333333334,
          -4.829750000000001,
          -4.545666666666667,
          -4.490666666666667,
          -4.122916666666666,
          -3.8328333333333338,
          -4.493583333333333,
          -3.4980833333333337,
          -4.762999999999999,
          -2.9750833333333353,
          -3.305416666666666,
          -4.608500000000002,
          -4.5205833333333345,
          -3.401583333333333,
          -3.90175,
          -2.2631250000000014
         ],
         "yaxis": "y"
        },
        {
         "hovertemplate": "Country=China<br>years=%{x}<br>AverageTemperature=%{y}<extra></extra>",
         "legendgroup": "China",
         "line": {
          "color": "#00cc96",
          "dash": "solid"
         },
         "mode": "lines",
         "name": "China",
         "orientation": "v",
         "showlegend": true,
         "type": "scatter",
         "x": [
          "1820",
          "1821",
          "1822",
          "1823",
          "1833",
          "1834",
          "1835",
          "1836",
          "1837",
          "1838",
          "1839",
          "1840",
          "1841",
          "1842",
          "1843",
          "1844",
          "1845",
          "1846",
          "1847",
          "1848",
          "1849",
          "1850",
          "1851",
          "1852",
          "1853",
          "1854",
          "1855",
          "1856",
          "1857",
          "1858",
          "1859",
          "1860",
          "1861",
          "1862",
          "1863",
          "1864",
          "1865",
          "1866",
          "1867",
          "1868",
          "1869",
          "1870",
          "1871",
          "1872",
          "1873",
          "1874",
          "1875",
          "1876",
          "1877",
          "1878",
          "1879",
          "1880",
          "1881",
          "1882",
          "1883",
          "1884",
          "1885",
          "1886",
          "1887",
          "1888",
          "1889",
          "1890",
          "1891",
          "1892",
          "1893",
          "1894",
          "1895",
          "1896",
          "1897",
          "1898",
          "1899",
          "1900",
          "1901",
          "1902",
          "1903",
          "1904",
          "1905",
          "1906",
          "1907",
          "1908",
          "1909",
          "1910",
          "1911",
          "1912",
          "1913",
          "1914",
          "1915",
          "1916",
          "1917",
          "1918",
          "1919",
          "1920",
          "1921",
          "1922",
          "1923",
          "1924",
          "1925",
          "1926",
          "1927",
          "1928",
          "1929",
          "1930",
          "1931",
          "1932",
          "1933",
          "1934",
          "1935",
          "1936",
          "1937",
          "1938",
          "1939",
          "1940",
          "1941",
          "1942",
          "1943",
          "1944",
          "1945",
          "1946",
          "1947",
          "1948",
          "1949",
          "1950",
          "1951",
          "1952",
          "1953",
          "1954",
          "1955",
          "1956",
          "1957",
          "1958",
          "1959",
          "1960",
          "1961",
          "1962",
          "1963",
          "1964",
          "1965",
          "1966",
          "1967",
          "1968",
          "1969",
          "1970",
          "1971",
          "1972",
          "1973",
          "1974",
          "1975",
          "1976",
          "1977",
          "1978",
          "1979",
          "1980",
          "1981",
          "1982",
          "1983",
          "1984",
          "1985",
          "1986",
          "1987",
          "1988",
          "1989",
          "1990",
          "1991",
          "1992",
          "1993",
          "1994",
          "1995",
          "1996",
          "1997",
          "1998",
          "1999",
          "2000",
          "2001",
          "2002",
          "2003",
          "2004",
          "2005",
          "2006",
          "2007",
          "2008",
          "2009",
          "2010",
          "2011",
          "2012",
          "2013"
         ],
         "xaxis": "x",
         "y": [
          5.013599999999999,
          6.284166666666667,
          6.3414166666666665,
          7.024363636363637,
          6.039333333333335,
          6.268166666666667,
          5.43425,
          5.364727272727273,
          8.136833333333332,
          5.715,
          5.5190833333333345,
          6.018583333333333,
          5.512416666666667,
          6.2785,
          6.413916666666668,
          6.051500000000001,
          6.023000000000001,
          6.587500000000001,
          6.257083333333333,
          5.939749999999997,
          6.104833333333335,
          5.907166666666666,
          5.7828333333333335,
          5.857499999999999,
          5.997583333333334,
          6.473083333333332,
          6.515583333333335,
          6.095583333333334,
          5.959666666666667,
          6.414083333333334,
          6.535166666666669,
          5.609333333333332,
          5.865166666666666,
          5.448083333333333,
          6.444583333333333,
          5.8015,
          6.243999999999999,
          6.410416666666667,
          6.759166666666666,
          6.415499999999999,
          6.465833333333332,
          6.158999999999999,
          6.371583333333334,
          6.286333333333332,
          6.588166666666667,
          6.645166666666667,
          6.505,
          6.347416666666667,
          6.181583333333332,
          6.414416666666667,
          6.667416666666667,
          6.383500000000001,
          6.352833333333334,
          6.39825,
          6.026916666666668,
          5.804833333333332,
          5.964499999999998,
          6.114750000000001,
          6.197166666666667,
          6.336416666666665,
          6.31175,
          6.464333333333333,
          6.359333333333335,
          6.060833333333334,
          6.108333333333334,
          6.578250000000001,
          6.035833333333334,
          6.386250000000001,
          6.228083333333331,
          6.562666666666666,
          6.603416666666667,
          6.444166666666668,
          6.537499999999999,
          6.744666666666666,
          6.1745833333333335,
          6.350833333333334,
          5.755499999999999,
          6.2218333333333335,
          6.308666666666667,
          6.286583333333335,
          6.381249999999999,
          6.0715,
          6.297,
          6.076083333333332,
          6.138416666666665,
          6.818749999999999,
          6.49275,
          6.349833333333333,
          6.161416666666668,
          6.196833333333334,
          6.607000000000002,
          6.590333333333333,
          6.500750000000001,
          6.6773333333333325,
          6.563666666666666,
          6.704250000000001,
          6.5556666666666645,
          6.754083333333334,
          6.667749999999999,
          6.7746666666666675,
          6.424083333333333,
          6.468666666666667,
          6.3775,
          6.905583333333333,
          6.6299166666666665,
          6.362833333333332,
          6.636166666666668,
          6.111583333333335,
          6.511083333333332,
          6.87175,
          7.026500000000001,
          6.961666666666665,
          7.345499999999999,
          7.096,
          7.050916666666666,
          6.530500000000001,
          6.838833333333334,
          7.354083333333333,
          6.773833333333333,
          7.100333333333334,
          6.9755,
          6.641166666666666,
          6.869500000000002,
          6.640916666666667,
          7.022333333333336,
          6.370999999999999,
          6.701666666666665,
          6.299333333333334,
          6.387999999999999,
          7.033583333333333,
          7.039666666666668,
          6.890916666666666,
          7.050583333333333,
          6.703666666666666,
          7.052499999999999,
          6.746083333333334,
          6.799916666666668,
          6.962000000000001,
          6.402583333333333,
          6.727000000000001,
          6.455999999999999,
          6.5681666666666665,
          6.846249999999999,
          6.814416666666667,
          7.209583333333334,
          6.659416666666668,
          7.1009166666666665,
          6.471166666666668,
          6.851333333333333,
          7.048166666666667,
          7.074083333333334,
          6.9500833333333345,
          6.926416666666667,
          7.149749999999998,
          6.925083333333334,
          6.517916666666665,
          6.7402500000000005,
          6.870166666666666,
          7.249,
          7.220833333333334,
          7.23975,
          7.635999999999998,
          7.097166666666667,
          6.858416666666667,
          6.919416666666668,
          7.495999999999999,
          7.2115833333333335,
          6.962666666666667,
          7.367333333333332,
          8.051833333333333,
          7.84025,
          7.238083333333333,
          7.596416666666666,
          7.7956666666666665,
          7.522000000000001,
          7.71275,
          7.4135,
          7.948,
          8.12675,
          7.566083333333335,
          7.8095,
          7.548416666666665,
          7.357083333333333,
          7.077083333333332,
          9.295
         ],
         "yaxis": "y"
        },
        {
         "hovertemplate": "Country=Japan<br>years=%{x}<br>AverageTemperature=%{y}<extra></extra>",
         "legendgroup": "Japan",
         "line": {
          "color": "#ab63fa",
          "dash": "solid"
         },
         "mode": "lines",
         "name": "Japan",
         "orientation": "v",
         "showlegend": true,
         "type": "scatter",
         "x": [
          "1841",
          "1842",
          "1843",
          "1844",
          "1845",
          "1846",
          "1847",
          "1848",
          "1849",
          "1850",
          "1851",
          "1852",
          "1853",
          "1854",
          "1855",
          "1856",
          "1857",
          "1858",
          "1859",
          "1860",
          "1861",
          "1862",
          "1863",
          "1864",
          "1865",
          "1866",
          "1867",
          "1868",
          "1869",
          "1870",
          "1871",
          "1872",
          "1873",
          "1874",
          "1875",
          "1876",
          "1877",
          "1878",
          "1879",
          "1880",
          "1881",
          "1882",
          "1883",
          "1884",
          "1885",
          "1886",
          "1887",
          "1888",
          "1889",
          "1890",
          "1891",
          "1892",
          "1893",
          "1894",
          "1895",
          "1896",
          "1897",
          "1898",
          "1899",
          "1900",
          "1901",
          "1902",
          "1903",
          "1904",
          "1905",
          "1906",
          "1907",
          "1908",
          "1909",
          "1910",
          "1911",
          "1912",
          "1913",
          "1914",
          "1915",
          "1916",
          "1917",
          "1918",
          "1919",
          "1920",
          "1921",
          "1922",
          "1923",
          "1924",
          "1925",
          "1926",
          "1927",
          "1928",
          "1929",
          "1930",
          "1931",
          "1932",
          "1933",
          "1934",
          "1935",
          "1936",
          "1937",
          "1938",
          "1939",
          "1940",
          "1941",
          "1942",
          "1943",
          "1944",
          "1945",
          "1946",
          "1947",
          "1948",
          "1949",
          "1950",
          "1951",
          "1952",
          "1953",
          "1954",
          "1955",
          "1956",
          "1957",
          "1958",
          "1959",
          "1960",
          "1961",
          "1962",
          "1963",
          "1964",
          "1965",
          "1966",
          "1967",
          "1968",
          "1969",
          "1970",
          "1971",
          "1972",
          "1973",
          "1974",
          "1975",
          "1976",
          "1977",
          "1978",
          "1979",
          "1980",
          "1981",
          "1982",
          "1983",
          "1984",
          "1985",
          "1986",
          "1987",
          "1988",
          "1989",
          "1990",
          "1991",
          "1992",
          "1993",
          "1994",
          "1995",
          "1996",
          "1997",
          "1998",
          "1999",
          "2000",
          "2001",
          "2002",
          "2003",
          "2004",
          "2005",
          "2006",
          "2007",
          "2008",
          "2009",
          "2010",
          "2011",
          "2012",
          "2013"
         ],
         "xaxis": "x",
         "y": [
          11.019499999999999,
          11.445749999999999,
          11.627250000000002,
          11.216166666666664,
          11.3805,
          11.824333333333335,
          11.659666666666666,
          11.600416666666666,
          11.605000000000002,
          11.116,
          11.117583333333334,
          11.117833333333332,
          11.257666666666665,
          11.692166666666665,
          12.040666666666667,
          11.493083333333333,
          11.400333333333334,
          11.686583333333333,
          11.55625,
          11.096083333333333,
          11.179333333333334,
          11.17575,
          11.808416666666666,
          11.442750000000002,
          11.724000000000002,
          11.225166666666667,
          11.719333333333331,
          11.643999999999998,
          11.52233333333333,
          11.574833333333336,
          11.529583333333335,
          11.460833333333333,
          10.987333333333332,
          11.7465,
          11.686583333333333,
          11.95225,
          12.229750000000001,
          11.66275,
          12.078249999999999,
          11.860583333333333,
          11.585416666666665,
          11.740250000000001,
          11.40825,
          10.535333333333334,
          11.009166666666667,
          11.921999999999999,
          11.677833333333334,
          11.622749999999998,
          11.066000000000003,
          12.84225,
          11.825166666666668,
          11.536333333333332,
          11.207666666666666,
          12.448250000000002,
          11.57325,
          11.681416666666665,
          11.216,
          11.900666666666666,
          11.827999999999998,
          11.473666666666666,
          11.680166666666665,
          11.52375,
          11.843333333333332,
          11.770166666666668,
          11.597416666666666,
          11.183916666666667,
          11.403166666666664,
          11.096000000000002,
          11.38875,
          11.378916666666669,
          11.980083333333335,
          11.453250000000002,
          10.986833333333335,
          12.487166666666665,
          12.06108333333333,
          12.545333333333332,
          11.412916666666666,
          11.609166666666667,
          11.951333333333332,
          12.213500000000002,
          11.57175,
          12.078416666666667,
          11.908499999999998,
          11.642416666666664,
          11.758583333333334,
          11.302416666666666,
          11.7355,
          12.057916666666666,
          11.774916666666668,
          12.292750000000003,
          11.489083333333333,
          11.982749999999998,
          11.953166666666666,
          11.49875,
          11.893083333333331,
          11.547500000000001,
          12.211166666666669,
          12.081166666666668,
          12.084083333333334,
          11.987250000000001,
          11.9185,
          12.002166666666668,
          11.994833333333332,
          11.692166666666665,
          11.138833333333332,
          12.360666666666665,
          11.333583333333332,
          12.795916666666669,
          12.102583333333333,
          12.5895,
          12.146666666666668,
          11.939666666666666,
          11.964666666666666,
          12.223999999999998,
          12.729,
          12.019416666666666,
          12.055333333333332,
          12.57,
          12.958166666666665,
          12.599833333333335,
          13.045500000000002,
          12.466166666666666,
          12.29325,
          12.34975,
          11.687916666666665,
          12.134416666666667,
          12.266333333333334,
          12.190416666666664,
          11.848999999999998,
          11.929000000000002,
          11.983416666666665,
          12.592166666666666,
          12.414749999999998,
          11.7905,
          12.337000000000002,
          11.7475,
          12.19825,
          12.505333333333333,
          12.842583333333332,
          11.795083333333336,
          11.629416666666664,
          12.33633333333333,
          12.121916666666666,
          11.659916666666666,
          12.281333333333336,
          11.691416666666663,
          12.543833333333334,
          11.967666666666666,
          12.91175,
          13.590583333333333,
          12.783166666666666,
          12.484250000000001,
          12.055166666666667,
          13.229749999999997,
          12.475416666666668,
          12.082833333333335,
          12.752416666666667,
          13.244750000000002,
          13.080083333333333,
          12.833833333333336,
          12.450000000000001,
          12.837333333333333,
          12.507,
          13.435666666666668,
          12.555916666666667,
          12.757083333333334,
          13.192166666666665,
          12.874916666666666,
          12.933833333333332,
          13.215583333333333,
          12.737749999999998,
          12.565666666666667,
          12.96475
         ],
         "yaxis": "y"
        },
        {
         "hovertemplate": "Country=Australia<br>years=%{x}<br>AverageTemperature=%{y}<extra></extra>",
         "legendgroup": "Australia",
         "line": {
          "color": "#FFA15A",
          "dash": "solid"
         },
         "mode": "lines",
         "name": "Australia",
         "orientation": "v",
         "showlegend": true,
         "type": "scatter",
         "x": [
          "1852",
          "1853",
          "1854",
          "1855",
          "1856",
          "1857",
          "1858",
          "1859",
          "1860",
          "1861",
          "1862",
          "1863",
          "1864",
          "1865",
          "1866",
          "1867",
          "1868",
          "1869",
          "1870",
          "1871",
          "1872",
          "1873",
          "1874",
          "1875",
          "1876",
          "1877",
          "1878",
          "1879",
          "1880",
          "1881",
          "1882",
          "1883",
          "1884",
          "1885",
          "1886",
          "1887",
          "1888",
          "1889",
          "1890",
          "1891",
          "1892",
          "1893",
          "1894",
          "1895",
          "1896",
          "1897",
          "1898",
          "1899",
          "1900",
          "1901",
          "1902",
          "1903",
          "1904",
          "1905",
          "1906",
          "1907",
          "1908",
          "1909",
          "1910",
          "1911",
          "1912",
          "1913",
          "1914",
          "1915",
          "1916",
          "1917",
          "1918",
          "1919",
          "1920",
          "1921",
          "1922",
          "1923",
          "1924",
          "1925",
          "1926",
          "1927",
          "1928",
          "1929",
          "1930",
          "1931",
          "1932",
          "1933",
          "1934",
          "1935",
          "1936",
          "1937",
          "1938",
          "1939",
          "1940",
          "1941",
          "1942",
          "1943",
          "1944",
          "1945",
          "1946",
          "1947",
          "1948",
          "1949",
          "1950",
          "1951",
          "1952",
          "1953",
          "1954",
          "1955",
          "1956",
          "1957",
          "1958",
          "1959",
          "1960",
          "1961",
          "1962",
          "1963",
          "1964",
          "1965",
          "1966",
          "1967",
          "1968",
          "1969",
          "1970",
          "1971",
          "1972",
          "1973",
          "1974",
          "1975",
          "1976",
          "1977",
          "1978",
          "1979",
          "1980",
          "1981",
          "1982",
          "1983",
          "1984",
          "1985",
          "1986",
          "1987",
          "1988",
          "1989",
          "1990",
          "1991",
          "1992",
          "1993",
          "1994",
          "1995",
          "1996",
          "1997",
          "1998",
          "1999",
          "2000",
          "2001",
          "2002",
          "2003",
          "2004",
          "2005",
          "2006",
          "2007",
          "2008",
          "2009",
          "2010",
          "2011",
          "2012",
          "2013"
         ],
         "xaxis": "x",
         "y": [
          20.1885,
          20.958250000000003,
          20.28477777777778,
          20.798636363636366,
          21.148333333333333,
          20.966416666666664,
          21.329833333333333,
          21.188916666666664,
          21.245500000000003,
          21.1975,
          21.155416666666667,
          21.309,
          21.04425,
          21.217833333333335,
          21.417,
          21.643833333333333,
          21.447583333333338,
          21.52158333333333,
          21.42833333333333,
          21.459666666666664,
          21.206916666666668,
          21.15758333333333,
          21.126166666666666,
          21.054416666666665,
          21.087333333333337,
          21.641083333333338,
          22.380666666666666,
          21.184666666666665,
          21.661249999999995,
          21.7925,
          21.64741666666667,
          21.520666666666667,
          21.549833333333336,
          21.421916666666664,
          21.45016666666667,
          21.154999999999998,
          21.954916666666666,
          22.17408333333334,
          21.479916666666668,
          20.833999999999996,
          21.541749999999997,
          21.646416666666667,
          20.917416666666668,
          21.23308333333333,
          21.3965,
          21.817499999999995,
          21.570916666666665,
          21.18691666666667,
          21.766583333333333,
          21.582583333333332,
          21.597916666666666,
          21.17675,
          20.97083333333333,
          21.177500000000002,
          21.885,
          21.294500000000003,
          20.8645,
          21.05275,
          21.569083333333335,
          21.347916666666666,
          21.82616666666667,
          21.187833333333337,
          22.186333333333334,
          22.144833333333334,
          21.504416666666668,
          20.771500000000003,
          21.369333333333334,
          21.82858333333333,
          21.324416666666664,
          21.680083333333332,
          21.449749999999998,
          21.536833333333334,
          21.212583333333335,
          21.09783333333333,
          21.702583333333337,
          21.397833333333335,
          22.01908333333333,
          21.101249999999997,
          21.640833333333333,
          21.239083333333333,
          21.459666666666667,
          21.386499999999998,
          21.507083333333338,
          21.39741666666666,
          21.716333333333335,
          21.52733333333333,
          22.088749999999994,
          21.34,
          21.681583333333332,
          21.36283333333333,
          21.926416666666668,
          21.31716666666667,
          21.530166666666663,
          21.60408333333333,
          21.241249999999997,
          21.59025,
          21.459500000000002,
          20.984916666666667,
          21.322916666666668,
          21.557000000000002,
          21.487,
          21.47458333333333,
          21.558666666666664,
          21.563083333333335,
          21.005999999999997,
          21.90266666666666,
          21.997249999999998,
          22.098166666666668,
          21.210500000000003,
          21.964249999999996,
          21.802916666666665,
          21.697833333333335,
          21.650750000000002,
          22.092083333333335,
          21.361000000000004,
          21.625416666666666,
          21.462166666666672,
          21.847583333333333,
          21.775750000000002,
          21.65433333333333,
          22.012083333333333,
          22.41275,
          21.238083333333332,
          21.692666666666668,
          21.193416666666668,
          21.892500000000002,
          21.605166666666666,
          22.252333333333336,
          22.586166666666667,
          22.164083333333334,
          21.910500000000003,
          22.261083333333332,
          21.516916666666663,
          22.043416666666662,
          22.09325,
          22.072416666666665,
          22.63008333333333,
          21.862833333333338,
          22.35575,
          22.48741666666667,
          21.932583333333337,
          22.160166666666665,
          22.03025,
          21.955166666666667,
          22.325333333333333,
          22.086000000000002,
          22.664833333333334,
          22.0645,
          21.709666666666667,
          21.79275,
          22.46083333333333,
          22.44033333333333,
          22.286916666666666,
          22.896833333333333,
          22.264416666666666,
          22.48675,
          22.225916666666667,
          22.690583333333333,
          22.078166666666664,
          21.767,
          22.0245,
          22.142874999999997
         ],
         "yaxis": "y"
        }
       ],
       "layout": {
        "legend": {
         "title": {
          "text": "Country"
         },
         "tracegroupgap": 0
        },
        "template": {
         "data": {
          "bar": [
           {
            "error_x": {
             "color": "#2a3f5f"
            },
            "error_y": {
             "color": "#2a3f5f"
            },
            "marker": {
             "line": {
              "color": "#E5ECF6",
              "width": 0.5
             }
            },
            "type": "bar"
           }
          ],
          "barpolar": [
           {
            "marker": {
             "line": {
              "color": "#E5ECF6",
              "width": 0.5
             }
            },
            "type": "barpolar"
           }
          ],
          "carpet": [
           {
            "aaxis": {
             "endlinecolor": "#2a3f5f",
             "gridcolor": "white",
             "linecolor": "white",
             "minorgridcolor": "white",
             "startlinecolor": "#2a3f5f"
            },
            "baxis": {
             "endlinecolor": "#2a3f5f",
             "gridcolor": "white",
             "linecolor": "white",
             "minorgridcolor": "white",
             "startlinecolor": "#2a3f5f"
            },
            "type": "carpet"
           }
          ],
          "choropleth": [
           {
            "colorbar": {
             "outlinewidth": 0,
             "ticks": ""
            },
            "type": "choropleth"
           }
          ],
          "contour": [
           {
            "colorbar": {
             "outlinewidth": 0,
             "ticks": ""
            },
            "colorscale": [
             [
              0,
              "#0d0887"
             ],
             [
              0.1111111111111111,
              "#46039f"
             ],
             [
              0.2222222222222222,
              "#7201a8"
             ],
             [
              0.3333333333333333,
              "#9c179e"
             ],
             [
              0.4444444444444444,
              "#bd3786"
             ],
             [
              0.5555555555555556,
              "#d8576b"
             ],
             [
              0.6666666666666666,
              "#ed7953"
             ],
             [
              0.7777777777777778,
              "#fb9f3a"
             ],
             [
              0.8888888888888888,
              "#fdca26"
             ],
             [
              1,
              "#f0f921"
             ]
            ],
            "type": "contour"
           }
          ],
          "contourcarpet": [
           {
            "colorbar": {
             "outlinewidth": 0,
             "ticks": ""
            },
            "type": "contourcarpet"
           }
          ],
          "heatmap": [
           {
            "colorbar": {
             "outlinewidth": 0,
             "ticks": ""
            },
            "colorscale": [
             [
              0,
              "#0d0887"
             ],
             [
              0.1111111111111111,
              "#46039f"
             ],
             [
              0.2222222222222222,
              "#7201a8"
             ],
             [
              0.3333333333333333,
              "#9c179e"
             ],
             [
              0.4444444444444444,
              "#bd3786"
             ],
             [
              0.5555555555555556,
              "#d8576b"
             ],
             [
              0.6666666666666666,
              "#ed7953"
             ],
             [
              0.7777777777777778,
              "#fb9f3a"
             ],
             [
              0.8888888888888888,
              "#fdca26"
             ],
             [
              1,
              "#f0f921"
             ]
            ],
            "type": "heatmap"
           }
          ],
          "heatmapgl": [
           {
            "colorbar": {
             "outlinewidth": 0,
             "ticks": ""
            },
            "colorscale": [
             [
              0,
              "#0d0887"
             ],
             [
              0.1111111111111111,
              "#46039f"
             ],
             [
              0.2222222222222222,
              "#7201a8"
             ],
             [
              0.3333333333333333,
              "#9c179e"
             ],
             [
              0.4444444444444444,
              "#bd3786"
             ],
             [
              0.5555555555555556,
              "#d8576b"
             ],
             [
              0.6666666666666666,
              "#ed7953"
             ],
             [
              0.7777777777777778,
              "#fb9f3a"
             ],
             [
              0.8888888888888888,
              "#fdca26"
             ],
             [
              1,
              "#f0f921"
             ]
            ],
            "type": "heatmapgl"
           }
          ],
          "histogram": [
           {
            "marker": {
             "colorbar": {
              "outlinewidth": 0,
              "ticks": ""
             }
            },
            "type": "histogram"
           }
          ],
          "histogram2d": [
           {
            "colorbar": {
             "outlinewidth": 0,
             "ticks": ""
            },
            "colorscale": [
             [
              0,
              "#0d0887"
             ],
             [
              0.1111111111111111,
              "#46039f"
             ],
             [
              0.2222222222222222,
              "#7201a8"
             ],
             [
              0.3333333333333333,
              "#9c179e"
             ],
             [
              0.4444444444444444,
              "#bd3786"
             ],
             [
              0.5555555555555556,
              "#d8576b"
             ],
             [
              0.6666666666666666,
              "#ed7953"
             ],
             [
              0.7777777777777778,
              "#fb9f3a"
             ],
             [
              0.8888888888888888,
              "#fdca26"
             ],
             [
              1,
              "#f0f921"
             ]
            ],
            "type": "histogram2d"
           }
          ],
          "histogram2dcontour": [
           {
            "colorbar": {
             "outlinewidth": 0,
             "ticks": ""
            },
            "colorscale": [
             [
              0,
              "#0d0887"
             ],
             [
              0.1111111111111111,
              "#46039f"
             ],
             [
              0.2222222222222222,
              "#7201a8"
             ],
             [
              0.3333333333333333,
              "#9c179e"
             ],
             [
              0.4444444444444444,
              "#bd3786"
             ],
             [
              0.5555555555555556,
              "#d8576b"
             ],
             [
              0.6666666666666666,
              "#ed7953"
             ],
             [
              0.7777777777777778,
              "#fb9f3a"
             ],
             [
              0.8888888888888888,
              "#fdca26"
             ],
             [
              1,
              "#f0f921"
             ]
            ],
            "type": "histogram2dcontour"
           }
          ],
          "mesh3d": [
           {
            "colorbar": {
             "outlinewidth": 0,
             "ticks": ""
            },
            "type": "mesh3d"
           }
          ],
          "parcoords": [
           {
            "line": {
             "colorbar": {
              "outlinewidth": 0,
              "ticks": ""
             }
            },
            "type": "parcoords"
           }
          ],
          "pie": [
           {
            "automargin": true,
            "type": "pie"
           }
          ],
          "scatter": [
           {
            "marker": {
             "colorbar": {
              "outlinewidth": 0,
              "ticks": ""
             }
            },
            "type": "scatter"
           }
          ],
          "scatter3d": [
           {
            "line": {
             "colorbar": {
              "outlinewidth": 0,
              "ticks": ""
             }
            },
            "marker": {
             "colorbar": {
              "outlinewidth": 0,
              "ticks": ""
             }
            },
            "type": "scatter3d"
           }
          ],
          "scattercarpet": [
           {
            "marker": {
             "colorbar": {
              "outlinewidth": 0,
              "ticks": ""
             }
            },
            "type": "scattercarpet"
           }
          ],
          "scattergeo": [
           {
            "marker": {
             "colorbar": {
              "outlinewidth": 0,
              "ticks": ""
             }
            },
            "type": "scattergeo"
           }
          ],
          "scattergl": [
           {
            "marker": {
             "colorbar": {
              "outlinewidth": 0,
              "ticks": ""
             }
            },
            "type": "scattergl"
           }
          ],
          "scattermapbox": [
           {
            "marker": {
             "colorbar": {
              "outlinewidth": 0,
              "ticks": ""
             }
            },
            "type": "scattermapbox"
           }
          ],
          "scatterpolar": [
           {
            "marker": {
             "colorbar": {
              "outlinewidth": 0,
              "ticks": ""
             }
            },
            "type": "scatterpolar"
           }
          ],
          "scatterpolargl": [
           {
            "marker": {
             "colorbar": {
              "outlinewidth": 0,
              "ticks": ""
             }
            },
            "type": "scatterpolargl"
           }
          ],
          "scatterternary": [
           {
            "marker": {
             "colorbar": {
              "outlinewidth": 0,
              "ticks": ""
             }
            },
            "type": "scatterternary"
           }
          ],
          "surface": [
           {
            "colorbar": {
             "outlinewidth": 0,
             "ticks": ""
            },
            "colorscale": [
             [
              0,
              "#0d0887"
             ],
             [
              0.1111111111111111,
              "#46039f"
             ],
             [
              0.2222222222222222,
              "#7201a8"
             ],
             [
              0.3333333333333333,
              "#9c179e"
             ],
             [
              0.4444444444444444,
              "#bd3786"
             ],
             [
              0.5555555555555556,
              "#d8576b"
             ],
             [
              0.6666666666666666,
              "#ed7953"
             ],
             [
              0.7777777777777778,
              "#fb9f3a"
             ],
             [
              0.8888888888888888,
              "#fdca26"
             ],
             [
              1,
              "#f0f921"
             ]
            ],
            "type": "surface"
           }
          ],
          "table": [
           {
            "cells": {
             "fill": {
              "color": "#EBF0F8"
             },
             "line": {
              "color": "white"
             }
            },
            "header": {
             "fill": {
              "color": "#C8D4E3"
             },
             "line": {
              "color": "white"
             }
            },
            "type": "table"
           }
          ]
         },
         "layout": {
          "annotationdefaults": {
           "arrowcolor": "#2a3f5f",
           "arrowhead": 0,
           "arrowwidth": 1
          },
          "autotypenumbers": "strict",
          "coloraxis": {
           "colorbar": {
            "outlinewidth": 0,
            "ticks": ""
           }
          },
          "colorscale": {
           "diverging": [
            [
             0,
             "#8e0152"
            ],
            [
             0.1,
             "#c51b7d"
            ],
            [
             0.2,
             "#de77ae"
            ],
            [
             0.3,
             "#f1b6da"
            ],
            [
             0.4,
             "#fde0ef"
            ],
            [
             0.5,
             "#f7f7f7"
            ],
            [
             0.6,
             "#e6f5d0"
            ],
            [
             0.7,
             "#b8e186"
            ],
            [
             0.8,
             "#7fbc41"
            ],
            [
             0.9,
             "#4d9221"
            ],
            [
             1,
             "#276419"
            ]
           ],
           "sequential": [
            [
             0,
             "#0d0887"
            ],
            [
             0.1111111111111111,
             "#46039f"
            ],
            [
             0.2222222222222222,
             "#7201a8"
            ],
            [
             0.3333333333333333,
             "#9c179e"
            ],
            [
             0.4444444444444444,
             "#bd3786"
            ],
            [
             0.5555555555555556,
             "#d8576b"
            ],
            [
             0.6666666666666666,
             "#ed7953"
            ],
            [
             0.7777777777777778,
             "#fb9f3a"
            ],
            [
             0.8888888888888888,
             "#fdca26"
            ],
            [
             1,
             "#f0f921"
            ]
           ],
           "sequentialminus": [
            [
             0,
             "#0d0887"
            ],
            [
             0.1111111111111111,
             "#46039f"
            ],
            [
             0.2222222222222222,
             "#7201a8"
            ],
            [
             0.3333333333333333,
             "#9c179e"
            ],
            [
             0.4444444444444444,
             "#bd3786"
            ],
            [
             0.5555555555555556,
             "#d8576b"
            ],
            [
             0.6666666666666666,
             "#ed7953"
            ],
            [
             0.7777777777777778,
             "#fb9f3a"
            ],
            [
             0.8888888888888888,
             "#fdca26"
            ],
            [
             1,
             "#f0f921"
            ]
           ]
          },
          "colorway": [
           "#636efa",
           "#EF553B",
           "#00cc96",
           "#ab63fa",
           "#FFA15A",
           "#19d3f3",
           "#FF6692",
           "#B6E880",
           "#FF97FF",
           "#FECB52"
          ],
          "font": {
           "color": "#2a3f5f"
          },
          "geo": {
           "bgcolor": "white",
           "lakecolor": "white",
           "landcolor": "#E5ECF6",
           "showlakes": true,
           "showland": true,
           "subunitcolor": "white"
          },
          "hoverlabel": {
           "align": "left"
          },
          "hovermode": "closest",
          "mapbox": {
           "style": "light"
          },
          "paper_bgcolor": "white",
          "plot_bgcolor": "#E5ECF6",
          "polar": {
           "angularaxis": {
            "gridcolor": "white",
            "linecolor": "white",
            "ticks": ""
           },
           "bgcolor": "#E5ECF6",
           "radialaxis": {
            "gridcolor": "white",
            "linecolor": "white",
            "ticks": ""
           }
          },
          "scene": {
           "xaxis": {
            "backgroundcolor": "#E5ECF6",
            "gridcolor": "white",
            "gridwidth": 2,
            "linecolor": "white",
            "showbackground": true,
            "ticks": "",
            "zerolinecolor": "white"
           },
           "yaxis": {
            "backgroundcolor": "#E5ECF6",
            "gridcolor": "white",
            "gridwidth": 2,
            "linecolor": "white",
            "showbackground": true,
            "ticks": "",
            "zerolinecolor": "white"
           },
           "zaxis": {
            "backgroundcolor": "#E5ECF6",
            "gridcolor": "white",
            "gridwidth": 2,
            "linecolor": "white",
            "showbackground": true,
            "ticks": "",
            "zerolinecolor": "white"
           }
          },
          "shapedefaults": {
           "line": {
            "color": "#2a3f5f"
           }
          },
          "ternary": {
           "aaxis": {
            "gridcolor": "white",
            "linecolor": "white",
            "ticks": ""
           },
           "baxis": {
            "gridcolor": "white",
            "linecolor": "white",
            "ticks": ""
           },
           "bgcolor": "#E5ECF6",
           "caxis": {
            "gridcolor": "white",
            "linecolor": "white",
            "ticks": ""
           }
          },
          "title": {
           "x": 0.05
          },
          "xaxis": {
           "automargin": true,
           "gridcolor": "white",
           "linecolor": "white",
           "ticks": "",
           "title": {
            "standoff": 15
           },
           "zerolinecolor": "white",
           "zerolinewidth": 2
          },
          "yaxis": {
           "automargin": true,
           "gridcolor": "white",
           "linecolor": "white",
           "ticks": "",
           "title": {
            "standoff": 15
           },
           "zerolinecolor": "white",
           "zerolinewidth": 2
          }
         }
        },
        "title": {
         "text": "Average Land Temperature in world"
        },
        "xaxis": {
         "anchor": "y",
         "domain": [
          0,
          1
         ],
         "title": {
          "text": "years"
         }
        },
        "yaxis": {
         "anchor": "x",
         "domain": [
          0,
          1
         ],
         "title": {
          "text": "AverageTemperature"
         }
        }
       }
      },
      "text/html": [
       "<div>                            <div id=\"015ed19a-39c4-499d-87b1-bcca8711d506\" class=\"plotly-graph-div\" style=\"height:525px; width:100%;\"></div>            <script type=\"text/javascript\">                require([\"plotly\"], function(Plotly) {                    window.PLOTLYENV=window.PLOTLYENV || {};                                    if (document.getElementById(\"015ed19a-39c4-499d-87b1-bcca8711d506\")) {                    Plotly.newPlot(                        \"015ed19a-39c4-499d-87b1-bcca8711d506\",                        [{\"hovertemplate\": \"Country=United States<br>years=%{x}<br>AverageTemperature=%{y}<extra></extra>\", \"legendgroup\": \"United States\", \"line\": {\"color\": \"#636efa\", \"dash\": \"solid\"}, \"mode\": \"lines\", \"name\": \"United States\", \"orientation\": \"v\", \"showlegend\": true, \"type\": \"scatter\", \"x\": [\"1768\", \"1769\", \"1774\", \"1775\", \"1776\", \"1777\", \"1778\", \"1779\", \"1781\", \"1782\", \"1796\", \"1797\", \"1811\", \"1812\", \"1813\", \"1814\", \"1815\", \"1816\", \"1817\", \"1818\", \"1819\", \"1820\", \"1821\", \"1822\", \"1823\", \"1824\", \"1825\", \"1826\", \"1827\", \"1828\", \"1829\", \"1830\", \"1831\", \"1832\", \"1833\", \"1834\", \"1835\", \"1836\", \"1837\", \"1838\", \"1839\", \"1840\", \"1841\", \"1842\", \"1843\", \"1844\", \"1845\", \"1846\", \"1847\", \"1848\", \"1849\", \"1850\", \"1851\", \"1852\", \"1853\", \"1854\", \"1855\", \"1856\", \"1857\", \"1858\", \"1859\", \"1860\", \"1861\", \"1862\", \"1863\", \"1864\", \"1865\", \"1866\", \"1867\", \"1868\", \"1869\", \"1870\", \"1871\", \"1872\", \"1873\", \"1874\", \"1875\", \"1876\", \"1877\", \"1878\", \"1879\", \"1880\", \"1881\", \"1882\", \"1883\", \"1884\", \"1885\", \"1886\", \"1887\", \"1888\", \"1889\", \"1890\", \"1891\", \"1892\", \"1893\", \"1894\", \"1895\", \"1896\", \"1897\", \"1898\", \"1899\", \"1900\", \"1901\", \"1902\", \"1903\", \"1904\", \"1905\", \"1906\", \"1907\", \"1908\", \"1909\", \"1910\", \"1911\", \"1912\", \"1913\", \"1914\", \"1915\", \"1916\", \"1917\", \"1918\", \"1919\", \"1920\", \"1921\", \"1922\", \"1923\", \"1924\", \"1925\", \"1926\", \"1927\", \"1928\", \"1929\", \"1930\", \"1931\", \"1932\", \"1933\", \"1934\", \"1935\", \"1936\", \"1937\", \"1938\", \"1939\", \"1940\", \"1941\", \"1942\", \"1943\", \"1944\", \"1945\", \"1946\", \"1947\", \"1948\", \"1949\", \"1950\", \"1951\", \"1952\", \"1953\", \"1954\", \"1955\", \"1956\", \"1957\", \"1958\", \"1959\", \"1960\", \"1961\", \"1962\", \"1963\", \"1964\", \"1965\", \"1966\", \"1967\", \"1968\", \"1969\", \"1970\", \"1971\", \"1972\", \"1973\", \"1974\", \"1975\", \"1976\", \"1977\", \"1978\", \"1979\", \"1980\", \"1981\", \"1982\", \"1983\", \"1984\", \"1985\", \"1986\", \"1987\", \"1988\", \"1989\", \"1990\", \"1991\", \"1992\", \"1993\", \"1994\", \"1995\", \"1996\", \"1997\", \"1998\", \"1999\", \"2000\", \"2001\", \"2002\", \"2003\", \"2004\", \"2005\", \"2006\", \"2007\", \"2008\", \"2009\", \"2010\", \"2011\", \"2012\", \"2013\"], \"xaxis\": \"x\", \"y\": [5.57275, 10.4465, 1.603, 9.499166666666666, 8.11, 8.30475, 5.362000000000001, -0.7136666666666663, 6.25325, 7.60642857142857, 12.231000000000003, 6.356833333333333, 8.0434, 7.012666666666665, 9.918888888888889, 3.784333333333334, 7.501333333333335, 4.396625, 7.229916666666667, 6.2747, -2.774666666666667, 7.563833333333332, 8.004083333333334, 8.386833333333334, 7.9110000000000005, 8.50225, 8.966500000000002, 8.578999999999999, 9.102, 8.8485, 8.389249999999999, 9.215083333333334, 7.720750000000002, 8.247416666666668, 8.811916666666667, 8.829583333333334, 7.53925, 7.5639166666666675, 7.984416666666667, 7.548666666666666, 8.522166666666665, 8.251500000000002, 8.14925, 8.358333333333333, 7.783666666666668, 8.082833333333332, 8.408916666666666, 9.136333333333333, 7.907083333333333, 8.016833333333333, 8.129166666666666, 8.248333333333333, 8.6575, 8.183083333333332, 8.459916666666667, 8.821250000000001, 8.459416666666668, 7.94325, 8.140333333333333, 8.412833333333332, 8.016833333333334, 8.580916666666667, 8.6505, 8.213999999999999, 8.446250000000001, 8.381083333333335, 8.495666666666667, 8.334333333333333, 8.509000000000002, 8.207416666666667, 8.31125, 8.829500000000001, 8.706750000000001, 8.000749999999998, 8.063083333333331, 8.768, 7.849666666666668, 8.099, 8.696583333333335, 9.017166666666666, 8.683250000000001, 8.110333333333333, 8.643500000000001, 8.369916666666667, 7.942249999999999, 7.957999999999998, 8.158416666666666, 8.181833333333334, 8.143583333333332, 8.172833333333335, 8.798083333333333, 8.559166666666666, 8.31675, 8.177999999999999, 8.170999999999998, 8.46675, 7.847333333333334, 8.483583333333334, 8.473166666666666, 8.427916666666667, 8.166833333333331, 9.021583333333334, 8.494916666666667, 8.453999999999999, 7.977249999999999, 8.200666666666665, 8.402333333333335, 8.560083333333333, 8.394000000000002, 8.755583333333334, 8.221833333333334, 8.757916666666667, 8.737916666666665, 8.140916666666667, 8.552166666666666, 8.876499999999998, 8.648249999999999, 8.180083333333334, 7.669499999999999, 8.50125, 8.537999999999998, 8.184499999999998, 9.595666666666668, 8.768166666666668, 8.760333333333334, 8.052333333333332, 9.016416666666666, 9.14025, 8.719333333333333, 8.876, 8.4395, 8.737666666666666, 9.560750000000002, 8.5395, 9.030583333333334, 9.826583333333334, 8.742500000000001, 8.92225, 8.730749999999999, 9.471833333333334, 9.3075, 9.097166666666668, 9.266083333333333, 8.919333333333332, 9.0035, 8.898166666666667, 8.671249999999999, 9.179583333333332, 8.836083333333333, 8.481666666666667, 8.888083333333332, 8.656416666666667, 8.416583333333334, 8.979416666666667, 9.530416666666666, 9.410583333333333, 8.517166666666666, 8.699916666666665, 9.126333333333333, 8.97016666666667, 8.825333333333333, 8.69225, 8.642, 8.9565, 9.079999999999998, 8.491666666666667, 8.647666666666668, 8.483, 8.902000000000001, 8.553249999999998, 8.770833333333332, 8.673, 8.442499999999999, 8.428083333333335, 8.934666666666667, 8.815916666666666, 8.431, 8.65125, 9.269833333333334, 8.751416666666666, 8.571583333333331, 9.135499999999999, 9.7215, 8.539499999999999, 8.912333333333333, 8.811166666666667, 8.587000000000002, 9.559500000000002, 9.628166666666665, 9.275333333333334, 8.873083333333334, 9.521583333333334, 9.493666666666666, 9.056333333333333, 8.86725, 9.270333333333335, 9.331000000000001, 8.754333333333333, 9.172916666666667, 10.141166666666667, 9.567, 9.649750000000001, 9.785583333333333, 9.816166666666666, 9.75508333333333, 9.6675, 9.892666666666669, 9.9745, 9.837499999999999, 8.951416666666669, 9.137083333333335, 9.505583333333334, 9.549916666666665, 10.261083333333334, 11.297111111111112], \"yaxis\": \"y\"}, {\"hovertemplate\": \"Country=Russia<br>years=%{x}<br>AverageTemperature=%{y}<extra></extra>\", \"legendgroup\": \"Russia\", \"line\": {\"color\": \"#EF553B\", \"dash\": \"solid\"}, \"mode\": \"lines\", \"name\": \"Russia\", \"orientation\": \"v\", \"showlegend\": true, \"type\": \"scatter\", \"x\": [\"1812\", \"1813\", \"1814\", \"1815\", \"1816\", \"1817\", \"1818\", \"1819\", \"1820\", \"1821\", \"1822\", \"1823\", \"1824\", \"1825\", \"1826\", \"1827\", \"1828\", \"1829\", \"1830\", \"1831\", \"1832\", \"1833\", \"1834\", \"1835\", \"1836\", \"1837\", \"1838\", \"1839\", \"1840\", \"1841\", \"1842\", \"1843\", \"1844\", \"1845\", \"1846\", \"1847\", \"1848\", \"1849\", \"1850\", \"1851\", \"1852\", \"1853\", \"1854\", \"1855\", \"1856\", \"1857\", \"1858\", \"1859\", \"1860\", \"1861\", \"1862\", \"1863\", \"1864\", \"1865\", \"1866\", \"1867\", \"1868\", \"1869\", \"1870\", \"1871\", \"1872\", \"1873\", \"1874\", \"1875\", \"1876\", \"1877\", \"1878\", \"1879\", \"1880\", \"1881\", \"1882\", \"1883\", \"1884\", \"1885\", \"1886\", \"1887\", \"1888\", \"1889\", \"1890\", \"1891\", \"1892\", \"1893\", \"1894\", \"1895\", \"1896\", \"1897\", \"1898\", \"1899\", \"1900\", \"1901\", \"1902\", \"1903\", \"1904\", \"1905\", \"1906\", \"1907\", \"1908\", \"1909\", \"1910\", \"1911\", \"1912\", \"1913\", \"1914\", \"1915\", \"1916\", \"1917\", \"1918\", \"1919\", \"1920\", \"1921\", \"1922\", \"1923\", \"1924\", \"1925\", \"1926\", \"1927\", \"1928\", \"1929\", \"1930\", \"1931\", \"1932\", \"1933\", \"1934\", \"1935\", \"1936\", \"1937\", \"1938\", \"1939\", \"1940\", \"1941\", \"1942\", \"1943\", \"1944\", \"1945\", \"1946\", \"1947\", \"1948\", \"1949\", \"1950\", \"1951\", \"1952\", \"1953\", \"1954\", \"1955\", \"1956\", \"1957\", \"1958\", \"1959\", \"1960\", \"1961\", \"1962\", \"1963\", \"1964\", \"1965\", \"1966\", \"1967\", \"1968\", \"1969\", \"1970\", \"1971\", \"1972\", \"1973\", \"1974\", \"1975\", \"1976\", \"1977\", \"1978\", \"1979\", \"1980\", \"1981\", \"1982\", \"1983\", \"1984\", \"1985\", \"1986\", \"1987\", \"1988\", \"1989\", \"1990\", \"1991\", \"1992\", \"1993\", \"1994\", \"1995\", \"1996\", \"1997\", \"1998\", \"1999\", \"2000\", \"2001\", \"2002\", \"2003\", \"2004\", \"2005\", \"2006\", \"2007\", \"2008\", \"2009\", \"2010\", \"2011\", \"2012\", \"2013\"], \"xaxis\": \"x\", \"y\": [-7.046833333333335, -7.084818181818182, -6.4359090909090915, -21.342, -1.6283333333333339, -6.959916666666667, -5.90925, -6.7655, -6.4285, -5.717666666666667, -5.482333333333334, -6.203499999999999, -5.300083333333334, -5.4315, -5.317166666666666, -5.038250000000001, -6.109750000000001, -6.1812499999999995, -5.660416666666667, -6.67325, -6.681166666666667, -6.164500000000001, -5.7781666666666665, -6.785500000000002, -6.088916666666667, -6.761666666666668, -6.4182500000000005, -6.437583333333333, -6.4374166666666675, -6.433916666666666, -5.994416666666667, -5.097583333333334, -6.2200000000000015, -6.274750000000001, -5.433916666666668, -5.9303333333333335, -5.708333333333335, -5.560500000000001, -6.426500000000001, -5.669583333333333, -6.039666666666666, -6.276, -5.490249999999999, -5.556916666666666, -6.088750000000001, -6.487166666666667, -5.592833333333332, -5.2285, -6.619, -6.295333333333335, -6.931416666666668, -5.299166666666667, -6.007583333333334, -5.917083333333333, -5.319749999999999, -5.542999999999999, -5.7579166666666675, -5.331916666666666, -6.422833333333334, -6.263333333333333, -6.421416666666666, -5.687916666666666, -4.888916666666667, -6.085416666666667, -6.0015833333333335, -5.602999999999999, -5.238083333333334, -5.84475, -5.737166666666664, -6.0352500000000004, -5.762250000000002, -5.847083333333334, -6.1816666666666675, -6.683916666666668, -6.129250000000002, -5.886916666666668, -6.412666666666669, -6.1031666666666675, -6.25675, -6.183666666666666, -6.362416666666667, -5.554833333333334, -5.366166666666668, -6.280666666666666, -5.686833333333335, -5.554916666666666, -5.950666666666667, -5.375749999999999, -5.8743333333333325, -5.460083333333333, -7.002750000000002, -5.352583333333333, -5.418499999999999, -5.687083333333334, -5.101749999999999, -6.041416666666667, -6.122583333333335, -5.865083333333332, -5.776583333333335, -5.830333333333333, -6.864416666666666, -5.726416666666668, -5.374166666666667, -6.3629999999999995, -6.190000000000001, -5.528416666666668, -5.747916666666666, -6.186000000000003, -5.155, -4.90425, -5.697833333333333, -5.521166666666667, -5.2754166666666675, -5.128916666666666, -5.3745, -5.6569166666666675, -5.77225, -6.400083333333335, -5.53075, -5.7627500000000005, -4.758249999999999, -6.252166666666668, -4.643, -5.214333333333333, -5.030083333333333, -5.1489166666666675, -4.552666666666664, -4.716833333333333, -5.628416666666667, -6.476666666666667, -5.604666666666667, -4.1145000000000005, -4.434, -5.3944166666666655, -5.855000000000001, -5.368083333333334, -4.337583333333333, -4.9277500000000005, -5.608916666666669, -5.0559166666666675, -6.175250000000001, -4.779416666666666, -5.317333333333335, -5.626666666666665, -5.81375, -5.358250000000001, -6.154083333333333, -4.838916666666666, -5.935999999999999, -4.960333333333334, -4.416250000000001, -5.008166666666667, -5.785833333333333, -5.907416666666665, -6.309583333333333, -4.36325, -5.5895833333333345, -6.766083333333334, -5.5225833333333325, -4.971166666666668, -5.702000000000001, -4.833583333333334, -5.671749999999999, -4.1410833333333334, -5.927, -5.513000000000001, -5.255916666666667, -5.904333333333333, -5.420750000000001, -4.166166666666667, -5.097583333333333, -3.951833333333333, -5.294249999999999, -5.521166666666666, -4.8922500000000015, -6.274, -4.330416666666666, -4.073250000000001, -4.022916666666667, -4.236999999999999, -4.903250000000001, -4.62175, -4.898416666666667, -3.1301666666666663, -4.810333333333333, -4.2965, -5.281083333333334, -4.829750000000001, -4.545666666666667, -4.490666666666667, -4.122916666666666, -3.8328333333333338, -4.493583333333333, -3.4980833333333337, -4.762999999999999, -2.9750833333333353, -3.305416666666666, -4.608500000000002, -4.5205833333333345, -3.401583333333333, -3.90175, -2.2631250000000014], \"yaxis\": \"y\"}, {\"hovertemplate\": \"Country=China<br>years=%{x}<br>AverageTemperature=%{y}<extra></extra>\", \"legendgroup\": \"China\", \"line\": {\"color\": \"#00cc96\", \"dash\": \"solid\"}, \"mode\": \"lines\", \"name\": \"China\", \"orientation\": \"v\", \"showlegend\": true, \"type\": \"scatter\", \"x\": [\"1820\", \"1821\", \"1822\", \"1823\", \"1833\", \"1834\", \"1835\", \"1836\", \"1837\", \"1838\", \"1839\", \"1840\", \"1841\", \"1842\", \"1843\", \"1844\", \"1845\", \"1846\", \"1847\", \"1848\", \"1849\", \"1850\", \"1851\", \"1852\", \"1853\", \"1854\", \"1855\", \"1856\", \"1857\", \"1858\", \"1859\", \"1860\", \"1861\", \"1862\", \"1863\", \"1864\", \"1865\", \"1866\", \"1867\", \"1868\", \"1869\", \"1870\", \"1871\", \"1872\", \"1873\", \"1874\", \"1875\", \"1876\", \"1877\", \"1878\", \"1879\", \"1880\", \"1881\", \"1882\", \"1883\", \"1884\", \"1885\", \"1886\", \"1887\", \"1888\", \"1889\", \"1890\", \"1891\", \"1892\", \"1893\", \"1894\", \"1895\", \"1896\", \"1897\", \"1898\", \"1899\", \"1900\", \"1901\", \"1902\", \"1903\", \"1904\", \"1905\", \"1906\", \"1907\", \"1908\", \"1909\", \"1910\", \"1911\", \"1912\", \"1913\", \"1914\", \"1915\", \"1916\", \"1917\", \"1918\", \"1919\", \"1920\", \"1921\", \"1922\", \"1923\", \"1924\", \"1925\", \"1926\", \"1927\", \"1928\", \"1929\", \"1930\", \"1931\", \"1932\", \"1933\", \"1934\", \"1935\", \"1936\", \"1937\", \"1938\", \"1939\", \"1940\", \"1941\", \"1942\", \"1943\", \"1944\", \"1945\", \"1946\", \"1947\", \"1948\", \"1949\", \"1950\", \"1951\", \"1952\", \"1953\", \"1954\", \"1955\", \"1956\", \"1957\", \"1958\", \"1959\", \"1960\", \"1961\", \"1962\", \"1963\", \"1964\", \"1965\", \"1966\", \"1967\", \"1968\", \"1969\", \"1970\", \"1971\", \"1972\", \"1973\", \"1974\", \"1975\", \"1976\", \"1977\", \"1978\", \"1979\", \"1980\", \"1981\", \"1982\", \"1983\", \"1984\", \"1985\", \"1986\", \"1987\", \"1988\", \"1989\", \"1990\", \"1991\", \"1992\", \"1993\", \"1994\", \"1995\", \"1996\", \"1997\", \"1998\", \"1999\", \"2000\", \"2001\", \"2002\", \"2003\", \"2004\", \"2005\", \"2006\", \"2007\", \"2008\", \"2009\", \"2010\", \"2011\", \"2012\", \"2013\"], \"xaxis\": \"x\", \"y\": [5.013599999999999, 6.284166666666667, 6.3414166666666665, 7.024363636363637, 6.039333333333335, 6.268166666666667, 5.43425, 5.364727272727273, 8.136833333333332, 5.715, 5.5190833333333345, 6.018583333333333, 5.512416666666667, 6.2785, 6.413916666666668, 6.051500000000001, 6.023000000000001, 6.587500000000001, 6.257083333333333, 5.939749999999997, 6.104833333333335, 5.907166666666666, 5.7828333333333335, 5.857499999999999, 5.997583333333334, 6.473083333333332, 6.515583333333335, 6.095583333333334, 5.959666666666667, 6.414083333333334, 6.535166666666669, 5.609333333333332, 5.865166666666666, 5.448083333333333, 6.444583333333333, 5.8015, 6.243999999999999, 6.410416666666667, 6.759166666666666, 6.415499999999999, 6.465833333333332, 6.158999999999999, 6.371583333333334, 6.286333333333332, 6.588166666666667, 6.645166666666667, 6.505, 6.347416666666667, 6.181583333333332, 6.414416666666667, 6.667416666666667, 6.383500000000001, 6.352833333333334, 6.39825, 6.026916666666668, 5.804833333333332, 5.964499999999998, 6.114750000000001, 6.197166666666667, 6.336416666666665, 6.31175, 6.464333333333333, 6.359333333333335, 6.060833333333334, 6.108333333333334, 6.578250000000001, 6.035833333333334, 6.386250000000001, 6.228083333333331, 6.562666666666666, 6.603416666666667, 6.444166666666668, 6.537499999999999, 6.744666666666666, 6.1745833333333335, 6.350833333333334, 5.755499999999999, 6.2218333333333335, 6.308666666666667, 6.286583333333335, 6.381249999999999, 6.0715, 6.297, 6.076083333333332, 6.138416666666665, 6.818749999999999, 6.49275, 6.349833333333333, 6.161416666666668, 6.196833333333334, 6.607000000000002, 6.590333333333333, 6.500750000000001, 6.6773333333333325, 6.563666666666666, 6.704250000000001, 6.5556666666666645, 6.754083333333334, 6.667749999999999, 6.7746666666666675, 6.424083333333333, 6.468666666666667, 6.3775, 6.905583333333333, 6.6299166666666665, 6.362833333333332, 6.636166666666668, 6.111583333333335, 6.511083333333332, 6.87175, 7.026500000000001, 6.961666666666665, 7.345499999999999, 7.096, 7.050916666666666, 6.530500000000001, 6.838833333333334, 7.354083333333333, 6.773833333333333, 7.100333333333334, 6.9755, 6.641166666666666, 6.869500000000002, 6.640916666666667, 7.022333333333336, 6.370999999999999, 6.701666666666665, 6.299333333333334, 6.387999999999999, 7.033583333333333, 7.039666666666668, 6.890916666666666, 7.050583333333333, 6.703666666666666, 7.052499999999999, 6.746083333333334, 6.799916666666668, 6.962000000000001, 6.402583333333333, 6.727000000000001, 6.455999999999999, 6.5681666666666665, 6.846249999999999, 6.814416666666667, 7.209583333333334, 6.659416666666668, 7.1009166666666665, 6.471166666666668, 6.851333333333333, 7.048166666666667, 7.074083333333334, 6.9500833333333345, 6.926416666666667, 7.149749999999998, 6.925083333333334, 6.517916666666665, 6.7402500000000005, 6.870166666666666, 7.249, 7.220833333333334, 7.23975, 7.635999999999998, 7.097166666666667, 6.858416666666667, 6.919416666666668, 7.495999999999999, 7.2115833333333335, 6.962666666666667, 7.367333333333332, 8.051833333333333, 7.84025, 7.238083333333333, 7.596416666666666, 7.7956666666666665, 7.522000000000001, 7.71275, 7.4135, 7.948, 8.12675, 7.566083333333335, 7.8095, 7.548416666666665, 7.357083333333333, 7.077083333333332, 9.295], \"yaxis\": \"y\"}, {\"hovertemplate\": \"Country=Japan<br>years=%{x}<br>AverageTemperature=%{y}<extra></extra>\", \"legendgroup\": \"Japan\", \"line\": {\"color\": \"#ab63fa\", \"dash\": \"solid\"}, \"mode\": \"lines\", \"name\": \"Japan\", \"orientation\": \"v\", \"showlegend\": true, \"type\": \"scatter\", \"x\": [\"1841\", \"1842\", \"1843\", \"1844\", \"1845\", \"1846\", \"1847\", \"1848\", \"1849\", \"1850\", \"1851\", \"1852\", \"1853\", \"1854\", \"1855\", \"1856\", \"1857\", \"1858\", \"1859\", \"1860\", \"1861\", \"1862\", \"1863\", \"1864\", \"1865\", \"1866\", \"1867\", \"1868\", \"1869\", \"1870\", \"1871\", \"1872\", \"1873\", \"1874\", \"1875\", \"1876\", \"1877\", \"1878\", \"1879\", \"1880\", \"1881\", \"1882\", \"1883\", \"1884\", \"1885\", \"1886\", \"1887\", \"1888\", \"1889\", \"1890\", \"1891\", \"1892\", \"1893\", \"1894\", \"1895\", \"1896\", \"1897\", \"1898\", \"1899\", \"1900\", \"1901\", \"1902\", \"1903\", \"1904\", \"1905\", \"1906\", \"1907\", \"1908\", \"1909\", \"1910\", \"1911\", \"1912\", \"1913\", \"1914\", \"1915\", \"1916\", \"1917\", \"1918\", \"1919\", \"1920\", \"1921\", \"1922\", \"1923\", \"1924\", \"1925\", \"1926\", \"1927\", \"1928\", \"1929\", \"1930\", \"1931\", \"1932\", \"1933\", \"1934\", \"1935\", \"1936\", \"1937\", \"1938\", \"1939\", \"1940\", \"1941\", \"1942\", \"1943\", \"1944\", \"1945\", \"1946\", \"1947\", \"1948\", \"1949\", \"1950\", \"1951\", \"1952\", \"1953\", \"1954\", \"1955\", \"1956\", \"1957\", \"1958\", \"1959\", \"1960\", \"1961\", \"1962\", \"1963\", \"1964\", \"1965\", \"1966\", \"1967\", \"1968\", \"1969\", \"1970\", \"1971\", \"1972\", \"1973\", \"1974\", \"1975\", \"1976\", \"1977\", \"1978\", \"1979\", \"1980\", \"1981\", \"1982\", \"1983\", \"1984\", \"1985\", \"1986\", \"1987\", \"1988\", \"1989\", \"1990\", \"1991\", \"1992\", \"1993\", \"1994\", \"1995\", \"1996\", \"1997\", \"1998\", \"1999\", \"2000\", \"2001\", \"2002\", \"2003\", \"2004\", \"2005\", \"2006\", \"2007\", \"2008\", \"2009\", \"2010\", \"2011\", \"2012\", \"2013\"], \"xaxis\": \"x\", \"y\": [11.019499999999999, 11.445749999999999, 11.627250000000002, 11.216166666666664, 11.3805, 11.824333333333335, 11.659666666666666, 11.600416666666666, 11.605000000000002, 11.116, 11.117583333333334, 11.117833333333332, 11.257666666666665, 11.692166666666665, 12.040666666666667, 11.493083333333333, 11.400333333333334, 11.686583333333333, 11.55625, 11.096083333333333, 11.179333333333334, 11.17575, 11.808416666666666, 11.442750000000002, 11.724000000000002, 11.225166666666667, 11.719333333333331, 11.643999999999998, 11.52233333333333, 11.574833333333336, 11.529583333333335, 11.460833333333333, 10.987333333333332, 11.7465, 11.686583333333333, 11.95225, 12.229750000000001, 11.66275, 12.078249999999999, 11.860583333333333, 11.585416666666665, 11.740250000000001, 11.40825, 10.535333333333334, 11.009166666666667, 11.921999999999999, 11.677833333333334, 11.622749999999998, 11.066000000000003, 12.84225, 11.825166666666668, 11.536333333333332, 11.207666666666666, 12.448250000000002, 11.57325, 11.681416666666665, 11.216, 11.900666666666666, 11.827999999999998, 11.473666666666666, 11.680166666666665, 11.52375, 11.843333333333332, 11.770166666666668, 11.597416666666666, 11.183916666666667, 11.403166666666664, 11.096000000000002, 11.38875, 11.378916666666669, 11.980083333333335, 11.453250000000002, 10.986833333333335, 12.487166666666665, 12.06108333333333, 12.545333333333332, 11.412916666666666, 11.609166666666667, 11.951333333333332, 12.213500000000002, 11.57175, 12.078416666666667, 11.908499999999998, 11.642416666666664, 11.758583333333334, 11.302416666666666, 11.7355, 12.057916666666666, 11.774916666666668, 12.292750000000003, 11.489083333333333, 11.982749999999998, 11.953166666666666, 11.49875, 11.893083333333331, 11.547500000000001, 12.211166666666669, 12.081166666666668, 12.084083333333334, 11.987250000000001, 11.9185, 12.002166666666668, 11.994833333333332, 11.692166666666665, 11.138833333333332, 12.360666666666665, 11.333583333333332, 12.795916666666669, 12.102583333333333, 12.5895, 12.146666666666668, 11.939666666666666, 11.964666666666666, 12.223999999999998, 12.729, 12.019416666666666, 12.055333333333332, 12.57, 12.958166666666665, 12.599833333333335, 13.045500000000002, 12.466166666666666, 12.29325, 12.34975, 11.687916666666665, 12.134416666666667, 12.266333333333334, 12.190416666666664, 11.848999999999998, 11.929000000000002, 11.983416666666665, 12.592166666666666, 12.414749999999998, 11.7905, 12.337000000000002, 11.7475, 12.19825, 12.505333333333333, 12.842583333333332, 11.795083333333336, 11.629416666666664, 12.33633333333333, 12.121916666666666, 11.659916666666666, 12.281333333333336, 11.691416666666663, 12.543833333333334, 11.967666666666666, 12.91175, 13.590583333333333, 12.783166666666666, 12.484250000000001, 12.055166666666667, 13.229749999999997, 12.475416666666668, 12.082833333333335, 12.752416666666667, 13.244750000000002, 13.080083333333333, 12.833833333333336, 12.450000000000001, 12.837333333333333, 12.507, 13.435666666666668, 12.555916666666667, 12.757083333333334, 13.192166666666665, 12.874916666666666, 12.933833333333332, 13.215583333333333, 12.737749999999998, 12.565666666666667, 12.96475], \"yaxis\": \"y\"}, {\"hovertemplate\": \"Country=Australia<br>years=%{x}<br>AverageTemperature=%{y}<extra></extra>\", \"legendgroup\": \"Australia\", \"line\": {\"color\": \"#FFA15A\", \"dash\": \"solid\"}, \"mode\": \"lines\", \"name\": \"Australia\", \"orientation\": \"v\", \"showlegend\": true, \"type\": \"scatter\", \"x\": [\"1852\", \"1853\", \"1854\", \"1855\", \"1856\", \"1857\", \"1858\", \"1859\", \"1860\", \"1861\", \"1862\", \"1863\", \"1864\", \"1865\", \"1866\", \"1867\", \"1868\", \"1869\", \"1870\", \"1871\", \"1872\", \"1873\", \"1874\", \"1875\", \"1876\", \"1877\", \"1878\", \"1879\", \"1880\", \"1881\", \"1882\", \"1883\", \"1884\", \"1885\", \"1886\", \"1887\", \"1888\", \"1889\", \"1890\", \"1891\", \"1892\", \"1893\", \"1894\", \"1895\", \"1896\", \"1897\", \"1898\", \"1899\", \"1900\", \"1901\", \"1902\", \"1903\", \"1904\", \"1905\", \"1906\", \"1907\", \"1908\", \"1909\", \"1910\", \"1911\", \"1912\", \"1913\", \"1914\", \"1915\", \"1916\", \"1917\", \"1918\", \"1919\", \"1920\", \"1921\", \"1922\", \"1923\", \"1924\", \"1925\", \"1926\", \"1927\", \"1928\", \"1929\", \"1930\", \"1931\", \"1932\", \"1933\", \"1934\", \"1935\", \"1936\", \"1937\", \"1938\", \"1939\", \"1940\", \"1941\", \"1942\", \"1943\", \"1944\", \"1945\", \"1946\", \"1947\", \"1948\", \"1949\", \"1950\", \"1951\", \"1952\", \"1953\", \"1954\", \"1955\", \"1956\", \"1957\", \"1958\", \"1959\", \"1960\", \"1961\", \"1962\", \"1963\", \"1964\", \"1965\", \"1966\", \"1967\", \"1968\", \"1969\", \"1970\", \"1971\", \"1972\", \"1973\", \"1974\", \"1975\", \"1976\", \"1977\", \"1978\", \"1979\", \"1980\", \"1981\", \"1982\", \"1983\", \"1984\", \"1985\", \"1986\", \"1987\", \"1988\", \"1989\", \"1990\", \"1991\", \"1992\", \"1993\", \"1994\", \"1995\", \"1996\", \"1997\", \"1998\", \"1999\", \"2000\", \"2001\", \"2002\", \"2003\", \"2004\", \"2005\", \"2006\", \"2007\", \"2008\", \"2009\", \"2010\", \"2011\", \"2012\", \"2013\"], \"xaxis\": \"x\", \"y\": [20.1885, 20.958250000000003, 20.28477777777778, 20.798636363636366, 21.148333333333333, 20.966416666666664, 21.329833333333333, 21.188916666666664, 21.245500000000003, 21.1975, 21.155416666666667, 21.309, 21.04425, 21.217833333333335, 21.417, 21.643833333333333, 21.447583333333338, 21.52158333333333, 21.42833333333333, 21.459666666666664, 21.206916666666668, 21.15758333333333, 21.126166666666666, 21.054416666666665, 21.087333333333337, 21.641083333333338, 22.380666666666666, 21.184666666666665, 21.661249999999995, 21.7925, 21.64741666666667, 21.520666666666667, 21.549833333333336, 21.421916666666664, 21.45016666666667, 21.154999999999998, 21.954916666666666, 22.17408333333334, 21.479916666666668, 20.833999999999996, 21.541749999999997, 21.646416666666667, 20.917416666666668, 21.23308333333333, 21.3965, 21.817499999999995, 21.570916666666665, 21.18691666666667, 21.766583333333333, 21.582583333333332, 21.597916666666666, 21.17675, 20.97083333333333, 21.177500000000002, 21.885, 21.294500000000003, 20.8645, 21.05275, 21.569083333333335, 21.347916666666666, 21.82616666666667, 21.187833333333337, 22.186333333333334, 22.144833333333334, 21.504416666666668, 20.771500000000003, 21.369333333333334, 21.82858333333333, 21.324416666666664, 21.680083333333332, 21.449749999999998, 21.536833333333334, 21.212583333333335, 21.09783333333333, 21.702583333333337, 21.397833333333335, 22.01908333333333, 21.101249999999997, 21.640833333333333, 21.239083333333333, 21.459666666666667, 21.386499999999998, 21.507083333333338, 21.39741666666666, 21.716333333333335, 21.52733333333333, 22.088749999999994, 21.34, 21.681583333333332, 21.36283333333333, 21.926416666666668, 21.31716666666667, 21.530166666666663, 21.60408333333333, 21.241249999999997, 21.59025, 21.459500000000002, 20.984916666666667, 21.322916666666668, 21.557000000000002, 21.487, 21.47458333333333, 21.558666666666664, 21.563083333333335, 21.005999999999997, 21.90266666666666, 21.997249999999998, 22.098166666666668, 21.210500000000003, 21.964249999999996, 21.802916666666665, 21.697833333333335, 21.650750000000002, 22.092083333333335, 21.361000000000004, 21.625416666666666, 21.462166666666672, 21.847583333333333, 21.775750000000002, 21.65433333333333, 22.012083333333333, 22.41275, 21.238083333333332, 21.692666666666668, 21.193416666666668, 21.892500000000002, 21.605166666666666, 22.252333333333336, 22.586166666666667, 22.164083333333334, 21.910500000000003, 22.261083333333332, 21.516916666666663, 22.043416666666662, 22.09325, 22.072416666666665, 22.63008333333333, 21.862833333333338, 22.35575, 22.48741666666667, 21.932583333333337, 22.160166666666665, 22.03025, 21.955166666666667, 22.325333333333333, 22.086000000000002, 22.664833333333334, 22.0645, 21.709666666666667, 21.79275, 22.46083333333333, 22.44033333333333, 22.286916666666666, 22.896833333333333, 22.264416666666666, 22.48675, 22.225916666666667, 22.690583333333333, 22.078166666666664, 21.767, 22.0245, 22.142874999999997], \"yaxis\": \"y\"}],                        {\"legend\": {\"title\": {\"text\": \"Country\"}, \"tracegroupgap\": 0}, \"template\": {\"data\": {\"bar\": [{\"error_x\": {\"color\": \"#2a3f5f\"}, \"error_y\": {\"color\": \"#2a3f5f\"}, \"marker\": {\"line\": {\"color\": \"#E5ECF6\", \"width\": 0.5}}, \"type\": \"bar\"}], \"barpolar\": [{\"marker\": {\"line\": {\"color\": \"#E5ECF6\", \"width\": 0.5}}, \"type\": \"barpolar\"}], \"carpet\": [{\"aaxis\": {\"endlinecolor\": \"#2a3f5f\", \"gridcolor\": \"white\", \"linecolor\": \"white\", \"minorgridcolor\": \"white\", \"startlinecolor\": \"#2a3f5f\"}, \"baxis\": {\"endlinecolor\": \"#2a3f5f\", \"gridcolor\": \"white\", \"linecolor\": \"white\", \"minorgridcolor\": \"white\", \"startlinecolor\": \"#2a3f5f\"}, \"type\": \"carpet\"}], \"choropleth\": [{\"colorbar\": {\"outlinewidth\": 0, \"ticks\": \"\"}, \"type\": \"choropleth\"}], \"contour\": [{\"colorbar\": {\"outlinewidth\": 0, \"ticks\": \"\"}, \"colorscale\": [[0.0, \"#0d0887\"], [0.1111111111111111, \"#46039f\"], [0.2222222222222222, \"#7201a8\"], [0.3333333333333333, \"#9c179e\"], [0.4444444444444444, \"#bd3786\"], [0.5555555555555556, \"#d8576b\"], [0.6666666666666666, \"#ed7953\"], [0.7777777777777778, \"#fb9f3a\"], [0.8888888888888888, \"#fdca26\"], [1.0, \"#f0f921\"]], \"type\": \"contour\"}], \"contourcarpet\": [{\"colorbar\": {\"outlinewidth\": 0, \"ticks\": \"\"}, \"type\": \"contourcarpet\"}], \"heatmap\": [{\"colorbar\": {\"outlinewidth\": 0, \"ticks\": \"\"}, \"colorscale\": [[0.0, \"#0d0887\"], [0.1111111111111111, \"#46039f\"], [0.2222222222222222, \"#7201a8\"], [0.3333333333333333, \"#9c179e\"], [0.4444444444444444, \"#bd3786\"], [0.5555555555555556, \"#d8576b\"], [0.6666666666666666, \"#ed7953\"], [0.7777777777777778, \"#fb9f3a\"], [0.8888888888888888, \"#fdca26\"], [1.0, \"#f0f921\"]], \"type\": \"heatmap\"}], \"heatmapgl\": [{\"colorbar\": {\"outlinewidth\": 0, \"ticks\": \"\"}, \"colorscale\": [[0.0, \"#0d0887\"], [0.1111111111111111, \"#46039f\"], [0.2222222222222222, \"#7201a8\"], [0.3333333333333333, \"#9c179e\"], [0.4444444444444444, \"#bd3786\"], [0.5555555555555556, \"#d8576b\"], [0.6666666666666666, \"#ed7953\"], [0.7777777777777778, \"#fb9f3a\"], [0.8888888888888888, \"#fdca26\"], [1.0, \"#f0f921\"]], \"type\": \"heatmapgl\"}], \"histogram\": [{\"marker\": {\"colorbar\": {\"outlinewidth\": 0, \"ticks\": \"\"}}, \"type\": \"histogram\"}], \"histogram2d\": [{\"colorbar\": {\"outlinewidth\": 0, \"ticks\": \"\"}, \"colorscale\": [[0.0, \"#0d0887\"], [0.1111111111111111, \"#46039f\"], [0.2222222222222222, \"#7201a8\"], [0.3333333333333333, \"#9c179e\"], [0.4444444444444444, \"#bd3786\"], [0.5555555555555556, \"#d8576b\"], [0.6666666666666666, \"#ed7953\"], [0.7777777777777778, \"#fb9f3a\"], [0.8888888888888888, \"#fdca26\"], [1.0, \"#f0f921\"]], \"type\": \"histogram2d\"}], \"histogram2dcontour\": [{\"colorbar\": {\"outlinewidth\": 0, \"ticks\": \"\"}, \"colorscale\": [[0.0, \"#0d0887\"], [0.1111111111111111, \"#46039f\"], [0.2222222222222222, \"#7201a8\"], [0.3333333333333333, \"#9c179e\"], [0.4444444444444444, \"#bd3786\"], [0.5555555555555556, \"#d8576b\"], [0.6666666666666666, \"#ed7953\"], [0.7777777777777778, \"#fb9f3a\"], [0.8888888888888888, \"#fdca26\"], [1.0, \"#f0f921\"]], \"type\": \"histogram2dcontour\"}], \"mesh3d\": [{\"colorbar\": {\"outlinewidth\": 0, \"ticks\": \"\"}, \"type\": \"mesh3d\"}], \"parcoords\": [{\"line\": {\"colorbar\": {\"outlinewidth\": 0, \"ticks\": \"\"}}, \"type\": \"parcoords\"}], \"pie\": [{\"automargin\": true, \"type\": \"pie\"}], \"scatter\": [{\"marker\": {\"colorbar\": {\"outlinewidth\": 0, \"ticks\": \"\"}}, \"type\": \"scatter\"}], \"scatter3d\": [{\"line\": {\"colorbar\": {\"outlinewidth\": 0, \"ticks\": \"\"}}, \"marker\": {\"colorbar\": {\"outlinewidth\": 0, \"ticks\": \"\"}}, \"type\": \"scatter3d\"}], \"scattercarpet\": [{\"marker\": {\"colorbar\": {\"outlinewidth\": 0, \"ticks\": \"\"}}, \"type\": \"scattercarpet\"}], \"scattergeo\": [{\"marker\": {\"colorbar\": {\"outlinewidth\": 0, \"ticks\": \"\"}}, \"type\": \"scattergeo\"}], \"scattergl\": [{\"marker\": {\"colorbar\": {\"outlinewidth\": 0, \"ticks\": \"\"}}, \"type\": \"scattergl\"}], \"scattermapbox\": [{\"marker\": {\"colorbar\": {\"outlinewidth\": 0, \"ticks\": \"\"}}, \"type\": \"scattermapbox\"}], \"scatterpolar\": [{\"marker\": {\"colorbar\": {\"outlinewidth\": 0, \"ticks\": \"\"}}, \"type\": \"scatterpolar\"}], \"scatterpolargl\": [{\"marker\": {\"colorbar\": {\"outlinewidth\": 0, \"ticks\": \"\"}}, \"type\": \"scatterpolargl\"}], \"scatterternary\": [{\"marker\": {\"colorbar\": {\"outlinewidth\": 0, \"ticks\": \"\"}}, \"type\": \"scatterternary\"}], \"surface\": [{\"colorbar\": {\"outlinewidth\": 0, \"ticks\": \"\"}, \"colorscale\": [[0.0, \"#0d0887\"], [0.1111111111111111, \"#46039f\"], [0.2222222222222222, \"#7201a8\"], [0.3333333333333333, \"#9c179e\"], [0.4444444444444444, \"#bd3786\"], [0.5555555555555556, \"#d8576b\"], [0.6666666666666666, \"#ed7953\"], [0.7777777777777778, \"#fb9f3a\"], [0.8888888888888888, \"#fdca26\"], [1.0, \"#f0f921\"]], \"type\": \"surface\"}], \"table\": [{\"cells\": {\"fill\": {\"color\": \"#EBF0F8\"}, \"line\": {\"color\": \"white\"}}, \"header\": {\"fill\": {\"color\": \"#C8D4E3\"}, \"line\": {\"color\": \"white\"}}, \"type\": \"table\"}]}, \"layout\": {\"annotationdefaults\": {\"arrowcolor\": \"#2a3f5f\", \"arrowhead\": 0, \"arrowwidth\": 1}, \"autotypenumbers\": \"strict\", \"coloraxis\": {\"colorbar\": {\"outlinewidth\": 0, \"ticks\": \"\"}}, \"colorscale\": {\"diverging\": [[0, \"#8e0152\"], [0.1, \"#c51b7d\"], [0.2, \"#de77ae\"], [0.3, \"#f1b6da\"], [0.4, \"#fde0ef\"], [0.5, \"#f7f7f7\"], [0.6, \"#e6f5d0\"], [0.7, \"#b8e186\"], [0.8, \"#7fbc41\"], [0.9, \"#4d9221\"], [1, \"#276419\"]], \"sequential\": [[0.0, \"#0d0887\"], [0.1111111111111111, \"#46039f\"], [0.2222222222222222, \"#7201a8\"], [0.3333333333333333, \"#9c179e\"], [0.4444444444444444, \"#bd3786\"], [0.5555555555555556, \"#d8576b\"], [0.6666666666666666, \"#ed7953\"], [0.7777777777777778, \"#fb9f3a\"], [0.8888888888888888, \"#fdca26\"], [1.0, \"#f0f921\"]], \"sequentialminus\": [[0.0, \"#0d0887\"], [0.1111111111111111, \"#46039f\"], [0.2222222222222222, \"#7201a8\"], [0.3333333333333333, \"#9c179e\"], [0.4444444444444444, \"#bd3786\"], [0.5555555555555556, \"#d8576b\"], [0.6666666666666666, \"#ed7953\"], [0.7777777777777778, \"#fb9f3a\"], [0.8888888888888888, \"#fdca26\"], [1.0, \"#f0f921\"]]}, \"colorway\": [\"#636efa\", \"#EF553B\", \"#00cc96\", \"#ab63fa\", \"#FFA15A\", \"#19d3f3\", \"#FF6692\", \"#B6E880\", \"#FF97FF\", \"#FECB52\"], \"font\": {\"color\": \"#2a3f5f\"}, \"geo\": {\"bgcolor\": \"white\", \"lakecolor\": \"white\", \"landcolor\": \"#E5ECF6\", \"showlakes\": true, \"showland\": true, \"subunitcolor\": \"white\"}, \"hoverlabel\": {\"align\": \"left\"}, \"hovermode\": \"closest\", \"mapbox\": {\"style\": \"light\"}, \"paper_bgcolor\": \"white\", \"plot_bgcolor\": \"#E5ECF6\", \"polar\": {\"angularaxis\": {\"gridcolor\": \"white\", \"linecolor\": \"white\", \"ticks\": \"\"}, \"bgcolor\": \"#E5ECF6\", \"radialaxis\": {\"gridcolor\": \"white\", \"linecolor\": \"white\", \"ticks\": \"\"}}, \"scene\": {\"xaxis\": {\"backgroundcolor\": \"#E5ECF6\", \"gridcolor\": \"white\", \"gridwidth\": 2, \"linecolor\": \"white\", \"showbackground\": true, \"ticks\": \"\", \"zerolinecolor\": \"white\"}, \"yaxis\": {\"backgroundcolor\": \"#E5ECF6\", \"gridcolor\": \"white\", \"gridwidth\": 2, \"linecolor\": \"white\", \"showbackground\": true, \"ticks\": \"\", \"zerolinecolor\": \"white\"}, \"zaxis\": {\"backgroundcolor\": \"#E5ECF6\", \"gridcolor\": \"white\", \"gridwidth\": 2, \"linecolor\": \"white\", \"showbackground\": true, \"ticks\": \"\", \"zerolinecolor\": \"white\"}}, \"shapedefaults\": {\"line\": {\"color\": \"#2a3f5f\"}}, \"ternary\": {\"aaxis\": {\"gridcolor\": \"white\", \"linecolor\": \"white\", \"ticks\": \"\"}, \"baxis\": {\"gridcolor\": \"white\", \"linecolor\": \"white\", \"ticks\": \"\"}, \"bgcolor\": \"#E5ECF6\", \"caxis\": {\"gridcolor\": \"white\", \"linecolor\": \"white\", \"ticks\": \"\"}}, \"title\": {\"x\": 0.05}, \"xaxis\": {\"automargin\": true, \"gridcolor\": \"white\", \"linecolor\": \"white\", \"ticks\": \"\", \"title\": {\"standoff\": 15}, \"zerolinecolor\": \"white\", \"zerolinewidth\": 2}, \"yaxis\": {\"automargin\": true, \"gridcolor\": \"white\", \"linecolor\": \"white\", \"ticks\": \"\", \"title\": {\"standoff\": 15}, \"zerolinecolor\": \"white\", \"zerolinewidth\": 2}}}, \"title\": {\"text\": \"Average Land Temperature in world\"}, \"xaxis\": {\"anchor\": \"y\", \"domain\": [0.0, 1.0], \"title\": {\"text\": \"years\"}}, \"yaxis\": {\"anchor\": \"x\", \"domain\": [0.0, 1.0], \"title\": {\"text\": \"AverageTemperature\"}}},                        {\"responsive\": true}                    ).then(function(){\n",
       "                            \n",
       "var gd = document.getElementById('015ed19a-39c4-499d-87b1-bcca8711d506');\n",
       "var x = new MutationObserver(function (mutations, observer) {{\n",
       "        var display = window.getComputedStyle(gd).display;\n",
       "        if (!display || display === 'none') {{\n",
       "            console.log([gd, 'removed!']);\n",
       "            Plotly.purge(gd);\n",
       "            observer.disconnect();\n",
       "        }}\n",
       "}});\n",
       "\n",
       "// Listen for the removal of the full notebook cells\n",
       "var notebookContainer = gd.closest('#notebook-container');\n",
       "if (notebookContainer) {{\n",
       "    x.observe(notebookContainer, {childList: true});\n",
       "}}\n",
       "\n",
       "// Listen for the clearing of the current output cell\n",
       "var outputEl = gd.closest('.output');\n",
       "if (outputEl) {{\n",
       "    x.observe(outputEl, {childList: true});\n",
       "}}\n",
       "\n",
       "                        })                };                });            </script>        </div>"
      ]
     },
     "metadata": {},
     "output_type": "display_data"
    }
   ],
   "source": [
    "fig=px.line(avgtemp, x='years', y ='AverageTemperature', color='Country', title='Average Land Temperature in world')\n",
    "fig.show()"
   ]
  },
  {
   "cell_type": "markdown",
   "id": "isolated-milwaukee",
   "metadata": {},
   "source": [
    "# Perform Spatial Analysis on Average Temperature in USA States"
   ]
  },
  {
   "cell_type": "code",
   "execution_count": 47,
   "id": "western-uruguay",
   "metadata": {},
   "outputs": [],
   "source": [
    "globalstate=pd.read_csv('C:/Users/User/Downloads/GlobalLandTemperaturesByState.csv')"
   ]
  },
  {
   "cell_type": "code",
   "execution_count": 48,
   "id": "champion-mixture",
   "metadata": {},
   "outputs": [
    {
     "data": {
      "text/html": [
       "<div>\n",
       "<style scoped>\n",
       "    .dataframe tbody tr th:only-of-type {\n",
       "        vertical-align: middle;\n",
       "    }\n",
       "\n",
       "    .dataframe tbody tr th {\n",
       "        vertical-align: top;\n",
       "    }\n",
       "\n",
       "    .dataframe thead th {\n",
       "        text-align: right;\n",
       "    }\n",
       "</style>\n",
       "<table border=\"1\" class=\"dataframe\">\n",
       "  <thead>\n",
       "    <tr style=\"text-align: right;\">\n",
       "      <th></th>\n",
       "      <th>dt</th>\n",
       "      <th>AverageTemperature</th>\n",
       "      <th>AverageTemperatureUncertainty</th>\n",
       "      <th>State</th>\n",
       "      <th>Country</th>\n",
       "    </tr>\n",
       "  </thead>\n",
       "  <tbody>\n",
       "    <tr>\n",
       "      <th>0</th>\n",
       "      <td>1855-05-01</td>\n",
       "      <td>25.544</td>\n",
       "      <td>1.171</td>\n",
       "      <td>Acre</td>\n",
       "      <td>Brazil</td>\n",
       "    </tr>\n",
       "    <tr>\n",
       "      <th>1</th>\n",
       "      <td>1855-06-01</td>\n",
       "      <td>24.228</td>\n",
       "      <td>1.103</td>\n",
       "      <td>Acre</td>\n",
       "      <td>Brazil</td>\n",
       "    </tr>\n",
       "    <tr>\n",
       "      <th>2</th>\n",
       "      <td>1855-07-01</td>\n",
       "      <td>24.371</td>\n",
       "      <td>1.044</td>\n",
       "      <td>Acre</td>\n",
       "      <td>Brazil</td>\n",
       "    </tr>\n",
       "    <tr>\n",
       "      <th>3</th>\n",
       "      <td>1855-08-01</td>\n",
       "      <td>25.427</td>\n",
       "      <td>1.073</td>\n",
       "      <td>Acre</td>\n",
       "      <td>Brazil</td>\n",
       "    </tr>\n",
       "    <tr>\n",
       "      <th>4</th>\n",
       "      <td>1855-09-01</td>\n",
       "      <td>25.675</td>\n",
       "      <td>1.014</td>\n",
       "      <td>Acre</td>\n",
       "      <td>Brazil</td>\n",
       "    </tr>\n",
       "  </tbody>\n",
       "</table>\n",
       "</div>"
      ],
      "text/plain": [
       "           dt  AverageTemperature  AverageTemperatureUncertainty State Country\n",
       "0  1855-05-01              25.544                          1.171  Acre  Brazil\n",
       "1  1855-06-01              24.228                          1.103  Acre  Brazil\n",
       "2  1855-07-01              24.371                          1.044  Acre  Brazil\n",
       "3  1855-08-01              25.427                          1.073  Acre  Brazil\n",
       "4  1855-09-01              25.675                          1.014  Acre  Brazil"
      ]
     },
     "execution_count": 48,
     "metadata": {},
     "output_type": "execute_result"
    }
   ],
   "source": [
    "globalstate.head()"
   ]
  },
  {
   "cell_type": "code",
   "execution_count": 49,
   "id": "figured-journalist",
   "metadata": {},
   "outputs": [],
   "source": [
    "filter=globalstate['Country']=='United States'\n",
    "USA=globalstate[filter]"
   ]
  },
  {
   "cell_type": "code",
   "execution_count": 50,
   "id": "average-honolulu",
   "metadata": {},
   "outputs": [
    {
     "data": {
      "text/html": [
       "<div>\n",
       "<style scoped>\n",
       "    .dataframe tbody tr th:only-of-type {\n",
       "        vertical-align: middle;\n",
       "    }\n",
       "\n",
       "    .dataframe tbody tr th {\n",
       "        vertical-align: top;\n",
       "    }\n",
       "\n",
       "    .dataframe thead th {\n",
       "        text-align: right;\n",
       "    }\n",
       "</style>\n",
       "<table border=\"1\" class=\"dataframe\">\n",
       "  <thead>\n",
       "    <tr style=\"text-align: right;\">\n",
       "      <th></th>\n",
       "      <th>dt</th>\n",
       "      <th>AverageTemperature</th>\n",
       "      <th>AverageTemperatureUncertainty</th>\n",
       "      <th>State</th>\n",
       "      <th>Country</th>\n",
       "    </tr>\n",
       "  </thead>\n",
       "  <tbody>\n",
       "    <tr>\n",
       "      <th>7458</th>\n",
       "      <td>1743-11-01</td>\n",
       "      <td>10.722</td>\n",
       "      <td>2.898</td>\n",
       "      <td>Alabama</td>\n",
       "      <td>United States</td>\n",
       "    </tr>\n",
       "    <tr>\n",
       "      <th>7459</th>\n",
       "      <td>1743-12-01</td>\n",
       "      <td>NaN</td>\n",
       "      <td>NaN</td>\n",
       "      <td>Alabama</td>\n",
       "      <td>United States</td>\n",
       "    </tr>\n",
       "    <tr>\n",
       "      <th>7460</th>\n",
       "      <td>1744-01-01</td>\n",
       "      <td>NaN</td>\n",
       "      <td>NaN</td>\n",
       "      <td>Alabama</td>\n",
       "      <td>United States</td>\n",
       "    </tr>\n",
       "    <tr>\n",
       "      <th>7461</th>\n",
       "      <td>1744-02-01</td>\n",
       "      <td>NaN</td>\n",
       "      <td>NaN</td>\n",
       "      <td>Alabama</td>\n",
       "      <td>United States</td>\n",
       "    </tr>\n",
       "    <tr>\n",
       "      <th>7462</th>\n",
       "      <td>1744-03-01</td>\n",
       "      <td>NaN</td>\n",
       "      <td>NaN</td>\n",
       "      <td>Alabama</td>\n",
       "      <td>United States</td>\n",
       "    </tr>\n",
       "  </tbody>\n",
       "</table>\n",
       "</div>"
      ],
      "text/plain": [
       "              dt  AverageTemperature  AverageTemperatureUncertainty    State  \\\n",
       "7458  1743-11-01              10.722                          2.898  Alabama   \n",
       "7459  1743-12-01                 NaN                            NaN  Alabama   \n",
       "7460  1744-01-01                 NaN                            NaN  Alabama   \n",
       "7461  1744-02-01                 NaN                            NaN  Alabama   \n",
       "7462  1744-03-01                 NaN                            NaN  Alabama   \n",
       "\n",
       "            Country  \n",
       "7458  United States  \n",
       "7459  United States  \n",
       "7460  United States  \n",
       "7461  United States  \n",
       "7462  United States  "
      ]
     },
     "execution_count": 50,
     "metadata": {},
     "output_type": "execute_result"
    }
   ],
   "source": [
    "USA.head()"
   ]
  },
  {
   "cell_type": "code",
   "execution_count": 51,
   "id": "intimate-smoke",
   "metadata": {},
   "outputs": [
    {
     "name": "stderr",
     "output_type": "stream",
     "text": [
      "C:\\Anaconda3\\lib\\site-packages\\ipykernel_launcher.py:1: SettingWithCopyWarning:\n",
      "\n",
      "\n",
      "A value is trying to be set on a copy of a slice from a DataFrame\n",
      "\n",
      "See the caveats in the documentation: https://pandas.pydata.org/pandas-docs/stable/user_guide/indexing.html#returning-a-view-versus-a-copy\n",
      "\n"
     ]
    }
   ],
   "source": [
    "USA.dropna(inplace=True)"
   ]
  },
  {
   "cell_type": "code",
   "execution_count": 52,
   "id": "smart-entry",
   "metadata": {},
   "outputs": [
    {
     "data": {
      "text/plain": [
       "array(['Alabama', 'Alaska', 'Arizona', 'Arkansas', 'California',\n",
       "       'Colorado', 'Connecticut', 'Delaware', 'District Of Columbia',\n",
       "       'Florida', 'Georgia (State)', 'Hawaii', 'Idaho', 'Illinois',\n",
       "       'Indiana', 'Iowa', 'Kansas', 'Kentucky', 'Louisiana', 'Maine',\n",
       "       'Maryland', 'Massachusetts', 'Michigan', 'Minnesota',\n",
       "       'Mississippi', 'Missouri', 'Montana', 'Nebraska', 'Nevada',\n",
       "       'New Hampshire', 'New Jersey', 'New Mexico', 'New York',\n",
       "       'North Carolina', 'North Dakota', 'Ohio', 'Oklahoma', 'Oregon',\n",
       "       'Pennsylvania', 'Rhode Island', 'South Carolina', 'South Dakota',\n",
       "       'Tennessee', 'Texas', 'Utah', 'Vermont', 'Virginia', 'Washington',\n",
       "       'West Virginia', 'Wisconsin', 'Wyoming'], dtype=object)"
      ]
     },
     "execution_count": 52,
     "metadata": {},
     "output_type": "execute_result"
    }
   ],
   "source": [
    "USA['State'].unique()"
   ]
  },
  {
   "cell_type": "code",
   "execution_count": 53,
   "id": "romance-quantity",
   "metadata": {},
   "outputs": [],
   "source": [
    "dict={\n",
    "     'Georgia (State)':'Georgia',\n",
    "     'District Of Columbia':'Columbia'\n",
    "}"
   ]
  },
  {
   "cell_type": "code",
   "execution_count": 54,
   "id": "oriented-receiver",
   "metadata": {},
   "outputs": [
    {
     "name": "stderr",
     "output_type": "stream",
     "text": [
      "C:\\Anaconda3\\lib\\site-packages\\pandas\\core\\series.py:4515: SettingWithCopyWarning:\n",
      "\n",
      "\n",
      "A value is trying to be set on a copy of a slice from a DataFrame\n",
      "\n",
      "See the caveats in the documentation: https://pandas.pydata.org/pandas-docs/stable/user_guide/indexing.html#returning-a-view-versus-a-copy\n",
      "\n"
     ]
    }
   ],
   "source": [
    "USA['State'].replace(dict, inplace=True)"
   ]
  },
  {
   "cell_type": "code",
   "execution_count": 55,
   "id": "hourly-radar",
   "metadata": {},
   "outputs": [],
   "source": [
    "USA=USA[['AverageTemperature','State']]"
   ]
  },
  {
   "cell_type": "code",
   "execution_count": 56,
   "id": "latest-optics",
   "metadata": {},
   "outputs": [
    {
     "data": {
      "text/html": [
       "<div>\n",
       "<style scoped>\n",
       "    .dataframe tbody tr th:only-of-type {\n",
       "        vertical-align: middle;\n",
       "    }\n",
       "\n",
       "    .dataframe tbody tr th {\n",
       "        vertical-align: top;\n",
       "    }\n",
       "\n",
       "    .dataframe thead th {\n",
       "        text-align: right;\n",
       "    }\n",
       "</style>\n",
       "<table border=\"1\" class=\"dataframe\">\n",
       "  <thead>\n",
       "    <tr style=\"text-align: right;\">\n",
       "      <th></th>\n",
       "      <th>AverageTemperature</th>\n",
       "      <th>State</th>\n",
       "    </tr>\n",
       "  </thead>\n",
       "  <tbody>\n",
       "    <tr>\n",
       "      <th>7458</th>\n",
       "      <td>10.722</td>\n",
       "      <td>Alabama</td>\n",
       "    </tr>\n",
       "    <tr>\n",
       "      <th>7463</th>\n",
       "      <td>19.075</td>\n",
       "      <td>Alabama</td>\n",
       "    </tr>\n",
       "    <tr>\n",
       "      <th>7464</th>\n",
       "      <td>21.197</td>\n",
       "      <td>Alabama</td>\n",
       "    </tr>\n",
       "    <tr>\n",
       "      <th>7465</th>\n",
       "      <td>25.290</td>\n",
       "      <td>Alabama</td>\n",
       "    </tr>\n",
       "    <tr>\n",
       "      <th>7466</th>\n",
       "      <td>26.420</td>\n",
       "      <td>Alabama</td>\n",
       "    </tr>\n",
       "  </tbody>\n",
       "</table>\n",
       "</div>"
      ],
      "text/plain": [
       "      AverageTemperature    State\n",
       "7458              10.722  Alabama\n",
       "7463              19.075  Alabama\n",
       "7464              21.197  Alabama\n",
       "7465              25.290  Alabama\n",
       "7466              26.420  Alabama"
      ]
     },
     "execution_count": 56,
     "metadata": {},
     "output_type": "execute_result"
    }
   ],
   "source": [
    "USA.head()"
   ]
  },
  {
   "cell_type": "code",
   "execution_count": 57,
   "id": "unknown-extra",
   "metadata": {},
   "outputs": [
    {
     "data": {
      "text/html": [
       "<div>\n",
       "<style scoped>\n",
       "    .dataframe tbody tr th:only-of-type {\n",
       "        vertical-align: middle;\n",
       "    }\n",
       "\n",
       "    .dataframe tbody tr th {\n",
       "        vertical-align: top;\n",
       "    }\n",
       "\n",
       "    .dataframe thead th {\n",
       "        text-align: right;\n",
       "    }\n",
       "</style>\n",
       "<table border=\"1\" class=\"dataframe\">\n",
       "  <thead>\n",
       "    <tr style=\"text-align: right;\">\n",
       "      <th></th>\n",
       "      <th>State</th>\n",
       "      <th>AverageTemperature</th>\n",
       "    </tr>\n",
       "  </thead>\n",
       "  <tbody>\n",
       "    <tr>\n",
       "      <th>0</th>\n",
       "      <td>Alabama</td>\n",
       "      <td>17.066138</td>\n",
       "    </tr>\n",
       "    <tr>\n",
       "      <th>1</th>\n",
       "      <td>Alaska</td>\n",
       "      <td>-4.890738</td>\n",
       "    </tr>\n",
       "    <tr>\n",
       "      <th>2</th>\n",
       "      <td>Arizona</td>\n",
       "      <td>15.381526</td>\n",
       "    </tr>\n",
       "    <tr>\n",
       "      <th>3</th>\n",
       "      <td>Arkansas</td>\n",
       "      <td>15.573963</td>\n",
       "    </tr>\n",
       "    <tr>\n",
       "      <th>4</th>\n",
       "      <td>California</td>\n",
       "      <td>14.327677</td>\n",
       "    </tr>\n",
       "  </tbody>\n",
       "</table>\n",
       "</div>"
      ],
      "text/plain": [
       "        State  AverageTemperature\n",
       "0     Alabama           17.066138\n",
       "1      Alaska           -4.890738\n",
       "2     Arizona           15.381526\n",
       "3    Arkansas           15.573963\n",
       "4  California           14.327677"
      ]
     },
     "execution_count": 57,
     "metadata": {},
     "output_type": "execute_result"
    }
   ],
   "source": [
    "USAtemp=USA.groupby('State')['AverageTemperature'].mean().reset_index()\n",
    "USAtemp.head()"
   ]
  },
  {
   "cell_type": "code",
   "execution_count": 58,
   "id": "related-suspect",
   "metadata": {},
   "outputs": [],
   "source": [
    "from opencage.geocoder import OpenCageGeocode"
   ]
  },
  {
   "cell_type": "code",
   "execution_count": 59,
   "id": "southern-penetration",
   "metadata": {},
   "outputs": [],
   "source": [
    "key ='c65c1cd3301b4872bd78c06d3ea0f922'"
   ]
  },
  {
   "cell_type": "code",
   "execution_count": 60,
   "id": "smart-clothing",
   "metadata": {},
   "outputs": [],
   "source": [
    "geocoder=OpenCageGeocode(key) "
   ]
  },
  {
   "cell_type": "code",
   "execution_count": 94,
   "id": "monetary-talent",
   "metadata": {},
   "outputs": [
    {
     "data": {
      "text/plain": [
       "[{'annotations': {'DMS': {'lat': \"41° 32' 25.83312'' N\",\n",
       "    'lng': \"1° 55' 13.28232'' W\"},\n",
       "   'MGRS': '30TWL9005499324',\n",
       "   'Maidenhead': 'IN91am99nr',\n",
       "   'Mercator': {'x': -213773.074, 'y': 5064053.763},\n",
       "   'OSM': {'edit_url': 'https://www.openstreetmap.org/edit?relation=342295#map=16/41.54051/-1.92036',\n",
       "    'note_url': 'https://www.openstreetmap.org/note/new#map=16/41.54051/-1.92036&layers=N',\n",
       "    'url': 'https://www.openstreetmap.org/?mlat=41.54051&mlon=-1.92036#map=16/41.54051/-1.92036'},\n",
       "   'UN_M49': {'regions': {'ES': '724',\n",
       "     'EUROPE': '150',\n",
       "     'SOUTHERN_EUROPE': '039',\n",
       "     'WORLD': '001'},\n",
       "    'statistical_groupings': ['MEDC']},\n",
       "   'callingcode': 34,\n",
       "   'currency': {'alternate_symbols': [],\n",
       "    'decimal_mark': ',',\n",
       "    'html_entity': '&#x20AC;',\n",
       "    'iso_code': 'EUR',\n",
       "    'iso_numeric': '978',\n",
       "    'name': 'Euro',\n",
       "    'smallest_denomination': 1,\n",
       "    'subunit': 'Cent',\n",
       "    'subunit_to_unit': 100,\n",
       "    'symbol': '€',\n",
       "    'symbol_first': 0,\n",
       "    'thousands_separator': '.'},\n",
       "   'flag': '🇪🇸',\n",
       "   'geohash': 'ezqsk61xh2nts1rzhnmu',\n",
       "   'qibla': 106.81,\n",
       "   'roadinfo': {'drive_on': 'right', 'speed_in': 'km/h'},\n",
       "   'sun': {'rise': {'apparent': 1623731640,\n",
       "     'astronomical': 1623723900,\n",
       "     'civil': 1623729600,\n",
       "     'nautical': 1623727020},\n",
       "    'set': {'apparent': 1623786120,\n",
       "     'astronomical': 1623793920,\n",
       "     'civil': 1623788160,\n",
       "     'nautical': 1623790800}},\n",
       "   'timezone': {'name': 'Europe/Madrid',\n",
       "    'now_in_dst': 1,\n",
       "    'offset_sec': 7200,\n",
       "    'offset_string': '+0200',\n",
       "    'short_name': 'CEST'},\n",
       "   'what3words': {'words': 'chef.digestion.uncertainly'},\n",
       "   'wikidata': 'Q1651278'},\n",
       "  'bounds': {'northeast': {'lat': 41.5884894, 'lng': -1.8518804},\n",
       "   'southwest': {'lat': 41.4814541, 'lng': -1.9811115}},\n",
       "  'components': {'ISO_3166-1_alpha-2': 'ES',\n",
       "   'ISO_3166-1_alpha-3': 'ESP',\n",
       "   '_category': 'place',\n",
       "   '_type': 'village',\n",
       "   'continent': 'Europe',\n",
       "   'country': 'Spain',\n",
       "   'country_code': 'es',\n",
       "   'municipality': 'Comunidad de Calatayud',\n",
       "   'political_union': 'European Union',\n",
       "   'province': 'Zaragoza',\n",
       "   'state': 'Aragon',\n",
       "   'state_code': 'AR',\n",
       "   'village': 'Bijuesca'},\n",
       "  'confidence': 6,\n",
       "  'formatted': 'Bijuesca, Aragon, Spain',\n",
       "  'geometry': {'lat': 41.5405092, 'lng': -1.9203562}},\n",
       " {'annotations': {'DMS': {'lat': \"41° 29' 41.35524'' N\",\n",
       "    'lng': \"1° 49' 21.58032'' W\"},\n",
       "   'MGRS': '30TWL9827294358',\n",
       "   'Maidenhead': 'IN91cl18gs',\n",
       "   'Mercator': {'x': -202897.717, 'y': 5057286.692},\n",
       "   'OSM': {'edit_url': 'https://www.openstreetmap.org/edit?node=1242125047#map=16/41.49482/-1.82266',\n",
       "    'note_url': 'https://www.openstreetmap.org/note/new#map=16/41.49482/-1.82266&layers=N',\n",
       "    'url': 'https://www.openstreetmap.org/?mlat=41.49482&mlon=-1.82266#map=16/41.49482/-1.82266'},\n",
       "   'UN_M49': {'regions': {'ES': '724',\n",
       "     'EUROPE': '150',\n",
       "     'SOUTHERN_EUROPE': '039',\n",
       "     'WORLD': '001'},\n",
       "    'statistical_groupings': ['MEDC']},\n",
       "   'callingcode': 34,\n",
       "   'currency': {'alternate_symbols': [],\n",
       "    'decimal_mark': ',',\n",
       "    'html_entity': '&#x20AC;',\n",
       "    'iso_code': 'EUR',\n",
       "    'iso_numeric': '978',\n",
       "    'name': 'Euro',\n",
       "    'smallest_denomination': 1,\n",
       "    'subunit': 'Cent',\n",
       "    'subunit_to_unit': 100,\n",
       "    'symbol': '€',\n",
       "    'symbol_first': 0,\n",
       "    'thousands_separator': '.'},\n",
       "   'flag': '🇪🇸',\n",
       "   'geohash': 'ezqsn9bubgm21xpcundt',\n",
       "   'qibla': 106.84,\n",
       "   'roadinfo': {'drive_on': 'right', 'speed_in': 'km/h'},\n",
       "   'sun': {'rise': {'apparent': 1623731640,\n",
       "     'astronomical': 1623723900,\n",
       "     'civil': 1623729600,\n",
       "     'nautical': 1623727020},\n",
       "    'set': {'apparent': 1623786120,\n",
       "     'astronomical': 1623793860,\n",
       "     'civil': 1623788160,\n",
       "     'nautical': 1623790740}},\n",
       "   'timezone': {'name': 'Europe/Madrid',\n",
       "    'now_in_dst': 1,\n",
       "    'offset_sec': 7200,\n",
       "    'offset_string': '+0200',\n",
       "    'short_name': 'CEST'},\n",
       "   'what3words': {'words': 'selfishly.adverb.detours'}},\n",
       "  'bounds': {'northeast': {'lat': 41.5048209, 'lng': -1.8126612},\n",
       "   'southwest': {'lat': 41.4848209, 'lng': -1.8326612}},\n",
       "  'components': {'ISO_3166-1_alpha-2': 'ES',\n",
       "   'ISO_3166-1_alpha-3': 'ESP',\n",
       "   '_category': 'place',\n",
       "   '_type': 'hamlet',\n",
       "   'continent': 'Europe',\n",
       "   'country': 'Spain',\n",
       "   'country_code': 'es',\n",
       "   'locality': 'Bijuesca',\n",
       "   'municipality': 'Comunidad de Calatayud',\n",
       "   'political_union': 'European Union',\n",
       "   'province': 'Zaragoza',\n",
       "   'state': 'Aragon',\n",
       "   'state_code': 'AR',\n",
       "   'village': 'Villarroya de la Sierra'},\n",
       "  'confidence': 8,\n",
       "  'formatted': 'Villarroya de la Sierra, Aragon, Spain',\n",
       "  'geometry': {'lat': 41.4948209, 'lng': -1.8226612}}]"
      ]
     },
     "execution_count": 94,
     "metadata": {},
     "output_type": "execute_result"
    }
   ],
   "source": [
    "location='Bijuesca, Spain'\n",
    "results=geocoder.geocode(location)\n",
    "results"
   ]
  },
  {
   "cell_type": "code",
   "execution_count": 95,
   "id": "graphic-artist",
   "metadata": {},
   "outputs": [
    {
     "data": {
      "text/plain": [
       "41.5405092"
      ]
     },
     "execution_count": 95,
     "metadata": {},
     "output_type": "execute_result"
    }
   ],
   "source": [
    "results[0]['geometry']['lat']"
   ]
  },
  {
   "cell_type": "code",
   "execution_count": 96,
   "id": "laughing-matthew",
   "metadata": {},
   "outputs": [
    {
     "data": {
      "text/plain": [
       "-1.9203562"
      ]
     },
     "execution_count": 96,
     "metadata": {},
     "output_type": "execute_result"
    }
   ],
   "source": [
    "results[0]['geometry']['lng']"
   ]
  },
  {
   "cell_type": "code",
   "execution_count": 64,
   "id": "sublime-guyana",
   "metadata": {},
   "outputs": [],
   "source": [
    "listlat=[]\n",
    "listlong=[]\n",
    "\n",
    "for state in USAtemp['State']:\n",
    "    results=geocoder.geocode(state)\n",
    "    lat=results[0]['geometry']['lat']\n",
    "    lon=results[0]['geometry']['lng']\n",
    "    \n",
    "    listlat.append(lat)\n",
    "    listlong.append(lon)"
   ]
  },
  {
   "cell_type": "code",
   "execution_count": 65,
   "id": "crazy-punch",
   "metadata": {},
   "outputs": [
    {
     "data": {
      "text/html": [
       "<div>\n",
       "<style scoped>\n",
       "    .dataframe tbody tr th:only-of-type {\n",
       "        vertical-align: middle;\n",
       "    }\n",
       "\n",
       "    .dataframe tbody tr th {\n",
       "        vertical-align: top;\n",
       "    }\n",
       "\n",
       "    .dataframe thead th {\n",
       "        text-align: right;\n",
       "    }\n",
       "</style>\n",
       "<table border=\"1\" class=\"dataframe\">\n",
       "  <thead>\n",
       "    <tr style=\"text-align: right;\">\n",
       "      <th></th>\n",
       "      <th>State</th>\n",
       "      <th>AverageTemperature</th>\n",
       "      <th>lat</th>\n",
       "      <th>lon</th>\n",
       "    </tr>\n",
       "  </thead>\n",
       "  <tbody>\n",
       "    <tr>\n",
       "      <th>0</th>\n",
       "      <td>Alabama</td>\n",
       "      <td>17.066138</td>\n",
       "      <td>33.258882</td>\n",
       "      <td>-86.829534</td>\n",
       "    </tr>\n",
       "    <tr>\n",
       "      <th>1</th>\n",
       "      <td>Alaska</td>\n",
       "      <td>-4.890738</td>\n",
       "      <td>64.445961</td>\n",
       "      <td>-149.680909</td>\n",
       "    </tr>\n",
       "    <tr>\n",
       "      <th>2</th>\n",
       "      <td>Arizona</td>\n",
       "      <td>15.381526</td>\n",
       "      <td>34.395342</td>\n",
       "      <td>-111.763275</td>\n",
       "    </tr>\n",
       "    <tr>\n",
       "      <th>3</th>\n",
       "      <td>Arkansas</td>\n",
       "      <td>15.573963</td>\n",
       "      <td>35.204888</td>\n",
       "      <td>-92.447911</td>\n",
       "    </tr>\n",
       "    <tr>\n",
       "      <th>4</th>\n",
       "      <td>California</td>\n",
       "      <td>14.327677</td>\n",
       "      <td>36.701463</td>\n",
       "      <td>-118.755997</td>\n",
       "    </tr>\n",
       "  </tbody>\n",
       "</table>\n",
       "</div>"
      ],
      "text/plain": [
       "        State  AverageTemperature        lat         lon\n",
       "0     Alabama           17.066138  33.258882  -86.829534\n",
       "1      Alaska           -4.890738  64.445961 -149.680909\n",
       "2     Arizona           15.381526  34.395342 -111.763275\n",
       "3    Arkansas           15.573963  35.204888  -92.447911\n",
       "4  California           14.327677  36.701463 -118.755997"
      ]
     },
     "execution_count": 65,
     "metadata": {},
     "output_type": "execute_result"
    }
   ],
   "source": [
    "USAtemp['lat']=listlat\n",
    "USAtemp['lon']=listlong\n",
    "USAtemp.head()"
   ]
  },
  {
   "cell_type": "code",
   "execution_count": 66,
   "id": "integral-authority",
   "metadata": {},
   "outputs": [],
   "source": [
    "basemap=folium.Map()"
   ]
  },
  {
   "cell_type": "code",
   "execution_count": 67,
   "id": "activated-cycling",
   "metadata": {},
   "outputs": [
    {
     "data": {
      "text/html": [
       "<div style=\"width:100%;\"><div style=\"position:relative;width:100%;height:0;padding-bottom:60%;\"><span style=\"color:#565656\">Make this Notebook Trusted to load map: File -> Trust Notebook</span><iframe src=\"about:blank\" style=\"position:absolute;width:100%;height:100%;left:0;top:0;border:none !important;\" data-html=%3C%21DOCTYPE%20html%3E%0A%3Chead%3E%20%20%20%20%0A%20%20%20%20%3Cmeta%20http-equiv%3D%22content-type%22%20content%3D%22text/html%3B%20charset%3DUTF-8%22%20/%3E%0A%20%20%20%20%0A%20%20%20%20%20%20%20%20%3Cscript%3E%0A%20%20%20%20%20%20%20%20%20%20%20%20L_NO_TOUCH%20%3D%20false%3B%0A%20%20%20%20%20%20%20%20%20%20%20%20L_DISABLE_3D%20%3D%20false%3B%0A%20%20%20%20%20%20%20%20%3C/script%3E%0A%20%20%20%20%0A%20%20%20%20%3Cstyle%3Ehtml%2C%20body%20%7Bwidth%3A%20100%25%3Bheight%3A%20100%25%3Bmargin%3A%200%3Bpadding%3A%200%3B%7D%3C/style%3E%0A%20%20%20%20%3Cstyle%3E%23map%20%7Bposition%3Aabsolute%3Btop%3A0%3Bbottom%3A0%3Bright%3A0%3Bleft%3A0%3B%7D%3C/style%3E%0A%20%20%20%20%3Cscript%20src%3D%22https%3A//cdn.jsdelivr.net/npm/leaflet%401.6.0/dist/leaflet.js%22%3E%3C/script%3E%0A%20%20%20%20%3Cscript%20src%3D%22https%3A//code.jquery.com/jquery-1.12.4.min.js%22%3E%3C/script%3E%0A%20%20%20%20%3Cscript%20src%3D%22https%3A//maxcdn.bootstrapcdn.com/bootstrap/3.2.0/js/bootstrap.min.js%22%3E%3C/script%3E%0A%20%20%20%20%3Cscript%20src%3D%22https%3A//cdnjs.cloudflare.com/ajax/libs/Leaflet.awesome-markers/2.0.2/leaflet.awesome-markers.js%22%3E%3C/script%3E%0A%20%20%20%20%3Clink%20rel%3D%22stylesheet%22%20href%3D%22https%3A//cdn.jsdelivr.net/npm/leaflet%401.6.0/dist/leaflet.css%22/%3E%0A%20%20%20%20%3Clink%20rel%3D%22stylesheet%22%20href%3D%22https%3A//maxcdn.bootstrapcdn.com/bootstrap/3.2.0/css/bootstrap.min.css%22/%3E%0A%20%20%20%20%3Clink%20rel%3D%22stylesheet%22%20href%3D%22https%3A//maxcdn.bootstrapcdn.com/bootstrap/3.2.0/css/bootstrap-theme.min.css%22/%3E%0A%20%20%20%20%3Clink%20rel%3D%22stylesheet%22%20href%3D%22https%3A//maxcdn.bootstrapcdn.com/font-awesome/4.6.3/css/font-awesome.min.css%22/%3E%0A%20%20%20%20%3Clink%20rel%3D%22stylesheet%22%20href%3D%22https%3A//cdnjs.cloudflare.com/ajax/libs/Leaflet.awesome-markers/2.0.2/leaflet.awesome-markers.css%22/%3E%0A%20%20%20%20%3Clink%20rel%3D%22stylesheet%22%20href%3D%22https%3A//cdn.jsdelivr.net/gh/python-visualization/folium/folium/templates/leaflet.awesome.rotate.min.css%22/%3E%0A%20%20%20%20%0A%20%20%20%20%20%20%20%20%20%20%20%20%3Cmeta%20name%3D%22viewport%22%20content%3D%22width%3Ddevice-width%2C%0A%20%20%20%20%20%20%20%20%20%20%20%20%20%20%20%20initial-scale%3D1.0%2C%20maximum-scale%3D1.0%2C%20user-scalable%3Dno%22%20/%3E%0A%20%20%20%20%20%20%20%20%20%20%20%20%3Cstyle%3E%0A%20%20%20%20%20%20%20%20%20%20%20%20%20%20%20%20%23map_90054c2c828c4cfbb933c46b20940d2e%20%7B%0A%20%20%20%20%20%20%20%20%20%20%20%20%20%20%20%20%20%20%20%20position%3A%20relative%3B%0A%20%20%20%20%20%20%20%20%20%20%20%20%20%20%20%20%20%20%20%20width%3A%20100.0%25%3B%0A%20%20%20%20%20%20%20%20%20%20%20%20%20%20%20%20%20%20%20%20height%3A%20100.0%25%3B%0A%20%20%20%20%20%20%20%20%20%20%20%20%20%20%20%20%20%20%20%20left%3A%200.0%25%3B%0A%20%20%20%20%20%20%20%20%20%20%20%20%20%20%20%20%20%20%20%20top%3A%200.0%25%3B%0A%20%20%20%20%20%20%20%20%20%20%20%20%20%20%20%20%7D%0A%20%20%20%20%20%20%20%20%20%20%20%20%3C/style%3E%0A%20%20%20%20%20%20%20%20%0A%20%20%20%20%3Cscript%20src%3D%22https%3A//cdn.jsdelivr.net/gh/python-visualization/folium%40master/folium/templates/leaflet_heat.min.js%22%3E%3C/script%3E%0A%3C/head%3E%0A%3Cbody%3E%20%20%20%20%0A%20%20%20%20%0A%20%20%20%20%20%20%20%20%20%20%20%20%3Cdiv%20class%3D%22folium-map%22%20id%3D%22map_90054c2c828c4cfbb933c46b20940d2e%22%20%3E%3C/div%3E%0A%20%20%20%20%20%20%20%20%0A%3C/body%3E%0A%3Cscript%3E%20%20%20%20%0A%20%20%20%20%0A%20%20%20%20%20%20%20%20%20%20%20%20var%20map_90054c2c828c4cfbb933c46b20940d2e%20%3D%20L.map%28%0A%20%20%20%20%20%20%20%20%20%20%20%20%20%20%20%20%22map_90054c2c828c4cfbb933c46b20940d2e%22%2C%0A%20%20%20%20%20%20%20%20%20%20%20%20%20%20%20%20%7B%0A%20%20%20%20%20%20%20%20%20%20%20%20%20%20%20%20%20%20%20%20center%3A%20%5B0%2C%200%5D%2C%0A%20%20%20%20%20%20%20%20%20%20%20%20%20%20%20%20%20%20%20%20crs%3A%20L.CRS.EPSG3857%2C%0A%20%20%20%20%20%20%20%20%20%20%20%20%20%20%20%20%20%20%20%20zoom%3A%201%2C%0A%20%20%20%20%20%20%20%20%20%20%20%20%20%20%20%20%20%20%20%20zoomControl%3A%20true%2C%0A%20%20%20%20%20%20%20%20%20%20%20%20%20%20%20%20%20%20%20%20preferCanvas%3A%20false%2C%0A%20%20%20%20%20%20%20%20%20%20%20%20%20%20%20%20%7D%0A%20%20%20%20%20%20%20%20%20%20%20%20%29%3B%0A%0A%20%20%20%20%20%20%20%20%20%20%20%20%0A%0A%20%20%20%20%20%20%20%20%0A%20%20%20%20%0A%20%20%20%20%20%20%20%20%20%20%20%20var%20tile_layer_db36f5cbe4004ad1810689c9bf66ab55%20%3D%20L.tileLayer%28%0A%20%20%20%20%20%20%20%20%20%20%20%20%20%20%20%20%22https%3A//%7Bs%7D.tile.openstreetmap.org/%7Bz%7D/%7Bx%7D/%7By%7D.png%22%2C%0A%20%20%20%20%20%20%20%20%20%20%20%20%20%20%20%20%7B%22attribution%22%3A%20%22Data%20by%20%5Cu0026copy%3B%20%5Cu003ca%20href%3D%5C%22http%3A//openstreetmap.org%5C%22%5Cu003eOpenStreetMap%5Cu003c/a%5Cu003e%2C%20under%20%5Cu003ca%20href%3D%5C%22http%3A//www.openstreetmap.org/copyright%5C%22%5Cu003eODbL%5Cu003c/a%5Cu003e.%22%2C%20%22detectRetina%22%3A%20false%2C%20%22maxNativeZoom%22%3A%2018%2C%20%22maxZoom%22%3A%2018%2C%20%22minZoom%22%3A%200%2C%20%22noWrap%22%3A%20false%2C%20%22opacity%22%3A%201%2C%20%22subdomains%22%3A%20%22abc%22%2C%20%22tms%22%3A%20false%7D%0A%20%20%20%20%20%20%20%20%20%20%20%20%29.addTo%28map_90054c2c828c4cfbb933c46b20940d2e%29%3B%0A%20%20%20%20%20%20%20%20%0A%20%20%20%20%0A%20%20%20%20%20%20%20%20%20%20%20%20var%20heat_map_d0fafdfa6e2a421bbec300ca9e5a269b%20%3D%20L.heatLayer%28%0A%20%20%20%20%20%20%20%20%20%20%20%20%20%20%20%20%5B%5B33.2588817%2C%20-86.8295337%2C%2017.066137864700252%5D%2C%20%5B64.4459613%2C%20-149.680909%2C%20-4.890737575476071%5D%2C%20%5B34.395342%2C%20-111.763275%2C%2015.381526119403008%5D%2C%20%5B35.2048883%2C%20-92.4479108%2C%2015.57396253007904%5D%2C%20%5B36.7014631%2C%20-118.755997%2C%2014.327677288821446%5D%2C%20%5B38.7251776%2C%20-105.607716%2C%206.9313339070567945%5D%2C%20%5B2.8894434%2C%20-73.783892%2C%2011.918474511061234%5D%2C%20%5B41.6500201%2C%20-72.7342163%2C%209.02007951266429%5D%2C%20%5B38.6920451%2C%20-75.4013315%2C%2011.895237576146188%5D%2C%20%5B27.7567667%2C%20-81.4639835%2C%2021.501561590688663%5D%2C%20%5B41.6809707%2C%2044.0287382%2C%2017.52708207758899%5D%2C%20%5B19.5872677%2C%20-155.4268897%2C%2022.43928270580731%5D%2C%20%5B43.6447642%2C%20-114.015407%2C%205.334255048287974%5D%2C%20%5B40.0796606%2C%20-89.4337288%2C%2010.866111747850992%5D%2C%20%5B40.3270127%2C%20-86.1746933%2C%2010.874955755049672%5D%2C%20%5B41.9216734%2C%20-93.3122705%2C%208.6478077045527%5D%2C%20%5B38.27312%2C%20-98.5821872%2C%2012.16564786462533%5D%2C%20%5B37.5726028%2C%20-85.1551411%2C%2012.950794485411993%5D%2C%20%5B30.8703881%2C%20-92.007126%2C%2019.128862385321064%5D%2C%20%5B45.709097%2C%20-68.8590201%2C%204.349941968579668%5D%2C%20%5B39.5162234%2C%20-76.9382069%2C%2012.137859249759547%5D%2C%20%5B42.3788774%2C%20-72.032366%2C%207.6252263546008505%5D%2C%20%5B43.6211955%2C%20-84.6824346%2C%206.555493155046176%5D%2C%20%5B45.9896587%2C%20-94.6113288%2C%204.472812480101877%5D%2C%20%5B32.9715645%2C%20-89.7348497%2C%2017.53740701271916%5D%2C%20%5B38.7604815%2C%20-92.5617875%2C%2012.301072779737083%5D%2C%20%5B47.3752671%2C%20-109.638757%2C%204.986482028754004%5D%2C%20%5B41.7370229%2C%20-99.5873816%2C%209.016576677316309%5D%2C%20%5B39.5158825%2C%20-116.8537227%2C%209.814444803695169%5D%2C%20%5B43.4849133%2C%20-71.6553992%2C%205.612321898044246%5D%2C%20%5B40.0757384%2C%20-74.4041622%2C%2010.625895479320274%5D%2C%20%5B34.5708167%2C%20-105.993007%2C%2011.857086825053994%5D%2C%20%5B40.7127281%2C%20-74.0060152%2C%207.1836184674575305%5D%2C%20%5B35.6729639%2C%20-79.0392919%2C%2014.780251683231803%5D%2C%20%5B47.6201461%2C%20-100.540737%2C%204.169714856230027%5D%2C%20%5B40.2253569%2C%20-82.6881395%2C%2010.320151651170251%5D%2C%20%5B34.9550817%2C%20-97.2684063%2C%2015.381547314578036%5D%2C%20%5B43.9792797%2C%20-120.737257%2C%208.165825389550873%5D%2C%20%5B40.9699889%2C%20-77.7278831%2C%209.110052260339849%5D%2C%20%5B41.7962409%2C%20-71.5992372%2C%208.97309907021482%5D%2C%20%5B33.6874388%2C%20-80.4363743%2C%2017.03475697338892%5D%2C%20%5B44.6471761%2C%20-100.348761%2C%206.947362619808291%5D%2C%20%5B35.7730076%2C%20-86.2820081%2C%2014.056290157101639%5D%2C%20%5B31.8160381%2C%20-99.5120986%2C%2018.1072339784946%5D%2C%20%5B39.4225192%2C%20-111.714358%2C%208.478840671811168%5D%2C%20%5B44.5990718%2C%20-72.5002608%2C%205.398153895479319%5D%2C%20%5B37.1232245%2C%20-78.4927721%2C%2012.804781660788692%5D%2C%20%5B38.8950368%2C%20-77.0365427%2C%207.643112282309806%5D%2C%20%5B38.4758406%2C%20-80.8408415%2C%2010.950278294325091%5D%2C%20%5B44.4308975%2C%20-89.6884637%2C%205.946672397325695%5D%2C%20%5B43.1700264%2C%20-107.568534%2C%205.099001659062634%5D%5D%2C%0A%20%20%20%20%20%20%20%20%20%20%20%20%20%20%20%20%7B%22blur%22%3A%2015%2C%20%22maxZoom%22%3A%2018%2C%20%22minOpacity%22%3A%200.5%2C%20%22radius%22%3A%2025%7D%0A%20%20%20%20%20%20%20%20%20%20%20%20%29.addTo%28map_90054c2c828c4cfbb933c46b20940d2e%29%3B%0A%20%20%20%20%20%20%20%20%0A%3C/script%3E onload=\"this.contentDocument.open();this.contentDocument.write(    decodeURIComponent(this.getAttribute('data-html')));this.contentDocument.close();\" allowfullscreen webkitallowfullscreen mozallowfullscreen></iframe></div></div>"
      ],
      "text/plain": [
       "<folium.folium.Map at 0x18ca85e8308>"
      ]
     },
     "execution_count": 67,
     "metadata": {},
     "output_type": "execute_result"
    }
   ],
   "source": [
    "HeatMap(USAtemp[['lat','lon','AverageTemperature']]).add_to(basemap)\n",
    "basemap"
   ]
  },
  {
   "cell_type": "markdown",
   "id": "enhanced-aspect",
   "metadata": {},
   "source": [
    "# Visualize Average Temperature in Major Cities in India"
   ]
  },
  {
   "cell_type": "code",
   "execution_count": 68,
   "id": "cubic-blond",
   "metadata": {},
   "outputs": [
    {
     "data": {
      "text/html": [
       "<div>\n",
       "<style scoped>\n",
       "    .dataframe tbody tr th:only-of-type {\n",
       "        vertical-align: middle;\n",
       "    }\n",
       "\n",
       "    .dataframe tbody tr th {\n",
       "        vertical-align: top;\n",
       "    }\n",
       "\n",
       "    .dataframe thead th {\n",
       "        text-align: right;\n",
       "    }\n",
       "</style>\n",
       "<table border=\"1\" class=\"dataframe\">\n",
       "  <thead>\n",
       "    <tr style=\"text-align: right;\">\n",
       "      <th></th>\n",
       "      <th>dt</th>\n",
       "      <th>AverageTemperature</th>\n",
       "      <th>AverageTemperatureUncertainty</th>\n",
       "      <th>City</th>\n",
       "      <th>Country</th>\n",
       "      <th>Latitude</th>\n",
       "      <th>Longitude</th>\n",
       "    </tr>\n",
       "  </thead>\n",
       "  <tbody>\n",
       "    <tr>\n",
       "      <th>0</th>\n",
       "      <td>1743-11-01</td>\n",
       "      <td>6.068</td>\n",
       "      <td>1.737</td>\n",
       "      <td>Århus</td>\n",
       "      <td>Denmark</td>\n",
       "      <td>57.05N</td>\n",
       "      <td>10.33E</td>\n",
       "    </tr>\n",
       "    <tr>\n",
       "      <th>1</th>\n",
       "      <td>1743-12-01</td>\n",
       "      <td>NaN</td>\n",
       "      <td>NaN</td>\n",
       "      <td>Århus</td>\n",
       "      <td>Denmark</td>\n",
       "      <td>57.05N</td>\n",
       "      <td>10.33E</td>\n",
       "    </tr>\n",
       "    <tr>\n",
       "      <th>2</th>\n",
       "      <td>1744-01-01</td>\n",
       "      <td>NaN</td>\n",
       "      <td>NaN</td>\n",
       "      <td>Århus</td>\n",
       "      <td>Denmark</td>\n",
       "      <td>57.05N</td>\n",
       "      <td>10.33E</td>\n",
       "    </tr>\n",
       "    <tr>\n",
       "      <th>3</th>\n",
       "      <td>1744-02-01</td>\n",
       "      <td>NaN</td>\n",
       "      <td>NaN</td>\n",
       "      <td>Århus</td>\n",
       "      <td>Denmark</td>\n",
       "      <td>57.05N</td>\n",
       "      <td>10.33E</td>\n",
       "    </tr>\n",
       "    <tr>\n",
       "      <th>4</th>\n",
       "      <td>1744-03-01</td>\n",
       "      <td>NaN</td>\n",
       "      <td>NaN</td>\n",
       "      <td>Århus</td>\n",
       "      <td>Denmark</td>\n",
       "      <td>57.05N</td>\n",
       "      <td>10.33E</td>\n",
       "    </tr>\n",
       "  </tbody>\n",
       "</table>\n",
       "</div>"
      ],
      "text/plain": [
       "           dt  AverageTemperature  AverageTemperatureUncertainty   City  \\\n",
       "0  1743-11-01               6.068                          1.737  Århus   \n",
       "1  1743-12-01                 NaN                            NaN  Århus   \n",
       "2  1744-01-01                 NaN                            NaN  Århus   \n",
       "3  1744-02-01                 NaN                            NaN  Århus   \n",
       "4  1744-03-01                 NaN                            NaN  Århus   \n",
       "\n",
       "   Country Latitude Longitude  \n",
       "0  Denmark   57.05N    10.33E  \n",
       "1  Denmark   57.05N    10.33E  \n",
       "2  Denmark   57.05N    10.33E  \n",
       "3  Denmark   57.05N    10.33E  \n",
       "4  Denmark   57.05N    10.33E  "
      ]
     },
     "execution_count": 68,
     "metadata": {},
     "output_type": "execute_result"
    }
   ],
   "source": [
    "cities=pd.read_csv('C:/Users/User/Downloads/GlobalLandTemperaturesByCity.csv')\n",
    "cities.head()"
   ]
  },
  {
   "cell_type": "code",
   "execution_count": 69,
   "id": "coated-storage",
   "metadata": {},
   "outputs": [
    {
     "data": {
      "text/plain": [
       "(1014906, 7)"
      ]
     },
     "execution_count": 69,
     "metadata": {},
     "output_type": "execute_result"
    }
   ],
   "source": [
    "India=cities[cities['Country']=='India']\n",
    "India.shape"
   ]
  },
  {
   "cell_type": "code",
   "execution_count": 70,
   "id": "affected-point",
   "metadata": {},
   "outputs": [
    {
     "data": {
      "text/plain": [
       "array(['Abohar', 'Achalpur', 'Adilabad', 'Adoni', 'Agartala', 'Agra',\n",
       "       'Ahmadabad', 'Ahmadnagar', 'Aizawl', 'Ajmer', 'Akola', 'Alandur',\n",
       "       'Alappuzha', 'Aligarh', 'Allahabad', 'Alwar', 'Ambala',\n",
       "       'Ambarnath', 'Ambattur', 'Ambur', 'Amravati', 'Amritsar', 'Amroha',\n",
       "       'Anand', 'Anantapur', 'Ara', 'Asansol', 'Aurangabad', 'Avadi',\n",
       "       'Azamgarh', 'Badlapur', 'Bagaha', 'Bahadurgarh', 'Baharampur',\n",
       "       'Bahraich', 'Baidyabati', 'Baleshwar', 'Ballia', 'Bally',\n",
       "       'Balurghat', 'Banda', 'Bangalore', 'Bangaon', 'Bankura',\n",
       "       'Bansbaria', 'Barakpur', 'Baranagar', 'Barasat', 'Barddhaman',\n",
       "       'Bareli', 'Baripada', 'Barnala', 'Barsi', 'Basirhat', 'Basti',\n",
       "       'Batala', 'Beawar', 'Begusarai', 'Belgaum', 'Bellary', 'Bettiah',\n",
       "       'Bhadravati', 'Bhadreswar', 'Bhagalpur', 'Bharatpur', 'Bharuch',\n",
       "       'Bhatpara', 'Bhavnagar', 'Bhilai', 'Bhilwara', 'Bhimavaram',\n",
       "       'Bhind', 'Bhiwandi', 'Bhiwani', 'Bhopal', 'Bhubaneswar', 'Bhuj',\n",
       "       'Bhusawal', 'Bid', 'Bidar', 'Bihar', 'Bijapur', 'Bikaner',\n",
       "       'Bilaspur', 'Bokaro', 'Bombay', 'Botad', 'Brahmapur', 'Budaun',\n",
       "       'Bulandshahr', 'Burhanpur', 'Calcutta', 'Champdani',\n",
       "       'Chandannagar', 'Chandausi', 'Chandigarh', 'Chandrapur', 'Chas',\n",
       "       'Chhapra', 'Chhatarpur', 'Chhindwara', 'Chikmagalur',\n",
       "       'Chitradurga', 'Chittaurgarh', 'Churu', 'Cuddapah', 'Damoh',\n",
       "       'Darbhanga', 'Darjiling', 'Dehra Dun', 'Dehri', 'Delhi', 'Deoria',\n",
       "       'Dewas', 'Dhanbad', 'Dharmavaram', 'Dhaulpur', 'Dhule',\n",
       "       'Dibrugarh', 'Dimapur', 'Dindigul', 'Dum Dum', 'Durg', 'Durgapur',\n",
       "       'Eluru', 'Erode', 'Etah', 'Etawah', 'Faizabad', 'Faridabad',\n",
       "       'Farrukhabad', 'Fatehpur', 'Firozabad', 'Firozpur', 'Gadag',\n",
       "       'Gandhidham', 'Gandhinagar', 'Ganganagar', 'Gangapur', 'Gangawati',\n",
       "       'Gaya', 'Ghaziabad', 'Ghazipur', 'Godhra', 'Gonda', 'Gondal',\n",
       "       'Gorakhpur', 'Gudalur', 'Gudivada', 'Gulbarga', 'Guna', 'Guntakal',\n",
       "       'Guntur', 'Gurgaon', 'Guwahati', 'Gwalior', 'Habra', 'Hajipur',\n",
       "       'Haldia', 'Haldwani', 'Halisahar', 'Hanumangarh', 'Haora', 'Hapur',\n",
       "       'Hardoi', 'Haridwar', 'Hassan', 'Hathras', 'Hazaribag', 'Hindupur',\n",
       "       'Hisar', 'Hoshangabad', 'Hoshiarpur', 'Hospet', 'Hosur', 'Hubli',\n",
       "       'Hyderabad', 'Ichalkaranji', 'Imphal', 'Indore', 'Ingraj Bazar',\n",
       "       'Itarsi', 'Jabalpur', 'Jagadhri', 'Jaipur', 'Jalandhar', 'Jalna',\n",
       "       'Jalpaiguri', 'Jamalpur', 'Jammu', 'Jamnagar', 'Jamshedpur',\n",
       "       'Jamuria', 'Jaunpur', 'Jetpur', 'Jhansi', 'Jhunjhunun', 'Jind',\n",
       "       'Jodhpur', 'Junagadh', 'Kaithal', 'Kakinada', 'Kalol', 'Kalyan',\n",
       "       'Kamarhati', 'Kanchipuram', 'Kanchrapara', 'Kanpur', 'Kapra',\n",
       "       'Karimnagar', 'Karnal', 'Kashipur', 'Katihar', 'Khammam',\n",
       "       'Khandwa', 'Khanna', 'Kharagpur', 'Khardaha', 'Khurja', 'Kochi',\n",
       "       'Kolar', 'Kolhapur', 'Kollam', 'Korba', 'Kota', 'Krishnanagar',\n",
       "       'Kulti', 'Kumbakonam', 'Lakhimpur', 'Lakhnau', 'Lalitpur', 'Latur',\n",
       "       'Loni', 'Ludhiana', 'Machilipatnam', 'Madanapalle', 'Madhyamgram',\n",
       "       'Madras', 'Madurai', 'Mahbubnagar', 'Mahesana', 'Maisuru',\n",
       "       'Malegaon', 'Maler Kotla', 'Mandsaur', 'Mandya', 'Mangaluru',\n",
       "       'Mathura', 'Mau', 'Mirzapur', 'Moga', 'Moradabad', 'Morena',\n",
       "       'Mormugao', 'Morvi', 'Motihari', 'Munger', 'Murwara',\n",
       "       'Muzaffarnagar', 'Muzaffarpur', 'Nadiad', 'Nagda', 'Nagercoil',\n",
       "       'Nagpur', 'Naihati', 'Nalgonda', 'Nanded', 'Nandurbar', 'Nandyal',\n",
       "       'Nangloi Jat', 'Navadwip', 'Navsari', 'New Delhi', 'Neyveli',\n",
       "       'Nizamabad', 'Ongole', 'Orai', 'Palakkad', 'Palanpur', 'Pali',\n",
       "       'Pallavaram', 'Palwal', 'Panihati', 'Panipat', 'Panvel',\n",
       "       'Parbhani', 'Patan', 'Pathankot', 'Patiala', 'Patna', 'Phagwara',\n",
       "       'Pilibhit', 'Pimpri', 'Pondicherry', 'Ponnani', 'Porbandar',\n",
       "       'Port Blair', 'Proddatur', 'Pudukkottai', 'Pune', 'Puri', 'Purnia',\n",
       "       'Puruliya', 'Rae Bareli', 'Raichur', 'Raiganj', 'Raigarh',\n",
       "       'Raipur', 'Rajamahendri', 'Rajapalaiyam', 'Rajkot', 'Rajpur',\n",
       "       'Rampur', 'Ranchi', 'Raniganj', 'Ratlam', 'Raurkela', 'Rewa',\n",
       "       'Rewari', 'Rishra', 'Robertsonpet', 'Rohtak', 'Sagar',\n",
       "       'Saharanpur', 'Saharsa', 'Sambalpur', 'Sambhal', 'Sasaram',\n",
       "       'Satara', 'Satna', 'Sawai Madhopur', 'Selam', 'Seoni',\n",
       "       'Shahjahanpur', 'Shantipur', 'Shiliguri', 'Shillong', 'Shimla',\n",
       "       'Shimoga', 'Sholapur', 'Shrirampur', 'Sikar', 'Silchar', 'Sirsa',\n",
       "       'Sitapur', 'Siwan', 'Sonipat', 'Srikakulam', 'Srinagar',\n",
       "       'Sultanpur', 'Surat', 'Surendranagar', 'Suriapet',\n",
       "       'Tadepallegudem', 'Tambaram', 'Tenali', 'Thana', 'Thanesar',\n",
       "       'Thanjavur', 'Thiruvananthapuram', 'Thrissur', 'Tiruchchirappalli',\n",
       "       'Tirunelveli', 'Tirupati', 'Tiruppur', 'Tiruvannamalai',\n",
       "       'Tiruvottiyur', 'Titagarh', 'Tonk', 'Tumkur', 'Udgir', 'Udupi',\n",
       "       'Ujjain', 'Ulhasnagar', 'Ulubaria', 'Unnao', 'Vadodara',\n",
       "       'Varanasi', 'Vejalpur', 'Velluru', 'Veraval', 'Vidisha',\n",
       "       'Vijayawada', 'Virar', 'Visakhapatnam', 'Vizianagaram', 'Warangal',\n",
       "       'Wardha', 'Yamunanagar', 'Yavatmal', 'Yelahanka'], dtype=object)"
      ]
     },
     "execution_count": 70,
     "metadata": {},
     "output_type": "execute_result"
    }
   ],
   "source": [
    "India['City'].unique()"
   ]
  },
  {
   "cell_type": "code",
   "execution_count": 71,
   "id": "accepted-external",
   "metadata": {},
   "outputs": [],
   "source": [
    "cities=['New Delhi', 'Bangalore', 'Hyderabad', 'Pune', 'Madras', 'Varanasi', 'Bombay']"
   ]
  },
  {
   "cell_type": "code",
   "execution_count": 72,
   "id": "legislative-probability",
   "metadata": {},
   "outputs": [],
   "source": [
    "cities=India[India['City'].isin(cities)]"
   ]
  },
  {
   "cell_type": "code",
   "execution_count": 73,
   "id": "killing-tactics",
   "metadata": {},
   "outputs": [
    {
     "data": {
      "text/html": [
       "<div>\n",
       "<style scoped>\n",
       "    .dataframe tbody tr th:only-of-type {\n",
       "        vertical-align: middle;\n",
       "    }\n",
       "\n",
       "    .dataframe tbody tr th {\n",
       "        vertical-align: top;\n",
       "    }\n",
       "\n",
       "    .dataframe thead th {\n",
       "        text-align: right;\n",
       "    }\n",
       "</style>\n",
       "<table border=\"1\" class=\"dataframe\">\n",
       "  <thead>\n",
       "    <tr style=\"text-align: right;\">\n",
       "      <th></th>\n",
       "      <th>dt</th>\n",
       "      <th>AverageTemperature</th>\n",
       "      <th>AverageTemperatureUncertainty</th>\n",
       "      <th>City</th>\n",
       "      <th>Country</th>\n",
       "      <th>Latitude</th>\n",
       "      <th>Longitude</th>\n",
       "    </tr>\n",
       "  </thead>\n",
       "  <tbody>\n",
       "    <tr>\n",
       "      <th>630113</th>\n",
       "      <td>1796-01-01</td>\n",
       "      <td>22.672</td>\n",
       "      <td>2.317</td>\n",
       "      <td>Bangalore</td>\n",
       "      <td>India</td>\n",
       "      <td>12.05N</td>\n",
       "      <td>77.26E</td>\n",
       "    </tr>\n",
       "    <tr>\n",
       "      <th>630114</th>\n",
       "      <td>1796-02-01</td>\n",
       "      <td>24.420</td>\n",
       "      <td>1.419</td>\n",
       "      <td>Bangalore</td>\n",
       "      <td>India</td>\n",
       "      <td>12.05N</td>\n",
       "      <td>77.26E</td>\n",
       "    </tr>\n",
       "    <tr>\n",
       "      <th>630115</th>\n",
       "      <td>1796-03-01</td>\n",
       "      <td>26.092</td>\n",
       "      <td>2.459</td>\n",
       "      <td>Bangalore</td>\n",
       "      <td>India</td>\n",
       "      <td>12.05N</td>\n",
       "      <td>77.26E</td>\n",
       "    </tr>\n",
       "    <tr>\n",
       "      <th>630116</th>\n",
       "      <td>1796-04-01</td>\n",
       "      <td>27.687</td>\n",
       "      <td>1.746</td>\n",
       "      <td>Bangalore</td>\n",
       "      <td>India</td>\n",
       "      <td>12.05N</td>\n",
       "      <td>77.26E</td>\n",
       "    </tr>\n",
       "    <tr>\n",
       "      <th>630117</th>\n",
       "      <td>1796-05-01</td>\n",
       "      <td>27.619</td>\n",
       "      <td>1.277</td>\n",
       "      <td>Bangalore</td>\n",
       "      <td>India</td>\n",
       "      <td>12.05N</td>\n",
       "      <td>77.26E</td>\n",
       "    </tr>\n",
       "  </tbody>\n",
       "</table>\n",
       "</div>"
      ],
      "text/plain": [
       "                dt  AverageTemperature  AverageTemperatureUncertainty  \\\n",
       "630113  1796-01-01              22.672                          2.317   \n",
       "630114  1796-02-01              24.420                          1.419   \n",
       "630115  1796-03-01              26.092                          2.459   \n",
       "630116  1796-04-01              27.687                          1.746   \n",
       "630117  1796-05-01              27.619                          1.277   \n",
       "\n",
       "             City Country Latitude Longitude  \n",
       "630113  Bangalore   India   12.05N    77.26E  \n",
       "630114  Bangalore   India   12.05N    77.26E  \n",
       "630115  Bangalore   India   12.05N    77.26E  \n",
       "630116  Bangalore   India   12.05N    77.26E  \n",
       "630117  Bangalore   India   12.05N    77.26E  "
      ]
     },
     "execution_count": 73,
     "metadata": {},
     "output_type": "execute_result"
    }
   ],
   "source": [
    "cities.head()"
   ]
  },
  {
   "cell_type": "code",
   "execution_count": 74,
   "id": "gothic-detective",
   "metadata": {},
   "outputs": [
    {
     "name": "stderr",
     "output_type": "stream",
     "text": [
      "C:\\Anaconda3\\lib\\site-packages\\ipykernel_launcher.py:1: SettingWithCopyWarning:\n",
      "\n",
      "\n",
      "A value is trying to be set on a copy of a slice from a DataFrame.\n",
      "Try using .loc[row_indexer,col_indexer] = value instead\n",
      "\n",
      "See the caveats in the documentation: https://pandas.pydata.org/pandas-docs/stable/user_guide/indexing.html#returning-a-view-versus-a-copy\n",
      "\n",
      "C:\\Anaconda3\\lib\\site-packages\\ipykernel_launcher.py:2: SettingWithCopyWarning:\n",
      "\n",
      "\n",
      "A value is trying to be set on a copy of a slice from a DataFrame.\n",
      "Try using .loc[row_indexer,col_indexer] = value instead\n",
      "\n",
      "See the caveats in the documentation: https://pandas.pydata.org/pandas-docs/stable/user_guide/indexing.html#returning-a-view-versus-a-copy\n",
      "\n"
     ]
    }
   ],
   "source": [
    "cities['Latitude']=cities['Latitude'].str.strip('N')\n",
    "cities['Longitude']=cities['Longitude'].str.strip('E')"
   ]
  },
  {
   "cell_type": "code",
   "execution_count": 75,
   "id": "invalid-satellite",
   "metadata": {},
   "outputs": [
    {
     "data": {
      "text/html": [
       "<div>\n",
       "<style scoped>\n",
       "    .dataframe tbody tr th:only-of-type {\n",
       "        vertical-align: middle;\n",
       "    }\n",
       "\n",
       "    .dataframe tbody tr th {\n",
       "        vertical-align: top;\n",
       "    }\n",
       "\n",
       "    .dataframe thead th {\n",
       "        text-align: right;\n",
       "    }\n",
       "</style>\n",
       "<table border=\"1\" class=\"dataframe\">\n",
       "  <thead>\n",
       "    <tr style=\"text-align: right;\">\n",
       "      <th></th>\n",
       "      <th>dt</th>\n",
       "      <th>AverageTemperature</th>\n",
       "      <th>AverageTemperatureUncertainty</th>\n",
       "      <th>City</th>\n",
       "      <th>Country</th>\n",
       "      <th>Latitude</th>\n",
       "      <th>Longitude</th>\n",
       "    </tr>\n",
       "  </thead>\n",
       "  <tbody>\n",
       "    <tr>\n",
       "      <th>630113</th>\n",
       "      <td>1796-01-01</td>\n",
       "      <td>22.672</td>\n",
       "      <td>2.317</td>\n",
       "      <td>Bangalore</td>\n",
       "      <td>India</td>\n",
       "      <td>12.05</td>\n",
       "      <td>77.26</td>\n",
       "    </tr>\n",
       "    <tr>\n",
       "      <th>630114</th>\n",
       "      <td>1796-02-01</td>\n",
       "      <td>24.420</td>\n",
       "      <td>1.419</td>\n",
       "      <td>Bangalore</td>\n",
       "      <td>India</td>\n",
       "      <td>12.05</td>\n",
       "      <td>77.26</td>\n",
       "    </tr>\n",
       "    <tr>\n",
       "      <th>630115</th>\n",
       "      <td>1796-03-01</td>\n",
       "      <td>26.092</td>\n",
       "      <td>2.459</td>\n",
       "      <td>Bangalore</td>\n",
       "      <td>India</td>\n",
       "      <td>12.05</td>\n",
       "      <td>77.26</td>\n",
       "    </tr>\n",
       "    <tr>\n",
       "      <th>630116</th>\n",
       "      <td>1796-04-01</td>\n",
       "      <td>27.687</td>\n",
       "      <td>1.746</td>\n",
       "      <td>Bangalore</td>\n",
       "      <td>India</td>\n",
       "      <td>12.05</td>\n",
       "      <td>77.26</td>\n",
       "    </tr>\n",
       "    <tr>\n",
       "      <th>630117</th>\n",
       "      <td>1796-05-01</td>\n",
       "      <td>27.619</td>\n",
       "      <td>1.277</td>\n",
       "      <td>Bangalore</td>\n",
       "      <td>India</td>\n",
       "      <td>12.05</td>\n",
       "      <td>77.26</td>\n",
       "    </tr>\n",
       "  </tbody>\n",
       "</table>\n",
       "</div>"
      ],
      "text/plain": [
       "                dt  AverageTemperature  AverageTemperatureUncertainty  \\\n",
       "630113  1796-01-01              22.672                          2.317   \n",
       "630114  1796-02-01              24.420                          1.419   \n",
       "630115  1796-03-01              26.092                          2.459   \n",
       "630116  1796-04-01              27.687                          1.746   \n",
       "630117  1796-05-01              27.619                          1.277   \n",
       "\n",
       "             City Country Latitude Longitude  \n",
       "630113  Bangalore   India    12.05     77.26  \n",
       "630114  Bangalore   India    12.05     77.26  \n",
       "630115  Bangalore   India    12.05     77.26  \n",
       "630116  Bangalore   India    12.05     77.26  \n",
       "630117  Bangalore   India    12.05     77.26  "
      ]
     },
     "execution_count": 75,
     "metadata": {},
     "output_type": "execute_result"
    }
   ],
   "source": [
    "cities.head()"
   ]
  },
  {
   "cell_type": "code",
   "execution_count": 76,
   "id": "curious-california",
   "metadata": {},
   "outputs": [
    {
     "name": "stderr",
     "output_type": "stream",
     "text": [
      "C:\\Anaconda3\\lib\\site-packages\\ipykernel_launcher.py:1: SettingWithCopyWarning:\n",
      "\n",
      "\n",
      "A value is trying to be set on a copy of a slice from a DataFrame.\n",
      "Try using .loc[row_indexer,col_indexer] = value instead\n",
      "\n",
      "See the caveats in the documentation: https://pandas.pydata.org/pandas-docs/stable/user_guide/indexing.html#returning-a-view-versus-a-copy\n",
      "\n"
     ]
    }
   ],
   "source": [
    "cities['dt']=pd.to_datetime(cities['dt'])"
   ]
  },
  {
   "cell_type": "code",
   "execution_count": 77,
   "id": "classified-quick",
   "metadata": {},
   "outputs": [
    {
     "name": "stderr",
     "output_type": "stream",
     "text": [
      "C:\\Anaconda3\\lib\\site-packages\\ipykernel_launcher.py:1: SettingWithCopyWarning:\n",
      "\n",
      "\n",
      "A value is trying to be set on a copy of a slice from a DataFrame.\n",
      "Try using .loc[row_indexer,col_indexer] = value instead\n",
      "\n",
      "See the caveats in the documentation: https://pandas.pydata.org/pandas-docs/stable/user_guide/indexing.html#returning-a-view-versus-a-copy\n",
      "\n"
     ]
    }
   ],
   "source": [
    "cities['Month']=cities['dt'].dt.month"
   ]
  },
  {
   "cell_type": "code",
   "execution_count": 78,
   "id": "complete-underwear",
   "metadata": {},
   "outputs": [
    {
     "data": {
      "text/html": [
       "<div>\n",
       "<style scoped>\n",
       "    .dataframe tbody tr th:only-of-type {\n",
       "        vertical-align: middle;\n",
       "    }\n",
       "\n",
       "    .dataframe tbody tr th {\n",
       "        vertical-align: top;\n",
       "    }\n",
       "\n",
       "    .dataframe thead th {\n",
       "        text-align: right;\n",
       "    }\n",
       "</style>\n",
       "<table border=\"1\" class=\"dataframe\">\n",
       "  <thead>\n",
       "    <tr style=\"text-align: right;\">\n",
       "      <th></th>\n",
       "      <th>dt</th>\n",
       "      <th>AverageTemperature</th>\n",
       "      <th>AverageTemperatureUncertainty</th>\n",
       "      <th>City</th>\n",
       "      <th>Country</th>\n",
       "      <th>Latitude</th>\n",
       "      <th>Longitude</th>\n",
       "      <th>Month</th>\n",
       "    </tr>\n",
       "  </thead>\n",
       "  <tbody>\n",
       "    <tr>\n",
       "      <th>630113</th>\n",
       "      <td>1796-01-01</td>\n",
       "      <td>22.672</td>\n",
       "      <td>2.317</td>\n",
       "      <td>Bangalore</td>\n",
       "      <td>India</td>\n",
       "      <td>12.05</td>\n",
       "      <td>77.26</td>\n",
       "      <td>1</td>\n",
       "    </tr>\n",
       "    <tr>\n",
       "      <th>630114</th>\n",
       "      <td>1796-02-01</td>\n",
       "      <td>24.420</td>\n",
       "      <td>1.419</td>\n",
       "      <td>Bangalore</td>\n",
       "      <td>India</td>\n",
       "      <td>12.05</td>\n",
       "      <td>77.26</td>\n",
       "      <td>2</td>\n",
       "    </tr>\n",
       "    <tr>\n",
       "      <th>630115</th>\n",
       "      <td>1796-03-01</td>\n",
       "      <td>26.092</td>\n",
       "      <td>2.459</td>\n",
       "      <td>Bangalore</td>\n",
       "      <td>India</td>\n",
       "      <td>12.05</td>\n",
       "      <td>77.26</td>\n",
       "      <td>3</td>\n",
       "    </tr>\n",
       "    <tr>\n",
       "      <th>630116</th>\n",
       "      <td>1796-04-01</td>\n",
       "      <td>27.687</td>\n",
       "      <td>1.746</td>\n",
       "      <td>Bangalore</td>\n",
       "      <td>India</td>\n",
       "      <td>12.05</td>\n",
       "      <td>77.26</td>\n",
       "      <td>4</td>\n",
       "    </tr>\n",
       "    <tr>\n",
       "      <th>630117</th>\n",
       "      <td>1796-05-01</td>\n",
       "      <td>27.619</td>\n",
       "      <td>1.277</td>\n",
       "      <td>Bangalore</td>\n",
       "      <td>India</td>\n",
       "      <td>12.05</td>\n",
       "      <td>77.26</td>\n",
       "      <td>5</td>\n",
       "    </tr>\n",
       "  </tbody>\n",
       "</table>\n",
       "</div>"
      ],
      "text/plain": [
       "               dt  AverageTemperature  AverageTemperatureUncertainty  \\\n",
       "630113 1796-01-01              22.672                          2.317   \n",
       "630114 1796-02-01              24.420                          1.419   \n",
       "630115 1796-03-01              26.092                          2.459   \n",
       "630116 1796-04-01              27.687                          1.746   \n",
       "630117 1796-05-01              27.619                          1.277   \n",
       "\n",
       "             City Country Latitude Longitude  Month  \n",
       "630113  Bangalore   India    12.05     77.26      1  \n",
       "630114  Bangalore   India    12.05     77.26      2  \n",
       "630115  Bangalore   India    12.05     77.26      3  \n",
       "630116  Bangalore   India    12.05     77.26      4  \n",
       "630117  Bangalore   India    12.05     77.26      5  "
      ]
     },
     "execution_count": 78,
     "metadata": {},
     "output_type": "execute_result"
    }
   ],
   "source": [
    "cities.head()"
   ]
  },
  {
   "cell_type": "code",
   "execution_count": 79,
   "id": "prepared-watch",
   "metadata": {},
   "outputs": [],
   "source": [
    "citiestemp=cities.groupby(['Month', 'City'])['AverageTemperature'].mean().to_frame().reset_index()"
   ]
  },
  {
   "cell_type": "code",
   "execution_count": 80,
   "id": "handmade-cooperation",
   "metadata": {},
   "outputs": [
    {
     "data": {
      "text/html": [
       "<div>\n",
       "<style scoped>\n",
       "    .dataframe tbody tr th:only-of-type {\n",
       "        vertical-align: middle;\n",
       "    }\n",
       "\n",
       "    .dataframe tbody tr th {\n",
       "        vertical-align: top;\n",
       "    }\n",
       "\n",
       "    .dataframe thead th {\n",
       "        text-align: right;\n",
       "    }\n",
       "</style>\n",
       "<table border=\"1\" class=\"dataframe\">\n",
       "  <thead>\n",
       "    <tr style=\"text-align: right;\">\n",
       "      <th></th>\n",
       "      <th>Month</th>\n",
       "      <th>City</th>\n",
       "      <th>AverageTemperature</th>\n",
       "    </tr>\n",
       "  </thead>\n",
       "  <tbody>\n",
       "    <tr>\n",
       "      <th>0</th>\n",
       "      <td>1</td>\n",
       "      <td>Bangalore</td>\n",
       "      <td>22.713981</td>\n",
       "    </tr>\n",
       "    <tr>\n",
       "      <th>1</th>\n",
       "      <td>1</td>\n",
       "      <td>Bombay</td>\n",
       "      <td>24.192095</td>\n",
       "    </tr>\n",
       "    <tr>\n",
       "      <th>2</th>\n",
       "      <td>1</td>\n",
       "      <td>Hyderabad</td>\n",
       "      <td>22.758290</td>\n",
       "    </tr>\n",
       "    <tr>\n",
       "      <th>3</th>\n",
       "      <td>1</td>\n",
       "      <td>Madras</td>\n",
       "      <td>24.346733</td>\n",
       "    </tr>\n",
       "    <tr>\n",
       "      <th>4</th>\n",
       "      <td>1</td>\n",
       "      <td>New Delhi</td>\n",
       "      <td>14.238560</td>\n",
       "    </tr>\n",
       "  </tbody>\n",
       "</table>\n",
       "</div>"
      ],
      "text/plain": [
       "   Month       City  AverageTemperature\n",
       "0      1  Bangalore           22.713981\n",
       "1      1     Bombay           24.192095\n",
       "2      1  Hyderabad           22.758290\n",
       "3      1     Madras           24.346733\n",
       "4      1  New Delhi           14.238560"
      ]
     },
     "execution_count": 80,
     "metadata": {},
     "output_type": "execute_result"
    }
   ],
   "source": [
    "citiestemp.head()"
   ]
  },
  {
   "cell_type": "code",
   "execution_count": 81,
   "id": "banner-participation",
   "metadata": {},
   "outputs": [
    {
     "data": {
      "text/html": [
       "<div>\n",
       "<style scoped>\n",
       "    .dataframe tbody tr th:only-of-type {\n",
       "        vertical-align: middle;\n",
       "    }\n",
       "\n",
       "    .dataframe tbody tr th {\n",
       "        vertical-align: top;\n",
       "    }\n",
       "\n",
       "    .dataframe thead th {\n",
       "        text-align: right;\n",
       "    }\n",
       "</style>\n",
       "<table border=\"1\" class=\"dataframe\">\n",
       "  <thead>\n",
       "    <tr style=\"text-align: right;\">\n",
       "      <th></th>\n",
       "      <th>Month</th>\n",
       "      <th>City</th>\n",
       "      <th>Mean_temp</th>\n",
       "    </tr>\n",
       "  </thead>\n",
       "  <tbody>\n",
       "    <tr>\n",
       "      <th>0</th>\n",
       "      <td>1</td>\n",
       "      <td>Bangalore</td>\n",
       "      <td>22.713981</td>\n",
       "    </tr>\n",
       "    <tr>\n",
       "      <th>1</th>\n",
       "      <td>1</td>\n",
       "      <td>Bombay</td>\n",
       "      <td>24.192095</td>\n",
       "    </tr>\n",
       "    <tr>\n",
       "      <th>2</th>\n",
       "      <td>1</td>\n",
       "      <td>Hyderabad</td>\n",
       "      <td>22.758290</td>\n",
       "    </tr>\n",
       "    <tr>\n",
       "      <th>3</th>\n",
       "      <td>1</td>\n",
       "      <td>Madras</td>\n",
       "      <td>24.346733</td>\n",
       "    </tr>\n",
       "    <tr>\n",
       "      <th>4</th>\n",
       "      <td>1</td>\n",
       "      <td>New Delhi</td>\n",
       "      <td>14.238560</td>\n",
       "    </tr>\n",
       "  </tbody>\n",
       "</table>\n",
       "</div>"
      ],
      "text/plain": [
       "   Month       City  Mean_temp\n",
       "0      1  Bangalore  22.713981\n",
       "1      1     Bombay  24.192095\n",
       "2      1  Hyderabad  22.758290\n",
       "3      1     Madras  24.346733\n",
       "4      1  New Delhi  14.238560"
      ]
     },
     "execution_count": 81,
     "metadata": {},
     "output_type": "execute_result"
    }
   ],
   "source": [
    "citiestemp.columns=['Month', 'City', 'Mean_temp']\n",
    "citiestemp.head()"
   ]
  },
  {
   "cell_type": "code",
   "execution_count": 82,
   "id": "intellectual-square",
   "metadata": {},
   "outputs": [
    {
     "data": {
      "text/html": [
       "<div>\n",
       "<style scoped>\n",
       "    .dataframe tbody tr th:only-of-type {\n",
       "        vertical-align: middle;\n",
       "    }\n",
       "\n",
       "    .dataframe tbody tr th {\n",
       "        vertical-align: top;\n",
       "    }\n",
       "\n",
       "    .dataframe thead th {\n",
       "        text-align: right;\n",
       "    }\n",
       "</style>\n",
       "<table border=\"1\" class=\"dataframe\">\n",
       "  <thead>\n",
       "    <tr style=\"text-align: right;\">\n",
       "      <th></th>\n",
       "      <th>Month_x</th>\n",
       "      <th>City</th>\n",
       "      <th>Mean_temp</th>\n",
       "      <th>dt</th>\n",
       "      <th>AverageTemperature</th>\n",
       "      <th>AverageTemperatureUncertainty</th>\n",
       "      <th>Country</th>\n",
       "      <th>Latitude</th>\n",
       "      <th>Longitude</th>\n",
       "      <th>Month_y</th>\n",
       "    </tr>\n",
       "  </thead>\n",
       "  <tbody>\n",
       "    <tr>\n",
       "      <th>0</th>\n",
       "      <td>1</td>\n",
       "      <td>Bangalore</td>\n",
       "      <td>22.713981</td>\n",
       "      <td>1796-01-01</td>\n",
       "      <td>22.672</td>\n",
       "      <td>2.317</td>\n",
       "      <td>India</td>\n",
       "      <td>12.05</td>\n",
       "      <td>77.26</td>\n",
       "      <td>1</td>\n",
       "    </tr>\n",
       "    <tr>\n",
       "      <th>1</th>\n",
       "      <td>1</td>\n",
       "      <td>Bangalore</td>\n",
       "      <td>22.713981</td>\n",
       "      <td>1796-02-01</td>\n",
       "      <td>24.420</td>\n",
       "      <td>1.419</td>\n",
       "      <td>India</td>\n",
       "      <td>12.05</td>\n",
       "      <td>77.26</td>\n",
       "      <td>2</td>\n",
       "    </tr>\n",
       "    <tr>\n",
       "      <th>2</th>\n",
       "      <td>1</td>\n",
       "      <td>Bangalore</td>\n",
       "      <td>22.713981</td>\n",
       "      <td>1796-03-01</td>\n",
       "      <td>26.092</td>\n",
       "      <td>2.459</td>\n",
       "      <td>India</td>\n",
       "      <td>12.05</td>\n",
       "      <td>77.26</td>\n",
       "      <td>3</td>\n",
       "    </tr>\n",
       "    <tr>\n",
       "      <th>3</th>\n",
       "      <td>1</td>\n",
       "      <td>Bangalore</td>\n",
       "      <td>22.713981</td>\n",
       "      <td>1796-04-01</td>\n",
       "      <td>27.687</td>\n",
       "      <td>1.746</td>\n",
       "      <td>India</td>\n",
       "      <td>12.05</td>\n",
       "      <td>77.26</td>\n",
       "      <td>4</td>\n",
       "    </tr>\n",
       "    <tr>\n",
       "      <th>4</th>\n",
       "      <td>1</td>\n",
       "      <td>Bangalore</td>\n",
       "      <td>22.713981</td>\n",
       "      <td>1796-05-01</td>\n",
       "      <td>27.619</td>\n",
       "      <td>1.277</td>\n",
       "      <td>India</td>\n",
       "      <td>12.05</td>\n",
       "      <td>77.26</td>\n",
       "      <td>5</td>\n",
       "    </tr>\n",
       "  </tbody>\n",
       "</table>\n",
       "</div>"
      ],
      "text/plain": [
       "   Month_x       City  Mean_temp         dt  AverageTemperature  \\\n",
       "0        1  Bangalore  22.713981 1796-01-01              22.672   \n",
       "1        1  Bangalore  22.713981 1796-02-01              24.420   \n",
       "2        1  Bangalore  22.713981 1796-03-01              26.092   \n",
       "3        1  Bangalore  22.713981 1796-04-01              27.687   \n",
       "4        1  Bangalore  22.713981 1796-05-01              27.619   \n",
       "\n",
       "   AverageTemperatureUncertainty Country Latitude Longitude  Month_y  \n",
       "0                          2.317   India    12.05     77.26        1  \n",
       "1                          1.419   India    12.05     77.26        2  \n",
       "2                          2.459   India    12.05     77.26        3  \n",
       "3                          1.746   India    12.05     77.26        4  \n",
       "4                          1.277   India    12.05     77.26        5  "
      ]
     },
     "execution_count": 82,
     "metadata": {},
     "output_type": "execute_result"
    }
   ],
   "source": [
    "df=citiestemp.merge(cities, on='City')\n",
    "df.head()"
   ]
  },
  {
   "cell_type": "code",
   "execution_count": 83,
   "id": "descending-memory",
   "metadata": {},
   "outputs": [],
   "source": [
    "data=df.drop_duplicates(subset=['Month_x', 'City'])"
   ]
  },
  {
   "cell_type": "code",
   "execution_count": 84,
   "id": "minimal-bolivia",
   "metadata": {},
   "outputs": [
    {
     "data": {
      "text/html": [
       "<div>\n",
       "<style scoped>\n",
       "    .dataframe tbody tr th:only-of-type {\n",
       "        vertical-align: middle;\n",
       "    }\n",
       "\n",
       "    .dataframe tbody tr th {\n",
       "        vertical-align: top;\n",
       "    }\n",
       "\n",
       "    .dataframe thead th {\n",
       "        text-align: right;\n",
       "    }\n",
       "</style>\n",
       "<table border=\"1\" class=\"dataframe\">\n",
       "  <thead>\n",
       "    <tr style=\"text-align: right;\">\n",
       "      <th></th>\n",
       "      <th>Month_x</th>\n",
       "      <th>City</th>\n",
       "      <th>Mean_temp</th>\n",
       "      <th>dt</th>\n",
       "      <th>AverageTemperature</th>\n",
       "      <th>AverageTemperatureUncertainty</th>\n",
       "      <th>Country</th>\n",
       "      <th>Latitude</th>\n",
       "      <th>Longitude</th>\n",
       "      <th>Month_y</th>\n",
       "    </tr>\n",
       "  </thead>\n",
       "  <tbody>\n",
       "    <tr>\n",
       "      <th>0</th>\n",
       "      <td>1</td>\n",
       "      <td>Bangalore</td>\n",
       "      <td>22.713981</td>\n",
       "      <td>1796-01-01</td>\n",
       "      <td>22.672</td>\n",
       "      <td>2.317</td>\n",
       "      <td>India</td>\n",
       "      <td>12.05</td>\n",
       "      <td>77.26</td>\n",
       "      <td>1</td>\n",
       "    </tr>\n",
       "    <tr>\n",
       "      <th>2613</th>\n",
       "      <td>2</td>\n",
       "      <td>Bangalore</td>\n",
       "      <td>24.656619</td>\n",
       "      <td>1796-01-01</td>\n",
       "      <td>22.672</td>\n",
       "      <td>2.317</td>\n",
       "      <td>India</td>\n",
       "      <td>12.05</td>\n",
       "      <td>77.26</td>\n",
       "      <td>1</td>\n",
       "    </tr>\n",
       "    <tr>\n",
       "      <th>5226</th>\n",
       "      <td>3</td>\n",
       "      <td>Bangalore</td>\n",
       "      <td>27.062186</td>\n",
       "      <td>1796-01-01</td>\n",
       "      <td>22.672</td>\n",
       "      <td>2.317</td>\n",
       "      <td>India</td>\n",
       "      <td>12.05</td>\n",
       "      <td>77.26</td>\n",
       "      <td>1</td>\n",
       "    </tr>\n",
       "    <tr>\n",
       "      <th>7839</th>\n",
       "      <td>4</td>\n",
       "      <td>Bangalore</td>\n",
       "      <td>27.988517</td>\n",
       "      <td>1796-01-01</td>\n",
       "      <td>22.672</td>\n",
       "      <td>2.317</td>\n",
       "      <td>India</td>\n",
       "      <td>12.05</td>\n",
       "      <td>77.26</td>\n",
       "      <td>1</td>\n",
       "    </tr>\n",
       "    <tr>\n",
       "      <th>10452</th>\n",
       "      <td>5</td>\n",
       "      <td>Bangalore</td>\n",
       "      <td>27.522754</td>\n",
       "      <td>1796-01-01</td>\n",
       "      <td>22.672</td>\n",
       "      <td>2.317</td>\n",
       "      <td>India</td>\n",
       "      <td>12.05</td>\n",
       "      <td>77.26</td>\n",
       "      <td>1</td>\n",
       "    </tr>\n",
       "  </tbody>\n",
       "</table>\n",
       "</div>"
      ],
      "text/plain": [
       "       Month_x       City  Mean_temp         dt  AverageTemperature  \\\n",
       "0            1  Bangalore  22.713981 1796-01-01              22.672   \n",
       "2613         2  Bangalore  24.656619 1796-01-01              22.672   \n",
       "5226         3  Bangalore  27.062186 1796-01-01              22.672   \n",
       "7839         4  Bangalore  27.988517 1796-01-01              22.672   \n",
       "10452        5  Bangalore  27.522754 1796-01-01              22.672   \n",
       "\n",
       "       AverageTemperatureUncertainty Country Latitude Longitude  Month_y  \n",
       "0                              2.317   India    12.05     77.26        1  \n",
       "2613                           2.317   India    12.05     77.26        1  \n",
       "5226                           2.317   India    12.05     77.26        1  \n",
       "7839                           2.317   India    12.05     77.26        1  \n",
       "10452                          2.317   India    12.05     77.26        1  "
      ]
     },
     "execution_count": 84,
     "metadata": {},
     "output_type": "execute_result"
    }
   ],
   "source": [
    "data.head()"
   ]
  },
  {
   "cell_type": "code",
   "execution_count": 85,
   "id": "spiritual-birthday",
   "metadata": {},
   "outputs": [],
   "source": [
    "data2=data[['Month_x', 'City', 'Mean_temp', 'Latitude', 'Longitude']]"
   ]
  },
  {
   "cell_type": "code",
   "execution_count": 86,
   "id": "meaningful-sterling",
   "metadata": {},
   "outputs": [
    {
     "data": {
      "text/html": [
       "<div>\n",
       "<style scoped>\n",
       "    .dataframe tbody tr th:only-of-type {\n",
       "        vertical-align: middle;\n",
       "    }\n",
       "\n",
       "    .dataframe tbody tr th {\n",
       "        vertical-align: top;\n",
       "    }\n",
       "\n",
       "    .dataframe thead th {\n",
       "        text-align: right;\n",
       "    }\n",
       "</style>\n",
       "<table border=\"1\" class=\"dataframe\">\n",
       "  <thead>\n",
       "    <tr style=\"text-align: right;\">\n",
       "      <th></th>\n",
       "      <th>Month_x</th>\n",
       "      <th>City</th>\n",
       "      <th>Mean_temp</th>\n",
       "      <th>Latitude</th>\n",
       "      <th>Longitude</th>\n",
       "    </tr>\n",
       "  </thead>\n",
       "  <tbody>\n",
       "    <tr>\n",
       "      <th>0</th>\n",
       "      <td>1</td>\n",
       "      <td>Bangalore</td>\n",
       "      <td>22.713981</td>\n",
       "      <td>12.05</td>\n",
       "      <td>77.26</td>\n",
       "    </tr>\n",
       "    <tr>\n",
       "      <th>2613</th>\n",
       "      <td>2</td>\n",
       "      <td>Bangalore</td>\n",
       "      <td>24.656619</td>\n",
       "      <td>12.05</td>\n",
       "      <td>77.26</td>\n",
       "    </tr>\n",
       "    <tr>\n",
       "      <th>5226</th>\n",
       "      <td>3</td>\n",
       "      <td>Bangalore</td>\n",
       "      <td>27.062186</td>\n",
       "      <td>12.05</td>\n",
       "      <td>77.26</td>\n",
       "    </tr>\n",
       "    <tr>\n",
       "      <th>7839</th>\n",
       "      <td>4</td>\n",
       "      <td>Bangalore</td>\n",
       "      <td>27.988517</td>\n",
       "      <td>12.05</td>\n",
       "      <td>77.26</td>\n",
       "    </tr>\n",
       "    <tr>\n",
       "      <th>10452</th>\n",
       "      <td>5</td>\n",
       "      <td>Bangalore</td>\n",
       "      <td>27.522754</td>\n",
       "      <td>12.05</td>\n",
       "      <td>77.26</td>\n",
       "    </tr>\n",
       "  </tbody>\n",
       "</table>\n",
       "</div>"
      ],
      "text/plain": [
       "       Month_x       City  Mean_temp Latitude Longitude\n",
       "0            1  Bangalore  22.713981    12.05     77.26\n",
       "2613         2  Bangalore  24.656619    12.05     77.26\n",
       "5226         3  Bangalore  27.062186    12.05     77.26\n",
       "7839         4  Bangalore  27.988517    12.05     77.26\n",
       "10452        5  Bangalore  27.522754    12.05     77.26"
      ]
     },
     "execution_count": 86,
     "metadata": {},
     "output_type": "execute_result"
    }
   ],
   "source": [
    "data2.head()"
   ]
  },
  {
   "cell_type": "code",
   "execution_count": 87,
   "id": "ceramic-taiwan",
   "metadata": {},
   "outputs": [],
   "source": [
    "data=[go.Heatmap(x=data2['Month_x'],\n",
    "          y=data2['City'],\n",
    "          z=data2['Mean_temp'])]"
   ]
  },
  {
   "cell_type": "code",
   "execution_count": 88,
   "id": "smoking-recipient",
   "metadata": {},
   "outputs": [],
   "source": [
    "layout=go.Layout(title='Average Temperature of Major Cities by Month')"
   ]
  },
  {
   "cell_type": "code",
   "execution_count": 90,
   "id": "ambient-productivity",
   "metadata": {},
   "outputs": [
    {
     "data": {
      "application/vnd.plotly.v1+json": {
       "config": {
        "plotlyServerURL": "https://plot.ly"
       },
       "data": [
        {
         "type": "heatmap",
         "x": [
          1,
          2,
          3,
          4,
          5,
          6,
          7,
          8,
          9,
          10,
          11,
          12,
          1,
          2,
          3,
          4,
          5,
          6,
          7,
          8,
          9,
          10,
          11,
          12,
          1,
          2,
          3,
          4,
          5,
          6,
          7,
          8,
          9,
          10,
          11,
          12,
          1,
          2,
          3,
          4,
          5,
          6,
          7,
          8,
          9,
          10,
          11,
          12,
          1,
          2,
          3,
          4,
          5,
          6,
          7,
          8,
          9,
          10,
          11,
          12,
          1,
          2,
          3,
          4,
          5,
          6,
          7,
          8,
          9,
          10,
          11,
          12,
          1,
          2,
          3,
          4,
          5,
          6,
          7,
          8,
          9,
          10,
          11,
          12
         ],
         "y": [
          "Bangalore",
          "Bangalore",
          "Bangalore",
          "Bangalore",
          "Bangalore",
          "Bangalore",
          "Bangalore",
          "Bangalore",
          "Bangalore",
          "Bangalore",
          "Bangalore",
          "Bangalore",
          "Bombay",
          "Bombay",
          "Bombay",
          "Bombay",
          "Bombay",
          "Bombay",
          "Bombay",
          "Bombay",
          "Bombay",
          "Bombay",
          "Bombay",
          "Bombay",
          "Hyderabad",
          "Hyderabad",
          "Hyderabad",
          "Hyderabad",
          "Hyderabad",
          "Hyderabad",
          "Hyderabad",
          "Hyderabad",
          "Hyderabad",
          "Hyderabad",
          "Hyderabad",
          "Hyderabad",
          "Madras",
          "Madras",
          "Madras",
          "Madras",
          "Madras",
          "Madras",
          "Madras",
          "Madras",
          "Madras",
          "Madras",
          "Madras",
          "Madras",
          "New Delhi",
          "New Delhi",
          "New Delhi",
          "New Delhi",
          "New Delhi",
          "New Delhi",
          "New Delhi",
          "New Delhi",
          "New Delhi",
          "New Delhi",
          "New Delhi",
          "New Delhi",
          "Pune",
          "Pune",
          "Pune",
          "Pune",
          "Pune",
          "Pune",
          "Pune",
          "Pune",
          "Pune",
          "Pune",
          "Pune",
          "Pune",
          "Varanasi",
          "Varanasi",
          "Varanasi",
          "Varanasi",
          "Varanasi",
          "Varanasi",
          "Varanasi",
          "Varanasi",
          "Varanasi",
          "Varanasi",
          "Varanasi",
          "Varanasi"
         ],
         "z": [
          22.71398095238095,
          24.656619047619056,
          27.062185714285704,
          27.98851690821257,
          27.522753623188382,
          25.468799043062205,
          24.40048095238094,
          24.36290952380952,
          24.495114832535872,
          24.09178468899521,
          23.265157894736852,
          22.29085576923078,
          24.19209523809525,
          24.039885714285724,
          25.673476190476183,
          27.413801932367146,
          28.902565217391288,
          28.271755980861236,
          27.078728571428556,
          26.61944761904763,
          26.861770334928227,
          27.69363157894736,
          27.306114832535897,
          25.574889423076918,
          22.75829047619048,
          25.31707619047618,
          28.803542857142848,
          31.4655652173913,
          32.70200483091788,
          29.96846889952153,
          27.21658571428572,
          26.57353333333333,
          26.640239234449766,
          25.679622009569396,
          23.50813397129185,
          21.89253846153845,
          24.346733333333344,
          25.831404761904775,
          28.11444761904761,
          30.441304347826076,
          32.58195169082126,
          32.14238277511963,
          30.658619047619034,
          29.977352380952375,
          29.39702870813397,
          27.74167942583734,
          25.666679425837323,
          24.168721153846146,
          14.238560000000001,
          17.144979999999997,
          23.0148040201005,
          29.004575757575758,
          33.29705102040816,
          33.866005,
          31.174114427860694,
          29.75242288557213,
          28.994464999999995,
          25.866375,
          20.34651000000001,
          15.378814070351766,
          20.448204761904766,
          22.607923809523797,
          26.287685714285704,
          29.004400966183567,
          29.83820289855073,
          27.22002870813398,
          24.724738095238102,
          24.197833333333328,
          24.56574162679425,
          24.367425837320575,
          22.31366985645932,
          20.253653846153856,
          15.596650717703348,
          18.716421052631578,
          24.651115384615387,
          30.190038647342995,
          33.31351941747572,
          32.57074162679425,
          29.612919047619055,
          28.58816190476191,
          28.238004784689,
          25.771933014354058,
          20.843502392344508,
          16.246504807692308
         ]
        }
       ],
       "layout": {
        "template": {
         "data": {
          "bar": [
           {
            "error_x": {
             "color": "#2a3f5f"
            },
            "error_y": {
             "color": "#2a3f5f"
            },
            "marker": {
             "line": {
              "color": "#E5ECF6",
              "width": 0.5
             }
            },
            "type": "bar"
           }
          ],
          "barpolar": [
           {
            "marker": {
             "line": {
              "color": "#E5ECF6",
              "width": 0.5
             }
            },
            "type": "barpolar"
           }
          ],
          "carpet": [
           {
            "aaxis": {
             "endlinecolor": "#2a3f5f",
             "gridcolor": "white",
             "linecolor": "white",
             "minorgridcolor": "white",
             "startlinecolor": "#2a3f5f"
            },
            "baxis": {
             "endlinecolor": "#2a3f5f",
             "gridcolor": "white",
             "linecolor": "white",
             "minorgridcolor": "white",
             "startlinecolor": "#2a3f5f"
            },
            "type": "carpet"
           }
          ],
          "choropleth": [
           {
            "colorbar": {
             "outlinewidth": 0,
             "ticks": ""
            },
            "type": "choropleth"
           }
          ],
          "contour": [
           {
            "colorbar": {
             "outlinewidth": 0,
             "ticks": ""
            },
            "colorscale": [
             [
              0,
              "#0d0887"
             ],
             [
              0.1111111111111111,
              "#46039f"
             ],
             [
              0.2222222222222222,
              "#7201a8"
             ],
             [
              0.3333333333333333,
              "#9c179e"
             ],
             [
              0.4444444444444444,
              "#bd3786"
             ],
             [
              0.5555555555555556,
              "#d8576b"
             ],
             [
              0.6666666666666666,
              "#ed7953"
             ],
             [
              0.7777777777777778,
              "#fb9f3a"
             ],
             [
              0.8888888888888888,
              "#fdca26"
             ],
             [
              1,
              "#f0f921"
             ]
            ],
            "type": "contour"
           }
          ],
          "contourcarpet": [
           {
            "colorbar": {
             "outlinewidth": 0,
             "ticks": ""
            },
            "type": "contourcarpet"
           }
          ],
          "heatmap": [
           {
            "colorbar": {
             "outlinewidth": 0,
             "ticks": ""
            },
            "colorscale": [
             [
              0,
              "#0d0887"
             ],
             [
              0.1111111111111111,
              "#46039f"
             ],
             [
              0.2222222222222222,
              "#7201a8"
             ],
             [
              0.3333333333333333,
              "#9c179e"
             ],
             [
              0.4444444444444444,
              "#bd3786"
             ],
             [
              0.5555555555555556,
              "#d8576b"
             ],
             [
              0.6666666666666666,
              "#ed7953"
             ],
             [
              0.7777777777777778,
              "#fb9f3a"
             ],
             [
              0.8888888888888888,
              "#fdca26"
             ],
             [
              1,
              "#f0f921"
             ]
            ],
            "type": "heatmap"
           }
          ],
          "heatmapgl": [
           {
            "colorbar": {
             "outlinewidth": 0,
             "ticks": ""
            },
            "colorscale": [
             [
              0,
              "#0d0887"
             ],
             [
              0.1111111111111111,
              "#46039f"
             ],
             [
              0.2222222222222222,
              "#7201a8"
             ],
             [
              0.3333333333333333,
              "#9c179e"
             ],
             [
              0.4444444444444444,
              "#bd3786"
             ],
             [
              0.5555555555555556,
              "#d8576b"
             ],
             [
              0.6666666666666666,
              "#ed7953"
             ],
             [
              0.7777777777777778,
              "#fb9f3a"
             ],
             [
              0.8888888888888888,
              "#fdca26"
             ],
             [
              1,
              "#f0f921"
             ]
            ],
            "type": "heatmapgl"
           }
          ],
          "histogram": [
           {
            "marker": {
             "colorbar": {
              "outlinewidth": 0,
              "ticks": ""
             }
            },
            "type": "histogram"
           }
          ],
          "histogram2d": [
           {
            "colorbar": {
             "outlinewidth": 0,
             "ticks": ""
            },
            "colorscale": [
             [
              0,
              "#0d0887"
             ],
             [
              0.1111111111111111,
              "#46039f"
             ],
             [
              0.2222222222222222,
              "#7201a8"
             ],
             [
              0.3333333333333333,
              "#9c179e"
             ],
             [
              0.4444444444444444,
              "#bd3786"
             ],
             [
              0.5555555555555556,
              "#d8576b"
             ],
             [
              0.6666666666666666,
              "#ed7953"
             ],
             [
              0.7777777777777778,
              "#fb9f3a"
             ],
             [
              0.8888888888888888,
              "#fdca26"
             ],
             [
              1,
              "#f0f921"
             ]
            ],
            "type": "histogram2d"
           }
          ],
          "histogram2dcontour": [
           {
            "colorbar": {
             "outlinewidth": 0,
             "ticks": ""
            },
            "colorscale": [
             [
              0,
              "#0d0887"
             ],
             [
              0.1111111111111111,
              "#46039f"
             ],
             [
              0.2222222222222222,
              "#7201a8"
             ],
             [
              0.3333333333333333,
              "#9c179e"
             ],
             [
              0.4444444444444444,
              "#bd3786"
             ],
             [
              0.5555555555555556,
              "#d8576b"
             ],
             [
              0.6666666666666666,
              "#ed7953"
             ],
             [
              0.7777777777777778,
              "#fb9f3a"
             ],
             [
              0.8888888888888888,
              "#fdca26"
             ],
             [
              1,
              "#f0f921"
             ]
            ],
            "type": "histogram2dcontour"
           }
          ],
          "mesh3d": [
           {
            "colorbar": {
             "outlinewidth": 0,
             "ticks": ""
            },
            "type": "mesh3d"
           }
          ],
          "parcoords": [
           {
            "line": {
             "colorbar": {
              "outlinewidth": 0,
              "ticks": ""
             }
            },
            "type": "parcoords"
           }
          ],
          "pie": [
           {
            "automargin": true,
            "type": "pie"
           }
          ],
          "scatter": [
           {
            "marker": {
             "colorbar": {
              "outlinewidth": 0,
              "ticks": ""
             }
            },
            "type": "scatter"
           }
          ],
          "scatter3d": [
           {
            "line": {
             "colorbar": {
              "outlinewidth": 0,
              "ticks": ""
             }
            },
            "marker": {
             "colorbar": {
              "outlinewidth": 0,
              "ticks": ""
             }
            },
            "type": "scatter3d"
           }
          ],
          "scattercarpet": [
           {
            "marker": {
             "colorbar": {
              "outlinewidth": 0,
              "ticks": ""
             }
            },
            "type": "scattercarpet"
           }
          ],
          "scattergeo": [
           {
            "marker": {
             "colorbar": {
              "outlinewidth": 0,
              "ticks": ""
             }
            },
            "type": "scattergeo"
           }
          ],
          "scattergl": [
           {
            "marker": {
             "colorbar": {
              "outlinewidth": 0,
              "ticks": ""
             }
            },
            "type": "scattergl"
           }
          ],
          "scattermapbox": [
           {
            "marker": {
             "colorbar": {
              "outlinewidth": 0,
              "ticks": ""
             }
            },
            "type": "scattermapbox"
           }
          ],
          "scatterpolar": [
           {
            "marker": {
             "colorbar": {
              "outlinewidth": 0,
              "ticks": ""
             }
            },
            "type": "scatterpolar"
           }
          ],
          "scatterpolargl": [
           {
            "marker": {
             "colorbar": {
              "outlinewidth": 0,
              "ticks": ""
             }
            },
            "type": "scatterpolargl"
           }
          ],
          "scatterternary": [
           {
            "marker": {
             "colorbar": {
              "outlinewidth": 0,
              "ticks": ""
             }
            },
            "type": "scatterternary"
           }
          ],
          "surface": [
           {
            "colorbar": {
             "outlinewidth": 0,
             "ticks": ""
            },
            "colorscale": [
             [
              0,
              "#0d0887"
             ],
             [
              0.1111111111111111,
              "#46039f"
             ],
             [
              0.2222222222222222,
              "#7201a8"
             ],
             [
              0.3333333333333333,
              "#9c179e"
             ],
             [
              0.4444444444444444,
              "#bd3786"
             ],
             [
              0.5555555555555556,
              "#d8576b"
             ],
             [
              0.6666666666666666,
              "#ed7953"
             ],
             [
              0.7777777777777778,
              "#fb9f3a"
             ],
             [
              0.8888888888888888,
              "#fdca26"
             ],
             [
              1,
              "#f0f921"
             ]
            ],
            "type": "surface"
           }
          ],
          "table": [
           {
            "cells": {
             "fill": {
              "color": "#EBF0F8"
             },
             "line": {
              "color": "white"
             }
            },
            "header": {
             "fill": {
              "color": "#C8D4E3"
             },
             "line": {
              "color": "white"
             }
            },
            "type": "table"
           }
          ]
         },
         "layout": {
          "annotationdefaults": {
           "arrowcolor": "#2a3f5f",
           "arrowhead": 0,
           "arrowwidth": 1
          },
          "autotypenumbers": "strict",
          "coloraxis": {
           "colorbar": {
            "outlinewidth": 0,
            "ticks": ""
           }
          },
          "colorscale": {
           "diverging": [
            [
             0,
             "#8e0152"
            ],
            [
             0.1,
             "#c51b7d"
            ],
            [
             0.2,
             "#de77ae"
            ],
            [
             0.3,
             "#f1b6da"
            ],
            [
             0.4,
             "#fde0ef"
            ],
            [
             0.5,
             "#f7f7f7"
            ],
            [
             0.6,
             "#e6f5d0"
            ],
            [
             0.7,
             "#b8e186"
            ],
            [
             0.8,
             "#7fbc41"
            ],
            [
             0.9,
             "#4d9221"
            ],
            [
             1,
             "#276419"
            ]
           ],
           "sequential": [
            [
             0,
             "#0d0887"
            ],
            [
             0.1111111111111111,
             "#46039f"
            ],
            [
             0.2222222222222222,
             "#7201a8"
            ],
            [
             0.3333333333333333,
             "#9c179e"
            ],
            [
             0.4444444444444444,
             "#bd3786"
            ],
            [
             0.5555555555555556,
             "#d8576b"
            ],
            [
             0.6666666666666666,
             "#ed7953"
            ],
            [
             0.7777777777777778,
             "#fb9f3a"
            ],
            [
             0.8888888888888888,
             "#fdca26"
            ],
            [
             1,
             "#f0f921"
            ]
           ],
           "sequentialminus": [
            [
             0,
             "#0d0887"
            ],
            [
             0.1111111111111111,
             "#46039f"
            ],
            [
             0.2222222222222222,
             "#7201a8"
            ],
            [
             0.3333333333333333,
             "#9c179e"
            ],
            [
             0.4444444444444444,
             "#bd3786"
            ],
            [
             0.5555555555555556,
             "#d8576b"
            ],
            [
             0.6666666666666666,
             "#ed7953"
            ],
            [
             0.7777777777777778,
             "#fb9f3a"
            ],
            [
             0.8888888888888888,
             "#fdca26"
            ],
            [
             1,
             "#f0f921"
            ]
           ]
          },
          "colorway": [
           "#636efa",
           "#EF553B",
           "#00cc96",
           "#ab63fa",
           "#FFA15A",
           "#19d3f3",
           "#FF6692",
           "#B6E880",
           "#FF97FF",
           "#FECB52"
          ],
          "font": {
           "color": "#2a3f5f"
          },
          "geo": {
           "bgcolor": "white",
           "lakecolor": "white",
           "landcolor": "#E5ECF6",
           "showlakes": true,
           "showland": true,
           "subunitcolor": "white"
          },
          "hoverlabel": {
           "align": "left"
          },
          "hovermode": "closest",
          "mapbox": {
           "style": "light"
          },
          "paper_bgcolor": "white",
          "plot_bgcolor": "#E5ECF6",
          "polar": {
           "angularaxis": {
            "gridcolor": "white",
            "linecolor": "white",
            "ticks": ""
           },
           "bgcolor": "#E5ECF6",
           "radialaxis": {
            "gridcolor": "white",
            "linecolor": "white",
            "ticks": ""
           }
          },
          "scene": {
           "xaxis": {
            "backgroundcolor": "#E5ECF6",
            "gridcolor": "white",
            "gridwidth": 2,
            "linecolor": "white",
            "showbackground": true,
            "ticks": "",
            "zerolinecolor": "white"
           },
           "yaxis": {
            "backgroundcolor": "#E5ECF6",
            "gridcolor": "white",
            "gridwidth": 2,
            "linecolor": "white",
            "showbackground": true,
            "ticks": "",
            "zerolinecolor": "white"
           },
           "zaxis": {
            "backgroundcolor": "#E5ECF6",
            "gridcolor": "white",
            "gridwidth": 2,
            "linecolor": "white",
            "showbackground": true,
            "ticks": "",
            "zerolinecolor": "white"
           }
          },
          "shapedefaults": {
           "line": {
            "color": "#2a3f5f"
           }
          },
          "ternary": {
           "aaxis": {
            "gridcolor": "white",
            "linecolor": "white",
            "ticks": ""
           },
           "baxis": {
            "gridcolor": "white",
            "linecolor": "white",
            "ticks": ""
           },
           "bgcolor": "#E5ECF6",
           "caxis": {
            "gridcolor": "white",
            "linecolor": "white",
            "ticks": ""
           }
          },
          "title": {
           "x": 0.05
          },
          "xaxis": {
           "automargin": true,
           "gridcolor": "white",
           "linecolor": "white",
           "ticks": "",
           "title": {
            "standoff": 15
           },
           "zerolinecolor": "white",
           "zerolinewidth": 2
          },
          "yaxis": {
           "automargin": true,
           "gridcolor": "white",
           "linecolor": "white",
           "ticks": "",
           "title": {
            "standoff": 15
           },
           "zerolinecolor": "white",
           "zerolinewidth": 2
          }
         }
        },
        "title": {
         "text": "Average Temperature of Major Cities by Month"
        }
       }
      },
      "text/html": [
       "<div>                            <div id=\"7f8cac6d-d2fa-4aef-b351-382ce34fc9dd\" class=\"plotly-graph-div\" style=\"height:525px; width:100%;\"></div>            <script type=\"text/javascript\">                require([\"plotly\"], function(Plotly) {                    window.PLOTLYENV=window.PLOTLYENV || {};                                    if (document.getElementById(\"7f8cac6d-d2fa-4aef-b351-382ce34fc9dd\")) {                    Plotly.newPlot(                        \"7f8cac6d-d2fa-4aef-b351-382ce34fc9dd\",                        [{\"type\": \"heatmap\", \"x\": [1, 2, 3, 4, 5, 6, 7, 8, 9, 10, 11, 12, 1, 2, 3, 4, 5, 6, 7, 8, 9, 10, 11, 12, 1, 2, 3, 4, 5, 6, 7, 8, 9, 10, 11, 12, 1, 2, 3, 4, 5, 6, 7, 8, 9, 10, 11, 12, 1, 2, 3, 4, 5, 6, 7, 8, 9, 10, 11, 12, 1, 2, 3, 4, 5, 6, 7, 8, 9, 10, 11, 12, 1, 2, 3, 4, 5, 6, 7, 8, 9, 10, 11, 12], \"y\": [\"Bangalore\", \"Bangalore\", \"Bangalore\", \"Bangalore\", \"Bangalore\", \"Bangalore\", \"Bangalore\", \"Bangalore\", \"Bangalore\", \"Bangalore\", \"Bangalore\", \"Bangalore\", \"Bombay\", \"Bombay\", \"Bombay\", \"Bombay\", \"Bombay\", \"Bombay\", \"Bombay\", \"Bombay\", \"Bombay\", \"Bombay\", \"Bombay\", \"Bombay\", \"Hyderabad\", \"Hyderabad\", \"Hyderabad\", \"Hyderabad\", \"Hyderabad\", \"Hyderabad\", \"Hyderabad\", \"Hyderabad\", \"Hyderabad\", \"Hyderabad\", \"Hyderabad\", \"Hyderabad\", \"Madras\", \"Madras\", \"Madras\", \"Madras\", \"Madras\", \"Madras\", \"Madras\", \"Madras\", \"Madras\", \"Madras\", \"Madras\", \"Madras\", \"New Delhi\", \"New Delhi\", \"New Delhi\", \"New Delhi\", \"New Delhi\", \"New Delhi\", \"New Delhi\", \"New Delhi\", \"New Delhi\", \"New Delhi\", \"New Delhi\", \"New Delhi\", \"Pune\", \"Pune\", \"Pune\", \"Pune\", \"Pune\", \"Pune\", \"Pune\", \"Pune\", \"Pune\", \"Pune\", \"Pune\", \"Pune\", \"Varanasi\", \"Varanasi\", \"Varanasi\", \"Varanasi\", \"Varanasi\", \"Varanasi\", \"Varanasi\", \"Varanasi\", \"Varanasi\", \"Varanasi\", \"Varanasi\", \"Varanasi\"], \"z\": [22.71398095238095, 24.656619047619056, 27.062185714285704, 27.98851690821257, 27.522753623188382, 25.468799043062205, 24.40048095238094, 24.36290952380952, 24.495114832535872, 24.09178468899521, 23.265157894736852, 22.29085576923078, 24.19209523809525, 24.039885714285724, 25.673476190476183, 27.413801932367146, 28.902565217391288, 28.271755980861236, 27.078728571428556, 26.61944761904763, 26.861770334928227, 27.69363157894736, 27.306114832535897, 25.574889423076918, 22.75829047619048, 25.31707619047618, 28.803542857142848, 31.4655652173913, 32.70200483091788, 29.96846889952153, 27.21658571428572, 26.57353333333333, 26.640239234449766, 25.679622009569396, 23.50813397129185, 21.89253846153845, 24.346733333333344, 25.831404761904775, 28.11444761904761, 30.441304347826076, 32.58195169082126, 32.14238277511963, 30.658619047619034, 29.977352380952375, 29.39702870813397, 27.74167942583734, 25.666679425837323, 24.168721153846146, 14.238560000000001, 17.144979999999997, 23.0148040201005, 29.004575757575758, 33.29705102040816, 33.866005, 31.174114427860694, 29.75242288557213, 28.994464999999995, 25.866375, 20.34651000000001, 15.378814070351766, 20.448204761904766, 22.607923809523797, 26.287685714285704, 29.004400966183567, 29.83820289855073, 27.22002870813398, 24.724738095238102, 24.197833333333328, 24.56574162679425, 24.367425837320575, 22.31366985645932, 20.253653846153856, 15.596650717703348, 18.716421052631578, 24.651115384615387, 30.190038647342995, 33.31351941747572, 32.57074162679425, 29.612919047619055, 28.58816190476191, 28.238004784689, 25.771933014354058, 20.843502392344508, 16.246504807692308]}],                        {\"template\": {\"data\": {\"bar\": [{\"error_x\": {\"color\": \"#2a3f5f\"}, \"error_y\": {\"color\": \"#2a3f5f\"}, \"marker\": {\"line\": {\"color\": \"#E5ECF6\", \"width\": 0.5}}, \"type\": \"bar\"}], \"barpolar\": [{\"marker\": {\"line\": {\"color\": \"#E5ECF6\", \"width\": 0.5}}, \"type\": \"barpolar\"}], \"carpet\": [{\"aaxis\": {\"endlinecolor\": \"#2a3f5f\", \"gridcolor\": \"white\", \"linecolor\": \"white\", \"minorgridcolor\": \"white\", \"startlinecolor\": \"#2a3f5f\"}, \"baxis\": {\"endlinecolor\": \"#2a3f5f\", \"gridcolor\": \"white\", \"linecolor\": \"white\", \"minorgridcolor\": \"white\", \"startlinecolor\": \"#2a3f5f\"}, \"type\": \"carpet\"}], \"choropleth\": [{\"colorbar\": {\"outlinewidth\": 0, \"ticks\": \"\"}, \"type\": \"choropleth\"}], \"contour\": [{\"colorbar\": {\"outlinewidth\": 0, \"ticks\": \"\"}, \"colorscale\": [[0.0, \"#0d0887\"], [0.1111111111111111, \"#46039f\"], [0.2222222222222222, \"#7201a8\"], [0.3333333333333333, \"#9c179e\"], [0.4444444444444444, \"#bd3786\"], [0.5555555555555556, \"#d8576b\"], [0.6666666666666666, \"#ed7953\"], [0.7777777777777778, \"#fb9f3a\"], [0.8888888888888888, \"#fdca26\"], [1.0, \"#f0f921\"]], \"type\": \"contour\"}], \"contourcarpet\": [{\"colorbar\": {\"outlinewidth\": 0, \"ticks\": \"\"}, \"type\": \"contourcarpet\"}], \"heatmap\": [{\"colorbar\": {\"outlinewidth\": 0, \"ticks\": \"\"}, \"colorscale\": [[0.0, \"#0d0887\"], [0.1111111111111111, \"#46039f\"], [0.2222222222222222, \"#7201a8\"], [0.3333333333333333, \"#9c179e\"], [0.4444444444444444, \"#bd3786\"], [0.5555555555555556, \"#d8576b\"], [0.6666666666666666, \"#ed7953\"], [0.7777777777777778, \"#fb9f3a\"], [0.8888888888888888, \"#fdca26\"], [1.0, \"#f0f921\"]], \"type\": \"heatmap\"}], \"heatmapgl\": [{\"colorbar\": {\"outlinewidth\": 0, \"ticks\": \"\"}, \"colorscale\": [[0.0, \"#0d0887\"], [0.1111111111111111, \"#46039f\"], [0.2222222222222222, \"#7201a8\"], [0.3333333333333333, \"#9c179e\"], [0.4444444444444444, \"#bd3786\"], [0.5555555555555556, \"#d8576b\"], [0.6666666666666666, \"#ed7953\"], [0.7777777777777778, \"#fb9f3a\"], [0.8888888888888888, \"#fdca26\"], [1.0, \"#f0f921\"]], \"type\": \"heatmapgl\"}], \"histogram\": [{\"marker\": {\"colorbar\": {\"outlinewidth\": 0, \"ticks\": \"\"}}, \"type\": \"histogram\"}], \"histogram2d\": [{\"colorbar\": {\"outlinewidth\": 0, \"ticks\": \"\"}, \"colorscale\": [[0.0, \"#0d0887\"], [0.1111111111111111, \"#46039f\"], [0.2222222222222222, \"#7201a8\"], [0.3333333333333333, \"#9c179e\"], [0.4444444444444444, \"#bd3786\"], [0.5555555555555556, \"#d8576b\"], [0.6666666666666666, \"#ed7953\"], [0.7777777777777778, \"#fb9f3a\"], [0.8888888888888888, \"#fdca26\"], [1.0, \"#f0f921\"]], \"type\": \"histogram2d\"}], \"histogram2dcontour\": [{\"colorbar\": {\"outlinewidth\": 0, \"ticks\": \"\"}, \"colorscale\": [[0.0, \"#0d0887\"], [0.1111111111111111, \"#46039f\"], [0.2222222222222222, \"#7201a8\"], [0.3333333333333333, \"#9c179e\"], [0.4444444444444444, \"#bd3786\"], [0.5555555555555556, \"#d8576b\"], [0.6666666666666666, \"#ed7953\"], [0.7777777777777778, \"#fb9f3a\"], [0.8888888888888888, \"#fdca26\"], [1.0, \"#f0f921\"]], \"type\": \"histogram2dcontour\"}], \"mesh3d\": [{\"colorbar\": {\"outlinewidth\": 0, \"ticks\": \"\"}, \"type\": \"mesh3d\"}], \"parcoords\": [{\"line\": {\"colorbar\": {\"outlinewidth\": 0, \"ticks\": \"\"}}, \"type\": \"parcoords\"}], \"pie\": [{\"automargin\": true, \"type\": \"pie\"}], \"scatter\": [{\"marker\": {\"colorbar\": {\"outlinewidth\": 0, \"ticks\": \"\"}}, \"type\": \"scatter\"}], \"scatter3d\": [{\"line\": {\"colorbar\": {\"outlinewidth\": 0, \"ticks\": \"\"}}, \"marker\": {\"colorbar\": {\"outlinewidth\": 0, \"ticks\": \"\"}}, \"type\": \"scatter3d\"}], \"scattercarpet\": [{\"marker\": {\"colorbar\": {\"outlinewidth\": 0, \"ticks\": \"\"}}, \"type\": \"scattercarpet\"}], \"scattergeo\": [{\"marker\": {\"colorbar\": {\"outlinewidth\": 0, \"ticks\": \"\"}}, \"type\": \"scattergeo\"}], \"scattergl\": [{\"marker\": {\"colorbar\": {\"outlinewidth\": 0, \"ticks\": \"\"}}, \"type\": \"scattergl\"}], \"scattermapbox\": [{\"marker\": {\"colorbar\": {\"outlinewidth\": 0, \"ticks\": \"\"}}, \"type\": \"scattermapbox\"}], \"scatterpolar\": [{\"marker\": {\"colorbar\": {\"outlinewidth\": 0, \"ticks\": \"\"}}, \"type\": \"scatterpolar\"}], \"scatterpolargl\": [{\"marker\": {\"colorbar\": {\"outlinewidth\": 0, \"ticks\": \"\"}}, \"type\": \"scatterpolargl\"}], \"scatterternary\": [{\"marker\": {\"colorbar\": {\"outlinewidth\": 0, \"ticks\": \"\"}}, \"type\": \"scatterternary\"}], \"surface\": [{\"colorbar\": {\"outlinewidth\": 0, \"ticks\": \"\"}, \"colorscale\": [[0.0, \"#0d0887\"], [0.1111111111111111, \"#46039f\"], [0.2222222222222222, \"#7201a8\"], [0.3333333333333333, \"#9c179e\"], [0.4444444444444444, \"#bd3786\"], [0.5555555555555556, \"#d8576b\"], [0.6666666666666666, \"#ed7953\"], [0.7777777777777778, \"#fb9f3a\"], [0.8888888888888888, \"#fdca26\"], [1.0, \"#f0f921\"]], \"type\": \"surface\"}], \"table\": [{\"cells\": {\"fill\": {\"color\": \"#EBF0F8\"}, \"line\": {\"color\": \"white\"}}, \"header\": {\"fill\": {\"color\": \"#C8D4E3\"}, \"line\": {\"color\": \"white\"}}, \"type\": \"table\"}]}, \"layout\": {\"annotationdefaults\": {\"arrowcolor\": \"#2a3f5f\", \"arrowhead\": 0, \"arrowwidth\": 1}, \"autotypenumbers\": \"strict\", \"coloraxis\": {\"colorbar\": {\"outlinewidth\": 0, \"ticks\": \"\"}}, \"colorscale\": {\"diverging\": [[0, \"#8e0152\"], [0.1, \"#c51b7d\"], [0.2, \"#de77ae\"], [0.3, \"#f1b6da\"], [0.4, \"#fde0ef\"], [0.5, \"#f7f7f7\"], [0.6, \"#e6f5d0\"], [0.7, \"#b8e186\"], [0.8, \"#7fbc41\"], [0.9, \"#4d9221\"], [1, \"#276419\"]], \"sequential\": [[0.0, \"#0d0887\"], [0.1111111111111111, \"#46039f\"], [0.2222222222222222, \"#7201a8\"], [0.3333333333333333, \"#9c179e\"], [0.4444444444444444, \"#bd3786\"], [0.5555555555555556, \"#d8576b\"], [0.6666666666666666, \"#ed7953\"], [0.7777777777777778, \"#fb9f3a\"], [0.8888888888888888, \"#fdca26\"], [1.0, \"#f0f921\"]], \"sequentialminus\": [[0.0, \"#0d0887\"], [0.1111111111111111, \"#46039f\"], [0.2222222222222222, \"#7201a8\"], [0.3333333333333333, \"#9c179e\"], [0.4444444444444444, \"#bd3786\"], [0.5555555555555556, \"#d8576b\"], [0.6666666666666666, \"#ed7953\"], [0.7777777777777778, \"#fb9f3a\"], [0.8888888888888888, \"#fdca26\"], [1.0, \"#f0f921\"]]}, \"colorway\": [\"#636efa\", \"#EF553B\", \"#00cc96\", \"#ab63fa\", \"#FFA15A\", \"#19d3f3\", \"#FF6692\", \"#B6E880\", \"#FF97FF\", \"#FECB52\"], \"font\": {\"color\": \"#2a3f5f\"}, \"geo\": {\"bgcolor\": \"white\", \"lakecolor\": \"white\", \"landcolor\": \"#E5ECF6\", \"showlakes\": true, \"showland\": true, \"subunitcolor\": \"white\"}, \"hoverlabel\": {\"align\": \"left\"}, \"hovermode\": \"closest\", \"mapbox\": {\"style\": \"light\"}, \"paper_bgcolor\": \"white\", \"plot_bgcolor\": \"#E5ECF6\", \"polar\": {\"angularaxis\": {\"gridcolor\": \"white\", \"linecolor\": \"white\", \"ticks\": \"\"}, \"bgcolor\": \"#E5ECF6\", \"radialaxis\": {\"gridcolor\": \"white\", \"linecolor\": \"white\", \"ticks\": \"\"}}, \"scene\": {\"xaxis\": {\"backgroundcolor\": \"#E5ECF6\", \"gridcolor\": \"white\", \"gridwidth\": 2, \"linecolor\": \"white\", \"showbackground\": true, \"ticks\": \"\", \"zerolinecolor\": \"white\"}, \"yaxis\": {\"backgroundcolor\": \"#E5ECF6\", \"gridcolor\": \"white\", \"gridwidth\": 2, \"linecolor\": \"white\", \"showbackground\": true, \"ticks\": \"\", \"zerolinecolor\": \"white\"}, \"zaxis\": {\"backgroundcolor\": \"#E5ECF6\", \"gridcolor\": \"white\", \"gridwidth\": 2, \"linecolor\": \"white\", \"showbackground\": true, \"ticks\": \"\", \"zerolinecolor\": \"white\"}}, \"shapedefaults\": {\"line\": {\"color\": \"#2a3f5f\"}}, \"ternary\": {\"aaxis\": {\"gridcolor\": \"white\", \"linecolor\": \"white\", \"ticks\": \"\"}, \"baxis\": {\"gridcolor\": \"white\", \"linecolor\": \"white\", \"ticks\": \"\"}, \"bgcolor\": \"#E5ECF6\", \"caxis\": {\"gridcolor\": \"white\", \"linecolor\": \"white\", \"ticks\": \"\"}}, \"title\": {\"x\": 0.05}, \"xaxis\": {\"automargin\": true, \"gridcolor\": \"white\", \"linecolor\": \"white\", \"ticks\": \"\", \"title\": {\"standoff\": 15}, \"zerolinecolor\": \"white\", \"zerolinewidth\": 2}, \"yaxis\": {\"automargin\": true, \"gridcolor\": \"white\", \"linecolor\": \"white\", \"ticks\": \"\", \"title\": {\"standoff\": 15}, \"zerolinecolor\": \"white\", \"zerolinewidth\": 2}}}, \"title\": {\"text\": \"Average Temperature of Major Cities by Month\"}},                        {\"responsive\": true}                    ).then(function(){\n",
       "                            \n",
       "var gd = document.getElementById('7f8cac6d-d2fa-4aef-b351-382ce34fc9dd');\n",
       "var x = new MutationObserver(function (mutations, observer) {{\n",
       "        var display = window.getComputedStyle(gd).display;\n",
       "        if (!display || display === 'none') {{\n",
       "            console.log([gd, 'removed!']);\n",
       "            Plotly.purge(gd);\n",
       "            observer.disconnect();\n",
       "        }}\n",
       "}});\n",
       "\n",
       "// Listen for the removal of the full notebook cells\n",
       "var notebookContainer = gd.closest('#notebook-container');\n",
       "if (notebookContainer) {{\n",
       "    x.observe(notebookContainer, {childList: true});\n",
       "}}\n",
       "\n",
       "// Listen for the clearing of the current output cell\n",
       "var outputEl = gd.closest('.output');\n",
       "if (outputEl) {{\n",
       "    x.observe(outputEl, {childList: true});\n",
       "}}\n",
       "\n",
       "                        })                };                });            </script>        </div>"
      ]
     },
     "metadata": {},
     "output_type": "display_data"
    }
   ],
   "source": [
    "fig=go.Figure(data=data, layout=layout)\n",
    "fig.show()"
   ]
  },
  {
   "cell_type": "markdown",
   "id": "generic-receipt",
   "metadata": {},
   "source": [
    "# Spatial Analysis on Average Temperature in major cities in India"
   ]
  },
  {
   "cell_type": "code",
   "execution_count": 91,
   "id": "editorial-ethernet",
   "metadata": {},
   "outputs": [
    {
     "data": {
      "text/html": [
       "<div>\n",
       "<style scoped>\n",
       "    .dataframe tbody tr th:only-of-type {\n",
       "        vertical-align: middle;\n",
       "    }\n",
       "\n",
       "    .dataframe tbody tr th {\n",
       "        vertical-align: top;\n",
       "    }\n",
       "\n",
       "    .dataframe thead th {\n",
       "        text-align: right;\n",
       "    }\n",
       "</style>\n",
       "<table border=\"1\" class=\"dataframe\">\n",
       "  <thead>\n",
       "    <tr style=\"text-align: right;\">\n",
       "      <th></th>\n",
       "      <th>Month_x</th>\n",
       "      <th>City</th>\n",
       "      <th>Mean_temp</th>\n",
       "      <th>Latitude</th>\n",
       "      <th>Longitude</th>\n",
       "    </tr>\n",
       "  </thead>\n",
       "  <tbody>\n",
       "    <tr>\n",
       "      <th>0</th>\n",
       "      <td>1</td>\n",
       "      <td>Bangalore</td>\n",
       "      <td>22.713981</td>\n",
       "      <td>12.05</td>\n",
       "      <td>77.26</td>\n",
       "    </tr>\n",
       "    <tr>\n",
       "      <th>2613</th>\n",
       "      <td>2</td>\n",
       "      <td>Bangalore</td>\n",
       "      <td>24.656619</td>\n",
       "      <td>12.05</td>\n",
       "      <td>77.26</td>\n",
       "    </tr>\n",
       "    <tr>\n",
       "      <th>5226</th>\n",
       "      <td>3</td>\n",
       "      <td>Bangalore</td>\n",
       "      <td>27.062186</td>\n",
       "      <td>12.05</td>\n",
       "      <td>77.26</td>\n",
       "    </tr>\n",
       "    <tr>\n",
       "      <th>7839</th>\n",
       "      <td>4</td>\n",
       "      <td>Bangalore</td>\n",
       "      <td>27.988517</td>\n",
       "      <td>12.05</td>\n",
       "      <td>77.26</td>\n",
       "    </tr>\n",
       "    <tr>\n",
       "      <th>10452</th>\n",
       "      <td>5</td>\n",
       "      <td>Bangalore</td>\n",
       "      <td>27.522754</td>\n",
       "      <td>12.05</td>\n",
       "      <td>77.26</td>\n",
       "    </tr>\n",
       "  </tbody>\n",
       "</table>\n",
       "</div>"
      ],
      "text/plain": [
       "       Month_x       City  Mean_temp Latitude Longitude\n",
       "0            1  Bangalore  22.713981    12.05     77.26\n",
       "2613         2  Bangalore  24.656619    12.05     77.26\n",
       "5226         3  Bangalore  27.062186    12.05     77.26\n",
       "7839         4  Bangalore  27.988517    12.05     77.26\n",
       "10452        5  Bangalore  27.522754    12.05     77.26"
      ]
     },
     "execution_count": 91,
     "metadata": {},
     "output_type": "execute_result"
    }
   ],
   "source": [
    "data2.head()"
   ]
  },
  {
   "cell_type": "code",
   "execution_count": 92,
   "id": "democratic-microphone",
   "metadata": {},
   "outputs": [],
   "source": [
    "basemap=folium.Map()"
   ]
  },
  {
   "cell_type": "code",
   "execution_count": 93,
   "id": "promising-devices",
   "metadata": {},
   "outputs": [
    {
     "data": {
      "text/html": [
       "<div style=\"width:100%;\"><div style=\"position:relative;width:100%;height:0;padding-bottom:60%;\"><span style=\"color:#565656\">Make this Notebook Trusted to load map: File -> Trust Notebook</span><iframe src=\"about:blank\" style=\"position:absolute;width:100%;height:100%;left:0;top:0;border:none !important;\" data-html=%3C%21DOCTYPE%20html%3E%0A%3Chead%3E%20%20%20%20%0A%20%20%20%20%3Cmeta%20http-equiv%3D%22content-type%22%20content%3D%22text/html%3B%20charset%3DUTF-8%22%20/%3E%0A%20%20%20%20%0A%20%20%20%20%20%20%20%20%3Cscript%3E%0A%20%20%20%20%20%20%20%20%20%20%20%20L_NO_TOUCH%20%3D%20false%3B%0A%20%20%20%20%20%20%20%20%20%20%20%20L_DISABLE_3D%20%3D%20false%3B%0A%20%20%20%20%20%20%20%20%3C/script%3E%0A%20%20%20%20%0A%20%20%20%20%3Cstyle%3Ehtml%2C%20body%20%7Bwidth%3A%20100%25%3Bheight%3A%20100%25%3Bmargin%3A%200%3Bpadding%3A%200%3B%7D%3C/style%3E%0A%20%20%20%20%3Cstyle%3E%23map%20%7Bposition%3Aabsolute%3Btop%3A0%3Bbottom%3A0%3Bright%3A0%3Bleft%3A0%3B%7D%3C/style%3E%0A%20%20%20%20%3Cscript%20src%3D%22https%3A//cdn.jsdelivr.net/npm/leaflet%401.6.0/dist/leaflet.js%22%3E%3C/script%3E%0A%20%20%20%20%3Cscript%20src%3D%22https%3A//code.jquery.com/jquery-1.12.4.min.js%22%3E%3C/script%3E%0A%20%20%20%20%3Cscript%20src%3D%22https%3A//maxcdn.bootstrapcdn.com/bootstrap/3.2.0/js/bootstrap.min.js%22%3E%3C/script%3E%0A%20%20%20%20%3Cscript%20src%3D%22https%3A//cdnjs.cloudflare.com/ajax/libs/Leaflet.awesome-markers/2.0.2/leaflet.awesome-markers.js%22%3E%3C/script%3E%0A%20%20%20%20%3Clink%20rel%3D%22stylesheet%22%20href%3D%22https%3A//cdn.jsdelivr.net/npm/leaflet%401.6.0/dist/leaflet.css%22/%3E%0A%20%20%20%20%3Clink%20rel%3D%22stylesheet%22%20href%3D%22https%3A//maxcdn.bootstrapcdn.com/bootstrap/3.2.0/css/bootstrap.min.css%22/%3E%0A%20%20%20%20%3Clink%20rel%3D%22stylesheet%22%20href%3D%22https%3A//maxcdn.bootstrapcdn.com/bootstrap/3.2.0/css/bootstrap-theme.min.css%22/%3E%0A%20%20%20%20%3Clink%20rel%3D%22stylesheet%22%20href%3D%22https%3A//maxcdn.bootstrapcdn.com/font-awesome/4.6.3/css/font-awesome.min.css%22/%3E%0A%20%20%20%20%3Clink%20rel%3D%22stylesheet%22%20href%3D%22https%3A//cdnjs.cloudflare.com/ajax/libs/Leaflet.awesome-markers/2.0.2/leaflet.awesome-markers.css%22/%3E%0A%20%20%20%20%3Clink%20rel%3D%22stylesheet%22%20href%3D%22https%3A//cdn.jsdelivr.net/gh/python-visualization/folium/folium/templates/leaflet.awesome.rotate.min.css%22/%3E%0A%20%20%20%20%0A%20%20%20%20%20%20%20%20%20%20%20%20%3Cmeta%20name%3D%22viewport%22%20content%3D%22width%3Ddevice-width%2C%0A%20%20%20%20%20%20%20%20%20%20%20%20%20%20%20%20initial-scale%3D1.0%2C%20maximum-scale%3D1.0%2C%20user-scalable%3Dno%22%20/%3E%0A%20%20%20%20%20%20%20%20%20%20%20%20%3Cstyle%3E%0A%20%20%20%20%20%20%20%20%20%20%20%20%20%20%20%20%23map_a4fcbba6517e4ad88a0c9474efcd98df%20%7B%0A%20%20%20%20%20%20%20%20%20%20%20%20%20%20%20%20%20%20%20%20position%3A%20relative%3B%0A%20%20%20%20%20%20%20%20%20%20%20%20%20%20%20%20%20%20%20%20width%3A%20100.0%25%3B%0A%20%20%20%20%20%20%20%20%20%20%20%20%20%20%20%20%20%20%20%20height%3A%20100.0%25%3B%0A%20%20%20%20%20%20%20%20%20%20%20%20%20%20%20%20%20%20%20%20left%3A%200.0%25%3B%0A%20%20%20%20%20%20%20%20%20%20%20%20%20%20%20%20%20%20%20%20top%3A%200.0%25%3B%0A%20%20%20%20%20%20%20%20%20%20%20%20%20%20%20%20%7D%0A%20%20%20%20%20%20%20%20%20%20%20%20%3C/style%3E%0A%20%20%20%20%20%20%20%20%0A%3C/head%3E%0A%3Cbody%3E%20%20%20%20%0A%20%20%20%20%0A%20%20%20%20%20%20%20%20%20%20%20%20%3Cdiv%20class%3D%22folium-map%22%20id%3D%22map_a4fcbba6517e4ad88a0c9474efcd98df%22%20%3E%3C/div%3E%0A%20%20%20%20%20%20%20%20%0A%3C/body%3E%0A%3Cscript%3E%20%20%20%20%0A%20%20%20%20%0A%20%20%20%20%20%20%20%20%20%20%20%20var%20map_a4fcbba6517e4ad88a0c9474efcd98df%20%3D%20L.map%28%0A%20%20%20%20%20%20%20%20%20%20%20%20%20%20%20%20%22map_a4fcbba6517e4ad88a0c9474efcd98df%22%2C%0A%20%20%20%20%20%20%20%20%20%20%20%20%20%20%20%20%7B%0A%20%20%20%20%20%20%20%20%20%20%20%20%20%20%20%20%20%20%20%20center%3A%20%5B0%2C%200%5D%2C%0A%20%20%20%20%20%20%20%20%20%20%20%20%20%20%20%20%20%20%20%20crs%3A%20L.CRS.EPSG3857%2C%0A%20%20%20%20%20%20%20%20%20%20%20%20%20%20%20%20%20%20%20%20zoom%3A%201%2C%0A%20%20%20%20%20%20%20%20%20%20%20%20%20%20%20%20%20%20%20%20zoomControl%3A%20true%2C%0A%20%20%20%20%20%20%20%20%20%20%20%20%20%20%20%20%20%20%20%20preferCanvas%3A%20false%2C%0A%20%20%20%20%20%20%20%20%20%20%20%20%20%20%20%20%7D%0A%20%20%20%20%20%20%20%20%20%20%20%20%29%3B%0A%0A%20%20%20%20%20%20%20%20%20%20%20%20%0A%0A%20%20%20%20%20%20%20%20%0A%20%20%20%20%0A%20%20%20%20%20%20%20%20%20%20%20%20var%20tile_layer_5dc4b1fed1dc404fb17a4c64ce8d05ef%20%3D%20L.tileLayer%28%0A%20%20%20%20%20%20%20%20%20%20%20%20%20%20%20%20%22https%3A//%7Bs%7D.tile.openstreetmap.org/%7Bz%7D/%7Bx%7D/%7By%7D.png%22%2C%0A%20%20%20%20%20%20%20%20%20%20%20%20%20%20%20%20%7B%22attribution%22%3A%20%22Data%20by%20%5Cu0026copy%3B%20%5Cu003ca%20href%3D%5C%22http%3A//openstreetmap.org%5C%22%5Cu003eOpenStreetMap%5Cu003c/a%5Cu003e%2C%20under%20%5Cu003ca%20href%3D%5C%22http%3A//www.openstreetmap.org/copyright%5C%22%5Cu003eODbL%5Cu003c/a%5Cu003e.%22%2C%20%22detectRetina%22%3A%20false%2C%20%22maxNativeZoom%22%3A%2018%2C%20%22maxZoom%22%3A%2018%2C%20%22minZoom%22%3A%200%2C%20%22noWrap%22%3A%20false%2C%20%22opacity%22%3A%201%2C%20%22subdomains%22%3A%20%22abc%22%2C%20%22tms%22%3A%20false%7D%0A%20%20%20%20%20%20%20%20%20%20%20%20%29.addTo%28map_a4fcbba6517e4ad88a0c9474efcd98df%29%3B%0A%20%20%20%20%20%20%20%20%0A%20%20%20%20%0A%20%20%20%20%20%20%20%20%20%20%20%20var%20marker_a5105a2b28ab483a93d9014d8cb22f10%20%3D%20L.marker%28%0A%20%20%20%20%20%20%20%20%20%20%20%20%20%20%20%20%5B12.05%2C%2077.26%5D%2C%0A%20%20%20%20%20%20%20%20%20%20%20%20%20%20%20%20%7B%7D%0A%20%20%20%20%20%20%20%20%20%20%20%20%29.addTo%28map_a4fcbba6517e4ad88a0c9474efcd98df%29%3B%0A%20%20%20%20%20%20%20%20%0A%20%20%20%20%0A%20%20%20%20%20%20%20%20var%20popup_ef2859cf40aa49b9abedeb28ddd3a8cd%20%3D%20L.popup%28%7B%22maxWidth%22%3A%20%22100%25%22%7D%29%3B%0A%0A%20%20%20%20%20%20%20%20%0A%20%20%20%20%20%20%20%20%20%20%20%20var%20html_a70d4b092e1a4e19a79c1194570b4398%20%3D%20%24%28%60%3Cdiv%20id%3D%22html_a70d4b092e1a4e19a79c1194570b4398%22%20style%3D%22width%3A%20100.0%25%3B%20height%3A%20100.0%25%3B%22%3E22.71398095238095%3C/div%3E%60%29%5B0%5D%3B%0A%20%20%20%20%20%20%20%20%20%20%20%20popup_ef2859cf40aa49b9abedeb28ddd3a8cd.setContent%28html_a70d4b092e1a4e19a79c1194570b4398%29%3B%0A%20%20%20%20%20%20%20%20%0A%0A%20%20%20%20%20%20%20%20marker_a5105a2b28ab483a93d9014d8cb22f10.bindPopup%28popup_ef2859cf40aa49b9abedeb28ddd3a8cd%29%0A%20%20%20%20%20%20%20%20%3B%0A%0A%20%20%20%20%20%20%20%20%0A%20%20%20%20%0A%20%20%20%20%0A%20%20%20%20%20%20%20%20%20%20%20%20var%20marker_0fece31a0d704b788e22e8adcad8c4c1%20%3D%20L.marker%28%0A%20%20%20%20%20%20%20%20%20%20%20%20%20%20%20%20%5B12.05%2C%2077.26%5D%2C%0A%20%20%20%20%20%20%20%20%20%20%20%20%20%20%20%20%7B%7D%0A%20%20%20%20%20%20%20%20%20%20%20%20%29.addTo%28map_a4fcbba6517e4ad88a0c9474efcd98df%29%3B%0A%20%20%20%20%20%20%20%20%0A%20%20%20%20%0A%20%20%20%20%20%20%20%20var%20popup_6f6c89b578de4d84a37bb0f811eb91d2%20%3D%20L.popup%28%7B%22maxWidth%22%3A%20%22100%25%22%7D%29%3B%0A%0A%20%20%20%20%20%20%20%20%0A%20%20%20%20%20%20%20%20%20%20%20%20var%20html_96ef5589feed42a4b354256e2ae21168%20%3D%20%24%28%60%3Cdiv%20id%3D%22html_96ef5589feed42a4b354256e2ae21168%22%20style%3D%22width%3A%20100.0%25%3B%20height%3A%20100.0%25%3B%22%3E24.656619047619056%3C/div%3E%60%29%5B0%5D%3B%0A%20%20%20%20%20%20%20%20%20%20%20%20popup_6f6c89b578de4d84a37bb0f811eb91d2.setContent%28html_96ef5589feed42a4b354256e2ae21168%29%3B%0A%20%20%20%20%20%20%20%20%0A%0A%20%20%20%20%20%20%20%20marker_0fece31a0d704b788e22e8adcad8c4c1.bindPopup%28popup_6f6c89b578de4d84a37bb0f811eb91d2%29%0A%20%20%20%20%20%20%20%20%3B%0A%0A%20%20%20%20%20%20%20%20%0A%20%20%20%20%0A%20%20%20%20%0A%20%20%20%20%20%20%20%20%20%20%20%20var%20marker_37fd76a381ec45e4b1875ee91bf11ecd%20%3D%20L.marker%28%0A%20%20%20%20%20%20%20%20%20%20%20%20%20%20%20%20%5B12.05%2C%2077.26%5D%2C%0A%20%20%20%20%20%20%20%20%20%20%20%20%20%20%20%20%7B%7D%0A%20%20%20%20%20%20%20%20%20%20%20%20%29.addTo%28map_a4fcbba6517e4ad88a0c9474efcd98df%29%3B%0A%20%20%20%20%20%20%20%20%0A%20%20%20%20%0A%20%20%20%20%20%20%20%20var%20popup_b530860676e847e996ece21694b22493%20%3D%20L.popup%28%7B%22maxWidth%22%3A%20%22100%25%22%7D%29%3B%0A%0A%20%20%20%20%20%20%20%20%0A%20%20%20%20%20%20%20%20%20%20%20%20var%20html_28ce856b4a274c19ab0bbe7312ef7ae8%20%3D%20%24%28%60%3Cdiv%20id%3D%22html_28ce856b4a274c19ab0bbe7312ef7ae8%22%20style%3D%22width%3A%20100.0%25%3B%20height%3A%20100.0%25%3B%22%3E27.062185714285704%3C/div%3E%60%29%5B0%5D%3B%0A%20%20%20%20%20%20%20%20%20%20%20%20popup_b530860676e847e996ece21694b22493.setContent%28html_28ce856b4a274c19ab0bbe7312ef7ae8%29%3B%0A%20%20%20%20%20%20%20%20%0A%0A%20%20%20%20%20%20%20%20marker_37fd76a381ec45e4b1875ee91bf11ecd.bindPopup%28popup_b530860676e847e996ece21694b22493%29%0A%20%20%20%20%20%20%20%20%3B%0A%0A%20%20%20%20%20%20%20%20%0A%20%20%20%20%0A%20%20%20%20%0A%20%20%20%20%20%20%20%20%20%20%20%20var%20marker_5ac66a89b9774a26a83fce3eacb8c766%20%3D%20L.marker%28%0A%20%20%20%20%20%20%20%20%20%20%20%20%20%20%20%20%5B12.05%2C%2077.26%5D%2C%0A%20%20%20%20%20%20%20%20%20%20%20%20%20%20%20%20%7B%7D%0A%20%20%20%20%20%20%20%20%20%20%20%20%29.addTo%28map_a4fcbba6517e4ad88a0c9474efcd98df%29%3B%0A%20%20%20%20%20%20%20%20%0A%20%20%20%20%0A%20%20%20%20%20%20%20%20var%20popup_2815a5cd5a82442c89ecf6be1d82a195%20%3D%20L.popup%28%7B%22maxWidth%22%3A%20%22100%25%22%7D%29%3B%0A%0A%20%20%20%20%20%20%20%20%0A%20%20%20%20%20%20%20%20%20%20%20%20var%20html_a862d91b2cc548d9910b7019894fb4c0%20%3D%20%24%28%60%3Cdiv%20id%3D%22html_a862d91b2cc548d9910b7019894fb4c0%22%20style%3D%22width%3A%20100.0%25%3B%20height%3A%20100.0%25%3B%22%3E27.98851690821257%3C/div%3E%60%29%5B0%5D%3B%0A%20%20%20%20%20%20%20%20%20%20%20%20popup_2815a5cd5a82442c89ecf6be1d82a195.setContent%28html_a862d91b2cc548d9910b7019894fb4c0%29%3B%0A%20%20%20%20%20%20%20%20%0A%0A%20%20%20%20%20%20%20%20marker_5ac66a89b9774a26a83fce3eacb8c766.bindPopup%28popup_2815a5cd5a82442c89ecf6be1d82a195%29%0A%20%20%20%20%20%20%20%20%3B%0A%0A%20%20%20%20%20%20%20%20%0A%20%20%20%20%0A%20%20%20%20%0A%20%20%20%20%20%20%20%20%20%20%20%20var%20marker_4663d2cda0f64bf4bfbd1eb8a9b4185f%20%3D%20L.marker%28%0A%20%20%20%20%20%20%20%20%20%20%20%20%20%20%20%20%5B12.05%2C%2077.26%5D%2C%0A%20%20%20%20%20%20%20%20%20%20%20%20%20%20%20%20%7B%7D%0A%20%20%20%20%20%20%20%20%20%20%20%20%29.addTo%28map_a4fcbba6517e4ad88a0c9474efcd98df%29%3B%0A%20%20%20%20%20%20%20%20%0A%20%20%20%20%0A%20%20%20%20%20%20%20%20var%20popup_5afb5abd3b8b477fa806a432b810ae49%20%3D%20L.popup%28%7B%22maxWidth%22%3A%20%22100%25%22%7D%29%3B%0A%0A%20%20%20%20%20%20%20%20%0A%20%20%20%20%20%20%20%20%20%20%20%20var%20html_ad1b3ebf086c4bce8d69c04eb8f25c74%20%3D%20%24%28%60%3Cdiv%20id%3D%22html_ad1b3ebf086c4bce8d69c04eb8f25c74%22%20style%3D%22width%3A%20100.0%25%3B%20height%3A%20100.0%25%3B%22%3E27.522753623188382%3C/div%3E%60%29%5B0%5D%3B%0A%20%20%20%20%20%20%20%20%20%20%20%20popup_5afb5abd3b8b477fa806a432b810ae49.setContent%28html_ad1b3ebf086c4bce8d69c04eb8f25c74%29%3B%0A%20%20%20%20%20%20%20%20%0A%0A%20%20%20%20%20%20%20%20marker_4663d2cda0f64bf4bfbd1eb8a9b4185f.bindPopup%28popup_5afb5abd3b8b477fa806a432b810ae49%29%0A%20%20%20%20%20%20%20%20%3B%0A%0A%20%20%20%20%20%20%20%20%0A%20%20%20%20%0A%20%20%20%20%0A%20%20%20%20%20%20%20%20%20%20%20%20var%20marker_5f33151e18e84765a19c958c511949f2%20%3D%20L.marker%28%0A%20%20%20%20%20%20%20%20%20%20%20%20%20%20%20%20%5B12.05%2C%2077.26%5D%2C%0A%20%20%20%20%20%20%20%20%20%20%20%20%20%20%20%20%7B%7D%0A%20%20%20%20%20%20%20%20%20%20%20%20%29.addTo%28map_a4fcbba6517e4ad88a0c9474efcd98df%29%3B%0A%20%20%20%20%20%20%20%20%0A%20%20%20%20%0A%20%20%20%20%20%20%20%20var%20popup_b43f920f8d8149fdb52aee41c36feb2e%20%3D%20L.popup%28%7B%22maxWidth%22%3A%20%22100%25%22%7D%29%3B%0A%0A%20%20%20%20%20%20%20%20%0A%20%20%20%20%20%20%20%20%20%20%20%20var%20html_b8d51250166c499790aba3dfe5b1cb5a%20%3D%20%24%28%60%3Cdiv%20id%3D%22html_b8d51250166c499790aba3dfe5b1cb5a%22%20style%3D%22width%3A%20100.0%25%3B%20height%3A%20100.0%25%3B%22%3E25.468799043062205%3C/div%3E%60%29%5B0%5D%3B%0A%20%20%20%20%20%20%20%20%20%20%20%20popup_b43f920f8d8149fdb52aee41c36feb2e.setContent%28html_b8d51250166c499790aba3dfe5b1cb5a%29%3B%0A%20%20%20%20%20%20%20%20%0A%0A%20%20%20%20%20%20%20%20marker_5f33151e18e84765a19c958c511949f2.bindPopup%28popup_b43f920f8d8149fdb52aee41c36feb2e%29%0A%20%20%20%20%20%20%20%20%3B%0A%0A%20%20%20%20%20%20%20%20%0A%20%20%20%20%0A%20%20%20%20%0A%20%20%20%20%20%20%20%20%20%20%20%20var%20marker_3a29a8cd7d7b477d854945bc7c6713ef%20%3D%20L.marker%28%0A%20%20%20%20%20%20%20%20%20%20%20%20%20%20%20%20%5B12.05%2C%2077.26%5D%2C%0A%20%20%20%20%20%20%20%20%20%20%20%20%20%20%20%20%7B%7D%0A%20%20%20%20%20%20%20%20%20%20%20%20%29.addTo%28map_a4fcbba6517e4ad88a0c9474efcd98df%29%3B%0A%20%20%20%20%20%20%20%20%0A%20%20%20%20%0A%20%20%20%20%20%20%20%20var%20popup_6f07749daed04be1b6459b546261139e%20%3D%20L.popup%28%7B%22maxWidth%22%3A%20%22100%25%22%7D%29%3B%0A%0A%20%20%20%20%20%20%20%20%0A%20%20%20%20%20%20%20%20%20%20%20%20var%20html_cb8f36e67008404fb0cd7cb781dcbafb%20%3D%20%24%28%60%3Cdiv%20id%3D%22html_cb8f36e67008404fb0cd7cb781dcbafb%22%20style%3D%22width%3A%20100.0%25%3B%20height%3A%20100.0%25%3B%22%3E24.40048095238094%3C/div%3E%60%29%5B0%5D%3B%0A%20%20%20%20%20%20%20%20%20%20%20%20popup_6f07749daed04be1b6459b546261139e.setContent%28html_cb8f36e67008404fb0cd7cb781dcbafb%29%3B%0A%20%20%20%20%20%20%20%20%0A%0A%20%20%20%20%20%20%20%20marker_3a29a8cd7d7b477d854945bc7c6713ef.bindPopup%28popup_6f07749daed04be1b6459b546261139e%29%0A%20%20%20%20%20%20%20%20%3B%0A%0A%20%20%20%20%20%20%20%20%0A%20%20%20%20%0A%20%20%20%20%0A%20%20%20%20%20%20%20%20%20%20%20%20var%20marker_04e12a87d0d44d65b03f3fc777e71095%20%3D%20L.marker%28%0A%20%20%20%20%20%20%20%20%20%20%20%20%20%20%20%20%5B12.05%2C%2077.26%5D%2C%0A%20%20%20%20%20%20%20%20%20%20%20%20%20%20%20%20%7B%7D%0A%20%20%20%20%20%20%20%20%20%20%20%20%29.addTo%28map_a4fcbba6517e4ad88a0c9474efcd98df%29%3B%0A%20%20%20%20%20%20%20%20%0A%20%20%20%20%0A%20%20%20%20%20%20%20%20var%20popup_15beb5f0046844d9af5064e91c33b21e%20%3D%20L.popup%28%7B%22maxWidth%22%3A%20%22100%25%22%7D%29%3B%0A%0A%20%20%20%20%20%20%20%20%0A%20%20%20%20%20%20%20%20%20%20%20%20var%20html_2b836becc66c4ab6842c1cdfec9dd3d4%20%3D%20%24%28%60%3Cdiv%20id%3D%22html_2b836becc66c4ab6842c1cdfec9dd3d4%22%20style%3D%22width%3A%20100.0%25%3B%20height%3A%20100.0%25%3B%22%3E24.36290952380952%3C/div%3E%60%29%5B0%5D%3B%0A%20%20%20%20%20%20%20%20%20%20%20%20popup_15beb5f0046844d9af5064e91c33b21e.setContent%28html_2b836becc66c4ab6842c1cdfec9dd3d4%29%3B%0A%20%20%20%20%20%20%20%20%0A%0A%20%20%20%20%20%20%20%20marker_04e12a87d0d44d65b03f3fc777e71095.bindPopup%28popup_15beb5f0046844d9af5064e91c33b21e%29%0A%20%20%20%20%20%20%20%20%3B%0A%0A%20%20%20%20%20%20%20%20%0A%20%20%20%20%0A%20%20%20%20%0A%20%20%20%20%20%20%20%20%20%20%20%20var%20marker_9a0aa93a2d524ebfa64fa624eff0c425%20%3D%20L.marker%28%0A%20%20%20%20%20%20%20%20%20%20%20%20%20%20%20%20%5B12.05%2C%2077.26%5D%2C%0A%20%20%20%20%20%20%20%20%20%20%20%20%20%20%20%20%7B%7D%0A%20%20%20%20%20%20%20%20%20%20%20%20%29.addTo%28map_a4fcbba6517e4ad88a0c9474efcd98df%29%3B%0A%20%20%20%20%20%20%20%20%0A%20%20%20%20%0A%20%20%20%20%20%20%20%20var%20popup_c324be7a7f454a439dea5b01c25ed6ad%20%3D%20L.popup%28%7B%22maxWidth%22%3A%20%22100%25%22%7D%29%3B%0A%0A%20%20%20%20%20%20%20%20%0A%20%20%20%20%20%20%20%20%20%20%20%20var%20html_498c36a185714b1a8ef5b3854c3ecfab%20%3D%20%24%28%60%3Cdiv%20id%3D%22html_498c36a185714b1a8ef5b3854c3ecfab%22%20style%3D%22width%3A%20100.0%25%3B%20height%3A%20100.0%25%3B%22%3E24.495114832535872%3C/div%3E%60%29%5B0%5D%3B%0A%20%20%20%20%20%20%20%20%20%20%20%20popup_c324be7a7f454a439dea5b01c25ed6ad.setContent%28html_498c36a185714b1a8ef5b3854c3ecfab%29%3B%0A%20%20%20%20%20%20%20%20%0A%0A%20%20%20%20%20%20%20%20marker_9a0aa93a2d524ebfa64fa624eff0c425.bindPopup%28popup_c324be7a7f454a439dea5b01c25ed6ad%29%0A%20%20%20%20%20%20%20%20%3B%0A%0A%20%20%20%20%20%20%20%20%0A%20%20%20%20%0A%20%20%20%20%0A%20%20%20%20%20%20%20%20%20%20%20%20var%20marker_8a286e73272d4c78b325939eb8714b5f%20%3D%20L.marker%28%0A%20%20%20%20%20%20%20%20%20%20%20%20%20%20%20%20%5B12.05%2C%2077.26%5D%2C%0A%20%20%20%20%20%20%20%20%20%20%20%20%20%20%20%20%7B%7D%0A%20%20%20%20%20%20%20%20%20%20%20%20%29.addTo%28map_a4fcbba6517e4ad88a0c9474efcd98df%29%3B%0A%20%20%20%20%20%20%20%20%0A%20%20%20%20%0A%20%20%20%20%20%20%20%20var%20popup_e6cfb032d0134b57b96a320bc78bea52%20%3D%20L.popup%28%7B%22maxWidth%22%3A%20%22100%25%22%7D%29%3B%0A%0A%20%20%20%20%20%20%20%20%0A%20%20%20%20%20%20%20%20%20%20%20%20var%20html_6b4ef2c6ec3d477cb2a26d91cbea375c%20%3D%20%24%28%60%3Cdiv%20id%3D%22html_6b4ef2c6ec3d477cb2a26d91cbea375c%22%20style%3D%22width%3A%20100.0%25%3B%20height%3A%20100.0%25%3B%22%3E24.09178468899521%3C/div%3E%60%29%5B0%5D%3B%0A%20%20%20%20%20%20%20%20%20%20%20%20popup_e6cfb032d0134b57b96a320bc78bea52.setContent%28html_6b4ef2c6ec3d477cb2a26d91cbea375c%29%3B%0A%20%20%20%20%20%20%20%20%0A%0A%20%20%20%20%20%20%20%20marker_8a286e73272d4c78b325939eb8714b5f.bindPopup%28popup_e6cfb032d0134b57b96a320bc78bea52%29%0A%20%20%20%20%20%20%20%20%3B%0A%0A%20%20%20%20%20%20%20%20%0A%20%20%20%20%0A%20%20%20%20%0A%20%20%20%20%20%20%20%20%20%20%20%20var%20marker_019e27e5690d4bf983913e8a2054f762%20%3D%20L.marker%28%0A%20%20%20%20%20%20%20%20%20%20%20%20%20%20%20%20%5B12.05%2C%2077.26%5D%2C%0A%20%20%20%20%20%20%20%20%20%20%20%20%20%20%20%20%7B%7D%0A%20%20%20%20%20%20%20%20%20%20%20%20%29.addTo%28map_a4fcbba6517e4ad88a0c9474efcd98df%29%3B%0A%20%20%20%20%20%20%20%20%0A%20%20%20%20%0A%20%20%20%20%20%20%20%20var%20popup_d06a6a01612f446ab982526e255c2f78%20%3D%20L.popup%28%7B%22maxWidth%22%3A%20%22100%25%22%7D%29%3B%0A%0A%20%20%20%20%20%20%20%20%0A%20%20%20%20%20%20%20%20%20%20%20%20var%20html_d4ce74cc78774b428fccf17e914dedf8%20%3D%20%24%28%60%3Cdiv%20id%3D%22html_d4ce74cc78774b428fccf17e914dedf8%22%20style%3D%22width%3A%20100.0%25%3B%20height%3A%20100.0%25%3B%22%3E23.265157894736852%3C/div%3E%60%29%5B0%5D%3B%0A%20%20%20%20%20%20%20%20%20%20%20%20popup_d06a6a01612f446ab982526e255c2f78.setContent%28html_d4ce74cc78774b428fccf17e914dedf8%29%3B%0A%20%20%20%20%20%20%20%20%0A%0A%20%20%20%20%20%20%20%20marker_019e27e5690d4bf983913e8a2054f762.bindPopup%28popup_d06a6a01612f446ab982526e255c2f78%29%0A%20%20%20%20%20%20%20%20%3B%0A%0A%20%20%20%20%20%20%20%20%0A%20%20%20%20%0A%20%20%20%20%0A%20%20%20%20%20%20%20%20%20%20%20%20var%20marker_e34753e6aa1f487383b921058740cc0a%20%3D%20L.marker%28%0A%20%20%20%20%20%20%20%20%20%20%20%20%20%20%20%20%5B12.05%2C%2077.26%5D%2C%0A%20%20%20%20%20%20%20%20%20%20%20%20%20%20%20%20%7B%7D%0A%20%20%20%20%20%20%20%20%20%20%20%20%29.addTo%28map_a4fcbba6517e4ad88a0c9474efcd98df%29%3B%0A%20%20%20%20%20%20%20%20%0A%20%20%20%20%0A%20%20%20%20%20%20%20%20var%20popup_18d1db660f164d57b9186a25b24c2314%20%3D%20L.popup%28%7B%22maxWidth%22%3A%20%22100%25%22%7D%29%3B%0A%0A%20%20%20%20%20%20%20%20%0A%20%20%20%20%20%20%20%20%20%20%20%20var%20html_478faa1855694975b61f934903413853%20%3D%20%24%28%60%3Cdiv%20id%3D%22html_478faa1855694975b61f934903413853%22%20style%3D%22width%3A%20100.0%25%3B%20height%3A%20100.0%25%3B%22%3E22.29085576923078%3C/div%3E%60%29%5B0%5D%3B%0A%20%20%20%20%20%20%20%20%20%20%20%20popup_18d1db660f164d57b9186a25b24c2314.setContent%28html_478faa1855694975b61f934903413853%29%3B%0A%20%20%20%20%20%20%20%20%0A%0A%20%20%20%20%20%20%20%20marker_e34753e6aa1f487383b921058740cc0a.bindPopup%28popup_18d1db660f164d57b9186a25b24c2314%29%0A%20%20%20%20%20%20%20%20%3B%0A%0A%20%20%20%20%20%20%20%20%0A%20%20%20%20%0A%20%20%20%20%0A%20%20%20%20%20%20%20%20%20%20%20%20var%20marker_0471d460c35946bdba3dc5bda4dc304f%20%3D%20L.marker%28%0A%20%20%20%20%20%20%20%20%20%20%20%20%20%20%20%20%5B18.48%2C%2072.68%5D%2C%0A%20%20%20%20%20%20%20%20%20%20%20%20%20%20%20%20%7B%7D%0A%20%20%20%20%20%20%20%20%20%20%20%20%29.addTo%28map_a4fcbba6517e4ad88a0c9474efcd98df%29%3B%0A%20%20%20%20%20%20%20%20%0A%20%20%20%20%0A%20%20%20%20%20%20%20%20var%20popup_b71e67395dc949e4bfc47c4b9a662175%20%3D%20L.popup%28%7B%22maxWidth%22%3A%20%22100%25%22%7D%29%3B%0A%0A%20%20%20%20%20%20%20%20%0A%20%20%20%20%20%20%20%20%20%20%20%20var%20html_f63218ff86814b64a36d978f36d3ee26%20%3D%20%24%28%60%3Cdiv%20id%3D%22html_f63218ff86814b64a36d978f36d3ee26%22%20style%3D%22width%3A%20100.0%25%3B%20height%3A%20100.0%25%3B%22%3E24.19209523809525%3C/div%3E%60%29%5B0%5D%3B%0A%20%20%20%20%20%20%20%20%20%20%20%20popup_b71e67395dc949e4bfc47c4b9a662175.setContent%28html_f63218ff86814b64a36d978f36d3ee26%29%3B%0A%20%20%20%20%20%20%20%20%0A%0A%20%20%20%20%20%20%20%20marker_0471d460c35946bdba3dc5bda4dc304f.bindPopup%28popup_b71e67395dc949e4bfc47c4b9a662175%29%0A%20%20%20%20%20%20%20%20%3B%0A%0A%20%20%20%20%20%20%20%20%0A%20%20%20%20%0A%20%20%20%20%0A%20%20%20%20%20%20%20%20%20%20%20%20var%20marker_ef05f38c6b614238aab549ea2db7ff41%20%3D%20L.marker%28%0A%20%20%20%20%20%20%20%20%20%20%20%20%20%20%20%20%5B18.48%2C%2072.68%5D%2C%0A%20%20%20%20%20%20%20%20%20%20%20%20%20%20%20%20%7B%7D%0A%20%20%20%20%20%20%20%20%20%20%20%20%29.addTo%28map_a4fcbba6517e4ad88a0c9474efcd98df%29%3B%0A%20%20%20%20%20%20%20%20%0A%20%20%20%20%0A%20%20%20%20%20%20%20%20var%20popup_8e469952d46a4358abb14d1935597a55%20%3D%20L.popup%28%7B%22maxWidth%22%3A%20%22100%25%22%7D%29%3B%0A%0A%20%20%20%20%20%20%20%20%0A%20%20%20%20%20%20%20%20%20%20%20%20var%20html_eda651c313fd4bb98ba77a8cf9d0b0d1%20%3D%20%24%28%60%3Cdiv%20id%3D%22html_eda651c313fd4bb98ba77a8cf9d0b0d1%22%20style%3D%22width%3A%20100.0%25%3B%20height%3A%20100.0%25%3B%22%3E24.039885714285724%3C/div%3E%60%29%5B0%5D%3B%0A%20%20%20%20%20%20%20%20%20%20%20%20popup_8e469952d46a4358abb14d1935597a55.setContent%28html_eda651c313fd4bb98ba77a8cf9d0b0d1%29%3B%0A%20%20%20%20%20%20%20%20%0A%0A%20%20%20%20%20%20%20%20marker_ef05f38c6b614238aab549ea2db7ff41.bindPopup%28popup_8e469952d46a4358abb14d1935597a55%29%0A%20%20%20%20%20%20%20%20%3B%0A%0A%20%20%20%20%20%20%20%20%0A%20%20%20%20%0A%20%20%20%20%0A%20%20%20%20%20%20%20%20%20%20%20%20var%20marker_a3a66d2aae2d49e0b58f0d47d1ae5ece%20%3D%20L.marker%28%0A%20%20%20%20%20%20%20%20%20%20%20%20%20%20%20%20%5B18.48%2C%2072.68%5D%2C%0A%20%20%20%20%20%20%20%20%20%20%20%20%20%20%20%20%7B%7D%0A%20%20%20%20%20%20%20%20%20%20%20%20%29.addTo%28map_a4fcbba6517e4ad88a0c9474efcd98df%29%3B%0A%20%20%20%20%20%20%20%20%0A%20%20%20%20%0A%20%20%20%20%20%20%20%20var%20popup_376e3fa2d5d34599a5ec7195953a214b%20%3D%20L.popup%28%7B%22maxWidth%22%3A%20%22100%25%22%7D%29%3B%0A%0A%20%20%20%20%20%20%20%20%0A%20%20%20%20%20%20%20%20%20%20%20%20var%20html_a2025e76eb6b4c65953f5aa4183e1451%20%3D%20%24%28%60%3Cdiv%20id%3D%22html_a2025e76eb6b4c65953f5aa4183e1451%22%20style%3D%22width%3A%20100.0%25%3B%20height%3A%20100.0%25%3B%22%3E25.673476190476183%3C/div%3E%60%29%5B0%5D%3B%0A%20%20%20%20%20%20%20%20%20%20%20%20popup_376e3fa2d5d34599a5ec7195953a214b.setContent%28html_a2025e76eb6b4c65953f5aa4183e1451%29%3B%0A%20%20%20%20%20%20%20%20%0A%0A%20%20%20%20%20%20%20%20marker_a3a66d2aae2d49e0b58f0d47d1ae5ece.bindPopup%28popup_376e3fa2d5d34599a5ec7195953a214b%29%0A%20%20%20%20%20%20%20%20%3B%0A%0A%20%20%20%20%20%20%20%20%0A%20%20%20%20%0A%20%20%20%20%0A%20%20%20%20%20%20%20%20%20%20%20%20var%20marker_eefa90c0fb914a0b8bf5a9943618390f%20%3D%20L.marker%28%0A%20%20%20%20%20%20%20%20%20%20%20%20%20%20%20%20%5B18.48%2C%2072.68%5D%2C%0A%20%20%20%20%20%20%20%20%20%20%20%20%20%20%20%20%7B%7D%0A%20%20%20%20%20%20%20%20%20%20%20%20%29.addTo%28map_a4fcbba6517e4ad88a0c9474efcd98df%29%3B%0A%20%20%20%20%20%20%20%20%0A%20%20%20%20%0A%20%20%20%20%20%20%20%20var%20popup_fb20c64a7f6041639a3ad3b08dedb648%20%3D%20L.popup%28%7B%22maxWidth%22%3A%20%22100%25%22%7D%29%3B%0A%0A%20%20%20%20%20%20%20%20%0A%20%20%20%20%20%20%20%20%20%20%20%20var%20html_d35938c6cdd34257a1793d05f626013e%20%3D%20%24%28%60%3Cdiv%20id%3D%22html_d35938c6cdd34257a1793d05f626013e%22%20style%3D%22width%3A%20100.0%25%3B%20height%3A%20100.0%25%3B%22%3E27.413801932367146%3C/div%3E%60%29%5B0%5D%3B%0A%20%20%20%20%20%20%20%20%20%20%20%20popup_fb20c64a7f6041639a3ad3b08dedb648.setContent%28html_d35938c6cdd34257a1793d05f626013e%29%3B%0A%20%20%20%20%20%20%20%20%0A%0A%20%20%20%20%20%20%20%20marker_eefa90c0fb914a0b8bf5a9943618390f.bindPopup%28popup_fb20c64a7f6041639a3ad3b08dedb648%29%0A%20%20%20%20%20%20%20%20%3B%0A%0A%20%20%20%20%20%20%20%20%0A%20%20%20%20%0A%20%20%20%20%0A%20%20%20%20%20%20%20%20%20%20%20%20var%20marker_262826cac0ff4b7bbfd69291a1a1fa26%20%3D%20L.marker%28%0A%20%20%20%20%20%20%20%20%20%20%20%20%20%20%20%20%5B18.48%2C%2072.68%5D%2C%0A%20%20%20%20%20%20%20%20%20%20%20%20%20%20%20%20%7B%7D%0A%20%20%20%20%20%20%20%20%20%20%20%20%29.addTo%28map_a4fcbba6517e4ad88a0c9474efcd98df%29%3B%0A%20%20%20%20%20%20%20%20%0A%20%20%20%20%0A%20%20%20%20%20%20%20%20var%20popup_a2be582fcba847bdb5097b5f9cc73d64%20%3D%20L.popup%28%7B%22maxWidth%22%3A%20%22100%25%22%7D%29%3B%0A%0A%20%20%20%20%20%20%20%20%0A%20%20%20%20%20%20%20%20%20%20%20%20var%20html_e88ef9401e48425abaf9267bddad8abc%20%3D%20%24%28%60%3Cdiv%20id%3D%22html_e88ef9401e48425abaf9267bddad8abc%22%20style%3D%22width%3A%20100.0%25%3B%20height%3A%20100.0%25%3B%22%3E28.902565217391288%3C/div%3E%60%29%5B0%5D%3B%0A%20%20%20%20%20%20%20%20%20%20%20%20popup_a2be582fcba847bdb5097b5f9cc73d64.setContent%28html_e88ef9401e48425abaf9267bddad8abc%29%3B%0A%20%20%20%20%20%20%20%20%0A%0A%20%20%20%20%20%20%20%20marker_262826cac0ff4b7bbfd69291a1a1fa26.bindPopup%28popup_a2be582fcba847bdb5097b5f9cc73d64%29%0A%20%20%20%20%20%20%20%20%3B%0A%0A%20%20%20%20%20%20%20%20%0A%20%20%20%20%0A%20%20%20%20%0A%20%20%20%20%20%20%20%20%20%20%20%20var%20marker_9d3d275c3d7b46d884c917052e888481%20%3D%20L.marker%28%0A%20%20%20%20%20%20%20%20%20%20%20%20%20%20%20%20%5B18.48%2C%2072.68%5D%2C%0A%20%20%20%20%20%20%20%20%20%20%20%20%20%20%20%20%7B%7D%0A%20%20%20%20%20%20%20%20%20%20%20%20%29.addTo%28map_a4fcbba6517e4ad88a0c9474efcd98df%29%3B%0A%20%20%20%20%20%20%20%20%0A%20%20%20%20%0A%20%20%20%20%20%20%20%20var%20popup_70b02b25403b44e78650fc9fdc30b653%20%3D%20L.popup%28%7B%22maxWidth%22%3A%20%22100%25%22%7D%29%3B%0A%0A%20%20%20%20%20%20%20%20%0A%20%20%20%20%20%20%20%20%20%20%20%20var%20html_2c258913990840d08ac204b59dd3c6c2%20%3D%20%24%28%60%3Cdiv%20id%3D%22html_2c258913990840d08ac204b59dd3c6c2%22%20style%3D%22width%3A%20100.0%25%3B%20height%3A%20100.0%25%3B%22%3E28.271755980861236%3C/div%3E%60%29%5B0%5D%3B%0A%20%20%20%20%20%20%20%20%20%20%20%20popup_70b02b25403b44e78650fc9fdc30b653.setContent%28html_2c258913990840d08ac204b59dd3c6c2%29%3B%0A%20%20%20%20%20%20%20%20%0A%0A%20%20%20%20%20%20%20%20marker_9d3d275c3d7b46d884c917052e888481.bindPopup%28popup_70b02b25403b44e78650fc9fdc30b653%29%0A%20%20%20%20%20%20%20%20%3B%0A%0A%20%20%20%20%20%20%20%20%0A%20%20%20%20%0A%20%20%20%20%0A%20%20%20%20%20%20%20%20%20%20%20%20var%20marker_d283b83bd5b447c2b46d3e193d76ac9f%20%3D%20L.marker%28%0A%20%20%20%20%20%20%20%20%20%20%20%20%20%20%20%20%5B18.48%2C%2072.68%5D%2C%0A%20%20%20%20%20%20%20%20%20%20%20%20%20%20%20%20%7B%7D%0A%20%20%20%20%20%20%20%20%20%20%20%20%29.addTo%28map_a4fcbba6517e4ad88a0c9474efcd98df%29%3B%0A%20%20%20%20%20%20%20%20%0A%20%20%20%20%0A%20%20%20%20%20%20%20%20var%20popup_495cf3f837f548cb8b9a46fabc1c0f43%20%3D%20L.popup%28%7B%22maxWidth%22%3A%20%22100%25%22%7D%29%3B%0A%0A%20%20%20%20%20%20%20%20%0A%20%20%20%20%20%20%20%20%20%20%20%20var%20html_cfa9f9ca109f47a7b25b20d9825a7888%20%3D%20%24%28%60%3Cdiv%20id%3D%22html_cfa9f9ca109f47a7b25b20d9825a7888%22%20style%3D%22width%3A%20100.0%25%3B%20height%3A%20100.0%25%3B%22%3E27.078728571428556%3C/div%3E%60%29%5B0%5D%3B%0A%20%20%20%20%20%20%20%20%20%20%20%20popup_495cf3f837f548cb8b9a46fabc1c0f43.setContent%28html_cfa9f9ca109f47a7b25b20d9825a7888%29%3B%0A%20%20%20%20%20%20%20%20%0A%0A%20%20%20%20%20%20%20%20marker_d283b83bd5b447c2b46d3e193d76ac9f.bindPopup%28popup_495cf3f837f548cb8b9a46fabc1c0f43%29%0A%20%20%20%20%20%20%20%20%3B%0A%0A%20%20%20%20%20%20%20%20%0A%20%20%20%20%0A%20%20%20%20%0A%20%20%20%20%20%20%20%20%20%20%20%20var%20marker_e61a1d3a80634f4a84d5f1aea0cc6df3%20%3D%20L.marker%28%0A%20%20%20%20%20%20%20%20%20%20%20%20%20%20%20%20%5B18.48%2C%2072.68%5D%2C%0A%20%20%20%20%20%20%20%20%20%20%20%20%20%20%20%20%7B%7D%0A%20%20%20%20%20%20%20%20%20%20%20%20%29.addTo%28map_a4fcbba6517e4ad88a0c9474efcd98df%29%3B%0A%20%20%20%20%20%20%20%20%0A%20%20%20%20%0A%20%20%20%20%20%20%20%20var%20popup_6256d129cc7344189dd5272a07c3a739%20%3D%20L.popup%28%7B%22maxWidth%22%3A%20%22100%25%22%7D%29%3B%0A%0A%20%20%20%20%20%20%20%20%0A%20%20%20%20%20%20%20%20%20%20%20%20var%20html_619375905171477296259988f99a0b92%20%3D%20%24%28%60%3Cdiv%20id%3D%22html_619375905171477296259988f99a0b92%22%20style%3D%22width%3A%20100.0%25%3B%20height%3A%20100.0%25%3B%22%3E26.61944761904763%3C/div%3E%60%29%5B0%5D%3B%0A%20%20%20%20%20%20%20%20%20%20%20%20popup_6256d129cc7344189dd5272a07c3a739.setContent%28html_619375905171477296259988f99a0b92%29%3B%0A%20%20%20%20%20%20%20%20%0A%0A%20%20%20%20%20%20%20%20marker_e61a1d3a80634f4a84d5f1aea0cc6df3.bindPopup%28popup_6256d129cc7344189dd5272a07c3a739%29%0A%20%20%20%20%20%20%20%20%3B%0A%0A%20%20%20%20%20%20%20%20%0A%20%20%20%20%0A%20%20%20%20%0A%20%20%20%20%20%20%20%20%20%20%20%20var%20marker_3b1da345c87b46e1bf2611c584c1606f%20%3D%20L.marker%28%0A%20%20%20%20%20%20%20%20%20%20%20%20%20%20%20%20%5B18.48%2C%2072.68%5D%2C%0A%20%20%20%20%20%20%20%20%20%20%20%20%20%20%20%20%7B%7D%0A%20%20%20%20%20%20%20%20%20%20%20%20%29.addTo%28map_a4fcbba6517e4ad88a0c9474efcd98df%29%3B%0A%20%20%20%20%20%20%20%20%0A%20%20%20%20%0A%20%20%20%20%20%20%20%20var%20popup_3942ddcc501647d4bcf4f6feefeda692%20%3D%20L.popup%28%7B%22maxWidth%22%3A%20%22100%25%22%7D%29%3B%0A%0A%20%20%20%20%20%20%20%20%0A%20%20%20%20%20%20%20%20%20%20%20%20var%20html_e01a99b4f4cb4cbebe0d2e2e51e662e7%20%3D%20%24%28%60%3Cdiv%20id%3D%22html_e01a99b4f4cb4cbebe0d2e2e51e662e7%22%20style%3D%22width%3A%20100.0%25%3B%20height%3A%20100.0%25%3B%22%3E26.861770334928227%3C/div%3E%60%29%5B0%5D%3B%0A%20%20%20%20%20%20%20%20%20%20%20%20popup_3942ddcc501647d4bcf4f6feefeda692.setContent%28html_e01a99b4f4cb4cbebe0d2e2e51e662e7%29%3B%0A%20%20%20%20%20%20%20%20%0A%0A%20%20%20%20%20%20%20%20marker_3b1da345c87b46e1bf2611c584c1606f.bindPopup%28popup_3942ddcc501647d4bcf4f6feefeda692%29%0A%20%20%20%20%20%20%20%20%3B%0A%0A%20%20%20%20%20%20%20%20%0A%20%20%20%20%0A%20%20%20%20%0A%20%20%20%20%20%20%20%20%20%20%20%20var%20marker_d52fa8accb694e92bb823a4837e68bc6%20%3D%20L.marker%28%0A%20%20%20%20%20%20%20%20%20%20%20%20%20%20%20%20%5B18.48%2C%2072.68%5D%2C%0A%20%20%20%20%20%20%20%20%20%20%20%20%20%20%20%20%7B%7D%0A%20%20%20%20%20%20%20%20%20%20%20%20%29.addTo%28map_a4fcbba6517e4ad88a0c9474efcd98df%29%3B%0A%20%20%20%20%20%20%20%20%0A%20%20%20%20%0A%20%20%20%20%20%20%20%20var%20popup_d1ed7010f45d44409b9016112a0e6b60%20%3D%20L.popup%28%7B%22maxWidth%22%3A%20%22100%25%22%7D%29%3B%0A%0A%20%20%20%20%20%20%20%20%0A%20%20%20%20%20%20%20%20%20%20%20%20var%20html_d73efd219b124f3cbe0f358fb824cc28%20%3D%20%24%28%60%3Cdiv%20id%3D%22html_d73efd219b124f3cbe0f358fb824cc28%22%20style%3D%22width%3A%20100.0%25%3B%20height%3A%20100.0%25%3B%22%3E27.69363157894736%3C/div%3E%60%29%5B0%5D%3B%0A%20%20%20%20%20%20%20%20%20%20%20%20popup_d1ed7010f45d44409b9016112a0e6b60.setContent%28html_d73efd219b124f3cbe0f358fb824cc28%29%3B%0A%20%20%20%20%20%20%20%20%0A%0A%20%20%20%20%20%20%20%20marker_d52fa8accb694e92bb823a4837e68bc6.bindPopup%28popup_d1ed7010f45d44409b9016112a0e6b60%29%0A%20%20%20%20%20%20%20%20%3B%0A%0A%20%20%20%20%20%20%20%20%0A%20%20%20%20%0A%20%20%20%20%0A%20%20%20%20%20%20%20%20%20%20%20%20var%20marker_a7b10aa3c19c4ad88348d580a0acc51d%20%3D%20L.marker%28%0A%20%20%20%20%20%20%20%20%20%20%20%20%20%20%20%20%5B18.48%2C%2072.68%5D%2C%0A%20%20%20%20%20%20%20%20%20%20%20%20%20%20%20%20%7B%7D%0A%20%20%20%20%20%20%20%20%20%20%20%20%29.addTo%28map_a4fcbba6517e4ad88a0c9474efcd98df%29%3B%0A%20%20%20%20%20%20%20%20%0A%20%20%20%20%0A%20%20%20%20%20%20%20%20var%20popup_a7eba39a9c5b4b04b6202303d30929b3%20%3D%20L.popup%28%7B%22maxWidth%22%3A%20%22100%25%22%7D%29%3B%0A%0A%20%20%20%20%20%20%20%20%0A%20%20%20%20%20%20%20%20%20%20%20%20var%20html_272bca5198854258930796edbfa89b0b%20%3D%20%24%28%60%3Cdiv%20id%3D%22html_272bca5198854258930796edbfa89b0b%22%20style%3D%22width%3A%20100.0%25%3B%20height%3A%20100.0%25%3B%22%3E27.306114832535897%3C/div%3E%60%29%5B0%5D%3B%0A%20%20%20%20%20%20%20%20%20%20%20%20popup_a7eba39a9c5b4b04b6202303d30929b3.setContent%28html_272bca5198854258930796edbfa89b0b%29%3B%0A%20%20%20%20%20%20%20%20%0A%0A%20%20%20%20%20%20%20%20marker_a7b10aa3c19c4ad88348d580a0acc51d.bindPopup%28popup_a7eba39a9c5b4b04b6202303d30929b3%29%0A%20%20%20%20%20%20%20%20%3B%0A%0A%20%20%20%20%20%20%20%20%0A%20%20%20%20%0A%20%20%20%20%0A%20%20%20%20%20%20%20%20%20%20%20%20var%20marker_722544312e244b08b029d76756ee4902%20%3D%20L.marker%28%0A%20%20%20%20%20%20%20%20%20%20%20%20%20%20%20%20%5B18.48%2C%2072.68%5D%2C%0A%20%20%20%20%20%20%20%20%20%20%20%20%20%20%20%20%7B%7D%0A%20%20%20%20%20%20%20%20%20%20%20%20%29.addTo%28map_a4fcbba6517e4ad88a0c9474efcd98df%29%3B%0A%20%20%20%20%20%20%20%20%0A%20%20%20%20%0A%20%20%20%20%20%20%20%20var%20popup_2a3b9c6b63d94ac586018eeef389c63d%20%3D%20L.popup%28%7B%22maxWidth%22%3A%20%22100%25%22%7D%29%3B%0A%0A%20%20%20%20%20%20%20%20%0A%20%20%20%20%20%20%20%20%20%20%20%20var%20html_887a9015c9504d17b66afeb78258e3f2%20%3D%20%24%28%60%3Cdiv%20id%3D%22html_887a9015c9504d17b66afeb78258e3f2%22%20style%3D%22width%3A%20100.0%25%3B%20height%3A%20100.0%25%3B%22%3E25.574889423076918%3C/div%3E%60%29%5B0%5D%3B%0A%20%20%20%20%20%20%20%20%20%20%20%20popup_2a3b9c6b63d94ac586018eeef389c63d.setContent%28html_887a9015c9504d17b66afeb78258e3f2%29%3B%0A%20%20%20%20%20%20%20%20%0A%0A%20%20%20%20%20%20%20%20marker_722544312e244b08b029d76756ee4902.bindPopup%28popup_2a3b9c6b63d94ac586018eeef389c63d%29%0A%20%20%20%20%20%20%20%20%3B%0A%0A%20%20%20%20%20%20%20%20%0A%20%20%20%20%0A%20%20%20%20%0A%20%20%20%20%20%20%20%20%20%20%20%20var%20marker_319aa4fa111d432e931b71d7d20d7dff%20%3D%20L.marker%28%0A%20%20%20%20%20%20%20%20%20%20%20%20%20%20%20%20%5B16.87%2C%2078.7%5D%2C%0A%20%20%20%20%20%20%20%20%20%20%20%20%20%20%20%20%7B%7D%0A%20%20%20%20%20%20%20%20%20%20%20%20%29.addTo%28map_a4fcbba6517e4ad88a0c9474efcd98df%29%3B%0A%20%20%20%20%20%20%20%20%0A%20%20%20%20%0A%20%20%20%20%20%20%20%20var%20popup_a522e1f3500c412ab43f42f2cb8aee06%20%3D%20L.popup%28%7B%22maxWidth%22%3A%20%22100%25%22%7D%29%3B%0A%0A%20%20%20%20%20%20%20%20%0A%20%20%20%20%20%20%20%20%20%20%20%20var%20html_c481c9eb748f4cd9b8dfa40d0367e3f8%20%3D%20%24%28%60%3Cdiv%20id%3D%22html_c481c9eb748f4cd9b8dfa40d0367e3f8%22%20style%3D%22width%3A%20100.0%25%3B%20height%3A%20100.0%25%3B%22%3E22.75829047619048%3C/div%3E%60%29%5B0%5D%3B%0A%20%20%20%20%20%20%20%20%20%20%20%20popup_a522e1f3500c412ab43f42f2cb8aee06.setContent%28html_c481c9eb748f4cd9b8dfa40d0367e3f8%29%3B%0A%20%20%20%20%20%20%20%20%0A%0A%20%20%20%20%20%20%20%20marker_319aa4fa111d432e931b71d7d20d7dff.bindPopup%28popup_a522e1f3500c412ab43f42f2cb8aee06%29%0A%20%20%20%20%20%20%20%20%3B%0A%0A%20%20%20%20%20%20%20%20%0A%20%20%20%20%0A%20%20%20%20%0A%20%20%20%20%20%20%20%20%20%20%20%20var%20marker_ee0f4b6c3fac4431a1096584aa3f6753%20%3D%20L.marker%28%0A%20%20%20%20%20%20%20%20%20%20%20%20%20%20%20%20%5B16.87%2C%2078.7%5D%2C%0A%20%20%20%20%20%20%20%20%20%20%20%20%20%20%20%20%7B%7D%0A%20%20%20%20%20%20%20%20%20%20%20%20%29.addTo%28map_a4fcbba6517e4ad88a0c9474efcd98df%29%3B%0A%20%20%20%20%20%20%20%20%0A%20%20%20%20%0A%20%20%20%20%20%20%20%20var%20popup_b6c36d7728474f6ea7731e99a6ee4eb0%20%3D%20L.popup%28%7B%22maxWidth%22%3A%20%22100%25%22%7D%29%3B%0A%0A%20%20%20%20%20%20%20%20%0A%20%20%20%20%20%20%20%20%20%20%20%20var%20html_dc442f7451bf45a69ebe6a4f566c535d%20%3D%20%24%28%60%3Cdiv%20id%3D%22html_dc442f7451bf45a69ebe6a4f566c535d%22%20style%3D%22width%3A%20100.0%25%3B%20height%3A%20100.0%25%3B%22%3E25.31707619047618%3C/div%3E%60%29%5B0%5D%3B%0A%20%20%20%20%20%20%20%20%20%20%20%20popup_b6c36d7728474f6ea7731e99a6ee4eb0.setContent%28html_dc442f7451bf45a69ebe6a4f566c535d%29%3B%0A%20%20%20%20%20%20%20%20%0A%0A%20%20%20%20%20%20%20%20marker_ee0f4b6c3fac4431a1096584aa3f6753.bindPopup%28popup_b6c36d7728474f6ea7731e99a6ee4eb0%29%0A%20%20%20%20%20%20%20%20%3B%0A%0A%20%20%20%20%20%20%20%20%0A%20%20%20%20%0A%20%20%20%20%0A%20%20%20%20%20%20%20%20%20%20%20%20var%20marker_ccd9a42f75b241c4bd983fc164cf2f34%20%3D%20L.marker%28%0A%20%20%20%20%20%20%20%20%20%20%20%20%20%20%20%20%5B16.87%2C%2078.7%5D%2C%0A%20%20%20%20%20%20%20%20%20%20%20%20%20%20%20%20%7B%7D%0A%20%20%20%20%20%20%20%20%20%20%20%20%29.addTo%28map_a4fcbba6517e4ad88a0c9474efcd98df%29%3B%0A%20%20%20%20%20%20%20%20%0A%20%20%20%20%0A%20%20%20%20%20%20%20%20var%20popup_5d68f4e0f1ed45128e0fcfe490e42fc7%20%3D%20L.popup%28%7B%22maxWidth%22%3A%20%22100%25%22%7D%29%3B%0A%0A%20%20%20%20%20%20%20%20%0A%20%20%20%20%20%20%20%20%20%20%20%20var%20html_7c7038c103904cbcb312bb390a928016%20%3D%20%24%28%60%3Cdiv%20id%3D%22html_7c7038c103904cbcb312bb390a928016%22%20style%3D%22width%3A%20100.0%25%3B%20height%3A%20100.0%25%3B%22%3E28.803542857142848%3C/div%3E%60%29%5B0%5D%3B%0A%20%20%20%20%20%20%20%20%20%20%20%20popup_5d68f4e0f1ed45128e0fcfe490e42fc7.setContent%28html_7c7038c103904cbcb312bb390a928016%29%3B%0A%20%20%20%20%20%20%20%20%0A%0A%20%20%20%20%20%20%20%20marker_ccd9a42f75b241c4bd983fc164cf2f34.bindPopup%28popup_5d68f4e0f1ed45128e0fcfe490e42fc7%29%0A%20%20%20%20%20%20%20%20%3B%0A%0A%20%20%20%20%20%20%20%20%0A%20%20%20%20%0A%20%20%20%20%0A%20%20%20%20%20%20%20%20%20%20%20%20var%20marker_43907e66404c48dc9e15d49f4d7f17ea%20%3D%20L.marker%28%0A%20%20%20%20%20%20%20%20%20%20%20%20%20%20%20%20%5B16.87%2C%2078.7%5D%2C%0A%20%20%20%20%20%20%20%20%20%20%20%20%20%20%20%20%7B%7D%0A%20%20%20%20%20%20%20%20%20%20%20%20%29.addTo%28map_a4fcbba6517e4ad88a0c9474efcd98df%29%3B%0A%20%20%20%20%20%20%20%20%0A%20%20%20%20%0A%20%20%20%20%20%20%20%20var%20popup_90c27ad5592c49928cb89ebd42ec8afa%20%3D%20L.popup%28%7B%22maxWidth%22%3A%20%22100%25%22%7D%29%3B%0A%0A%20%20%20%20%20%20%20%20%0A%20%20%20%20%20%20%20%20%20%20%20%20var%20html_30a4656d0e96419c9a59dffc43101928%20%3D%20%24%28%60%3Cdiv%20id%3D%22html_30a4656d0e96419c9a59dffc43101928%22%20style%3D%22width%3A%20100.0%25%3B%20height%3A%20100.0%25%3B%22%3E31.4655652173913%3C/div%3E%60%29%5B0%5D%3B%0A%20%20%20%20%20%20%20%20%20%20%20%20popup_90c27ad5592c49928cb89ebd42ec8afa.setContent%28html_30a4656d0e96419c9a59dffc43101928%29%3B%0A%20%20%20%20%20%20%20%20%0A%0A%20%20%20%20%20%20%20%20marker_43907e66404c48dc9e15d49f4d7f17ea.bindPopup%28popup_90c27ad5592c49928cb89ebd42ec8afa%29%0A%20%20%20%20%20%20%20%20%3B%0A%0A%20%20%20%20%20%20%20%20%0A%20%20%20%20%0A%20%20%20%20%0A%20%20%20%20%20%20%20%20%20%20%20%20var%20marker_ab6294a2462f4306ab760ea818a764b0%20%3D%20L.marker%28%0A%20%20%20%20%20%20%20%20%20%20%20%20%20%20%20%20%5B16.87%2C%2078.7%5D%2C%0A%20%20%20%20%20%20%20%20%20%20%20%20%20%20%20%20%7B%7D%0A%20%20%20%20%20%20%20%20%20%20%20%20%29.addTo%28map_a4fcbba6517e4ad88a0c9474efcd98df%29%3B%0A%20%20%20%20%20%20%20%20%0A%20%20%20%20%0A%20%20%20%20%20%20%20%20var%20popup_4510aadea38d4140931eec294c5ffc85%20%3D%20L.popup%28%7B%22maxWidth%22%3A%20%22100%25%22%7D%29%3B%0A%0A%20%20%20%20%20%20%20%20%0A%20%20%20%20%20%20%20%20%20%20%20%20var%20html_805be66cede04115b23267fdae02e2da%20%3D%20%24%28%60%3Cdiv%20id%3D%22html_805be66cede04115b23267fdae02e2da%22%20style%3D%22width%3A%20100.0%25%3B%20height%3A%20100.0%25%3B%22%3E32.70200483091788%3C/div%3E%60%29%5B0%5D%3B%0A%20%20%20%20%20%20%20%20%20%20%20%20popup_4510aadea38d4140931eec294c5ffc85.setContent%28html_805be66cede04115b23267fdae02e2da%29%3B%0A%20%20%20%20%20%20%20%20%0A%0A%20%20%20%20%20%20%20%20marker_ab6294a2462f4306ab760ea818a764b0.bindPopup%28popup_4510aadea38d4140931eec294c5ffc85%29%0A%20%20%20%20%20%20%20%20%3B%0A%0A%20%20%20%20%20%20%20%20%0A%20%20%20%20%0A%20%20%20%20%0A%20%20%20%20%20%20%20%20%20%20%20%20var%20marker_5e153c4a7d0f4ab7b65bdb32ed96a9cf%20%3D%20L.marker%28%0A%20%20%20%20%20%20%20%20%20%20%20%20%20%20%20%20%5B16.87%2C%2078.7%5D%2C%0A%20%20%20%20%20%20%20%20%20%20%20%20%20%20%20%20%7B%7D%0A%20%20%20%20%20%20%20%20%20%20%20%20%29.addTo%28map_a4fcbba6517e4ad88a0c9474efcd98df%29%3B%0A%20%20%20%20%20%20%20%20%0A%20%20%20%20%0A%20%20%20%20%20%20%20%20var%20popup_982691b4ed9348e382dd97adaa83a93c%20%3D%20L.popup%28%7B%22maxWidth%22%3A%20%22100%25%22%7D%29%3B%0A%0A%20%20%20%20%20%20%20%20%0A%20%20%20%20%20%20%20%20%20%20%20%20var%20html_a550c1a00e624094bbac3d9c98739ec6%20%3D%20%24%28%60%3Cdiv%20id%3D%22html_a550c1a00e624094bbac3d9c98739ec6%22%20style%3D%22width%3A%20100.0%25%3B%20height%3A%20100.0%25%3B%22%3E29.96846889952153%3C/div%3E%60%29%5B0%5D%3B%0A%20%20%20%20%20%20%20%20%20%20%20%20popup_982691b4ed9348e382dd97adaa83a93c.setContent%28html_a550c1a00e624094bbac3d9c98739ec6%29%3B%0A%20%20%20%20%20%20%20%20%0A%0A%20%20%20%20%20%20%20%20marker_5e153c4a7d0f4ab7b65bdb32ed96a9cf.bindPopup%28popup_982691b4ed9348e382dd97adaa83a93c%29%0A%20%20%20%20%20%20%20%20%3B%0A%0A%20%20%20%20%20%20%20%20%0A%20%20%20%20%0A%20%20%20%20%0A%20%20%20%20%20%20%20%20%20%20%20%20var%20marker_a904f0653078471f9cb1abd4fac594b0%20%3D%20L.marker%28%0A%20%20%20%20%20%20%20%20%20%20%20%20%20%20%20%20%5B16.87%2C%2078.7%5D%2C%0A%20%20%20%20%20%20%20%20%20%20%20%20%20%20%20%20%7B%7D%0A%20%20%20%20%20%20%20%20%20%20%20%20%29.addTo%28map_a4fcbba6517e4ad88a0c9474efcd98df%29%3B%0A%20%20%20%20%20%20%20%20%0A%20%20%20%20%0A%20%20%20%20%20%20%20%20var%20popup_1dcde35f96c44f41a7443faa7a5c43ea%20%3D%20L.popup%28%7B%22maxWidth%22%3A%20%22100%25%22%7D%29%3B%0A%0A%20%20%20%20%20%20%20%20%0A%20%20%20%20%20%20%20%20%20%20%20%20var%20html_501b49e51d2c4d919c33fc72f2e43eed%20%3D%20%24%28%60%3Cdiv%20id%3D%22html_501b49e51d2c4d919c33fc72f2e43eed%22%20style%3D%22width%3A%20100.0%25%3B%20height%3A%20100.0%25%3B%22%3E27.21658571428572%3C/div%3E%60%29%5B0%5D%3B%0A%20%20%20%20%20%20%20%20%20%20%20%20popup_1dcde35f96c44f41a7443faa7a5c43ea.setContent%28html_501b49e51d2c4d919c33fc72f2e43eed%29%3B%0A%20%20%20%20%20%20%20%20%0A%0A%20%20%20%20%20%20%20%20marker_a904f0653078471f9cb1abd4fac594b0.bindPopup%28popup_1dcde35f96c44f41a7443faa7a5c43ea%29%0A%20%20%20%20%20%20%20%20%3B%0A%0A%20%20%20%20%20%20%20%20%0A%20%20%20%20%0A%20%20%20%20%0A%20%20%20%20%20%20%20%20%20%20%20%20var%20marker_1e8711d5c8304152bbf37847be175a70%20%3D%20L.marker%28%0A%20%20%20%20%20%20%20%20%20%20%20%20%20%20%20%20%5B16.87%2C%2078.7%5D%2C%0A%20%20%20%20%20%20%20%20%20%20%20%20%20%20%20%20%7B%7D%0A%20%20%20%20%20%20%20%20%20%20%20%20%29.addTo%28map_a4fcbba6517e4ad88a0c9474efcd98df%29%3B%0A%20%20%20%20%20%20%20%20%0A%20%20%20%20%0A%20%20%20%20%20%20%20%20var%20popup_5a17e0e6b8f342caae6f402225c7bfcb%20%3D%20L.popup%28%7B%22maxWidth%22%3A%20%22100%25%22%7D%29%3B%0A%0A%20%20%20%20%20%20%20%20%0A%20%20%20%20%20%20%20%20%20%20%20%20var%20html_260545ae2902433ab12a896666a0440c%20%3D%20%24%28%60%3Cdiv%20id%3D%22html_260545ae2902433ab12a896666a0440c%22%20style%3D%22width%3A%20100.0%25%3B%20height%3A%20100.0%25%3B%22%3E26.57353333333333%3C/div%3E%60%29%5B0%5D%3B%0A%20%20%20%20%20%20%20%20%20%20%20%20popup_5a17e0e6b8f342caae6f402225c7bfcb.setContent%28html_260545ae2902433ab12a896666a0440c%29%3B%0A%20%20%20%20%20%20%20%20%0A%0A%20%20%20%20%20%20%20%20marker_1e8711d5c8304152bbf37847be175a70.bindPopup%28popup_5a17e0e6b8f342caae6f402225c7bfcb%29%0A%20%20%20%20%20%20%20%20%3B%0A%0A%20%20%20%20%20%20%20%20%0A%20%20%20%20%0A%20%20%20%20%0A%20%20%20%20%20%20%20%20%20%20%20%20var%20marker_1d95633b341a49ccaea56c860a562ead%20%3D%20L.marker%28%0A%20%20%20%20%20%20%20%20%20%20%20%20%20%20%20%20%5B16.87%2C%2078.7%5D%2C%0A%20%20%20%20%20%20%20%20%20%20%20%20%20%20%20%20%7B%7D%0A%20%20%20%20%20%20%20%20%20%20%20%20%29.addTo%28map_a4fcbba6517e4ad88a0c9474efcd98df%29%3B%0A%20%20%20%20%20%20%20%20%0A%20%20%20%20%0A%20%20%20%20%20%20%20%20var%20popup_37579abe55ab45f9b46b47eacdfbe2fe%20%3D%20L.popup%28%7B%22maxWidth%22%3A%20%22100%25%22%7D%29%3B%0A%0A%20%20%20%20%20%20%20%20%0A%20%20%20%20%20%20%20%20%20%20%20%20var%20html_4ebe94cb88c44ad29b7e25226549f8ad%20%3D%20%24%28%60%3Cdiv%20id%3D%22html_4ebe94cb88c44ad29b7e25226549f8ad%22%20style%3D%22width%3A%20100.0%25%3B%20height%3A%20100.0%25%3B%22%3E26.640239234449766%3C/div%3E%60%29%5B0%5D%3B%0A%20%20%20%20%20%20%20%20%20%20%20%20popup_37579abe55ab45f9b46b47eacdfbe2fe.setContent%28html_4ebe94cb88c44ad29b7e25226549f8ad%29%3B%0A%20%20%20%20%20%20%20%20%0A%0A%20%20%20%20%20%20%20%20marker_1d95633b341a49ccaea56c860a562ead.bindPopup%28popup_37579abe55ab45f9b46b47eacdfbe2fe%29%0A%20%20%20%20%20%20%20%20%3B%0A%0A%20%20%20%20%20%20%20%20%0A%20%20%20%20%0A%20%20%20%20%0A%20%20%20%20%20%20%20%20%20%20%20%20var%20marker_7728a6a72db24d7198cfda2369d6c55f%20%3D%20L.marker%28%0A%20%20%20%20%20%20%20%20%20%20%20%20%20%20%20%20%5B16.87%2C%2078.7%5D%2C%0A%20%20%20%20%20%20%20%20%20%20%20%20%20%20%20%20%7B%7D%0A%20%20%20%20%20%20%20%20%20%20%20%20%29.addTo%28map_a4fcbba6517e4ad88a0c9474efcd98df%29%3B%0A%20%20%20%20%20%20%20%20%0A%20%20%20%20%0A%20%20%20%20%20%20%20%20var%20popup_86286fb73f5c4b34afbca0a87b8b6f9a%20%3D%20L.popup%28%7B%22maxWidth%22%3A%20%22100%25%22%7D%29%3B%0A%0A%20%20%20%20%20%20%20%20%0A%20%20%20%20%20%20%20%20%20%20%20%20var%20html_bc6a41507eee496bb4000a1bc12ef1ea%20%3D%20%24%28%60%3Cdiv%20id%3D%22html_bc6a41507eee496bb4000a1bc12ef1ea%22%20style%3D%22width%3A%20100.0%25%3B%20height%3A%20100.0%25%3B%22%3E25.679622009569396%3C/div%3E%60%29%5B0%5D%3B%0A%20%20%20%20%20%20%20%20%20%20%20%20popup_86286fb73f5c4b34afbca0a87b8b6f9a.setContent%28html_bc6a41507eee496bb4000a1bc12ef1ea%29%3B%0A%20%20%20%20%20%20%20%20%0A%0A%20%20%20%20%20%20%20%20marker_7728a6a72db24d7198cfda2369d6c55f.bindPopup%28popup_86286fb73f5c4b34afbca0a87b8b6f9a%29%0A%20%20%20%20%20%20%20%20%3B%0A%0A%20%20%20%20%20%20%20%20%0A%20%20%20%20%0A%20%20%20%20%0A%20%20%20%20%20%20%20%20%20%20%20%20var%20marker_bd9f8bf7381a443586c2be6a10ff346e%20%3D%20L.marker%28%0A%20%20%20%20%20%20%20%20%20%20%20%20%20%20%20%20%5B16.87%2C%2078.7%5D%2C%0A%20%20%20%20%20%20%20%20%20%20%20%20%20%20%20%20%7B%7D%0A%20%20%20%20%20%20%20%20%20%20%20%20%29.addTo%28map_a4fcbba6517e4ad88a0c9474efcd98df%29%3B%0A%20%20%20%20%20%20%20%20%0A%20%20%20%20%0A%20%20%20%20%20%20%20%20var%20popup_f4165819edfc41708e7c0dda7580d938%20%3D%20L.popup%28%7B%22maxWidth%22%3A%20%22100%25%22%7D%29%3B%0A%0A%20%20%20%20%20%20%20%20%0A%20%20%20%20%20%20%20%20%20%20%20%20var%20html_5e92e5a448d643a6a5ff38ec402f54bc%20%3D%20%24%28%60%3Cdiv%20id%3D%22html_5e92e5a448d643a6a5ff38ec402f54bc%22%20style%3D%22width%3A%20100.0%25%3B%20height%3A%20100.0%25%3B%22%3E23.50813397129185%3C/div%3E%60%29%5B0%5D%3B%0A%20%20%20%20%20%20%20%20%20%20%20%20popup_f4165819edfc41708e7c0dda7580d938.setContent%28html_5e92e5a448d643a6a5ff38ec402f54bc%29%3B%0A%20%20%20%20%20%20%20%20%0A%0A%20%20%20%20%20%20%20%20marker_bd9f8bf7381a443586c2be6a10ff346e.bindPopup%28popup_f4165819edfc41708e7c0dda7580d938%29%0A%20%20%20%20%20%20%20%20%3B%0A%0A%20%20%20%20%20%20%20%20%0A%20%20%20%20%0A%20%20%20%20%0A%20%20%20%20%20%20%20%20%20%20%20%20var%20marker_dcd95bf043564801afee953a571be3f0%20%3D%20L.marker%28%0A%20%20%20%20%20%20%20%20%20%20%20%20%20%20%20%20%5B16.87%2C%2078.7%5D%2C%0A%20%20%20%20%20%20%20%20%20%20%20%20%20%20%20%20%7B%7D%0A%20%20%20%20%20%20%20%20%20%20%20%20%29.addTo%28map_a4fcbba6517e4ad88a0c9474efcd98df%29%3B%0A%20%20%20%20%20%20%20%20%0A%20%20%20%20%0A%20%20%20%20%20%20%20%20var%20popup_d9503dd3672b4ee1ba95e499644cab33%20%3D%20L.popup%28%7B%22maxWidth%22%3A%20%22100%25%22%7D%29%3B%0A%0A%20%20%20%20%20%20%20%20%0A%20%20%20%20%20%20%20%20%20%20%20%20var%20html_9fd6986c3220451499ffb9dd1f11991a%20%3D%20%24%28%60%3Cdiv%20id%3D%22html_9fd6986c3220451499ffb9dd1f11991a%22%20style%3D%22width%3A%20100.0%25%3B%20height%3A%20100.0%25%3B%22%3E21.89253846153845%3C/div%3E%60%29%5B0%5D%3B%0A%20%20%20%20%20%20%20%20%20%20%20%20popup_d9503dd3672b4ee1ba95e499644cab33.setContent%28html_9fd6986c3220451499ffb9dd1f11991a%29%3B%0A%20%20%20%20%20%20%20%20%0A%0A%20%20%20%20%20%20%20%20marker_dcd95bf043564801afee953a571be3f0.bindPopup%28popup_d9503dd3672b4ee1ba95e499644cab33%29%0A%20%20%20%20%20%20%20%20%3B%0A%0A%20%20%20%20%20%20%20%20%0A%20%20%20%20%0A%20%20%20%20%0A%20%20%20%20%20%20%20%20%20%20%20%20var%20marker_193b222787d6454ca40c9fda3df5dc33%20%3D%20L.marker%28%0A%20%20%20%20%20%20%20%20%20%20%20%20%20%20%20%20%5B13.66%2C%2080.09%5D%2C%0A%20%20%20%20%20%20%20%20%20%20%20%20%20%20%20%20%7B%7D%0A%20%20%20%20%20%20%20%20%20%20%20%20%29.addTo%28map_a4fcbba6517e4ad88a0c9474efcd98df%29%3B%0A%20%20%20%20%20%20%20%20%0A%20%20%20%20%0A%20%20%20%20%20%20%20%20var%20popup_a41f9767c3074effb34ffa2db9fd0520%20%3D%20L.popup%28%7B%22maxWidth%22%3A%20%22100%25%22%7D%29%3B%0A%0A%20%20%20%20%20%20%20%20%0A%20%20%20%20%20%20%20%20%20%20%20%20var%20html_b7db23d8c2a04ac7af8b64beb917c34d%20%3D%20%24%28%60%3Cdiv%20id%3D%22html_b7db23d8c2a04ac7af8b64beb917c34d%22%20style%3D%22width%3A%20100.0%25%3B%20height%3A%20100.0%25%3B%22%3E24.346733333333344%3C/div%3E%60%29%5B0%5D%3B%0A%20%20%20%20%20%20%20%20%20%20%20%20popup_a41f9767c3074effb34ffa2db9fd0520.setContent%28html_b7db23d8c2a04ac7af8b64beb917c34d%29%3B%0A%20%20%20%20%20%20%20%20%0A%0A%20%20%20%20%20%20%20%20marker_193b222787d6454ca40c9fda3df5dc33.bindPopup%28popup_a41f9767c3074effb34ffa2db9fd0520%29%0A%20%20%20%20%20%20%20%20%3B%0A%0A%20%20%20%20%20%20%20%20%0A%20%20%20%20%0A%20%20%20%20%0A%20%20%20%20%20%20%20%20%20%20%20%20var%20marker_cc3254e130824428991cc71cd9ab4616%20%3D%20L.marker%28%0A%20%20%20%20%20%20%20%20%20%20%20%20%20%20%20%20%5B13.66%2C%2080.09%5D%2C%0A%20%20%20%20%20%20%20%20%20%20%20%20%20%20%20%20%7B%7D%0A%20%20%20%20%20%20%20%20%20%20%20%20%29.addTo%28map_a4fcbba6517e4ad88a0c9474efcd98df%29%3B%0A%20%20%20%20%20%20%20%20%0A%20%20%20%20%0A%20%20%20%20%20%20%20%20var%20popup_a23f14c703e24b2892d565fa3d2eed9e%20%3D%20L.popup%28%7B%22maxWidth%22%3A%20%22100%25%22%7D%29%3B%0A%0A%20%20%20%20%20%20%20%20%0A%20%20%20%20%20%20%20%20%20%20%20%20var%20html_a252c8ce2e5e4423a212962ae09d4e8a%20%3D%20%24%28%60%3Cdiv%20id%3D%22html_a252c8ce2e5e4423a212962ae09d4e8a%22%20style%3D%22width%3A%20100.0%25%3B%20height%3A%20100.0%25%3B%22%3E25.831404761904775%3C/div%3E%60%29%5B0%5D%3B%0A%20%20%20%20%20%20%20%20%20%20%20%20popup_a23f14c703e24b2892d565fa3d2eed9e.setContent%28html_a252c8ce2e5e4423a212962ae09d4e8a%29%3B%0A%20%20%20%20%20%20%20%20%0A%0A%20%20%20%20%20%20%20%20marker_cc3254e130824428991cc71cd9ab4616.bindPopup%28popup_a23f14c703e24b2892d565fa3d2eed9e%29%0A%20%20%20%20%20%20%20%20%3B%0A%0A%20%20%20%20%20%20%20%20%0A%20%20%20%20%0A%20%20%20%20%0A%20%20%20%20%20%20%20%20%20%20%20%20var%20marker_ab170e20aa394321b4051a46e4849313%20%3D%20L.marker%28%0A%20%20%20%20%20%20%20%20%20%20%20%20%20%20%20%20%5B13.66%2C%2080.09%5D%2C%0A%20%20%20%20%20%20%20%20%20%20%20%20%20%20%20%20%7B%7D%0A%20%20%20%20%20%20%20%20%20%20%20%20%29.addTo%28map_a4fcbba6517e4ad88a0c9474efcd98df%29%3B%0A%20%20%20%20%20%20%20%20%0A%20%20%20%20%0A%20%20%20%20%20%20%20%20var%20popup_761459461ca349dd9c79f40c43207a8a%20%3D%20L.popup%28%7B%22maxWidth%22%3A%20%22100%25%22%7D%29%3B%0A%0A%20%20%20%20%20%20%20%20%0A%20%20%20%20%20%20%20%20%20%20%20%20var%20html_17a7a1b08d994cfca8c9c55f74a6d1ca%20%3D%20%24%28%60%3Cdiv%20id%3D%22html_17a7a1b08d994cfca8c9c55f74a6d1ca%22%20style%3D%22width%3A%20100.0%25%3B%20height%3A%20100.0%25%3B%22%3E28.11444761904761%3C/div%3E%60%29%5B0%5D%3B%0A%20%20%20%20%20%20%20%20%20%20%20%20popup_761459461ca349dd9c79f40c43207a8a.setContent%28html_17a7a1b08d994cfca8c9c55f74a6d1ca%29%3B%0A%20%20%20%20%20%20%20%20%0A%0A%20%20%20%20%20%20%20%20marker_ab170e20aa394321b4051a46e4849313.bindPopup%28popup_761459461ca349dd9c79f40c43207a8a%29%0A%20%20%20%20%20%20%20%20%3B%0A%0A%20%20%20%20%20%20%20%20%0A%20%20%20%20%0A%20%20%20%20%0A%20%20%20%20%20%20%20%20%20%20%20%20var%20marker_c7e4b158127f478f838c4fea58caab8f%20%3D%20L.marker%28%0A%20%20%20%20%20%20%20%20%20%20%20%20%20%20%20%20%5B13.66%2C%2080.09%5D%2C%0A%20%20%20%20%20%20%20%20%20%20%20%20%20%20%20%20%7B%7D%0A%20%20%20%20%20%20%20%20%20%20%20%20%29.addTo%28map_a4fcbba6517e4ad88a0c9474efcd98df%29%3B%0A%20%20%20%20%20%20%20%20%0A%20%20%20%20%0A%20%20%20%20%20%20%20%20var%20popup_0da361171e044fed90be7558ecc19c74%20%3D%20L.popup%28%7B%22maxWidth%22%3A%20%22100%25%22%7D%29%3B%0A%0A%20%20%20%20%20%20%20%20%0A%20%20%20%20%20%20%20%20%20%20%20%20var%20html_4b1efd1e71a04dcf900c87554b07c613%20%3D%20%24%28%60%3Cdiv%20id%3D%22html_4b1efd1e71a04dcf900c87554b07c613%22%20style%3D%22width%3A%20100.0%25%3B%20height%3A%20100.0%25%3B%22%3E30.441304347826076%3C/div%3E%60%29%5B0%5D%3B%0A%20%20%20%20%20%20%20%20%20%20%20%20popup_0da361171e044fed90be7558ecc19c74.setContent%28html_4b1efd1e71a04dcf900c87554b07c613%29%3B%0A%20%20%20%20%20%20%20%20%0A%0A%20%20%20%20%20%20%20%20marker_c7e4b158127f478f838c4fea58caab8f.bindPopup%28popup_0da361171e044fed90be7558ecc19c74%29%0A%20%20%20%20%20%20%20%20%3B%0A%0A%20%20%20%20%20%20%20%20%0A%20%20%20%20%0A%20%20%20%20%0A%20%20%20%20%20%20%20%20%20%20%20%20var%20marker_8a467f7a460442ec975a8fdfb8fadc69%20%3D%20L.marker%28%0A%20%20%20%20%20%20%20%20%20%20%20%20%20%20%20%20%5B13.66%2C%2080.09%5D%2C%0A%20%20%20%20%20%20%20%20%20%20%20%20%20%20%20%20%7B%7D%0A%20%20%20%20%20%20%20%20%20%20%20%20%29.addTo%28map_a4fcbba6517e4ad88a0c9474efcd98df%29%3B%0A%20%20%20%20%20%20%20%20%0A%20%20%20%20%0A%20%20%20%20%20%20%20%20var%20popup_fe0b9180513c47f9a8188aa28846ca9b%20%3D%20L.popup%28%7B%22maxWidth%22%3A%20%22100%25%22%7D%29%3B%0A%0A%20%20%20%20%20%20%20%20%0A%20%20%20%20%20%20%20%20%20%20%20%20var%20html_c9f1ff237ed64d15b8f4c353df4b4004%20%3D%20%24%28%60%3Cdiv%20id%3D%22html_c9f1ff237ed64d15b8f4c353df4b4004%22%20style%3D%22width%3A%20100.0%25%3B%20height%3A%20100.0%25%3B%22%3E32.58195169082126%3C/div%3E%60%29%5B0%5D%3B%0A%20%20%20%20%20%20%20%20%20%20%20%20popup_fe0b9180513c47f9a8188aa28846ca9b.setContent%28html_c9f1ff237ed64d15b8f4c353df4b4004%29%3B%0A%20%20%20%20%20%20%20%20%0A%0A%20%20%20%20%20%20%20%20marker_8a467f7a460442ec975a8fdfb8fadc69.bindPopup%28popup_fe0b9180513c47f9a8188aa28846ca9b%29%0A%20%20%20%20%20%20%20%20%3B%0A%0A%20%20%20%20%20%20%20%20%0A%20%20%20%20%0A%20%20%20%20%0A%20%20%20%20%20%20%20%20%20%20%20%20var%20marker_a14ca5f40d44440495afe5ccae56ff7f%20%3D%20L.marker%28%0A%20%20%20%20%20%20%20%20%20%20%20%20%20%20%20%20%5B13.66%2C%2080.09%5D%2C%0A%20%20%20%20%20%20%20%20%20%20%20%20%20%20%20%20%7B%7D%0A%20%20%20%20%20%20%20%20%20%20%20%20%29.addTo%28map_a4fcbba6517e4ad88a0c9474efcd98df%29%3B%0A%20%20%20%20%20%20%20%20%0A%20%20%20%20%0A%20%20%20%20%20%20%20%20var%20popup_b8dcf77db6904995a3c60186141a5f15%20%3D%20L.popup%28%7B%22maxWidth%22%3A%20%22100%25%22%7D%29%3B%0A%0A%20%20%20%20%20%20%20%20%0A%20%20%20%20%20%20%20%20%20%20%20%20var%20html_41e7d1581de5411188b0afacc5805f61%20%3D%20%24%28%60%3Cdiv%20id%3D%22html_41e7d1581de5411188b0afacc5805f61%22%20style%3D%22width%3A%20100.0%25%3B%20height%3A%20100.0%25%3B%22%3E32.14238277511963%3C/div%3E%60%29%5B0%5D%3B%0A%20%20%20%20%20%20%20%20%20%20%20%20popup_b8dcf77db6904995a3c60186141a5f15.setContent%28html_41e7d1581de5411188b0afacc5805f61%29%3B%0A%20%20%20%20%20%20%20%20%0A%0A%20%20%20%20%20%20%20%20marker_a14ca5f40d44440495afe5ccae56ff7f.bindPopup%28popup_b8dcf77db6904995a3c60186141a5f15%29%0A%20%20%20%20%20%20%20%20%3B%0A%0A%20%20%20%20%20%20%20%20%0A%20%20%20%20%0A%20%20%20%20%0A%20%20%20%20%20%20%20%20%20%20%20%20var%20marker_74c0638b78f14c17892aab0e2cb1056f%20%3D%20L.marker%28%0A%20%20%20%20%20%20%20%20%20%20%20%20%20%20%20%20%5B13.66%2C%2080.09%5D%2C%0A%20%20%20%20%20%20%20%20%20%20%20%20%20%20%20%20%7B%7D%0A%20%20%20%20%20%20%20%20%20%20%20%20%29.addTo%28map_a4fcbba6517e4ad88a0c9474efcd98df%29%3B%0A%20%20%20%20%20%20%20%20%0A%20%20%20%20%0A%20%20%20%20%20%20%20%20var%20popup_c2421391b34e4360a45a442a29932b1b%20%3D%20L.popup%28%7B%22maxWidth%22%3A%20%22100%25%22%7D%29%3B%0A%0A%20%20%20%20%20%20%20%20%0A%20%20%20%20%20%20%20%20%20%20%20%20var%20html_1d0f6c36330b4175887a21830a1d68bb%20%3D%20%24%28%60%3Cdiv%20id%3D%22html_1d0f6c36330b4175887a21830a1d68bb%22%20style%3D%22width%3A%20100.0%25%3B%20height%3A%20100.0%25%3B%22%3E30.658619047619034%3C/div%3E%60%29%5B0%5D%3B%0A%20%20%20%20%20%20%20%20%20%20%20%20popup_c2421391b34e4360a45a442a29932b1b.setContent%28html_1d0f6c36330b4175887a21830a1d68bb%29%3B%0A%20%20%20%20%20%20%20%20%0A%0A%20%20%20%20%20%20%20%20marker_74c0638b78f14c17892aab0e2cb1056f.bindPopup%28popup_c2421391b34e4360a45a442a29932b1b%29%0A%20%20%20%20%20%20%20%20%3B%0A%0A%20%20%20%20%20%20%20%20%0A%20%20%20%20%0A%20%20%20%20%0A%20%20%20%20%20%20%20%20%20%20%20%20var%20marker_ba380cda9d364a38a023d183fba07187%20%3D%20L.marker%28%0A%20%20%20%20%20%20%20%20%20%20%20%20%20%20%20%20%5B13.66%2C%2080.09%5D%2C%0A%20%20%20%20%20%20%20%20%20%20%20%20%20%20%20%20%7B%7D%0A%20%20%20%20%20%20%20%20%20%20%20%20%29.addTo%28map_a4fcbba6517e4ad88a0c9474efcd98df%29%3B%0A%20%20%20%20%20%20%20%20%0A%20%20%20%20%0A%20%20%20%20%20%20%20%20var%20popup_77d20cc763164896a91218d881423b31%20%3D%20L.popup%28%7B%22maxWidth%22%3A%20%22100%25%22%7D%29%3B%0A%0A%20%20%20%20%20%20%20%20%0A%20%20%20%20%20%20%20%20%20%20%20%20var%20html_99203ab752324f5689e23260520c64ff%20%3D%20%24%28%60%3Cdiv%20id%3D%22html_99203ab752324f5689e23260520c64ff%22%20style%3D%22width%3A%20100.0%25%3B%20height%3A%20100.0%25%3B%22%3E29.977352380952375%3C/div%3E%60%29%5B0%5D%3B%0A%20%20%20%20%20%20%20%20%20%20%20%20popup_77d20cc763164896a91218d881423b31.setContent%28html_99203ab752324f5689e23260520c64ff%29%3B%0A%20%20%20%20%20%20%20%20%0A%0A%20%20%20%20%20%20%20%20marker_ba380cda9d364a38a023d183fba07187.bindPopup%28popup_77d20cc763164896a91218d881423b31%29%0A%20%20%20%20%20%20%20%20%3B%0A%0A%20%20%20%20%20%20%20%20%0A%20%20%20%20%0A%20%20%20%20%0A%20%20%20%20%20%20%20%20%20%20%20%20var%20marker_119203d1023643638b20373995e22b47%20%3D%20L.marker%28%0A%20%20%20%20%20%20%20%20%20%20%20%20%20%20%20%20%5B13.66%2C%2080.09%5D%2C%0A%20%20%20%20%20%20%20%20%20%20%20%20%20%20%20%20%7B%7D%0A%20%20%20%20%20%20%20%20%20%20%20%20%29.addTo%28map_a4fcbba6517e4ad88a0c9474efcd98df%29%3B%0A%20%20%20%20%20%20%20%20%0A%20%20%20%20%0A%20%20%20%20%20%20%20%20var%20popup_7f76e04eb02d4cd2b208311e52610e70%20%3D%20L.popup%28%7B%22maxWidth%22%3A%20%22100%25%22%7D%29%3B%0A%0A%20%20%20%20%20%20%20%20%0A%20%20%20%20%20%20%20%20%20%20%20%20var%20html_7af6d0eac5de4290b3708548a5464411%20%3D%20%24%28%60%3Cdiv%20id%3D%22html_7af6d0eac5de4290b3708548a5464411%22%20style%3D%22width%3A%20100.0%25%3B%20height%3A%20100.0%25%3B%22%3E29.39702870813397%3C/div%3E%60%29%5B0%5D%3B%0A%20%20%20%20%20%20%20%20%20%20%20%20popup_7f76e04eb02d4cd2b208311e52610e70.setContent%28html_7af6d0eac5de4290b3708548a5464411%29%3B%0A%20%20%20%20%20%20%20%20%0A%0A%20%20%20%20%20%20%20%20marker_119203d1023643638b20373995e22b47.bindPopup%28popup_7f76e04eb02d4cd2b208311e52610e70%29%0A%20%20%20%20%20%20%20%20%3B%0A%0A%20%20%20%20%20%20%20%20%0A%20%20%20%20%0A%20%20%20%20%0A%20%20%20%20%20%20%20%20%20%20%20%20var%20marker_ebea1adf4e8f41569449971b9d0a021a%20%3D%20L.marker%28%0A%20%20%20%20%20%20%20%20%20%20%20%20%20%20%20%20%5B13.66%2C%2080.09%5D%2C%0A%20%20%20%20%20%20%20%20%20%20%20%20%20%20%20%20%7B%7D%0A%20%20%20%20%20%20%20%20%20%20%20%20%29.addTo%28map_a4fcbba6517e4ad88a0c9474efcd98df%29%3B%0A%20%20%20%20%20%20%20%20%0A%20%20%20%20%0A%20%20%20%20%20%20%20%20var%20popup_065fb67c0c0b45f8a0255215f992bd47%20%3D%20L.popup%28%7B%22maxWidth%22%3A%20%22100%25%22%7D%29%3B%0A%0A%20%20%20%20%20%20%20%20%0A%20%20%20%20%20%20%20%20%20%20%20%20var%20html_decb43b24cf34664be9f28f38be762ef%20%3D%20%24%28%60%3Cdiv%20id%3D%22html_decb43b24cf34664be9f28f38be762ef%22%20style%3D%22width%3A%20100.0%25%3B%20height%3A%20100.0%25%3B%22%3E27.74167942583734%3C/div%3E%60%29%5B0%5D%3B%0A%20%20%20%20%20%20%20%20%20%20%20%20popup_065fb67c0c0b45f8a0255215f992bd47.setContent%28html_decb43b24cf34664be9f28f38be762ef%29%3B%0A%20%20%20%20%20%20%20%20%0A%0A%20%20%20%20%20%20%20%20marker_ebea1adf4e8f41569449971b9d0a021a.bindPopup%28popup_065fb67c0c0b45f8a0255215f992bd47%29%0A%20%20%20%20%20%20%20%20%3B%0A%0A%20%20%20%20%20%20%20%20%0A%20%20%20%20%0A%20%20%20%20%0A%20%20%20%20%20%20%20%20%20%20%20%20var%20marker_9f2d992f8604445cb1b65685a72d8cf5%20%3D%20L.marker%28%0A%20%20%20%20%20%20%20%20%20%20%20%20%20%20%20%20%5B13.66%2C%2080.09%5D%2C%0A%20%20%20%20%20%20%20%20%20%20%20%20%20%20%20%20%7B%7D%0A%20%20%20%20%20%20%20%20%20%20%20%20%29.addTo%28map_a4fcbba6517e4ad88a0c9474efcd98df%29%3B%0A%20%20%20%20%20%20%20%20%0A%20%20%20%20%0A%20%20%20%20%20%20%20%20var%20popup_d2cc58912e084ebe9c533653ec65e9ff%20%3D%20L.popup%28%7B%22maxWidth%22%3A%20%22100%25%22%7D%29%3B%0A%0A%20%20%20%20%20%20%20%20%0A%20%20%20%20%20%20%20%20%20%20%20%20var%20html_1a870cf5b1a04ffca8ad97b8c386cf8e%20%3D%20%24%28%60%3Cdiv%20id%3D%22html_1a870cf5b1a04ffca8ad97b8c386cf8e%22%20style%3D%22width%3A%20100.0%25%3B%20height%3A%20100.0%25%3B%22%3E25.666679425837323%3C/div%3E%60%29%5B0%5D%3B%0A%20%20%20%20%20%20%20%20%20%20%20%20popup_d2cc58912e084ebe9c533653ec65e9ff.setContent%28html_1a870cf5b1a04ffca8ad97b8c386cf8e%29%3B%0A%20%20%20%20%20%20%20%20%0A%0A%20%20%20%20%20%20%20%20marker_9f2d992f8604445cb1b65685a72d8cf5.bindPopup%28popup_d2cc58912e084ebe9c533653ec65e9ff%29%0A%20%20%20%20%20%20%20%20%3B%0A%0A%20%20%20%20%20%20%20%20%0A%20%20%20%20%0A%20%20%20%20%0A%20%20%20%20%20%20%20%20%20%20%20%20var%20marker_6d1ea1d2448241febc3524b8ba49398b%20%3D%20L.marker%28%0A%20%20%20%20%20%20%20%20%20%20%20%20%20%20%20%20%5B13.66%2C%2080.09%5D%2C%0A%20%20%20%20%20%20%20%20%20%20%20%20%20%20%20%20%7B%7D%0A%20%20%20%20%20%20%20%20%20%20%20%20%29.addTo%28map_a4fcbba6517e4ad88a0c9474efcd98df%29%3B%0A%20%20%20%20%20%20%20%20%0A%20%20%20%20%0A%20%20%20%20%20%20%20%20var%20popup_051b75875e8649bfb2225098aa961da6%20%3D%20L.popup%28%7B%22maxWidth%22%3A%20%22100%25%22%7D%29%3B%0A%0A%20%20%20%20%20%20%20%20%0A%20%20%20%20%20%20%20%20%20%20%20%20var%20html_114cf831f15542bcb37ce0e799f91e1e%20%3D%20%24%28%60%3Cdiv%20id%3D%22html_114cf831f15542bcb37ce0e799f91e1e%22%20style%3D%22width%3A%20100.0%25%3B%20height%3A%20100.0%25%3B%22%3E24.168721153846146%3C/div%3E%60%29%5B0%5D%3B%0A%20%20%20%20%20%20%20%20%20%20%20%20popup_051b75875e8649bfb2225098aa961da6.setContent%28html_114cf831f15542bcb37ce0e799f91e1e%29%3B%0A%20%20%20%20%20%20%20%20%0A%0A%20%20%20%20%20%20%20%20marker_6d1ea1d2448241febc3524b8ba49398b.bindPopup%28popup_051b75875e8649bfb2225098aa961da6%29%0A%20%20%20%20%20%20%20%20%3B%0A%0A%20%20%20%20%20%20%20%20%0A%20%20%20%20%0A%20%20%20%20%0A%20%20%20%20%20%20%20%20%20%20%20%20var%20marker_f63294f528f04becb0850191eaccfdc1%20%3D%20L.marker%28%0A%20%20%20%20%20%20%20%20%20%20%20%20%20%20%20%20%5B28.13%2C%2077.27%5D%2C%0A%20%20%20%20%20%20%20%20%20%20%20%20%20%20%20%20%7B%7D%0A%20%20%20%20%20%20%20%20%20%20%20%20%29.addTo%28map_a4fcbba6517e4ad88a0c9474efcd98df%29%3B%0A%20%20%20%20%20%20%20%20%0A%20%20%20%20%0A%20%20%20%20%20%20%20%20var%20popup_78c9d5a121f14b0c9b5da18f9ffb4878%20%3D%20L.popup%28%7B%22maxWidth%22%3A%20%22100%25%22%7D%29%3B%0A%0A%20%20%20%20%20%20%20%20%0A%20%20%20%20%20%20%20%20%20%20%20%20var%20html_ccc60207ad44454585b4713fb4d43d24%20%3D%20%24%28%60%3Cdiv%20id%3D%22html_ccc60207ad44454585b4713fb4d43d24%22%20style%3D%22width%3A%20100.0%25%3B%20height%3A%20100.0%25%3B%22%3E14.238560000000001%3C/div%3E%60%29%5B0%5D%3B%0A%20%20%20%20%20%20%20%20%20%20%20%20popup_78c9d5a121f14b0c9b5da18f9ffb4878.setContent%28html_ccc60207ad44454585b4713fb4d43d24%29%3B%0A%20%20%20%20%20%20%20%20%0A%0A%20%20%20%20%20%20%20%20marker_f63294f528f04becb0850191eaccfdc1.bindPopup%28popup_78c9d5a121f14b0c9b5da18f9ffb4878%29%0A%20%20%20%20%20%20%20%20%3B%0A%0A%20%20%20%20%20%20%20%20%0A%20%20%20%20%0A%20%20%20%20%0A%20%20%20%20%20%20%20%20%20%20%20%20var%20marker_354ae43a2c6d46a78ae6d563a9d6f827%20%3D%20L.marker%28%0A%20%20%20%20%20%20%20%20%20%20%20%20%20%20%20%20%5B28.13%2C%2077.27%5D%2C%0A%20%20%20%20%20%20%20%20%20%20%20%20%20%20%20%20%7B%7D%0A%20%20%20%20%20%20%20%20%20%20%20%20%29.addTo%28map_a4fcbba6517e4ad88a0c9474efcd98df%29%3B%0A%20%20%20%20%20%20%20%20%0A%20%20%20%20%0A%20%20%20%20%20%20%20%20var%20popup_79de295883ac4d04bb38cdb55e822bb4%20%3D%20L.popup%28%7B%22maxWidth%22%3A%20%22100%25%22%7D%29%3B%0A%0A%20%20%20%20%20%20%20%20%0A%20%20%20%20%20%20%20%20%20%20%20%20var%20html_9773eab774374321a1023beaa7f4a200%20%3D%20%24%28%60%3Cdiv%20id%3D%22html_9773eab774374321a1023beaa7f4a200%22%20style%3D%22width%3A%20100.0%25%3B%20height%3A%20100.0%25%3B%22%3E17.144979999999997%3C/div%3E%60%29%5B0%5D%3B%0A%20%20%20%20%20%20%20%20%20%20%20%20popup_79de295883ac4d04bb38cdb55e822bb4.setContent%28html_9773eab774374321a1023beaa7f4a200%29%3B%0A%20%20%20%20%20%20%20%20%0A%0A%20%20%20%20%20%20%20%20marker_354ae43a2c6d46a78ae6d563a9d6f827.bindPopup%28popup_79de295883ac4d04bb38cdb55e822bb4%29%0A%20%20%20%20%20%20%20%20%3B%0A%0A%20%20%20%20%20%20%20%20%0A%20%20%20%20%0A%20%20%20%20%0A%20%20%20%20%20%20%20%20%20%20%20%20var%20marker_89392886bc5c411b980a6bd235cfe574%20%3D%20L.marker%28%0A%20%20%20%20%20%20%20%20%20%20%20%20%20%20%20%20%5B28.13%2C%2077.27%5D%2C%0A%20%20%20%20%20%20%20%20%20%20%20%20%20%20%20%20%7B%7D%0A%20%20%20%20%20%20%20%20%20%20%20%20%29.addTo%28map_a4fcbba6517e4ad88a0c9474efcd98df%29%3B%0A%20%20%20%20%20%20%20%20%0A%20%20%20%20%0A%20%20%20%20%20%20%20%20var%20popup_31b0c814aa044cc18c341f073167a2a0%20%3D%20L.popup%28%7B%22maxWidth%22%3A%20%22100%25%22%7D%29%3B%0A%0A%20%20%20%20%20%20%20%20%0A%20%20%20%20%20%20%20%20%20%20%20%20var%20html_6d93e0ce329d4ab99f85f37db8366076%20%3D%20%24%28%60%3Cdiv%20id%3D%22html_6d93e0ce329d4ab99f85f37db8366076%22%20style%3D%22width%3A%20100.0%25%3B%20height%3A%20100.0%25%3B%22%3E23.0148040201005%3C/div%3E%60%29%5B0%5D%3B%0A%20%20%20%20%20%20%20%20%20%20%20%20popup_31b0c814aa044cc18c341f073167a2a0.setContent%28html_6d93e0ce329d4ab99f85f37db8366076%29%3B%0A%20%20%20%20%20%20%20%20%0A%0A%20%20%20%20%20%20%20%20marker_89392886bc5c411b980a6bd235cfe574.bindPopup%28popup_31b0c814aa044cc18c341f073167a2a0%29%0A%20%20%20%20%20%20%20%20%3B%0A%0A%20%20%20%20%20%20%20%20%0A%20%20%20%20%0A%20%20%20%20%0A%20%20%20%20%20%20%20%20%20%20%20%20var%20marker_adacfc0508b34ff4a1cfbe5c6e9ae066%20%3D%20L.marker%28%0A%20%20%20%20%20%20%20%20%20%20%20%20%20%20%20%20%5B28.13%2C%2077.27%5D%2C%0A%20%20%20%20%20%20%20%20%20%20%20%20%20%20%20%20%7B%7D%0A%20%20%20%20%20%20%20%20%20%20%20%20%29.addTo%28map_a4fcbba6517e4ad88a0c9474efcd98df%29%3B%0A%20%20%20%20%20%20%20%20%0A%20%20%20%20%0A%20%20%20%20%20%20%20%20var%20popup_99c4e558e7ee413c91ba296fb9601098%20%3D%20L.popup%28%7B%22maxWidth%22%3A%20%22100%25%22%7D%29%3B%0A%0A%20%20%20%20%20%20%20%20%0A%20%20%20%20%20%20%20%20%20%20%20%20var%20html_d3299dd795ba48ad8b602bfa0c628ed7%20%3D%20%24%28%60%3Cdiv%20id%3D%22html_d3299dd795ba48ad8b602bfa0c628ed7%22%20style%3D%22width%3A%20100.0%25%3B%20height%3A%20100.0%25%3B%22%3E29.004575757575758%3C/div%3E%60%29%5B0%5D%3B%0A%20%20%20%20%20%20%20%20%20%20%20%20popup_99c4e558e7ee413c91ba296fb9601098.setContent%28html_d3299dd795ba48ad8b602bfa0c628ed7%29%3B%0A%20%20%20%20%20%20%20%20%0A%0A%20%20%20%20%20%20%20%20marker_adacfc0508b34ff4a1cfbe5c6e9ae066.bindPopup%28popup_99c4e558e7ee413c91ba296fb9601098%29%0A%20%20%20%20%20%20%20%20%3B%0A%0A%20%20%20%20%20%20%20%20%0A%20%20%20%20%0A%20%20%20%20%0A%20%20%20%20%20%20%20%20%20%20%20%20var%20marker_864a9d73d91c4286ab486179c13eb490%20%3D%20L.marker%28%0A%20%20%20%20%20%20%20%20%20%20%20%20%20%20%20%20%5B28.13%2C%2077.27%5D%2C%0A%20%20%20%20%20%20%20%20%20%20%20%20%20%20%20%20%7B%7D%0A%20%20%20%20%20%20%20%20%20%20%20%20%29.addTo%28map_a4fcbba6517e4ad88a0c9474efcd98df%29%3B%0A%20%20%20%20%20%20%20%20%0A%20%20%20%20%0A%20%20%20%20%20%20%20%20var%20popup_494ecbebeacd45229f6d23a629ea6c67%20%3D%20L.popup%28%7B%22maxWidth%22%3A%20%22100%25%22%7D%29%3B%0A%0A%20%20%20%20%20%20%20%20%0A%20%20%20%20%20%20%20%20%20%20%20%20var%20html_873bfce875e74fad8edf255c7c59f210%20%3D%20%24%28%60%3Cdiv%20id%3D%22html_873bfce875e74fad8edf255c7c59f210%22%20style%3D%22width%3A%20100.0%25%3B%20height%3A%20100.0%25%3B%22%3E33.29705102040816%3C/div%3E%60%29%5B0%5D%3B%0A%20%20%20%20%20%20%20%20%20%20%20%20popup_494ecbebeacd45229f6d23a629ea6c67.setContent%28html_873bfce875e74fad8edf255c7c59f210%29%3B%0A%20%20%20%20%20%20%20%20%0A%0A%20%20%20%20%20%20%20%20marker_864a9d73d91c4286ab486179c13eb490.bindPopup%28popup_494ecbebeacd45229f6d23a629ea6c67%29%0A%20%20%20%20%20%20%20%20%3B%0A%0A%20%20%20%20%20%20%20%20%0A%20%20%20%20%0A%20%20%20%20%0A%20%20%20%20%20%20%20%20%20%20%20%20var%20marker_ee42e8ae1d7a42e1abc87debfbe27582%20%3D%20L.marker%28%0A%20%20%20%20%20%20%20%20%20%20%20%20%20%20%20%20%5B28.13%2C%2077.27%5D%2C%0A%20%20%20%20%20%20%20%20%20%20%20%20%20%20%20%20%7B%7D%0A%20%20%20%20%20%20%20%20%20%20%20%20%29.addTo%28map_a4fcbba6517e4ad88a0c9474efcd98df%29%3B%0A%20%20%20%20%20%20%20%20%0A%20%20%20%20%0A%20%20%20%20%20%20%20%20var%20popup_61ca22c1e4424893bd51dbe0bd2ddeaa%20%3D%20L.popup%28%7B%22maxWidth%22%3A%20%22100%25%22%7D%29%3B%0A%0A%20%20%20%20%20%20%20%20%0A%20%20%20%20%20%20%20%20%20%20%20%20var%20html_56d169e7faa84d79805366b002ac91c3%20%3D%20%24%28%60%3Cdiv%20id%3D%22html_56d169e7faa84d79805366b002ac91c3%22%20style%3D%22width%3A%20100.0%25%3B%20height%3A%20100.0%25%3B%22%3E33.866005%3C/div%3E%60%29%5B0%5D%3B%0A%20%20%20%20%20%20%20%20%20%20%20%20popup_61ca22c1e4424893bd51dbe0bd2ddeaa.setContent%28html_56d169e7faa84d79805366b002ac91c3%29%3B%0A%20%20%20%20%20%20%20%20%0A%0A%20%20%20%20%20%20%20%20marker_ee42e8ae1d7a42e1abc87debfbe27582.bindPopup%28popup_61ca22c1e4424893bd51dbe0bd2ddeaa%29%0A%20%20%20%20%20%20%20%20%3B%0A%0A%20%20%20%20%20%20%20%20%0A%20%20%20%20%0A%20%20%20%20%0A%20%20%20%20%20%20%20%20%20%20%20%20var%20marker_e67ebd020fb54c848cbb86c2a3a64839%20%3D%20L.marker%28%0A%20%20%20%20%20%20%20%20%20%20%20%20%20%20%20%20%5B28.13%2C%2077.27%5D%2C%0A%20%20%20%20%20%20%20%20%20%20%20%20%20%20%20%20%7B%7D%0A%20%20%20%20%20%20%20%20%20%20%20%20%29.addTo%28map_a4fcbba6517e4ad88a0c9474efcd98df%29%3B%0A%20%20%20%20%20%20%20%20%0A%20%20%20%20%0A%20%20%20%20%20%20%20%20var%20popup_84a017ef25b54aa1b25841c4b74944f2%20%3D%20L.popup%28%7B%22maxWidth%22%3A%20%22100%25%22%7D%29%3B%0A%0A%20%20%20%20%20%20%20%20%0A%20%20%20%20%20%20%20%20%20%20%20%20var%20html_ca58bb562602447cb5d2d400a6d60c4d%20%3D%20%24%28%60%3Cdiv%20id%3D%22html_ca58bb562602447cb5d2d400a6d60c4d%22%20style%3D%22width%3A%20100.0%25%3B%20height%3A%20100.0%25%3B%22%3E31.174114427860694%3C/div%3E%60%29%5B0%5D%3B%0A%20%20%20%20%20%20%20%20%20%20%20%20popup_84a017ef25b54aa1b25841c4b74944f2.setContent%28html_ca58bb562602447cb5d2d400a6d60c4d%29%3B%0A%20%20%20%20%20%20%20%20%0A%0A%20%20%20%20%20%20%20%20marker_e67ebd020fb54c848cbb86c2a3a64839.bindPopup%28popup_84a017ef25b54aa1b25841c4b74944f2%29%0A%20%20%20%20%20%20%20%20%3B%0A%0A%20%20%20%20%20%20%20%20%0A%20%20%20%20%0A%20%20%20%20%0A%20%20%20%20%20%20%20%20%20%20%20%20var%20marker_03c3257339c54b30b5ea9e74a113bff2%20%3D%20L.marker%28%0A%20%20%20%20%20%20%20%20%20%20%20%20%20%20%20%20%5B28.13%2C%2077.27%5D%2C%0A%20%20%20%20%20%20%20%20%20%20%20%20%20%20%20%20%7B%7D%0A%20%20%20%20%20%20%20%20%20%20%20%20%29.addTo%28map_a4fcbba6517e4ad88a0c9474efcd98df%29%3B%0A%20%20%20%20%20%20%20%20%0A%20%20%20%20%0A%20%20%20%20%20%20%20%20var%20popup_978c383c17694bad813e26fdca5ce144%20%3D%20L.popup%28%7B%22maxWidth%22%3A%20%22100%25%22%7D%29%3B%0A%0A%20%20%20%20%20%20%20%20%0A%20%20%20%20%20%20%20%20%20%20%20%20var%20html_d1fded90860a4ba497cc3478a087ce97%20%3D%20%24%28%60%3Cdiv%20id%3D%22html_d1fded90860a4ba497cc3478a087ce97%22%20style%3D%22width%3A%20100.0%25%3B%20height%3A%20100.0%25%3B%22%3E29.75242288557213%3C/div%3E%60%29%5B0%5D%3B%0A%20%20%20%20%20%20%20%20%20%20%20%20popup_978c383c17694bad813e26fdca5ce144.setContent%28html_d1fded90860a4ba497cc3478a087ce97%29%3B%0A%20%20%20%20%20%20%20%20%0A%0A%20%20%20%20%20%20%20%20marker_03c3257339c54b30b5ea9e74a113bff2.bindPopup%28popup_978c383c17694bad813e26fdca5ce144%29%0A%20%20%20%20%20%20%20%20%3B%0A%0A%20%20%20%20%20%20%20%20%0A%20%20%20%20%0A%20%20%20%20%0A%20%20%20%20%20%20%20%20%20%20%20%20var%20marker_3549a519ea8b48bcb1a9dc00227292e9%20%3D%20L.marker%28%0A%20%20%20%20%20%20%20%20%20%20%20%20%20%20%20%20%5B28.13%2C%2077.27%5D%2C%0A%20%20%20%20%20%20%20%20%20%20%20%20%20%20%20%20%7B%7D%0A%20%20%20%20%20%20%20%20%20%20%20%20%29.addTo%28map_a4fcbba6517e4ad88a0c9474efcd98df%29%3B%0A%20%20%20%20%20%20%20%20%0A%20%20%20%20%0A%20%20%20%20%20%20%20%20var%20popup_ded903584bb44a75af3ecb978991095b%20%3D%20L.popup%28%7B%22maxWidth%22%3A%20%22100%25%22%7D%29%3B%0A%0A%20%20%20%20%20%20%20%20%0A%20%20%20%20%20%20%20%20%20%20%20%20var%20html_36a49ade04ca4879bd1c2bec58e474b5%20%3D%20%24%28%60%3Cdiv%20id%3D%22html_36a49ade04ca4879bd1c2bec58e474b5%22%20style%3D%22width%3A%20100.0%25%3B%20height%3A%20100.0%25%3B%22%3E28.994464999999995%3C/div%3E%60%29%5B0%5D%3B%0A%20%20%20%20%20%20%20%20%20%20%20%20popup_ded903584bb44a75af3ecb978991095b.setContent%28html_36a49ade04ca4879bd1c2bec58e474b5%29%3B%0A%20%20%20%20%20%20%20%20%0A%0A%20%20%20%20%20%20%20%20marker_3549a519ea8b48bcb1a9dc00227292e9.bindPopup%28popup_ded903584bb44a75af3ecb978991095b%29%0A%20%20%20%20%20%20%20%20%3B%0A%0A%20%20%20%20%20%20%20%20%0A%20%20%20%20%0A%20%20%20%20%0A%20%20%20%20%20%20%20%20%20%20%20%20var%20marker_d7b1d43ae40b45a3a05a4bc84add9cd0%20%3D%20L.marker%28%0A%20%20%20%20%20%20%20%20%20%20%20%20%20%20%20%20%5B28.13%2C%2077.27%5D%2C%0A%20%20%20%20%20%20%20%20%20%20%20%20%20%20%20%20%7B%7D%0A%20%20%20%20%20%20%20%20%20%20%20%20%29.addTo%28map_a4fcbba6517e4ad88a0c9474efcd98df%29%3B%0A%20%20%20%20%20%20%20%20%0A%20%20%20%20%0A%20%20%20%20%20%20%20%20var%20popup_ea224bb173554f3b8feae210cbfa6c06%20%3D%20L.popup%28%7B%22maxWidth%22%3A%20%22100%25%22%7D%29%3B%0A%0A%20%20%20%20%20%20%20%20%0A%20%20%20%20%20%20%20%20%20%20%20%20var%20html_7cfe04f232794dc3b1c8ec4b197ebdd1%20%3D%20%24%28%60%3Cdiv%20id%3D%22html_7cfe04f232794dc3b1c8ec4b197ebdd1%22%20style%3D%22width%3A%20100.0%25%3B%20height%3A%20100.0%25%3B%22%3E25.866375%3C/div%3E%60%29%5B0%5D%3B%0A%20%20%20%20%20%20%20%20%20%20%20%20popup_ea224bb173554f3b8feae210cbfa6c06.setContent%28html_7cfe04f232794dc3b1c8ec4b197ebdd1%29%3B%0A%20%20%20%20%20%20%20%20%0A%0A%20%20%20%20%20%20%20%20marker_d7b1d43ae40b45a3a05a4bc84add9cd0.bindPopup%28popup_ea224bb173554f3b8feae210cbfa6c06%29%0A%20%20%20%20%20%20%20%20%3B%0A%0A%20%20%20%20%20%20%20%20%0A%20%20%20%20%0A%20%20%20%20%0A%20%20%20%20%20%20%20%20%20%20%20%20var%20marker_ee694fdd6397409b9fcd16605d36b679%20%3D%20L.marker%28%0A%20%20%20%20%20%20%20%20%20%20%20%20%20%20%20%20%5B28.13%2C%2077.27%5D%2C%0A%20%20%20%20%20%20%20%20%20%20%20%20%20%20%20%20%7B%7D%0A%20%20%20%20%20%20%20%20%20%20%20%20%29.addTo%28map_a4fcbba6517e4ad88a0c9474efcd98df%29%3B%0A%20%20%20%20%20%20%20%20%0A%20%20%20%20%0A%20%20%20%20%20%20%20%20var%20popup_bc64442d4d494bc8b4306ee870ad9b2c%20%3D%20L.popup%28%7B%22maxWidth%22%3A%20%22100%25%22%7D%29%3B%0A%0A%20%20%20%20%20%20%20%20%0A%20%20%20%20%20%20%20%20%20%20%20%20var%20html_640520afc749441895cc05d2fd0cd114%20%3D%20%24%28%60%3Cdiv%20id%3D%22html_640520afc749441895cc05d2fd0cd114%22%20style%3D%22width%3A%20100.0%25%3B%20height%3A%20100.0%25%3B%22%3E20.34651000000001%3C/div%3E%60%29%5B0%5D%3B%0A%20%20%20%20%20%20%20%20%20%20%20%20popup_bc64442d4d494bc8b4306ee870ad9b2c.setContent%28html_640520afc749441895cc05d2fd0cd114%29%3B%0A%20%20%20%20%20%20%20%20%0A%0A%20%20%20%20%20%20%20%20marker_ee694fdd6397409b9fcd16605d36b679.bindPopup%28popup_bc64442d4d494bc8b4306ee870ad9b2c%29%0A%20%20%20%20%20%20%20%20%3B%0A%0A%20%20%20%20%20%20%20%20%0A%20%20%20%20%0A%20%20%20%20%0A%20%20%20%20%20%20%20%20%20%20%20%20var%20marker_cea10e61a5bc4965a5aa7e1fb5c0c072%20%3D%20L.marker%28%0A%20%20%20%20%20%20%20%20%20%20%20%20%20%20%20%20%5B28.13%2C%2077.27%5D%2C%0A%20%20%20%20%20%20%20%20%20%20%20%20%20%20%20%20%7B%7D%0A%20%20%20%20%20%20%20%20%20%20%20%20%29.addTo%28map_a4fcbba6517e4ad88a0c9474efcd98df%29%3B%0A%20%20%20%20%20%20%20%20%0A%20%20%20%20%0A%20%20%20%20%20%20%20%20var%20popup_f8191974d78e4daa92912fc2c6363a8e%20%3D%20L.popup%28%7B%22maxWidth%22%3A%20%22100%25%22%7D%29%3B%0A%0A%20%20%20%20%20%20%20%20%0A%20%20%20%20%20%20%20%20%20%20%20%20var%20html_d4996a775bb44871a5e33b5a3f75035d%20%3D%20%24%28%60%3Cdiv%20id%3D%22html_d4996a775bb44871a5e33b5a3f75035d%22%20style%3D%22width%3A%20100.0%25%3B%20height%3A%20100.0%25%3B%22%3E15.378814070351766%3C/div%3E%60%29%5B0%5D%3B%0A%20%20%20%20%20%20%20%20%20%20%20%20popup_f8191974d78e4daa92912fc2c6363a8e.setContent%28html_d4996a775bb44871a5e33b5a3f75035d%29%3B%0A%20%20%20%20%20%20%20%20%0A%0A%20%20%20%20%20%20%20%20marker_cea10e61a5bc4965a5aa7e1fb5c0c072.bindPopup%28popup_f8191974d78e4daa92912fc2c6363a8e%29%0A%20%20%20%20%20%20%20%20%3B%0A%0A%20%20%20%20%20%20%20%20%0A%20%20%20%20%0A%20%20%20%20%0A%20%20%20%20%20%20%20%20%20%20%20%20var%20marker_d79cb2412e964d1da644221b28154588%20%3D%20L.marker%28%0A%20%20%20%20%20%20%20%20%20%20%20%20%20%20%20%20%5B18.48%2C%2074.37%5D%2C%0A%20%20%20%20%20%20%20%20%20%20%20%20%20%20%20%20%7B%7D%0A%20%20%20%20%20%20%20%20%20%20%20%20%29.addTo%28map_a4fcbba6517e4ad88a0c9474efcd98df%29%3B%0A%20%20%20%20%20%20%20%20%0A%20%20%20%20%0A%20%20%20%20%20%20%20%20var%20popup_aa543e6b3a1a4a1b8b119ac1728d17b4%20%3D%20L.popup%28%7B%22maxWidth%22%3A%20%22100%25%22%7D%29%3B%0A%0A%20%20%20%20%20%20%20%20%0A%20%20%20%20%20%20%20%20%20%20%20%20var%20html_00950b7ee54b4366b4008cd930bcc0ee%20%3D%20%24%28%60%3Cdiv%20id%3D%22html_00950b7ee54b4366b4008cd930bcc0ee%22%20style%3D%22width%3A%20100.0%25%3B%20height%3A%20100.0%25%3B%22%3E20.448204761904766%3C/div%3E%60%29%5B0%5D%3B%0A%20%20%20%20%20%20%20%20%20%20%20%20popup_aa543e6b3a1a4a1b8b119ac1728d17b4.setContent%28html_00950b7ee54b4366b4008cd930bcc0ee%29%3B%0A%20%20%20%20%20%20%20%20%0A%0A%20%20%20%20%20%20%20%20marker_d79cb2412e964d1da644221b28154588.bindPopup%28popup_aa543e6b3a1a4a1b8b119ac1728d17b4%29%0A%20%20%20%20%20%20%20%20%3B%0A%0A%20%20%20%20%20%20%20%20%0A%20%20%20%20%0A%20%20%20%20%0A%20%20%20%20%20%20%20%20%20%20%20%20var%20marker_227af145aab74f67a4b5b5bee78f4e56%20%3D%20L.marker%28%0A%20%20%20%20%20%20%20%20%20%20%20%20%20%20%20%20%5B18.48%2C%2074.37%5D%2C%0A%20%20%20%20%20%20%20%20%20%20%20%20%20%20%20%20%7B%7D%0A%20%20%20%20%20%20%20%20%20%20%20%20%29.addTo%28map_a4fcbba6517e4ad88a0c9474efcd98df%29%3B%0A%20%20%20%20%20%20%20%20%0A%20%20%20%20%0A%20%20%20%20%20%20%20%20var%20popup_10f72df4f9c94de79dbb79da4d23e0a4%20%3D%20L.popup%28%7B%22maxWidth%22%3A%20%22100%25%22%7D%29%3B%0A%0A%20%20%20%20%20%20%20%20%0A%20%20%20%20%20%20%20%20%20%20%20%20var%20html_3c9f0ded76204605954bb9f13b87b867%20%3D%20%24%28%60%3Cdiv%20id%3D%22html_3c9f0ded76204605954bb9f13b87b867%22%20style%3D%22width%3A%20100.0%25%3B%20height%3A%20100.0%25%3B%22%3E22.607923809523797%3C/div%3E%60%29%5B0%5D%3B%0A%20%20%20%20%20%20%20%20%20%20%20%20popup_10f72df4f9c94de79dbb79da4d23e0a4.setContent%28html_3c9f0ded76204605954bb9f13b87b867%29%3B%0A%20%20%20%20%20%20%20%20%0A%0A%20%20%20%20%20%20%20%20marker_227af145aab74f67a4b5b5bee78f4e56.bindPopup%28popup_10f72df4f9c94de79dbb79da4d23e0a4%29%0A%20%20%20%20%20%20%20%20%3B%0A%0A%20%20%20%20%20%20%20%20%0A%20%20%20%20%0A%20%20%20%20%0A%20%20%20%20%20%20%20%20%20%20%20%20var%20marker_360d5a345af64fa48059ca2f2d309605%20%3D%20L.marker%28%0A%20%20%20%20%20%20%20%20%20%20%20%20%20%20%20%20%5B18.48%2C%2074.37%5D%2C%0A%20%20%20%20%20%20%20%20%20%20%20%20%20%20%20%20%7B%7D%0A%20%20%20%20%20%20%20%20%20%20%20%20%29.addTo%28map_a4fcbba6517e4ad88a0c9474efcd98df%29%3B%0A%20%20%20%20%20%20%20%20%0A%20%20%20%20%0A%20%20%20%20%20%20%20%20var%20popup_c0225a5be7c0458da8a57619454855e2%20%3D%20L.popup%28%7B%22maxWidth%22%3A%20%22100%25%22%7D%29%3B%0A%0A%20%20%20%20%20%20%20%20%0A%20%20%20%20%20%20%20%20%20%20%20%20var%20html_a2a45a1710df4f2ca3b2fbd13bdd4ff1%20%3D%20%24%28%60%3Cdiv%20id%3D%22html_a2a45a1710df4f2ca3b2fbd13bdd4ff1%22%20style%3D%22width%3A%20100.0%25%3B%20height%3A%20100.0%25%3B%22%3E26.287685714285704%3C/div%3E%60%29%5B0%5D%3B%0A%20%20%20%20%20%20%20%20%20%20%20%20popup_c0225a5be7c0458da8a57619454855e2.setContent%28html_a2a45a1710df4f2ca3b2fbd13bdd4ff1%29%3B%0A%20%20%20%20%20%20%20%20%0A%0A%20%20%20%20%20%20%20%20marker_360d5a345af64fa48059ca2f2d309605.bindPopup%28popup_c0225a5be7c0458da8a57619454855e2%29%0A%20%20%20%20%20%20%20%20%3B%0A%0A%20%20%20%20%20%20%20%20%0A%20%20%20%20%0A%20%20%20%20%0A%20%20%20%20%20%20%20%20%20%20%20%20var%20marker_febd6cab583d49709c00289fad98d8f5%20%3D%20L.marker%28%0A%20%20%20%20%20%20%20%20%20%20%20%20%20%20%20%20%5B18.48%2C%2074.37%5D%2C%0A%20%20%20%20%20%20%20%20%20%20%20%20%20%20%20%20%7B%7D%0A%20%20%20%20%20%20%20%20%20%20%20%20%29.addTo%28map_a4fcbba6517e4ad88a0c9474efcd98df%29%3B%0A%20%20%20%20%20%20%20%20%0A%20%20%20%20%0A%20%20%20%20%20%20%20%20var%20popup_eaff169002f24b4288124b1f65faef72%20%3D%20L.popup%28%7B%22maxWidth%22%3A%20%22100%25%22%7D%29%3B%0A%0A%20%20%20%20%20%20%20%20%0A%20%20%20%20%20%20%20%20%20%20%20%20var%20html_5507608f3eaf452faa01c66c75281bf8%20%3D%20%24%28%60%3Cdiv%20id%3D%22html_5507608f3eaf452faa01c66c75281bf8%22%20style%3D%22width%3A%20100.0%25%3B%20height%3A%20100.0%25%3B%22%3E29.004400966183567%3C/div%3E%60%29%5B0%5D%3B%0A%20%20%20%20%20%20%20%20%20%20%20%20popup_eaff169002f24b4288124b1f65faef72.setContent%28html_5507608f3eaf452faa01c66c75281bf8%29%3B%0A%20%20%20%20%20%20%20%20%0A%0A%20%20%20%20%20%20%20%20marker_febd6cab583d49709c00289fad98d8f5.bindPopup%28popup_eaff169002f24b4288124b1f65faef72%29%0A%20%20%20%20%20%20%20%20%3B%0A%0A%20%20%20%20%20%20%20%20%0A%20%20%20%20%0A%20%20%20%20%0A%20%20%20%20%20%20%20%20%20%20%20%20var%20marker_43edb131a5354273bcb5a2c00bbf02e6%20%3D%20L.marker%28%0A%20%20%20%20%20%20%20%20%20%20%20%20%20%20%20%20%5B18.48%2C%2074.37%5D%2C%0A%20%20%20%20%20%20%20%20%20%20%20%20%20%20%20%20%7B%7D%0A%20%20%20%20%20%20%20%20%20%20%20%20%29.addTo%28map_a4fcbba6517e4ad88a0c9474efcd98df%29%3B%0A%20%20%20%20%20%20%20%20%0A%20%20%20%20%0A%20%20%20%20%20%20%20%20var%20popup_1cd90a1aa7f24f7ca5dc75cec947586b%20%3D%20L.popup%28%7B%22maxWidth%22%3A%20%22100%25%22%7D%29%3B%0A%0A%20%20%20%20%20%20%20%20%0A%20%20%20%20%20%20%20%20%20%20%20%20var%20html_aae52678665642609aecb106951f0256%20%3D%20%24%28%60%3Cdiv%20id%3D%22html_aae52678665642609aecb106951f0256%22%20style%3D%22width%3A%20100.0%25%3B%20height%3A%20100.0%25%3B%22%3E29.83820289855073%3C/div%3E%60%29%5B0%5D%3B%0A%20%20%20%20%20%20%20%20%20%20%20%20popup_1cd90a1aa7f24f7ca5dc75cec947586b.setContent%28html_aae52678665642609aecb106951f0256%29%3B%0A%20%20%20%20%20%20%20%20%0A%0A%20%20%20%20%20%20%20%20marker_43edb131a5354273bcb5a2c00bbf02e6.bindPopup%28popup_1cd90a1aa7f24f7ca5dc75cec947586b%29%0A%20%20%20%20%20%20%20%20%3B%0A%0A%20%20%20%20%20%20%20%20%0A%20%20%20%20%0A%20%20%20%20%0A%20%20%20%20%20%20%20%20%20%20%20%20var%20marker_753d915c839f4f68aad2653676221f88%20%3D%20L.marker%28%0A%20%20%20%20%20%20%20%20%20%20%20%20%20%20%20%20%5B18.48%2C%2074.37%5D%2C%0A%20%20%20%20%20%20%20%20%20%20%20%20%20%20%20%20%7B%7D%0A%20%20%20%20%20%20%20%20%20%20%20%20%29.addTo%28map_a4fcbba6517e4ad88a0c9474efcd98df%29%3B%0A%20%20%20%20%20%20%20%20%0A%20%20%20%20%0A%20%20%20%20%20%20%20%20var%20popup_db825cf0700b46429eaf533a411ca59f%20%3D%20L.popup%28%7B%22maxWidth%22%3A%20%22100%25%22%7D%29%3B%0A%0A%20%20%20%20%20%20%20%20%0A%20%20%20%20%20%20%20%20%20%20%20%20var%20html_425393df2333457ba28aba94c6f32d35%20%3D%20%24%28%60%3Cdiv%20id%3D%22html_425393df2333457ba28aba94c6f32d35%22%20style%3D%22width%3A%20100.0%25%3B%20height%3A%20100.0%25%3B%22%3E27.22002870813398%3C/div%3E%60%29%5B0%5D%3B%0A%20%20%20%20%20%20%20%20%20%20%20%20popup_db825cf0700b46429eaf533a411ca59f.setContent%28html_425393df2333457ba28aba94c6f32d35%29%3B%0A%20%20%20%20%20%20%20%20%0A%0A%20%20%20%20%20%20%20%20marker_753d915c839f4f68aad2653676221f88.bindPopup%28popup_db825cf0700b46429eaf533a411ca59f%29%0A%20%20%20%20%20%20%20%20%3B%0A%0A%20%20%20%20%20%20%20%20%0A%20%20%20%20%0A%20%20%20%20%0A%20%20%20%20%20%20%20%20%20%20%20%20var%20marker_e524f41b9b0b4834853d43305bac52bf%20%3D%20L.marker%28%0A%20%20%20%20%20%20%20%20%20%20%20%20%20%20%20%20%5B18.48%2C%2074.37%5D%2C%0A%20%20%20%20%20%20%20%20%20%20%20%20%20%20%20%20%7B%7D%0A%20%20%20%20%20%20%20%20%20%20%20%20%29.addTo%28map_a4fcbba6517e4ad88a0c9474efcd98df%29%3B%0A%20%20%20%20%20%20%20%20%0A%20%20%20%20%0A%20%20%20%20%20%20%20%20var%20popup_04950aaa5b784cb49b97f7a8cf71835d%20%3D%20L.popup%28%7B%22maxWidth%22%3A%20%22100%25%22%7D%29%3B%0A%0A%20%20%20%20%20%20%20%20%0A%20%20%20%20%20%20%20%20%20%20%20%20var%20html_878eb42800344b6896ff41a9ed08a6d2%20%3D%20%24%28%60%3Cdiv%20id%3D%22html_878eb42800344b6896ff41a9ed08a6d2%22%20style%3D%22width%3A%20100.0%25%3B%20height%3A%20100.0%25%3B%22%3E24.724738095238102%3C/div%3E%60%29%5B0%5D%3B%0A%20%20%20%20%20%20%20%20%20%20%20%20popup_04950aaa5b784cb49b97f7a8cf71835d.setContent%28html_878eb42800344b6896ff41a9ed08a6d2%29%3B%0A%20%20%20%20%20%20%20%20%0A%0A%20%20%20%20%20%20%20%20marker_e524f41b9b0b4834853d43305bac52bf.bindPopup%28popup_04950aaa5b784cb49b97f7a8cf71835d%29%0A%20%20%20%20%20%20%20%20%3B%0A%0A%20%20%20%20%20%20%20%20%0A%20%20%20%20%0A%20%20%20%20%0A%20%20%20%20%20%20%20%20%20%20%20%20var%20marker_265498a0d8f14cfc98cb85af484753db%20%3D%20L.marker%28%0A%20%20%20%20%20%20%20%20%20%20%20%20%20%20%20%20%5B18.48%2C%2074.37%5D%2C%0A%20%20%20%20%20%20%20%20%20%20%20%20%20%20%20%20%7B%7D%0A%20%20%20%20%20%20%20%20%20%20%20%20%29.addTo%28map_a4fcbba6517e4ad88a0c9474efcd98df%29%3B%0A%20%20%20%20%20%20%20%20%0A%20%20%20%20%0A%20%20%20%20%20%20%20%20var%20popup_0e21682728c64eaea3fa6cac5b5cf15d%20%3D%20L.popup%28%7B%22maxWidth%22%3A%20%22100%25%22%7D%29%3B%0A%0A%20%20%20%20%20%20%20%20%0A%20%20%20%20%20%20%20%20%20%20%20%20var%20html_2d17fdd167cb457d8839d1f871b05bfd%20%3D%20%24%28%60%3Cdiv%20id%3D%22html_2d17fdd167cb457d8839d1f871b05bfd%22%20style%3D%22width%3A%20100.0%25%3B%20height%3A%20100.0%25%3B%22%3E24.197833333333328%3C/div%3E%60%29%5B0%5D%3B%0A%20%20%20%20%20%20%20%20%20%20%20%20popup_0e21682728c64eaea3fa6cac5b5cf15d.setContent%28html_2d17fdd167cb457d8839d1f871b05bfd%29%3B%0A%20%20%20%20%20%20%20%20%0A%0A%20%20%20%20%20%20%20%20marker_265498a0d8f14cfc98cb85af484753db.bindPopup%28popup_0e21682728c64eaea3fa6cac5b5cf15d%29%0A%20%20%20%20%20%20%20%20%3B%0A%0A%20%20%20%20%20%20%20%20%0A%20%20%20%20%0A%20%20%20%20%0A%20%20%20%20%20%20%20%20%20%20%20%20var%20marker_d210e8ca5651400ca8ff4453f98d8a26%20%3D%20L.marker%28%0A%20%20%20%20%20%20%20%20%20%20%20%20%20%20%20%20%5B18.48%2C%2074.37%5D%2C%0A%20%20%20%20%20%20%20%20%20%20%20%20%20%20%20%20%7B%7D%0A%20%20%20%20%20%20%20%20%20%20%20%20%29.addTo%28map_a4fcbba6517e4ad88a0c9474efcd98df%29%3B%0A%20%20%20%20%20%20%20%20%0A%20%20%20%20%0A%20%20%20%20%20%20%20%20var%20popup_2a8f0ce2a0e04d4c83ecc4d863330b39%20%3D%20L.popup%28%7B%22maxWidth%22%3A%20%22100%25%22%7D%29%3B%0A%0A%20%20%20%20%20%20%20%20%0A%20%20%20%20%20%20%20%20%20%20%20%20var%20html_fd002f331fc54cebbfd58d6ae9a0040d%20%3D%20%24%28%60%3Cdiv%20id%3D%22html_fd002f331fc54cebbfd58d6ae9a0040d%22%20style%3D%22width%3A%20100.0%25%3B%20height%3A%20100.0%25%3B%22%3E24.56574162679425%3C/div%3E%60%29%5B0%5D%3B%0A%20%20%20%20%20%20%20%20%20%20%20%20popup_2a8f0ce2a0e04d4c83ecc4d863330b39.setContent%28html_fd002f331fc54cebbfd58d6ae9a0040d%29%3B%0A%20%20%20%20%20%20%20%20%0A%0A%20%20%20%20%20%20%20%20marker_d210e8ca5651400ca8ff4453f98d8a26.bindPopup%28popup_2a8f0ce2a0e04d4c83ecc4d863330b39%29%0A%20%20%20%20%20%20%20%20%3B%0A%0A%20%20%20%20%20%20%20%20%0A%20%20%20%20%0A%20%20%20%20%0A%20%20%20%20%20%20%20%20%20%20%20%20var%20marker_38b4d28e919b4edda188617c3b997413%20%3D%20L.marker%28%0A%20%20%20%20%20%20%20%20%20%20%20%20%20%20%20%20%5B18.48%2C%2074.37%5D%2C%0A%20%20%20%20%20%20%20%20%20%20%20%20%20%20%20%20%7B%7D%0A%20%20%20%20%20%20%20%20%20%20%20%20%29.addTo%28map_a4fcbba6517e4ad88a0c9474efcd98df%29%3B%0A%20%20%20%20%20%20%20%20%0A%20%20%20%20%0A%20%20%20%20%20%20%20%20var%20popup_4e18f1245b3f4eefafb198dca4707e29%20%3D%20L.popup%28%7B%22maxWidth%22%3A%20%22100%25%22%7D%29%3B%0A%0A%20%20%20%20%20%20%20%20%0A%20%20%20%20%20%20%20%20%20%20%20%20var%20html_3de7e09336b34825ad5399032e89b706%20%3D%20%24%28%60%3Cdiv%20id%3D%22html_3de7e09336b34825ad5399032e89b706%22%20style%3D%22width%3A%20100.0%25%3B%20height%3A%20100.0%25%3B%22%3E24.367425837320575%3C/div%3E%60%29%5B0%5D%3B%0A%20%20%20%20%20%20%20%20%20%20%20%20popup_4e18f1245b3f4eefafb198dca4707e29.setContent%28html_3de7e09336b34825ad5399032e89b706%29%3B%0A%20%20%20%20%20%20%20%20%0A%0A%20%20%20%20%20%20%20%20marker_38b4d28e919b4edda188617c3b997413.bindPopup%28popup_4e18f1245b3f4eefafb198dca4707e29%29%0A%20%20%20%20%20%20%20%20%3B%0A%0A%20%20%20%20%20%20%20%20%0A%20%20%20%20%0A%20%20%20%20%0A%20%20%20%20%20%20%20%20%20%20%20%20var%20marker_8581841135774c59ae11ed00dca42013%20%3D%20L.marker%28%0A%20%20%20%20%20%20%20%20%20%20%20%20%20%20%20%20%5B18.48%2C%2074.37%5D%2C%0A%20%20%20%20%20%20%20%20%20%20%20%20%20%20%20%20%7B%7D%0A%20%20%20%20%20%20%20%20%20%20%20%20%29.addTo%28map_a4fcbba6517e4ad88a0c9474efcd98df%29%3B%0A%20%20%20%20%20%20%20%20%0A%20%20%20%20%0A%20%20%20%20%20%20%20%20var%20popup_333ea264dbf44c9cb01ed335b8934dfc%20%3D%20L.popup%28%7B%22maxWidth%22%3A%20%22100%25%22%7D%29%3B%0A%0A%20%20%20%20%20%20%20%20%0A%20%20%20%20%20%20%20%20%20%20%20%20var%20html_e5095928c23545808608de6d5c6bdb7c%20%3D%20%24%28%60%3Cdiv%20id%3D%22html_e5095928c23545808608de6d5c6bdb7c%22%20style%3D%22width%3A%20100.0%25%3B%20height%3A%20100.0%25%3B%22%3E22.31366985645932%3C/div%3E%60%29%5B0%5D%3B%0A%20%20%20%20%20%20%20%20%20%20%20%20popup_333ea264dbf44c9cb01ed335b8934dfc.setContent%28html_e5095928c23545808608de6d5c6bdb7c%29%3B%0A%20%20%20%20%20%20%20%20%0A%0A%20%20%20%20%20%20%20%20marker_8581841135774c59ae11ed00dca42013.bindPopup%28popup_333ea264dbf44c9cb01ed335b8934dfc%29%0A%20%20%20%20%20%20%20%20%3B%0A%0A%20%20%20%20%20%20%20%20%0A%20%20%20%20%0A%20%20%20%20%0A%20%20%20%20%20%20%20%20%20%20%20%20var%20marker_6e8621a6ad5c4f59b663ff9d680b4912%20%3D%20L.marker%28%0A%20%20%20%20%20%20%20%20%20%20%20%20%20%20%20%20%5B18.48%2C%2074.37%5D%2C%0A%20%20%20%20%20%20%20%20%20%20%20%20%20%20%20%20%7B%7D%0A%20%20%20%20%20%20%20%20%20%20%20%20%29.addTo%28map_a4fcbba6517e4ad88a0c9474efcd98df%29%3B%0A%20%20%20%20%20%20%20%20%0A%20%20%20%20%0A%20%20%20%20%20%20%20%20var%20popup_d42ac08357cd48f994045f138c6d7c09%20%3D%20L.popup%28%7B%22maxWidth%22%3A%20%22100%25%22%7D%29%3B%0A%0A%20%20%20%20%20%20%20%20%0A%20%20%20%20%20%20%20%20%20%20%20%20var%20html_23d4d7d96bbe49c995b35f05c5f175bb%20%3D%20%24%28%60%3Cdiv%20id%3D%22html_23d4d7d96bbe49c995b35f05c5f175bb%22%20style%3D%22width%3A%20100.0%25%3B%20height%3A%20100.0%25%3B%22%3E20.253653846153856%3C/div%3E%60%29%5B0%5D%3B%0A%20%20%20%20%20%20%20%20%20%20%20%20popup_d42ac08357cd48f994045f138c6d7c09.setContent%28html_23d4d7d96bbe49c995b35f05c5f175bb%29%3B%0A%20%20%20%20%20%20%20%20%0A%0A%20%20%20%20%20%20%20%20marker_6e8621a6ad5c4f59b663ff9d680b4912.bindPopup%28popup_d42ac08357cd48f994045f138c6d7c09%29%0A%20%20%20%20%20%20%20%20%3B%0A%0A%20%20%20%20%20%20%20%20%0A%20%20%20%20%0A%20%20%20%20%0A%20%20%20%20%20%20%20%20%20%20%20%20var%20marker_d3b3daf78aad4e8ea0f20e65dfc4836c%20%3D%20L.marker%28%0A%20%20%20%20%20%20%20%20%20%20%20%20%20%20%20%20%5B24.92%2C%2083.35%5D%2C%0A%20%20%20%20%20%20%20%20%20%20%20%20%20%20%20%20%7B%7D%0A%20%20%20%20%20%20%20%20%20%20%20%20%29.addTo%28map_a4fcbba6517e4ad88a0c9474efcd98df%29%3B%0A%20%20%20%20%20%20%20%20%0A%20%20%20%20%0A%20%20%20%20%20%20%20%20var%20popup_e498032fdac94a4baba77d992b83f108%20%3D%20L.popup%28%7B%22maxWidth%22%3A%20%22100%25%22%7D%29%3B%0A%0A%20%20%20%20%20%20%20%20%0A%20%20%20%20%20%20%20%20%20%20%20%20var%20html_62b0b1ff46fc4f988d3d8d5c26b31288%20%3D%20%24%28%60%3Cdiv%20id%3D%22html_62b0b1ff46fc4f988d3d8d5c26b31288%22%20style%3D%22width%3A%20100.0%25%3B%20height%3A%20100.0%25%3B%22%3E15.596650717703348%3C/div%3E%60%29%5B0%5D%3B%0A%20%20%20%20%20%20%20%20%20%20%20%20popup_e498032fdac94a4baba77d992b83f108.setContent%28html_62b0b1ff46fc4f988d3d8d5c26b31288%29%3B%0A%20%20%20%20%20%20%20%20%0A%0A%20%20%20%20%20%20%20%20marker_d3b3daf78aad4e8ea0f20e65dfc4836c.bindPopup%28popup_e498032fdac94a4baba77d992b83f108%29%0A%20%20%20%20%20%20%20%20%3B%0A%0A%20%20%20%20%20%20%20%20%0A%20%20%20%20%0A%20%20%20%20%0A%20%20%20%20%20%20%20%20%20%20%20%20var%20marker_1f9f3349b9e04cad8c83eddf267ff163%20%3D%20L.marker%28%0A%20%20%20%20%20%20%20%20%20%20%20%20%20%20%20%20%5B24.92%2C%2083.35%5D%2C%0A%20%20%20%20%20%20%20%20%20%20%20%20%20%20%20%20%7B%7D%0A%20%20%20%20%20%20%20%20%20%20%20%20%29.addTo%28map_a4fcbba6517e4ad88a0c9474efcd98df%29%3B%0A%20%20%20%20%20%20%20%20%0A%20%20%20%20%0A%20%20%20%20%20%20%20%20var%20popup_7a2fd5d66c5646a9a7a7418c76a34f71%20%3D%20L.popup%28%7B%22maxWidth%22%3A%20%22100%25%22%7D%29%3B%0A%0A%20%20%20%20%20%20%20%20%0A%20%20%20%20%20%20%20%20%20%20%20%20var%20html_51712e9ad1954b67bbf95164ec2784b7%20%3D%20%24%28%60%3Cdiv%20id%3D%22html_51712e9ad1954b67bbf95164ec2784b7%22%20style%3D%22width%3A%20100.0%25%3B%20height%3A%20100.0%25%3B%22%3E18.716421052631578%3C/div%3E%60%29%5B0%5D%3B%0A%20%20%20%20%20%20%20%20%20%20%20%20popup_7a2fd5d66c5646a9a7a7418c76a34f71.setContent%28html_51712e9ad1954b67bbf95164ec2784b7%29%3B%0A%20%20%20%20%20%20%20%20%0A%0A%20%20%20%20%20%20%20%20marker_1f9f3349b9e04cad8c83eddf267ff163.bindPopup%28popup_7a2fd5d66c5646a9a7a7418c76a34f71%29%0A%20%20%20%20%20%20%20%20%3B%0A%0A%20%20%20%20%20%20%20%20%0A%20%20%20%20%0A%20%20%20%20%0A%20%20%20%20%20%20%20%20%20%20%20%20var%20marker_58725f66fdd044f7a2a30a15fb16a8ad%20%3D%20L.marker%28%0A%20%20%20%20%20%20%20%20%20%20%20%20%20%20%20%20%5B24.92%2C%2083.35%5D%2C%0A%20%20%20%20%20%20%20%20%20%20%20%20%20%20%20%20%7B%7D%0A%20%20%20%20%20%20%20%20%20%20%20%20%29.addTo%28map_a4fcbba6517e4ad88a0c9474efcd98df%29%3B%0A%20%20%20%20%20%20%20%20%0A%20%20%20%20%0A%20%20%20%20%20%20%20%20var%20popup_097043b6a00b44b5bfd68941ecf12493%20%3D%20L.popup%28%7B%22maxWidth%22%3A%20%22100%25%22%7D%29%3B%0A%0A%20%20%20%20%20%20%20%20%0A%20%20%20%20%20%20%20%20%20%20%20%20var%20html_313be8f4f1b945d7a4e7ab03c588de95%20%3D%20%24%28%60%3Cdiv%20id%3D%22html_313be8f4f1b945d7a4e7ab03c588de95%22%20style%3D%22width%3A%20100.0%25%3B%20height%3A%20100.0%25%3B%22%3E24.651115384615387%3C/div%3E%60%29%5B0%5D%3B%0A%20%20%20%20%20%20%20%20%20%20%20%20popup_097043b6a00b44b5bfd68941ecf12493.setContent%28html_313be8f4f1b945d7a4e7ab03c588de95%29%3B%0A%20%20%20%20%20%20%20%20%0A%0A%20%20%20%20%20%20%20%20marker_58725f66fdd044f7a2a30a15fb16a8ad.bindPopup%28popup_097043b6a00b44b5bfd68941ecf12493%29%0A%20%20%20%20%20%20%20%20%3B%0A%0A%20%20%20%20%20%20%20%20%0A%20%20%20%20%0A%20%20%20%20%0A%20%20%20%20%20%20%20%20%20%20%20%20var%20marker_097ef8c053224e2ea82c04a1a873aa67%20%3D%20L.marker%28%0A%20%20%20%20%20%20%20%20%20%20%20%20%20%20%20%20%5B24.92%2C%2083.35%5D%2C%0A%20%20%20%20%20%20%20%20%20%20%20%20%20%20%20%20%7B%7D%0A%20%20%20%20%20%20%20%20%20%20%20%20%29.addTo%28map_a4fcbba6517e4ad88a0c9474efcd98df%29%3B%0A%20%20%20%20%20%20%20%20%0A%20%20%20%20%0A%20%20%20%20%20%20%20%20var%20popup_6202356353b845abb2e81db09e269699%20%3D%20L.popup%28%7B%22maxWidth%22%3A%20%22100%25%22%7D%29%3B%0A%0A%20%20%20%20%20%20%20%20%0A%20%20%20%20%20%20%20%20%20%20%20%20var%20html_cb96dabb512b4bcf91b01547650b731d%20%3D%20%24%28%60%3Cdiv%20id%3D%22html_cb96dabb512b4bcf91b01547650b731d%22%20style%3D%22width%3A%20100.0%25%3B%20height%3A%20100.0%25%3B%22%3E30.190038647342995%3C/div%3E%60%29%5B0%5D%3B%0A%20%20%20%20%20%20%20%20%20%20%20%20popup_6202356353b845abb2e81db09e269699.setContent%28html_cb96dabb512b4bcf91b01547650b731d%29%3B%0A%20%20%20%20%20%20%20%20%0A%0A%20%20%20%20%20%20%20%20marker_097ef8c053224e2ea82c04a1a873aa67.bindPopup%28popup_6202356353b845abb2e81db09e269699%29%0A%20%20%20%20%20%20%20%20%3B%0A%0A%20%20%20%20%20%20%20%20%0A%20%20%20%20%0A%20%20%20%20%0A%20%20%20%20%20%20%20%20%20%20%20%20var%20marker_e018bad2fee14ba78012c8f4ddaec894%20%3D%20L.marker%28%0A%20%20%20%20%20%20%20%20%20%20%20%20%20%20%20%20%5B24.92%2C%2083.35%5D%2C%0A%20%20%20%20%20%20%20%20%20%20%20%20%20%20%20%20%7B%7D%0A%20%20%20%20%20%20%20%20%20%20%20%20%29.addTo%28map_a4fcbba6517e4ad88a0c9474efcd98df%29%3B%0A%20%20%20%20%20%20%20%20%0A%20%20%20%20%0A%20%20%20%20%20%20%20%20var%20popup_ac9607ee885b4241967ded5b6040d252%20%3D%20L.popup%28%7B%22maxWidth%22%3A%20%22100%25%22%7D%29%3B%0A%0A%20%20%20%20%20%20%20%20%0A%20%20%20%20%20%20%20%20%20%20%20%20var%20html_7b652146e5d748049556c1cc072a3ef5%20%3D%20%24%28%60%3Cdiv%20id%3D%22html_7b652146e5d748049556c1cc072a3ef5%22%20style%3D%22width%3A%20100.0%25%3B%20height%3A%20100.0%25%3B%22%3E33.31351941747572%3C/div%3E%60%29%5B0%5D%3B%0A%20%20%20%20%20%20%20%20%20%20%20%20popup_ac9607ee885b4241967ded5b6040d252.setContent%28html_7b652146e5d748049556c1cc072a3ef5%29%3B%0A%20%20%20%20%20%20%20%20%0A%0A%20%20%20%20%20%20%20%20marker_e018bad2fee14ba78012c8f4ddaec894.bindPopup%28popup_ac9607ee885b4241967ded5b6040d252%29%0A%20%20%20%20%20%20%20%20%3B%0A%0A%20%20%20%20%20%20%20%20%0A%20%20%20%20%0A%20%20%20%20%0A%20%20%20%20%20%20%20%20%20%20%20%20var%20marker_4026b1842e224618a798af757c8cc0d4%20%3D%20L.marker%28%0A%20%20%20%20%20%20%20%20%20%20%20%20%20%20%20%20%5B24.92%2C%2083.35%5D%2C%0A%20%20%20%20%20%20%20%20%20%20%20%20%20%20%20%20%7B%7D%0A%20%20%20%20%20%20%20%20%20%20%20%20%29.addTo%28map_a4fcbba6517e4ad88a0c9474efcd98df%29%3B%0A%20%20%20%20%20%20%20%20%0A%20%20%20%20%0A%20%20%20%20%20%20%20%20var%20popup_a6cd4963fb2d41a083124ea1b460c1cd%20%3D%20L.popup%28%7B%22maxWidth%22%3A%20%22100%25%22%7D%29%3B%0A%0A%20%20%20%20%20%20%20%20%0A%20%20%20%20%20%20%20%20%20%20%20%20var%20html_a58a3920a12640a19f7a542f06aafdc1%20%3D%20%24%28%60%3Cdiv%20id%3D%22html_a58a3920a12640a19f7a542f06aafdc1%22%20style%3D%22width%3A%20100.0%25%3B%20height%3A%20100.0%25%3B%22%3E32.57074162679425%3C/div%3E%60%29%5B0%5D%3B%0A%20%20%20%20%20%20%20%20%20%20%20%20popup_a6cd4963fb2d41a083124ea1b460c1cd.setContent%28html_a58a3920a12640a19f7a542f06aafdc1%29%3B%0A%20%20%20%20%20%20%20%20%0A%0A%20%20%20%20%20%20%20%20marker_4026b1842e224618a798af757c8cc0d4.bindPopup%28popup_a6cd4963fb2d41a083124ea1b460c1cd%29%0A%20%20%20%20%20%20%20%20%3B%0A%0A%20%20%20%20%20%20%20%20%0A%20%20%20%20%0A%20%20%20%20%0A%20%20%20%20%20%20%20%20%20%20%20%20var%20marker_0d6699d9fcb44be6b305d5a77700a131%20%3D%20L.marker%28%0A%20%20%20%20%20%20%20%20%20%20%20%20%20%20%20%20%5B24.92%2C%2083.35%5D%2C%0A%20%20%20%20%20%20%20%20%20%20%20%20%20%20%20%20%7B%7D%0A%20%20%20%20%20%20%20%20%20%20%20%20%29.addTo%28map_a4fcbba6517e4ad88a0c9474efcd98df%29%3B%0A%20%20%20%20%20%20%20%20%0A%20%20%20%20%0A%20%20%20%20%20%20%20%20var%20popup_e5063aa6ec72444eb819a9482e701f9f%20%3D%20L.popup%28%7B%22maxWidth%22%3A%20%22100%25%22%7D%29%3B%0A%0A%20%20%20%20%20%20%20%20%0A%20%20%20%20%20%20%20%20%20%20%20%20var%20html_23cd4ae526774a58abcbf25d57962f21%20%3D%20%24%28%60%3Cdiv%20id%3D%22html_23cd4ae526774a58abcbf25d57962f21%22%20style%3D%22width%3A%20100.0%25%3B%20height%3A%20100.0%25%3B%22%3E29.612919047619055%3C/div%3E%60%29%5B0%5D%3B%0A%20%20%20%20%20%20%20%20%20%20%20%20popup_e5063aa6ec72444eb819a9482e701f9f.setContent%28html_23cd4ae526774a58abcbf25d57962f21%29%3B%0A%20%20%20%20%20%20%20%20%0A%0A%20%20%20%20%20%20%20%20marker_0d6699d9fcb44be6b305d5a77700a131.bindPopup%28popup_e5063aa6ec72444eb819a9482e701f9f%29%0A%20%20%20%20%20%20%20%20%3B%0A%0A%20%20%20%20%20%20%20%20%0A%20%20%20%20%0A%20%20%20%20%0A%20%20%20%20%20%20%20%20%20%20%20%20var%20marker_b83d3d376fb74bcbb4539b44233d17a8%20%3D%20L.marker%28%0A%20%20%20%20%20%20%20%20%20%20%20%20%20%20%20%20%5B24.92%2C%2083.35%5D%2C%0A%20%20%20%20%20%20%20%20%20%20%20%20%20%20%20%20%7B%7D%0A%20%20%20%20%20%20%20%20%20%20%20%20%29.addTo%28map_a4fcbba6517e4ad88a0c9474efcd98df%29%3B%0A%20%20%20%20%20%20%20%20%0A%20%20%20%20%0A%20%20%20%20%20%20%20%20var%20popup_3065e5fff79e4416adfb78a4c0fd8c18%20%3D%20L.popup%28%7B%22maxWidth%22%3A%20%22100%25%22%7D%29%3B%0A%0A%20%20%20%20%20%20%20%20%0A%20%20%20%20%20%20%20%20%20%20%20%20var%20html_1c7e3539a0f940d783fdf8a22224013d%20%3D%20%24%28%60%3Cdiv%20id%3D%22html_1c7e3539a0f940d783fdf8a22224013d%22%20style%3D%22width%3A%20100.0%25%3B%20height%3A%20100.0%25%3B%22%3E28.58816190476191%3C/div%3E%60%29%5B0%5D%3B%0A%20%20%20%20%20%20%20%20%20%20%20%20popup_3065e5fff79e4416adfb78a4c0fd8c18.setContent%28html_1c7e3539a0f940d783fdf8a22224013d%29%3B%0A%20%20%20%20%20%20%20%20%0A%0A%20%20%20%20%20%20%20%20marker_b83d3d376fb74bcbb4539b44233d17a8.bindPopup%28popup_3065e5fff79e4416adfb78a4c0fd8c18%29%0A%20%20%20%20%20%20%20%20%3B%0A%0A%20%20%20%20%20%20%20%20%0A%20%20%20%20%0A%20%20%20%20%0A%20%20%20%20%20%20%20%20%20%20%20%20var%20marker_b65d5733ca824a81985be1746dbbee33%20%3D%20L.marker%28%0A%20%20%20%20%20%20%20%20%20%20%20%20%20%20%20%20%5B24.92%2C%2083.35%5D%2C%0A%20%20%20%20%20%20%20%20%20%20%20%20%20%20%20%20%7B%7D%0A%20%20%20%20%20%20%20%20%20%20%20%20%29.addTo%28map_a4fcbba6517e4ad88a0c9474efcd98df%29%3B%0A%20%20%20%20%20%20%20%20%0A%20%20%20%20%0A%20%20%20%20%20%20%20%20var%20popup_56bf2534702245418c1e505d8ddd1a47%20%3D%20L.popup%28%7B%22maxWidth%22%3A%20%22100%25%22%7D%29%3B%0A%0A%20%20%20%20%20%20%20%20%0A%20%20%20%20%20%20%20%20%20%20%20%20var%20html_2c199dd6076b4356a6165d78b6992a0c%20%3D%20%24%28%60%3Cdiv%20id%3D%22html_2c199dd6076b4356a6165d78b6992a0c%22%20style%3D%22width%3A%20100.0%25%3B%20height%3A%20100.0%25%3B%22%3E28.238004784689%3C/div%3E%60%29%5B0%5D%3B%0A%20%20%20%20%20%20%20%20%20%20%20%20popup_56bf2534702245418c1e505d8ddd1a47.setContent%28html_2c199dd6076b4356a6165d78b6992a0c%29%3B%0A%20%20%20%20%20%20%20%20%0A%0A%20%20%20%20%20%20%20%20marker_b65d5733ca824a81985be1746dbbee33.bindPopup%28popup_56bf2534702245418c1e505d8ddd1a47%29%0A%20%20%20%20%20%20%20%20%3B%0A%0A%20%20%20%20%20%20%20%20%0A%20%20%20%20%0A%20%20%20%20%0A%20%20%20%20%20%20%20%20%20%20%20%20var%20marker_6e9ea5ab0ea34e1582ffba581afc5016%20%3D%20L.marker%28%0A%20%20%20%20%20%20%20%20%20%20%20%20%20%20%20%20%5B24.92%2C%2083.35%5D%2C%0A%20%20%20%20%20%20%20%20%20%20%20%20%20%20%20%20%7B%7D%0A%20%20%20%20%20%20%20%20%20%20%20%20%29.addTo%28map_a4fcbba6517e4ad88a0c9474efcd98df%29%3B%0A%20%20%20%20%20%20%20%20%0A%20%20%20%20%0A%20%20%20%20%20%20%20%20var%20popup_b7a5b138e8dd4cbb81e489aad0b26e3e%20%3D%20L.popup%28%7B%22maxWidth%22%3A%20%22100%25%22%7D%29%3B%0A%0A%20%20%20%20%20%20%20%20%0A%20%20%20%20%20%20%20%20%20%20%20%20var%20html_bcb7ea9059944cd99764f5ec4d20a268%20%3D%20%24%28%60%3Cdiv%20id%3D%22html_bcb7ea9059944cd99764f5ec4d20a268%22%20style%3D%22width%3A%20100.0%25%3B%20height%3A%20100.0%25%3B%22%3E25.771933014354058%3C/div%3E%60%29%5B0%5D%3B%0A%20%20%20%20%20%20%20%20%20%20%20%20popup_b7a5b138e8dd4cbb81e489aad0b26e3e.setContent%28html_bcb7ea9059944cd99764f5ec4d20a268%29%3B%0A%20%20%20%20%20%20%20%20%0A%0A%20%20%20%20%20%20%20%20marker_6e9ea5ab0ea34e1582ffba581afc5016.bindPopup%28popup_b7a5b138e8dd4cbb81e489aad0b26e3e%29%0A%20%20%20%20%20%20%20%20%3B%0A%0A%20%20%20%20%20%20%20%20%0A%20%20%20%20%0A%20%20%20%20%0A%20%20%20%20%20%20%20%20%20%20%20%20var%20marker_ac1ea684624b46c2ad961813c39a1349%20%3D%20L.marker%28%0A%20%20%20%20%20%20%20%20%20%20%20%20%20%20%20%20%5B24.92%2C%2083.35%5D%2C%0A%20%20%20%20%20%20%20%20%20%20%20%20%20%20%20%20%7B%7D%0A%20%20%20%20%20%20%20%20%20%20%20%20%29.addTo%28map_a4fcbba6517e4ad88a0c9474efcd98df%29%3B%0A%20%20%20%20%20%20%20%20%0A%20%20%20%20%0A%20%20%20%20%20%20%20%20var%20popup_e27a9465ba3b41eaa8c82c8ab7165746%20%3D%20L.popup%28%7B%22maxWidth%22%3A%20%22100%25%22%7D%29%3B%0A%0A%20%20%20%20%20%20%20%20%0A%20%20%20%20%20%20%20%20%20%20%20%20var%20html_7bd54ae8ce7b4d6d92b50f3922ea53c7%20%3D%20%24%28%60%3Cdiv%20id%3D%22html_7bd54ae8ce7b4d6d92b50f3922ea53c7%22%20style%3D%22width%3A%20100.0%25%3B%20height%3A%20100.0%25%3B%22%3E20.843502392344508%3C/div%3E%60%29%5B0%5D%3B%0A%20%20%20%20%20%20%20%20%20%20%20%20popup_e27a9465ba3b41eaa8c82c8ab7165746.setContent%28html_7bd54ae8ce7b4d6d92b50f3922ea53c7%29%3B%0A%20%20%20%20%20%20%20%20%0A%0A%20%20%20%20%20%20%20%20marker_ac1ea684624b46c2ad961813c39a1349.bindPopup%28popup_e27a9465ba3b41eaa8c82c8ab7165746%29%0A%20%20%20%20%20%20%20%20%3B%0A%0A%20%20%20%20%20%20%20%20%0A%20%20%20%20%0A%20%20%20%20%0A%20%20%20%20%20%20%20%20%20%20%20%20var%20marker_da1d46ea511c4766bca5ab3c5e36cd2e%20%3D%20L.marker%28%0A%20%20%20%20%20%20%20%20%20%20%20%20%20%20%20%20%5B24.92%2C%2083.35%5D%2C%0A%20%20%20%20%20%20%20%20%20%20%20%20%20%20%20%20%7B%7D%0A%20%20%20%20%20%20%20%20%20%20%20%20%29.addTo%28map_a4fcbba6517e4ad88a0c9474efcd98df%29%3B%0A%20%20%20%20%20%20%20%20%0A%20%20%20%20%0A%20%20%20%20%20%20%20%20var%20popup_0562f27f19884ef294c047bf44f82bef%20%3D%20L.popup%28%7B%22maxWidth%22%3A%20%22100%25%22%7D%29%3B%0A%0A%20%20%20%20%20%20%20%20%0A%20%20%20%20%20%20%20%20%20%20%20%20var%20html_0fde8aa4eeee4060ae81783f7d571fe2%20%3D%20%24%28%60%3Cdiv%20id%3D%22html_0fde8aa4eeee4060ae81783f7d571fe2%22%20style%3D%22width%3A%20100.0%25%3B%20height%3A%20100.0%25%3B%22%3E16.246504807692308%3C/div%3E%60%29%5B0%5D%3B%0A%20%20%20%20%20%20%20%20%20%20%20%20popup_0562f27f19884ef294c047bf44f82bef.setContent%28html_0fde8aa4eeee4060ae81783f7d571fe2%29%3B%0A%20%20%20%20%20%20%20%20%0A%0A%20%20%20%20%20%20%20%20marker_da1d46ea511c4766bca5ab3c5e36cd2e.bindPopup%28popup_0562f27f19884ef294c047bf44f82bef%29%0A%20%20%20%20%20%20%20%20%3B%0A%0A%20%20%20%20%20%20%20%20%0A%20%20%20%20%0A%3C/script%3E onload=\"this.contentDocument.open();this.contentDocument.write(    decodeURIComponent(this.getAttribute('data-html')));this.contentDocument.close();\" allowfullscreen webkitallowfullscreen mozallowfullscreen></iframe></div></div>"
      ],
      "text/plain": [
       "<folium.folium.Map at 0x18ca7c48048>"
      ]
     },
     "execution_count": 93,
     "metadata": {},
     "output_type": "execute_result"
    }
   ],
   "source": [
    "for id,row in data2.iterrows():\n",
    "    folium.Marker(location=[row['Latitude'],row['Longitude']], popup=row['Mean_temp']).add_to(basemap)\n",
    "basemap"
   ]
  },
  {
   "cell_type": "code",
   "execution_count": null,
   "id": "moral-casino",
   "metadata": {},
   "outputs": [],
   "source": []
  }
 ],
 "metadata": {
  "kernelspec": {
   "display_name": "Python 3",
   "language": "python",
   "name": "python3"
  },
  "language_info": {
   "codemirror_mode": {
    "name": "ipython",
    "version": 3
   },
   "file_extension": ".py",
   "mimetype": "text/x-python",
   "name": "python",
   "nbconvert_exporter": "python",
   "pygments_lexer": "ipython3",
   "version": "3.7.9"
  }
 },
 "nbformat": 4,
 "nbformat_minor": 5
}
